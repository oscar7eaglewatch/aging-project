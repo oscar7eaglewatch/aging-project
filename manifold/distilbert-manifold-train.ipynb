{
 "cells": [
  {
   "cell_type": "code",
   "execution_count": 1,
   "metadata": {},
   "outputs": [],
   "source": [
    "import os\n",
    "import numpy as np\n",
    "\n",
    "import time\n",
    "from sklearn.preprocessing import RobustScaler\n",
    "from sklearn.preprocessing import MaxAbsScaler\n",
    "from sklearn.preprocessing import MinMaxScaler\n",
    "from sklearn.preprocessing import StandardScaler\n",
    "from sklearn.metrics import davies_bouldin_score\n",
    "\n",
    "from cuml import IncrementalPCA as cumlPCA\n",
    "from cuml import TSNE as cumlTSNE\n",
    "\n",
    "\n",
    "import joblib\n",
    "import pandas as pd\n",
    "\n",
    "import json\n",
    "\n",
    "import plotly\n",
    "import plotly.express as px\n",
    "import plotly.graph_objects as go\n",
    "import tqdm\n",
    "\n",
    "# reset GPU\n",
    "import subprocess\n",
    "from numba import cuda\n",
    "import threading\n"
   ]
  },
  {
   "cell_type": "code",
   "execution_count": 2,
   "metadata": {},
   "outputs": [],
   "source": [
    "data_path = \"/mnt/f/cluster_analysis/distilbert-train.npy\""
   ]
  },
  {
   "cell_type": "code",
   "execution_count": 3,
   "metadata": {},
   "outputs": [],
   "source": [
    "data = np.load(data_path)"
   ]
  },
  {
   "cell_type": "code",
   "execution_count": 4,
   "metadata": {},
   "outputs": [
    {
     "data": {
      "text/plain": [
       "(2337, 294912)"
      ]
     },
     "execution_count": 4,
     "metadata": {},
     "output_type": "execute_result"
    }
   ],
   "source": [
    "data.shape"
   ]
  },
  {
   "cell_type": "code",
   "execution_count": 5,
   "metadata": {},
   "outputs": [
    {
     "data": {
      "text/plain": [
       "array([[ 1.02084911,  0.8680743 ,  1.69840884, ..., -0.69521117,\n",
       "         1.85809588, -0.25243106],\n",
       "       [ 0.81879854,  1.09136426,  1.68719244, ..., -0.51915038,\n",
       "         2.05521703, -0.17780054],\n",
       "       [ 0.91335052,  1.02614546,  1.91160619, ..., -0.71842301,\n",
       "         1.86320925,  0.06191902],\n",
       "       ...,\n",
       "       [ 0.90670973,  1.2899338 ,  1.70845807, ..., -0.51992625,\n",
       "         1.92611516, -0.11209759],\n",
       "       [ 0.86309361,  1.0453341 ,  1.64250541, ..., -0.562617  ,\n",
       "         1.95709324,  0.03385187],\n",
       "       [ 0.77229321,  1.2219336 ,  1.70545399, ..., -0.44734398,\n",
       "         1.92916894,  0.11711369]])"
      ]
     },
     "execution_count": 5,
     "metadata": {},
     "output_type": "execute_result"
    }
   ],
   "source": [
    "data"
   ]
  },
  {
   "cell_type": "code",
   "execution_count": 6,
   "metadata": {},
   "outputs": [],
   "source": [
    "scaler = RobustScaler()\n",
    "scaled_data = scaler.fit_transform(data)"
   ]
  },
  {
   "cell_type": "code",
   "execution_count": 7,
   "metadata": {},
   "outputs": [
    {
     "data": {
      "text/plain": [
       "0.3129844069480896"
      ]
     },
     "execution_count": 7,
     "metadata": {},
     "output_type": "execute_result"
    }
   ],
   "source": [
    "pca_gpu = cumlPCA(n_components = 25, batch_size=32)\n",
    "pca_processed = pca_gpu.fit_transform(scaled_data)\n",
    "cumltsne_final = cumlTSNE(n_components=2, perplexity=5, n_neighbors=50, method=\"exact\")\n",
    "cuml_processed = cumltsne_final.fit_transform(pca_processed)\n",
    "cumltsne_final.kl_divergence_"
   ]
  },
  {
   "cell_type": "code",
   "execution_count": 8,
   "metadata": {},
   "outputs": [
    {
     "data": {
      "text/plain": [
       "0.3129844069480896"
      ]
     },
     "execution_count": 8,
     "metadata": {},
     "output_type": "execute_result"
    }
   ],
   "source": [
    "cumltsne_final.kl_divergence_"
   ]
  },
  {
   "cell_type": "code",
   "execution_count": 9,
   "metadata": {},
   "outputs": [
    {
     "data": {
      "text/plain": [
       "(2337, 2)"
      ]
     },
     "execution_count": 9,
     "metadata": {},
     "output_type": "execute_result"
    }
   ],
   "source": [
    "cuml_processed.shape"
   ]
  },
  {
   "cell_type": "code",
   "execution_count": 10,
   "metadata": {},
   "outputs": [
    {
     "data": {
      "text/html": [
       "<div>\n",
       "<style scoped>\n",
       "    .dataframe tbody tr th:only-of-type {\n",
       "        vertical-align: middle;\n",
       "    }\n",
       "\n",
       "    .dataframe tbody tr th {\n",
       "        vertical-align: top;\n",
       "    }\n",
       "\n",
       "    .dataframe thead th {\n",
       "        text-align: right;\n",
       "    }\n",
       "</style>\n",
       "<table border=\"1\" class=\"dataframe\">\n",
       "  <thead>\n",
       "    <tr style=\"text-align: right;\">\n",
       "      <th></th>\n",
       "      <th>x</th>\n",
       "      <th>y</th>\n",
       "    </tr>\n",
       "  </thead>\n",
       "  <tbody>\n",
       "    <tr>\n",
       "      <th>0</th>\n",
       "      <td>-117.752182</td>\n",
       "      <td>-44.765297</td>\n",
       "    </tr>\n",
       "    <tr>\n",
       "      <th>1</th>\n",
       "      <td>3.223371</td>\n",
       "      <td>94.655083</td>\n",
       "    </tr>\n",
       "    <tr>\n",
       "      <th>2</th>\n",
       "      <td>-80.087158</td>\n",
       "      <td>-69.563362</td>\n",
       "    </tr>\n",
       "    <tr>\n",
       "      <th>3</th>\n",
       "      <td>-75.593559</td>\n",
       "      <td>65.009048</td>\n",
       "    </tr>\n",
       "    <tr>\n",
       "      <th>4</th>\n",
       "      <td>15.957397</td>\n",
       "      <td>125.094986</td>\n",
       "    </tr>\n",
       "    <tr>\n",
       "      <th>...</th>\n",
       "      <td>...</td>\n",
       "      <td>...</td>\n",
       "    </tr>\n",
       "    <tr>\n",
       "      <th>2332</th>\n",
       "      <td>22.260605</td>\n",
       "      <td>-0.802777</td>\n",
       "    </tr>\n",
       "    <tr>\n",
       "      <th>2333</th>\n",
       "      <td>-12.615958</td>\n",
       "      <td>-71.338539</td>\n",
       "    </tr>\n",
       "    <tr>\n",
       "      <th>2334</th>\n",
       "      <td>-17.663586</td>\n",
       "      <td>16.931108</td>\n",
       "    </tr>\n",
       "    <tr>\n",
       "      <th>2335</th>\n",
       "      <td>-31.762358</td>\n",
       "      <td>-33.692554</td>\n",
       "    </tr>\n",
       "    <tr>\n",
       "      <th>2336</th>\n",
       "      <td>71.931221</td>\n",
       "      <td>-19.536835</td>\n",
       "    </tr>\n",
       "  </tbody>\n",
       "</table>\n",
       "<p>2337 rows × 2 columns</p>\n",
       "</div>"
      ],
      "text/plain": [
       "               x           y\n",
       "0    -117.752182  -44.765297\n",
       "1       3.223371   94.655083\n",
       "2     -80.087158  -69.563362\n",
       "3     -75.593559   65.009048\n",
       "4      15.957397  125.094986\n",
       "...          ...         ...\n",
       "2332   22.260605   -0.802777\n",
       "2333  -12.615958  -71.338539\n",
       "2334  -17.663586   16.931108\n",
       "2335  -31.762358  -33.692554\n",
       "2336   71.931221  -19.536835\n",
       "\n",
       "[2337 rows x 2 columns]"
      ]
     },
     "execution_count": 10,
     "metadata": {},
     "output_type": "execute_result"
    }
   ],
   "source": [
    "column_axis = ['x', 'y']\n",
    "df_manifold = pd.DataFrame(cuml_processed, columns=column_axis, index=np.arange(cuml_processed.shape[0]))  \n",
    "df_manifold"
   ]
  },
  {
   "cell_type": "code",
   "execution_count": 11,
   "metadata": {},
   "outputs": [],
   "source": [
    "try:\n",
    "    os.makedirs(\"/mnt/f/cluster_analysis/distilBERT/train/\")\n",
    "except:\n",
    "    pass"
   ]
  },
  {
   "cell_type": "code",
   "execution_count": 12,
   "metadata": {},
   "outputs": [],
   "source": [
    "def plot_dimension_reduction(manifold_processed_DataFrame):\n",
    "\n",
    "\tfig = go.Figure()\n",
    "\n",
    "\tfig.add_trace(go.Scatter(x=manifold_processed_DataFrame['x'], \n",
    "\t\t\t\t\ty=manifold_processed_DataFrame['y'],\n",
    "\t\t\t\t\tmode='markers', \n",
    "\t\t\t\t\tmarker=dict(color='LightSkyBlue', \n",
    "\t\t\t\t\t\t\t\tsize=12, line=dict(color='MediumPurple', width=2)),\n",
    "\t\t\t\t\tname='reals'))\n",
    "\n",
    "\tfig.update_layout(autosize=True, width=900, height=900)\n",
    "\tfig.update_layout(title='DistilBERT, Korean Food Training Dataset, Hidden State Output in 2D')\n",
    "\tfig.write_image('/mnt/f/cluster_analysis/distilBERT/train/dtrain_manifold.webp')\n",
    "\tfig.write_image('/mnt/f/cluster_analysis/distilBERT/train/dtrain_manifold.png')\n",
    "\tplotly.offline.plot(fig, filename = '/mnt/f/cluster_analysis/distilBERT/train/dtrain_manifold.html', auto_open=False)\n"
   ]
  },
  {
   "cell_type": "code",
   "execution_count": 13,
   "metadata": {},
   "outputs": [],
   "source": [
    "plot_dimension_reduction(df_manifold)"
   ]
  },
  {
   "cell_type": "code",
   "execution_count": 14,
   "metadata": {},
   "outputs": [],
   "source": [
    "df_manifold.to_csv('/mnt/f/cluster_analysis/distilBERT/train/dtrain_manifold.csv', index=False)"
   ]
  },
  {
   "cell_type": "code",
   "execution_count": null,
   "metadata": {},
   "outputs": [],
   "source": []
  },
  {
   "cell_type": "code",
   "execution_count": null,
   "metadata": {},
   "outputs": [],
   "source": []
  }
 ],
 "metadata": {
  "kernelspec": {
   "display_name": "Python 3",
   "language": "python",
   "name": "python3"
  },
  "language_info": {
   "codemirror_mode": {
    "name": "ipython",
    "version": 3
   },
   "file_extension": ".py",
   "mimetype": "text/x-python",
   "name": "python",
   "nbconvert_exporter": "python",
   "pygments_lexer": "ipython3",
   "version": "3.9.18"
  }
 },
 "nbformat": 4,
 "nbformat_minor": 2
}
