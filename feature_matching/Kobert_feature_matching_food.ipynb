{
  "nbformat": 4,
  "nbformat_minor": 0,
  "metadata": {
    "colab": {
      "provenance": [],
      "machine_shape": "hm",
      "gpuType": "T4"
    },
    "kernelspec": {
      "name": "python3",
      "display_name": "Python 3"
    },
    "language_info": {
      "name": "python"
    },
    "accelerator": "GPU",
    "widgets": {
      "application/vnd.jupyter.widget-state+json": {
        "244243e761764474a789fd041ef3c06e": {
          "model_module": "@jupyter-widgets/controls",
          "model_name": "HBoxModel",
          "model_module_version": "1.5.0",
          "state": {
            "_dom_classes": [],
            "_model_module": "@jupyter-widgets/controls",
            "_model_module_version": "1.5.0",
            "_model_name": "HBoxModel",
            "_view_count": null,
            "_view_module": "@jupyter-widgets/controls",
            "_view_module_version": "1.5.0",
            "_view_name": "HBoxView",
            "box_style": "",
            "children": [
              "IPY_MODEL_6829bba5bc6e4685a4f9ba6abfafdc91",
              "IPY_MODEL_8b2b1cf9731140489483bf6a77aa832e",
              "IPY_MODEL_356e78bb4a7f4218beafe6af24701ac8"
            ],
            "layout": "IPY_MODEL_ac387bccccac480e87ba3a1bfd088bf0"
          }
        },
        "6829bba5bc6e4685a4f9ba6abfafdc91": {
          "model_module": "@jupyter-widgets/controls",
          "model_name": "HTMLModel",
          "model_module_version": "1.5.0",
          "state": {
            "_dom_classes": [],
            "_model_module": "@jupyter-widgets/controls",
            "_model_module_version": "1.5.0",
            "_model_name": "HTMLModel",
            "_view_count": null,
            "_view_module": "@jupyter-widgets/controls",
            "_view_module_version": "1.5.0",
            "_view_name": "HTMLView",
            "description": "",
            "description_tooltip": null,
            "layout": "IPY_MODEL_6df7e80fe7dc48a98902f5d26ce67a9b",
            "placeholder": "​",
            "style": "IPY_MODEL_35dfdbf765114c92bb2219fbf2cf9001",
            "value": "Downloading (…)ve/main/spiece.model: 100%"
          }
        },
        "8b2b1cf9731140489483bf6a77aa832e": {
          "model_module": "@jupyter-widgets/controls",
          "model_name": "FloatProgressModel",
          "model_module_version": "1.5.0",
          "state": {
            "_dom_classes": [],
            "_model_module": "@jupyter-widgets/controls",
            "_model_module_version": "1.5.0",
            "_model_name": "FloatProgressModel",
            "_view_count": null,
            "_view_module": "@jupyter-widgets/controls",
            "_view_module_version": "1.5.0",
            "_view_name": "ProgressView",
            "bar_style": "success",
            "description": "",
            "description_tooltip": null,
            "layout": "IPY_MODEL_4659ab85afd4447c800f83c900a3b355",
            "max": 371427,
            "min": 0,
            "orientation": "horizontal",
            "style": "IPY_MODEL_9f4b30794f6f4927a3e67a0d09e2ea8d",
            "value": 371427
          }
        },
        "356e78bb4a7f4218beafe6af24701ac8": {
          "model_module": "@jupyter-widgets/controls",
          "model_name": "HTMLModel",
          "model_module_version": "1.5.0",
          "state": {
            "_dom_classes": [],
            "_model_module": "@jupyter-widgets/controls",
            "_model_module_version": "1.5.0",
            "_model_name": "HTMLModel",
            "_view_count": null,
            "_view_module": "@jupyter-widgets/controls",
            "_view_module_version": "1.5.0",
            "_view_name": "HTMLView",
            "description": "",
            "description_tooltip": null,
            "layout": "IPY_MODEL_645668af5bf74a128dbb38be42d505ad",
            "placeholder": "​",
            "style": "IPY_MODEL_a1c28ca8f05b42b3b259a293c1fc2e15",
            "value": " 371k/371k [00:00&lt;00:00, 3.85MB/s]"
          }
        },
        "ac387bccccac480e87ba3a1bfd088bf0": {
          "model_module": "@jupyter-widgets/base",
          "model_name": "LayoutModel",
          "model_module_version": "1.2.0",
          "state": {
            "_model_module": "@jupyter-widgets/base",
            "_model_module_version": "1.2.0",
            "_model_name": "LayoutModel",
            "_view_count": null,
            "_view_module": "@jupyter-widgets/base",
            "_view_module_version": "1.2.0",
            "_view_name": "LayoutView",
            "align_content": null,
            "align_items": null,
            "align_self": null,
            "border": null,
            "bottom": null,
            "display": null,
            "flex": null,
            "flex_flow": null,
            "grid_area": null,
            "grid_auto_columns": null,
            "grid_auto_flow": null,
            "grid_auto_rows": null,
            "grid_column": null,
            "grid_gap": null,
            "grid_row": null,
            "grid_template_areas": null,
            "grid_template_columns": null,
            "grid_template_rows": null,
            "height": null,
            "justify_content": null,
            "justify_items": null,
            "left": null,
            "margin": null,
            "max_height": null,
            "max_width": null,
            "min_height": null,
            "min_width": null,
            "object_fit": null,
            "object_position": null,
            "order": null,
            "overflow": null,
            "overflow_x": null,
            "overflow_y": null,
            "padding": null,
            "right": null,
            "top": null,
            "visibility": null,
            "width": null
          }
        },
        "6df7e80fe7dc48a98902f5d26ce67a9b": {
          "model_module": "@jupyter-widgets/base",
          "model_name": "LayoutModel",
          "model_module_version": "1.2.0",
          "state": {
            "_model_module": "@jupyter-widgets/base",
            "_model_module_version": "1.2.0",
            "_model_name": "LayoutModel",
            "_view_count": null,
            "_view_module": "@jupyter-widgets/base",
            "_view_module_version": "1.2.0",
            "_view_name": "LayoutView",
            "align_content": null,
            "align_items": null,
            "align_self": null,
            "border": null,
            "bottom": null,
            "display": null,
            "flex": null,
            "flex_flow": null,
            "grid_area": null,
            "grid_auto_columns": null,
            "grid_auto_flow": null,
            "grid_auto_rows": null,
            "grid_column": null,
            "grid_gap": null,
            "grid_row": null,
            "grid_template_areas": null,
            "grid_template_columns": null,
            "grid_template_rows": null,
            "height": null,
            "justify_content": null,
            "justify_items": null,
            "left": null,
            "margin": null,
            "max_height": null,
            "max_width": null,
            "min_height": null,
            "min_width": null,
            "object_fit": null,
            "object_position": null,
            "order": null,
            "overflow": null,
            "overflow_x": null,
            "overflow_y": null,
            "padding": null,
            "right": null,
            "top": null,
            "visibility": null,
            "width": null
          }
        },
        "35dfdbf765114c92bb2219fbf2cf9001": {
          "model_module": "@jupyter-widgets/controls",
          "model_name": "DescriptionStyleModel",
          "model_module_version": "1.5.0",
          "state": {
            "_model_module": "@jupyter-widgets/controls",
            "_model_module_version": "1.5.0",
            "_model_name": "DescriptionStyleModel",
            "_view_count": null,
            "_view_module": "@jupyter-widgets/base",
            "_view_module_version": "1.2.0",
            "_view_name": "StyleView",
            "description_width": ""
          }
        },
        "4659ab85afd4447c800f83c900a3b355": {
          "model_module": "@jupyter-widgets/base",
          "model_name": "LayoutModel",
          "model_module_version": "1.2.0",
          "state": {
            "_model_module": "@jupyter-widgets/base",
            "_model_module_version": "1.2.0",
            "_model_name": "LayoutModel",
            "_view_count": null,
            "_view_module": "@jupyter-widgets/base",
            "_view_module_version": "1.2.0",
            "_view_name": "LayoutView",
            "align_content": null,
            "align_items": null,
            "align_self": null,
            "border": null,
            "bottom": null,
            "display": null,
            "flex": null,
            "flex_flow": null,
            "grid_area": null,
            "grid_auto_columns": null,
            "grid_auto_flow": null,
            "grid_auto_rows": null,
            "grid_column": null,
            "grid_gap": null,
            "grid_row": null,
            "grid_template_areas": null,
            "grid_template_columns": null,
            "grid_template_rows": null,
            "height": null,
            "justify_content": null,
            "justify_items": null,
            "left": null,
            "margin": null,
            "max_height": null,
            "max_width": null,
            "min_height": null,
            "min_width": null,
            "object_fit": null,
            "object_position": null,
            "order": null,
            "overflow": null,
            "overflow_x": null,
            "overflow_y": null,
            "padding": null,
            "right": null,
            "top": null,
            "visibility": null,
            "width": null
          }
        },
        "9f4b30794f6f4927a3e67a0d09e2ea8d": {
          "model_module": "@jupyter-widgets/controls",
          "model_name": "ProgressStyleModel",
          "model_module_version": "1.5.0",
          "state": {
            "_model_module": "@jupyter-widgets/controls",
            "_model_module_version": "1.5.0",
            "_model_name": "ProgressStyleModel",
            "_view_count": null,
            "_view_module": "@jupyter-widgets/base",
            "_view_module_version": "1.2.0",
            "_view_name": "StyleView",
            "bar_color": null,
            "description_width": ""
          }
        },
        "645668af5bf74a128dbb38be42d505ad": {
          "model_module": "@jupyter-widgets/base",
          "model_name": "LayoutModel",
          "model_module_version": "1.2.0",
          "state": {
            "_model_module": "@jupyter-widgets/base",
            "_model_module_version": "1.2.0",
            "_model_name": "LayoutModel",
            "_view_count": null,
            "_view_module": "@jupyter-widgets/base",
            "_view_module_version": "1.2.0",
            "_view_name": "LayoutView",
            "align_content": null,
            "align_items": null,
            "align_self": null,
            "border": null,
            "bottom": null,
            "display": null,
            "flex": null,
            "flex_flow": null,
            "grid_area": null,
            "grid_auto_columns": null,
            "grid_auto_flow": null,
            "grid_auto_rows": null,
            "grid_column": null,
            "grid_gap": null,
            "grid_row": null,
            "grid_template_areas": null,
            "grid_template_columns": null,
            "grid_template_rows": null,
            "height": null,
            "justify_content": null,
            "justify_items": null,
            "left": null,
            "margin": null,
            "max_height": null,
            "max_width": null,
            "min_height": null,
            "min_width": null,
            "object_fit": null,
            "object_position": null,
            "order": null,
            "overflow": null,
            "overflow_x": null,
            "overflow_y": null,
            "padding": null,
            "right": null,
            "top": null,
            "visibility": null,
            "width": null
          }
        },
        "a1c28ca8f05b42b3b259a293c1fc2e15": {
          "model_module": "@jupyter-widgets/controls",
          "model_name": "DescriptionStyleModel",
          "model_module_version": "1.5.0",
          "state": {
            "_model_module": "@jupyter-widgets/controls",
            "_model_module_version": "1.5.0",
            "_model_name": "DescriptionStyleModel",
            "_view_count": null,
            "_view_module": "@jupyter-widgets/base",
            "_view_module_version": "1.2.0",
            "_view_name": "StyleView",
            "description_width": ""
          }
        },
        "4a9f1708d7944313a1ac95e64c194b27": {
          "model_module": "@jupyter-widgets/controls",
          "model_name": "HBoxModel",
          "model_module_version": "1.5.0",
          "state": {
            "_dom_classes": [],
            "_model_module": "@jupyter-widgets/controls",
            "_model_module_version": "1.5.0",
            "_model_name": "HBoxModel",
            "_view_count": null,
            "_view_module": "@jupyter-widgets/controls",
            "_view_module_version": "1.5.0",
            "_view_name": "HBoxView",
            "box_style": "",
            "children": [
              "IPY_MODEL_3244899c5aa94d4f881e612ec4402632",
              "IPY_MODEL_47b95817a19d4ea8bd98eba5a28f7d85",
              "IPY_MODEL_8944694f3e604fbdbe6431d35ce76988"
            ],
            "layout": "IPY_MODEL_4f96f9ed1462471d930f0f167beb9023"
          }
        },
        "3244899c5aa94d4f881e612ec4402632": {
          "model_module": "@jupyter-widgets/controls",
          "model_name": "HTMLModel",
          "model_module_version": "1.5.0",
          "state": {
            "_dom_classes": [],
            "_model_module": "@jupyter-widgets/controls",
            "_model_module_version": "1.5.0",
            "_model_name": "HTMLModel",
            "_view_count": null,
            "_view_module": "@jupyter-widgets/controls",
            "_view_module_version": "1.5.0",
            "_view_name": "HTMLView",
            "description": "",
            "description_tooltip": null,
            "layout": "IPY_MODEL_acd8777f569e4388ae03859fb2867cc8",
            "placeholder": "​",
            "style": "IPY_MODEL_426478facb1c4a00b713540c405e3bca",
            "value": "Downloading (…)cial_tokens_map.json: 100%"
          }
        },
        "47b95817a19d4ea8bd98eba5a28f7d85": {
          "model_module": "@jupyter-widgets/controls",
          "model_name": "FloatProgressModel",
          "model_module_version": "1.5.0",
          "state": {
            "_dom_classes": [],
            "_model_module": "@jupyter-widgets/controls",
            "_model_module_version": "1.5.0",
            "_model_name": "FloatProgressModel",
            "_view_count": null,
            "_view_module": "@jupyter-widgets/controls",
            "_view_module_version": "1.5.0",
            "_view_name": "ProgressView",
            "bar_style": "success",
            "description": "",
            "description_tooltip": null,
            "layout": "IPY_MODEL_e68866c879ec4be2acf1fb78bad80c6f",
            "max": 244,
            "min": 0,
            "orientation": "horizontal",
            "style": "IPY_MODEL_c8d3fa848be64fc392433ebab9095e99",
            "value": 244
          }
        },
        "8944694f3e604fbdbe6431d35ce76988": {
          "model_module": "@jupyter-widgets/controls",
          "model_name": "HTMLModel",
          "model_module_version": "1.5.0",
          "state": {
            "_dom_classes": [],
            "_model_module": "@jupyter-widgets/controls",
            "_model_module_version": "1.5.0",
            "_model_name": "HTMLModel",
            "_view_count": null,
            "_view_module": "@jupyter-widgets/controls",
            "_view_module_version": "1.5.0",
            "_view_name": "HTMLView",
            "description": "",
            "description_tooltip": null,
            "layout": "IPY_MODEL_b7e437d8f45a46ba8a3264c38415d50d",
            "placeholder": "​",
            "style": "IPY_MODEL_6c68098615c545af83ffb7f2dbb5c279",
            "value": " 244/244 [00:00&lt;00:00, 17.6kB/s]"
          }
        },
        "4f96f9ed1462471d930f0f167beb9023": {
          "model_module": "@jupyter-widgets/base",
          "model_name": "LayoutModel",
          "model_module_version": "1.2.0",
          "state": {
            "_model_module": "@jupyter-widgets/base",
            "_model_module_version": "1.2.0",
            "_model_name": "LayoutModel",
            "_view_count": null,
            "_view_module": "@jupyter-widgets/base",
            "_view_module_version": "1.2.0",
            "_view_name": "LayoutView",
            "align_content": null,
            "align_items": null,
            "align_self": null,
            "border": null,
            "bottom": null,
            "display": null,
            "flex": null,
            "flex_flow": null,
            "grid_area": null,
            "grid_auto_columns": null,
            "grid_auto_flow": null,
            "grid_auto_rows": null,
            "grid_column": null,
            "grid_gap": null,
            "grid_row": null,
            "grid_template_areas": null,
            "grid_template_columns": null,
            "grid_template_rows": null,
            "height": null,
            "justify_content": null,
            "justify_items": null,
            "left": null,
            "margin": null,
            "max_height": null,
            "max_width": null,
            "min_height": null,
            "min_width": null,
            "object_fit": null,
            "object_position": null,
            "order": null,
            "overflow": null,
            "overflow_x": null,
            "overflow_y": null,
            "padding": null,
            "right": null,
            "top": null,
            "visibility": null,
            "width": null
          }
        },
        "acd8777f569e4388ae03859fb2867cc8": {
          "model_module": "@jupyter-widgets/base",
          "model_name": "LayoutModel",
          "model_module_version": "1.2.0",
          "state": {
            "_model_module": "@jupyter-widgets/base",
            "_model_module_version": "1.2.0",
            "_model_name": "LayoutModel",
            "_view_count": null,
            "_view_module": "@jupyter-widgets/base",
            "_view_module_version": "1.2.0",
            "_view_name": "LayoutView",
            "align_content": null,
            "align_items": null,
            "align_self": null,
            "border": null,
            "bottom": null,
            "display": null,
            "flex": null,
            "flex_flow": null,
            "grid_area": null,
            "grid_auto_columns": null,
            "grid_auto_flow": null,
            "grid_auto_rows": null,
            "grid_column": null,
            "grid_gap": null,
            "grid_row": null,
            "grid_template_areas": null,
            "grid_template_columns": null,
            "grid_template_rows": null,
            "height": null,
            "justify_content": null,
            "justify_items": null,
            "left": null,
            "margin": null,
            "max_height": null,
            "max_width": null,
            "min_height": null,
            "min_width": null,
            "object_fit": null,
            "object_position": null,
            "order": null,
            "overflow": null,
            "overflow_x": null,
            "overflow_y": null,
            "padding": null,
            "right": null,
            "top": null,
            "visibility": null,
            "width": null
          }
        },
        "426478facb1c4a00b713540c405e3bca": {
          "model_module": "@jupyter-widgets/controls",
          "model_name": "DescriptionStyleModel",
          "model_module_version": "1.5.0",
          "state": {
            "_model_module": "@jupyter-widgets/controls",
            "_model_module_version": "1.5.0",
            "_model_name": "DescriptionStyleModel",
            "_view_count": null,
            "_view_module": "@jupyter-widgets/base",
            "_view_module_version": "1.2.0",
            "_view_name": "StyleView",
            "description_width": ""
          }
        },
        "e68866c879ec4be2acf1fb78bad80c6f": {
          "model_module": "@jupyter-widgets/base",
          "model_name": "LayoutModel",
          "model_module_version": "1.2.0",
          "state": {
            "_model_module": "@jupyter-widgets/base",
            "_model_module_version": "1.2.0",
            "_model_name": "LayoutModel",
            "_view_count": null,
            "_view_module": "@jupyter-widgets/base",
            "_view_module_version": "1.2.0",
            "_view_name": "LayoutView",
            "align_content": null,
            "align_items": null,
            "align_self": null,
            "border": null,
            "bottom": null,
            "display": null,
            "flex": null,
            "flex_flow": null,
            "grid_area": null,
            "grid_auto_columns": null,
            "grid_auto_flow": null,
            "grid_auto_rows": null,
            "grid_column": null,
            "grid_gap": null,
            "grid_row": null,
            "grid_template_areas": null,
            "grid_template_columns": null,
            "grid_template_rows": null,
            "height": null,
            "justify_content": null,
            "justify_items": null,
            "left": null,
            "margin": null,
            "max_height": null,
            "max_width": null,
            "min_height": null,
            "min_width": null,
            "object_fit": null,
            "object_position": null,
            "order": null,
            "overflow": null,
            "overflow_x": null,
            "overflow_y": null,
            "padding": null,
            "right": null,
            "top": null,
            "visibility": null,
            "width": null
          }
        },
        "c8d3fa848be64fc392433ebab9095e99": {
          "model_module": "@jupyter-widgets/controls",
          "model_name": "ProgressStyleModel",
          "model_module_version": "1.5.0",
          "state": {
            "_model_module": "@jupyter-widgets/controls",
            "_model_module_version": "1.5.0",
            "_model_name": "ProgressStyleModel",
            "_view_count": null,
            "_view_module": "@jupyter-widgets/base",
            "_view_module_version": "1.2.0",
            "_view_name": "StyleView",
            "bar_color": null,
            "description_width": ""
          }
        },
        "b7e437d8f45a46ba8a3264c38415d50d": {
          "model_module": "@jupyter-widgets/base",
          "model_name": "LayoutModel",
          "model_module_version": "1.2.0",
          "state": {
            "_model_module": "@jupyter-widgets/base",
            "_model_module_version": "1.2.0",
            "_model_name": "LayoutModel",
            "_view_count": null,
            "_view_module": "@jupyter-widgets/base",
            "_view_module_version": "1.2.0",
            "_view_name": "LayoutView",
            "align_content": null,
            "align_items": null,
            "align_self": null,
            "border": null,
            "bottom": null,
            "display": null,
            "flex": null,
            "flex_flow": null,
            "grid_area": null,
            "grid_auto_columns": null,
            "grid_auto_flow": null,
            "grid_auto_rows": null,
            "grid_column": null,
            "grid_gap": null,
            "grid_row": null,
            "grid_template_areas": null,
            "grid_template_columns": null,
            "grid_template_rows": null,
            "height": null,
            "justify_content": null,
            "justify_items": null,
            "left": null,
            "margin": null,
            "max_height": null,
            "max_width": null,
            "min_height": null,
            "min_width": null,
            "object_fit": null,
            "object_position": null,
            "order": null,
            "overflow": null,
            "overflow_x": null,
            "overflow_y": null,
            "padding": null,
            "right": null,
            "top": null,
            "visibility": null,
            "width": null
          }
        },
        "6c68098615c545af83ffb7f2dbb5c279": {
          "model_module": "@jupyter-widgets/controls",
          "model_name": "DescriptionStyleModel",
          "model_module_version": "1.5.0",
          "state": {
            "_model_module": "@jupyter-widgets/controls",
            "_model_module_version": "1.5.0",
            "_model_name": "DescriptionStyleModel",
            "_view_count": null,
            "_view_module": "@jupyter-widgets/base",
            "_view_module_version": "1.2.0",
            "_view_name": "StyleView",
            "description_width": ""
          }
        },
        "f14e875030c34d0f82a36b4ad523ecd2": {
          "model_module": "@jupyter-widgets/controls",
          "model_name": "HBoxModel",
          "model_module_version": "1.5.0",
          "state": {
            "_dom_classes": [],
            "_model_module": "@jupyter-widgets/controls",
            "_model_module_version": "1.5.0",
            "_model_name": "HBoxModel",
            "_view_count": null,
            "_view_module": "@jupyter-widgets/controls",
            "_view_module_version": "1.5.0",
            "_view_name": "HBoxView",
            "box_style": "",
            "children": [
              "IPY_MODEL_57382eb68575437a90329f2ee9cbe54a",
              "IPY_MODEL_d2d2c9ec55e3449ba048c66919216c2b",
              "IPY_MODEL_621e6d991df84d659aedd9ed9b534cd5"
            ],
            "layout": "IPY_MODEL_db5a74258df74ce2b0afd4301733ff67"
          }
        },
        "57382eb68575437a90329f2ee9cbe54a": {
          "model_module": "@jupyter-widgets/controls",
          "model_name": "HTMLModel",
          "model_module_version": "1.5.0",
          "state": {
            "_dom_classes": [],
            "_model_module": "@jupyter-widgets/controls",
            "_model_module_version": "1.5.0",
            "_model_name": "HTMLModel",
            "_view_count": null,
            "_view_module": "@jupyter-widgets/controls",
            "_view_module_version": "1.5.0",
            "_view_name": "HTMLView",
            "description": "",
            "description_tooltip": null,
            "layout": "IPY_MODEL_c97a2742edc543f69400e87ee4375191",
            "placeholder": "​",
            "style": "IPY_MODEL_2b73d12160264c23b608b5883fa2724c",
            "value": "Downloading (…)okenizer_config.json: 100%"
          }
        },
        "d2d2c9ec55e3449ba048c66919216c2b": {
          "model_module": "@jupyter-widgets/controls",
          "model_name": "FloatProgressModel",
          "model_module_version": "1.5.0",
          "state": {
            "_dom_classes": [],
            "_model_module": "@jupyter-widgets/controls",
            "_model_module_version": "1.5.0",
            "_model_name": "FloatProgressModel",
            "_view_count": null,
            "_view_module": "@jupyter-widgets/controls",
            "_view_module_version": "1.5.0",
            "_view_name": "ProgressView",
            "bar_style": "success",
            "description": "",
            "description_tooltip": null,
            "layout": "IPY_MODEL_1ed411e91fc64fbd8a4423880a2fa458",
            "max": 432,
            "min": 0,
            "orientation": "horizontal",
            "style": "IPY_MODEL_75ad3d1bb528409e96c8a8a7f93344c0",
            "value": 432
          }
        },
        "621e6d991df84d659aedd9ed9b534cd5": {
          "model_module": "@jupyter-widgets/controls",
          "model_name": "HTMLModel",
          "model_module_version": "1.5.0",
          "state": {
            "_dom_classes": [],
            "_model_module": "@jupyter-widgets/controls",
            "_model_module_version": "1.5.0",
            "_model_name": "HTMLModel",
            "_view_count": null,
            "_view_module": "@jupyter-widgets/controls",
            "_view_module_version": "1.5.0",
            "_view_name": "HTMLView",
            "description": "",
            "description_tooltip": null,
            "layout": "IPY_MODEL_f5af703c328e42f5988d7b3ef90f8306",
            "placeholder": "​",
            "style": "IPY_MODEL_795d67fbe9ec4928ad4944a810176781",
            "value": " 432/432 [00:00&lt;00:00, 25.3kB/s]"
          }
        },
        "db5a74258df74ce2b0afd4301733ff67": {
          "model_module": "@jupyter-widgets/base",
          "model_name": "LayoutModel",
          "model_module_version": "1.2.0",
          "state": {
            "_model_module": "@jupyter-widgets/base",
            "_model_module_version": "1.2.0",
            "_model_name": "LayoutModel",
            "_view_count": null,
            "_view_module": "@jupyter-widgets/base",
            "_view_module_version": "1.2.0",
            "_view_name": "LayoutView",
            "align_content": null,
            "align_items": null,
            "align_self": null,
            "border": null,
            "bottom": null,
            "display": null,
            "flex": null,
            "flex_flow": null,
            "grid_area": null,
            "grid_auto_columns": null,
            "grid_auto_flow": null,
            "grid_auto_rows": null,
            "grid_column": null,
            "grid_gap": null,
            "grid_row": null,
            "grid_template_areas": null,
            "grid_template_columns": null,
            "grid_template_rows": null,
            "height": null,
            "justify_content": null,
            "justify_items": null,
            "left": null,
            "margin": null,
            "max_height": null,
            "max_width": null,
            "min_height": null,
            "min_width": null,
            "object_fit": null,
            "object_position": null,
            "order": null,
            "overflow": null,
            "overflow_x": null,
            "overflow_y": null,
            "padding": null,
            "right": null,
            "top": null,
            "visibility": null,
            "width": null
          }
        },
        "c97a2742edc543f69400e87ee4375191": {
          "model_module": "@jupyter-widgets/base",
          "model_name": "LayoutModel",
          "model_module_version": "1.2.0",
          "state": {
            "_model_module": "@jupyter-widgets/base",
            "_model_module_version": "1.2.0",
            "_model_name": "LayoutModel",
            "_view_count": null,
            "_view_module": "@jupyter-widgets/base",
            "_view_module_version": "1.2.0",
            "_view_name": "LayoutView",
            "align_content": null,
            "align_items": null,
            "align_self": null,
            "border": null,
            "bottom": null,
            "display": null,
            "flex": null,
            "flex_flow": null,
            "grid_area": null,
            "grid_auto_columns": null,
            "grid_auto_flow": null,
            "grid_auto_rows": null,
            "grid_column": null,
            "grid_gap": null,
            "grid_row": null,
            "grid_template_areas": null,
            "grid_template_columns": null,
            "grid_template_rows": null,
            "height": null,
            "justify_content": null,
            "justify_items": null,
            "left": null,
            "margin": null,
            "max_height": null,
            "max_width": null,
            "min_height": null,
            "min_width": null,
            "object_fit": null,
            "object_position": null,
            "order": null,
            "overflow": null,
            "overflow_x": null,
            "overflow_y": null,
            "padding": null,
            "right": null,
            "top": null,
            "visibility": null,
            "width": null
          }
        },
        "2b73d12160264c23b608b5883fa2724c": {
          "model_module": "@jupyter-widgets/controls",
          "model_name": "DescriptionStyleModel",
          "model_module_version": "1.5.0",
          "state": {
            "_model_module": "@jupyter-widgets/controls",
            "_model_module_version": "1.5.0",
            "_model_name": "DescriptionStyleModel",
            "_view_count": null,
            "_view_module": "@jupyter-widgets/base",
            "_view_module_version": "1.2.0",
            "_view_name": "StyleView",
            "description_width": ""
          }
        },
        "1ed411e91fc64fbd8a4423880a2fa458": {
          "model_module": "@jupyter-widgets/base",
          "model_name": "LayoutModel",
          "model_module_version": "1.2.0",
          "state": {
            "_model_module": "@jupyter-widgets/base",
            "_model_module_version": "1.2.0",
            "_model_name": "LayoutModel",
            "_view_count": null,
            "_view_module": "@jupyter-widgets/base",
            "_view_module_version": "1.2.0",
            "_view_name": "LayoutView",
            "align_content": null,
            "align_items": null,
            "align_self": null,
            "border": null,
            "bottom": null,
            "display": null,
            "flex": null,
            "flex_flow": null,
            "grid_area": null,
            "grid_auto_columns": null,
            "grid_auto_flow": null,
            "grid_auto_rows": null,
            "grid_column": null,
            "grid_gap": null,
            "grid_row": null,
            "grid_template_areas": null,
            "grid_template_columns": null,
            "grid_template_rows": null,
            "height": null,
            "justify_content": null,
            "justify_items": null,
            "left": null,
            "margin": null,
            "max_height": null,
            "max_width": null,
            "min_height": null,
            "min_width": null,
            "object_fit": null,
            "object_position": null,
            "order": null,
            "overflow": null,
            "overflow_x": null,
            "overflow_y": null,
            "padding": null,
            "right": null,
            "top": null,
            "visibility": null,
            "width": null
          }
        },
        "75ad3d1bb528409e96c8a8a7f93344c0": {
          "model_module": "@jupyter-widgets/controls",
          "model_name": "ProgressStyleModel",
          "model_module_version": "1.5.0",
          "state": {
            "_model_module": "@jupyter-widgets/controls",
            "_model_module_version": "1.5.0",
            "_model_name": "ProgressStyleModel",
            "_view_count": null,
            "_view_module": "@jupyter-widgets/base",
            "_view_module_version": "1.2.0",
            "_view_name": "StyleView",
            "bar_color": null,
            "description_width": ""
          }
        },
        "f5af703c328e42f5988d7b3ef90f8306": {
          "model_module": "@jupyter-widgets/base",
          "model_name": "LayoutModel",
          "model_module_version": "1.2.0",
          "state": {
            "_model_module": "@jupyter-widgets/base",
            "_model_module_version": "1.2.0",
            "_model_name": "LayoutModel",
            "_view_count": null,
            "_view_module": "@jupyter-widgets/base",
            "_view_module_version": "1.2.0",
            "_view_name": "LayoutView",
            "align_content": null,
            "align_items": null,
            "align_self": null,
            "border": null,
            "bottom": null,
            "display": null,
            "flex": null,
            "flex_flow": null,
            "grid_area": null,
            "grid_auto_columns": null,
            "grid_auto_flow": null,
            "grid_auto_rows": null,
            "grid_column": null,
            "grid_gap": null,
            "grid_row": null,
            "grid_template_areas": null,
            "grid_template_columns": null,
            "grid_template_rows": null,
            "height": null,
            "justify_content": null,
            "justify_items": null,
            "left": null,
            "margin": null,
            "max_height": null,
            "max_width": null,
            "min_height": null,
            "min_width": null,
            "object_fit": null,
            "object_position": null,
            "order": null,
            "overflow": null,
            "overflow_x": null,
            "overflow_y": null,
            "padding": null,
            "right": null,
            "top": null,
            "visibility": null,
            "width": null
          }
        },
        "795d67fbe9ec4928ad4944a810176781": {
          "model_module": "@jupyter-widgets/controls",
          "model_name": "DescriptionStyleModel",
          "model_module_version": "1.5.0",
          "state": {
            "_model_module": "@jupyter-widgets/controls",
            "_model_module_version": "1.5.0",
            "_model_name": "DescriptionStyleModel",
            "_view_count": null,
            "_view_module": "@jupyter-widgets/base",
            "_view_module_version": "1.2.0",
            "_view_name": "StyleView",
            "description_width": ""
          }
        },
        "5c54bf417d454604a4b0200f8858043e": {
          "model_module": "@jupyter-widgets/controls",
          "model_name": "HBoxModel",
          "model_module_version": "1.5.0",
          "state": {
            "_dom_classes": [],
            "_model_module": "@jupyter-widgets/controls",
            "_model_module_version": "1.5.0",
            "_model_name": "HBoxModel",
            "_view_count": null,
            "_view_module": "@jupyter-widgets/controls",
            "_view_module_version": "1.5.0",
            "_view_name": "HBoxView",
            "box_style": "",
            "children": [
              "IPY_MODEL_12270956143448fd9fc1dd6595717531",
              "IPY_MODEL_5ecd9599e7544ff2b396f078a9882b27",
              "IPY_MODEL_80db545e0bb041f2b576deb41c188cb3"
            ],
            "layout": "IPY_MODEL_7f541781bea048e79a299a30aadc3216"
          }
        },
        "12270956143448fd9fc1dd6595717531": {
          "model_module": "@jupyter-widgets/controls",
          "model_name": "HTMLModel",
          "model_module_version": "1.5.0",
          "state": {
            "_dom_classes": [],
            "_model_module": "@jupyter-widgets/controls",
            "_model_module_version": "1.5.0",
            "_model_name": "HTMLModel",
            "_view_count": null,
            "_view_module": "@jupyter-widgets/controls",
            "_view_module_version": "1.5.0",
            "_view_name": "HTMLView",
            "description": "",
            "description_tooltip": null,
            "layout": "IPY_MODEL_c132cd208fa84cecb2a49900bbe53191",
            "placeholder": "​",
            "style": "IPY_MODEL_8a6d8a974fd549bdb42a3f292ffbc28c",
            "value": "Downloading (…)lve/main/config.json: 100%"
          }
        },
        "5ecd9599e7544ff2b396f078a9882b27": {
          "model_module": "@jupyter-widgets/controls",
          "model_name": "FloatProgressModel",
          "model_module_version": "1.5.0",
          "state": {
            "_dom_classes": [],
            "_model_module": "@jupyter-widgets/controls",
            "_model_module_version": "1.5.0",
            "_model_name": "FloatProgressModel",
            "_view_count": null,
            "_view_module": "@jupyter-widgets/controls",
            "_view_module_version": "1.5.0",
            "_view_name": "ProgressView",
            "bar_style": "success",
            "description": "",
            "description_tooltip": null,
            "layout": "IPY_MODEL_90119e09461d4fc09ea4c48bf7242f66",
            "max": 535,
            "min": 0,
            "orientation": "horizontal",
            "style": "IPY_MODEL_11296e5a0c4a4cc986422bb46b1d5303",
            "value": 535
          }
        },
        "80db545e0bb041f2b576deb41c188cb3": {
          "model_module": "@jupyter-widgets/controls",
          "model_name": "HTMLModel",
          "model_module_version": "1.5.0",
          "state": {
            "_dom_classes": [],
            "_model_module": "@jupyter-widgets/controls",
            "_model_module_version": "1.5.0",
            "_model_name": "HTMLModel",
            "_view_count": null,
            "_view_module": "@jupyter-widgets/controls",
            "_view_module_version": "1.5.0",
            "_view_name": "HTMLView",
            "description": "",
            "description_tooltip": null,
            "layout": "IPY_MODEL_354f07298b9e47848640460bef69132c",
            "placeholder": "​",
            "style": "IPY_MODEL_c16537ade5174c659839395a7933df91",
            "value": " 535/535 [00:00&lt;00:00, 41.7kB/s]"
          }
        },
        "7f541781bea048e79a299a30aadc3216": {
          "model_module": "@jupyter-widgets/base",
          "model_name": "LayoutModel",
          "model_module_version": "1.2.0",
          "state": {
            "_model_module": "@jupyter-widgets/base",
            "_model_module_version": "1.2.0",
            "_model_name": "LayoutModel",
            "_view_count": null,
            "_view_module": "@jupyter-widgets/base",
            "_view_module_version": "1.2.0",
            "_view_name": "LayoutView",
            "align_content": null,
            "align_items": null,
            "align_self": null,
            "border": null,
            "bottom": null,
            "display": null,
            "flex": null,
            "flex_flow": null,
            "grid_area": null,
            "grid_auto_columns": null,
            "grid_auto_flow": null,
            "grid_auto_rows": null,
            "grid_column": null,
            "grid_gap": null,
            "grid_row": null,
            "grid_template_areas": null,
            "grid_template_columns": null,
            "grid_template_rows": null,
            "height": null,
            "justify_content": null,
            "justify_items": null,
            "left": null,
            "margin": null,
            "max_height": null,
            "max_width": null,
            "min_height": null,
            "min_width": null,
            "object_fit": null,
            "object_position": null,
            "order": null,
            "overflow": null,
            "overflow_x": null,
            "overflow_y": null,
            "padding": null,
            "right": null,
            "top": null,
            "visibility": null,
            "width": null
          }
        },
        "c132cd208fa84cecb2a49900bbe53191": {
          "model_module": "@jupyter-widgets/base",
          "model_name": "LayoutModel",
          "model_module_version": "1.2.0",
          "state": {
            "_model_module": "@jupyter-widgets/base",
            "_model_module_version": "1.2.0",
            "_model_name": "LayoutModel",
            "_view_count": null,
            "_view_module": "@jupyter-widgets/base",
            "_view_module_version": "1.2.0",
            "_view_name": "LayoutView",
            "align_content": null,
            "align_items": null,
            "align_self": null,
            "border": null,
            "bottom": null,
            "display": null,
            "flex": null,
            "flex_flow": null,
            "grid_area": null,
            "grid_auto_columns": null,
            "grid_auto_flow": null,
            "grid_auto_rows": null,
            "grid_column": null,
            "grid_gap": null,
            "grid_row": null,
            "grid_template_areas": null,
            "grid_template_columns": null,
            "grid_template_rows": null,
            "height": null,
            "justify_content": null,
            "justify_items": null,
            "left": null,
            "margin": null,
            "max_height": null,
            "max_width": null,
            "min_height": null,
            "min_width": null,
            "object_fit": null,
            "object_position": null,
            "order": null,
            "overflow": null,
            "overflow_x": null,
            "overflow_y": null,
            "padding": null,
            "right": null,
            "top": null,
            "visibility": null,
            "width": null
          }
        },
        "8a6d8a974fd549bdb42a3f292ffbc28c": {
          "model_module": "@jupyter-widgets/controls",
          "model_name": "DescriptionStyleModel",
          "model_module_version": "1.5.0",
          "state": {
            "_model_module": "@jupyter-widgets/controls",
            "_model_module_version": "1.5.0",
            "_model_name": "DescriptionStyleModel",
            "_view_count": null,
            "_view_module": "@jupyter-widgets/base",
            "_view_module_version": "1.2.0",
            "_view_name": "StyleView",
            "description_width": ""
          }
        },
        "90119e09461d4fc09ea4c48bf7242f66": {
          "model_module": "@jupyter-widgets/base",
          "model_name": "LayoutModel",
          "model_module_version": "1.2.0",
          "state": {
            "_model_module": "@jupyter-widgets/base",
            "_model_module_version": "1.2.0",
            "_model_name": "LayoutModel",
            "_view_count": null,
            "_view_module": "@jupyter-widgets/base",
            "_view_module_version": "1.2.0",
            "_view_name": "LayoutView",
            "align_content": null,
            "align_items": null,
            "align_self": null,
            "border": null,
            "bottom": null,
            "display": null,
            "flex": null,
            "flex_flow": null,
            "grid_area": null,
            "grid_auto_columns": null,
            "grid_auto_flow": null,
            "grid_auto_rows": null,
            "grid_column": null,
            "grid_gap": null,
            "grid_row": null,
            "grid_template_areas": null,
            "grid_template_columns": null,
            "grid_template_rows": null,
            "height": null,
            "justify_content": null,
            "justify_items": null,
            "left": null,
            "margin": null,
            "max_height": null,
            "max_width": null,
            "min_height": null,
            "min_width": null,
            "object_fit": null,
            "object_position": null,
            "order": null,
            "overflow": null,
            "overflow_x": null,
            "overflow_y": null,
            "padding": null,
            "right": null,
            "top": null,
            "visibility": null,
            "width": null
          }
        },
        "11296e5a0c4a4cc986422bb46b1d5303": {
          "model_module": "@jupyter-widgets/controls",
          "model_name": "ProgressStyleModel",
          "model_module_version": "1.5.0",
          "state": {
            "_model_module": "@jupyter-widgets/controls",
            "_model_module_version": "1.5.0",
            "_model_name": "ProgressStyleModel",
            "_view_count": null,
            "_view_module": "@jupyter-widgets/base",
            "_view_module_version": "1.2.0",
            "_view_name": "StyleView",
            "bar_color": null,
            "description_width": ""
          }
        },
        "354f07298b9e47848640460bef69132c": {
          "model_module": "@jupyter-widgets/base",
          "model_name": "LayoutModel",
          "model_module_version": "1.2.0",
          "state": {
            "_model_module": "@jupyter-widgets/base",
            "_model_module_version": "1.2.0",
            "_model_name": "LayoutModel",
            "_view_count": null,
            "_view_module": "@jupyter-widgets/base",
            "_view_module_version": "1.2.0",
            "_view_name": "LayoutView",
            "align_content": null,
            "align_items": null,
            "align_self": null,
            "border": null,
            "bottom": null,
            "display": null,
            "flex": null,
            "flex_flow": null,
            "grid_area": null,
            "grid_auto_columns": null,
            "grid_auto_flow": null,
            "grid_auto_rows": null,
            "grid_column": null,
            "grid_gap": null,
            "grid_row": null,
            "grid_template_areas": null,
            "grid_template_columns": null,
            "grid_template_rows": null,
            "height": null,
            "justify_content": null,
            "justify_items": null,
            "left": null,
            "margin": null,
            "max_height": null,
            "max_width": null,
            "min_height": null,
            "min_width": null,
            "object_fit": null,
            "object_position": null,
            "order": null,
            "overflow": null,
            "overflow_x": null,
            "overflow_y": null,
            "padding": null,
            "right": null,
            "top": null,
            "visibility": null,
            "width": null
          }
        },
        "c16537ade5174c659839395a7933df91": {
          "model_module": "@jupyter-widgets/controls",
          "model_name": "DescriptionStyleModel",
          "model_module_version": "1.5.0",
          "state": {
            "_model_module": "@jupyter-widgets/controls",
            "_model_module_version": "1.5.0",
            "_model_name": "DescriptionStyleModel",
            "_view_count": null,
            "_view_module": "@jupyter-widgets/base",
            "_view_module_version": "1.2.0",
            "_view_name": "StyleView",
            "description_width": ""
          }
        },
        "56d092252df244a788295b5ba8ee0644": {
          "model_module": "@jupyter-widgets/controls",
          "model_name": "HBoxModel",
          "model_module_version": "1.5.0",
          "state": {
            "_dom_classes": [],
            "_model_module": "@jupyter-widgets/controls",
            "_model_module_version": "1.5.0",
            "_model_name": "HBoxModel",
            "_view_count": null,
            "_view_module": "@jupyter-widgets/controls",
            "_view_module_version": "1.5.0",
            "_view_name": "HBoxView",
            "box_style": "",
            "children": [
              "IPY_MODEL_9e8b53debcca4e5bbc3a1b4de53e9246",
              "IPY_MODEL_3b6c7bffec3a41268d89c6afa7be3fb4",
              "IPY_MODEL_fb4258596afd4fdc8b43cfb47629ace7"
            ],
            "layout": "IPY_MODEL_e0a6f31e7e8a4c1fa05158ef4870d8d0"
          }
        },
        "9e8b53debcca4e5bbc3a1b4de53e9246": {
          "model_module": "@jupyter-widgets/controls",
          "model_name": "HTMLModel",
          "model_module_version": "1.5.0",
          "state": {
            "_dom_classes": [],
            "_model_module": "@jupyter-widgets/controls",
            "_model_module_version": "1.5.0",
            "_model_name": "HTMLModel",
            "_view_count": null,
            "_view_module": "@jupyter-widgets/controls",
            "_view_module_version": "1.5.0",
            "_view_name": "HTMLView",
            "description": "",
            "description_tooltip": null,
            "layout": "IPY_MODEL_e6603a27d2fa4abcbce90d2f82c032c8",
            "placeholder": "​",
            "style": "IPY_MODEL_c3ab631856884c98953ece8676d5a0e1",
            "value": "Downloading pytorch_model.bin: 100%"
          }
        },
        "3b6c7bffec3a41268d89c6afa7be3fb4": {
          "model_module": "@jupyter-widgets/controls",
          "model_name": "FloatProgressModel",
          "model_module_version": "1.5.0",
          "state": {
            "_dom_classes": [],
            "_model_module": "@jupyter-widgets/controls",
            "_model_module_version": "1.5.0",
            "_model_name": "FloatProgressModel",
            "_view_count": null,
            "_view_module": "@jupyter-widgets/controls",
            "_view_module_version": "1.5.0",
            "_view_name": "ProgressView",
            "bar_style": "success",
            "description": "",
            "description_tooltip": null,
            "layout": "IPY_MODEL_164b68bd60ad4359a1442010f25db7d2",
            "max": 368792544,
            "min": 0,
            "orientation": "horizontal",
            "style": "IPY_MODEL_488dddcf953248078f9a1adf7181cfea",
            "value": 368792544
          }
        },
        "fb4258596afd4fdc8b43cfb47629ace7": {
          "model_module": "@jupyter-widgets/controls",
          "model_name": "HTMLModel",
          "model_module_version": "1.5.0",
          "state": {
            "_dom_classes": [],
            "_model_module": "@jupyter-widgets/controls",
            "_model_module_version": "1.5.0",
            "_model_name": "HTMLModel",
            "_view_count": null,
            "_view_module": "@jupyter-widgets/controls",
            "_view_module_version": "1.5.0",
            "_view_name": "HTMLView",
            "description": "",
            "description_tooltip": null,
            "layout": "IPY_MODEL_40e2c911e78e445091e6da783d32479e",
            "placeholder": "​",
            "style": "IPY_MODEL_6db7bc7068744316833d5155c6462675",
            "value": " 369M/369M [00:04&lt;00:00, 71.9MB/s]"
          }
        },
        "e0a6f31e7e8a4c1fa05158ef4870d8d0": {
          "model_module": "@jupyter-widgets/base",
          "model_name": "LayoutModel",
          "model_module_version": "1.2.0",
          "state": {
            "_model_module": "@jupyter-widgets/base",
            "_model_module_version": "1.2.0",
            "_model_name": "LayoutModel",
            "_view_count": null,
            "_view_module": "@jupyter-widgets/base",
            "_view_module_version": "1.2.0",
            "_view_name": "LayoutView",
            "align_content": null,
            "align_items": null,
            "align_self": null,
            "border": null,
            "bottom": null,
            "display": null,
            "flex": null,
            "flex_flow": null,
            "grid_area": null,
            "grid_auto_columns": null,
            "grid_auto_flow": null,
            "grid_auto_rows": null,
            "grid_column": null,
            "grid_gap": null,
            "grid_row": null,
            "grid_template_areas": null,
            "grid_template_columns": null,
            "grid_template_rows": null,
            "height": null,
            "justify_content": null,
            "justify_items": null,
            "left": null,
            "margin": null,
            "max_height": null,
            "max_width": null,
            "min_height": null,
            "min_width": null,
            "object_fit": null,
            "object_position": null,
            "order": null,
            "overflow": null,
            "overflow_x": null,
            "overflow_y": null,
            "padding": null,
            "right": null,
            "top": null,
            "visibility": null,
            "width": null
          }
        },
        "e6603a27d2fa4abcbce90d2f82c032c8": {
          "model_module": "@jupyter-widgets/base",
          "model_name": "LayoutModel",
          "model_module_version": "1.2.0",
          "state": {
            "_model_module": "@jupyter-widgets/base",
            "_model_module_version": "1.2.0",
            "_model_name": "LayoutModel",
            "_view_count": null,
            "_view_module": "@jupyter-widgets/base",
            "_view_module_version": "1.2.0",
            "_view_name": "LayoutView",
            "align_content": null,
            "align_items": null,
            "align_self": null,
            "border": null,
            "bottom": null,
            "display": null,
            "flex": null,
            "flex_flow": null,
            "grid_area": null,
            "grid_auto_columns": null,
            "grid_auto_flow": null,
            "grid_auto_rows": null,
            "grid_column": null,
            "grid_gap": null,
            "grid_row": null,
            "grid_template_areas": null,
            "grid_template_columns": null,
            "grid_template_rows": null,
            "height": null,
            "justify_content": null,
            "justify_items": null,
            "left": null,
            "margin": null,
            "max_height": null,
            "max_width": null,
            "min_height": null,
            "min_width": null,
            "object_fit": null,
            "object_position": null,
            "order": null,
            "overflow": null,
            "overflow_x": null,
            "overflow_y": null,
            "padding": null,
            "right": null,
            "top": null,
            "visibility": null,
            "width": null
          }
        },
        "c3ab631856884c98953ece8676d5a0e1": {
          "model_module": "@jupyter-widgets/controls",
          "model_name": "DescriptionStyleModel",
          "model_module_version": "1.5.0",
          "state": {
            "_model_module": "@jupyter-widgets/controls",
            "_model_module_version": "1.5.0",
            "_model_name": "DescriptionStyleModel",
            "_view_count": null,
            "_view_module": "@jupyter-widgets/base",
            "_view_module_version": "1.2.0",
            "_view_name": "StyleView",
            "description_width": ""
          }
        },
        "164b68bd60ad4359a1442010f25db7d2": {
          "model_module": "@jupyter-widgets/base",
          "model_name": "LayoutModel",
          "model_module_version": "1.2.0",
          "state": {
            "_model_module": "@jupyter-widgets/base",
            "_model_module_version": "1.2.0",
            "_model_name": "LayoutModel",
            "_view_count": null,
            "_view_module": "@jupyter-widgets/base",
            "_view_module_version": "1.2.0",
            "_view_name": "LayoutView",
            "align_content": null,
            "align_items": null,
            "align_self": null,
            "border": null,
            "bottom": null,
            "display": null,
            "flex": null,
            "flex_flow": null,
            "grid_area": null,
            "grid_auto_columns": null,
            "grid_auto_flow": null,
            "grid_auto_rows": null,
            "grid_column": null,
            "grid_gap": null,
            "grid_row": null,
            "grid_template_areas": null,
            "grid_template_columns": null,
            "grid_template_rows": null,
            "height": null,
            "justify_content": null,
            "justify_items": null,
            "left": null,
            "margin": null,
            "max_height": null,
            "max_width": null,
            "min_height": null,
            "min_width": null,
            "object_fit": null,
            "object_position": null,
            "order": null,
            "overflow": null,
            "overflow_x": null,
            "overflow_y": null,
            "padding": null,
            "right": null,
            "top": null,
            "visibility": null,
            "width": null
          }
        },
        "488dddcf953248078f9a1adf7181cfea": {
          "model_module": "@jupyter-widgets/controls",
          "model_name": "ProgressStyleModel",
          "model_module_version": "1.5.0",
          "state": {
            "_model_module": "@jupyter-widgets/controls",
            "_model_module_version": "1.5.0",
            "_model_name": "ProgressStyleModel",
            "_view_count": null,
            "_view_module": "@jupyter-widgets/base",
            "_view_module_version": "1.2.0",
            "_view_name": "StyleView",
            "bar_color": null,
            "description_width": ""
          }
        },
        "40e2c911e78e445091e6da783d32479e": {
          "model_module": "@jupyter-widgets/base",
          "model_name": "LayoutModel",
          "model_module_version": "1.2.0",
          "state": {
            "_model_module": "@jupyter-widgets/base",
            "_model_module_version": "1.2.0",
            "_model_name": "LayoutModel",
            "_view_count": null,
            "_view_module": "@jupyter-widgets/base",
            "_view_module_version": "1.2.0",
            "_view_name": "LayoutView",
            "align_content": null,
            "align_items": null,
            "align_self": null,
            "border": null,
            "bottom": null,
            "display": null,
            "flex": null,
            "flex_flow": null,
            "grid_area": null,
            "grid_auto_columns": null,
            "grid_auto_flow": null,
            "grid_auto_rows": null,
            "grid_column": null,
            "grid_gap": null,
            "grid_row": null,
            "grid_template_areas": null,
            "grid_template_columns": null,
            "grid_template_rows": null,
            "height": null,
            "justify_content": null,
            "justify_items": null,
            "left": null,
            "margin": null,
            "max_height": null,
            "max_width": null,
            "min_height": null,
            "min_width": null,
            "object_fit": null,
            "object_position": null,
            "order": null,
            "overflow": null,
            "overflow_x": null,
            "overflow_y": null,
            "padding": null,
            "right": null,
            "top": null,
            "visibility": null,
            "width": null
          }
        },
        "6db7bc7068744316833d5155c6462675": {
          "model_module": "@jupyter-widgets/controls",
          "model_name": "DescriptionStyleModel",
          "model_module_version": "1.5.0",
          "state": {
            "_model_module": "@jupyter-widgets/controls",
            "_model_module_version": "1.5.0",
            "_model_name": "DescriptionStyleModel",
            "_view_count": null,
            "_view_module": "@jupyter-widgets/base",
            "_view_module_version": "1.2.0",
            "_view_name": "StyleView",
            "description_width": ""
          }
        },
        "dc5563a370da40ea88298fd999063ccb": {
          "model_module": "@jupyter-widgets/output",
          "model_name": "OutputModel",
          "model_module_version": "1.0.0",
          "state": {
            "_dom_classes": [],
            "_model_module": "@jupyter-widgets/output",
            "_model_module_version": "1.0.0",
            "_model_name": "OutputModel",
            "_view_count": null,
            "_view_module": "@jupyter-widgets/output",
            "_view_module_version": "1.0.0",
            "_view_name": "OutputView",
            "layout": "IPY_MODEL_b36c6294e2544334ae1d83d2054bbd6b",
            "msg_id": "",
            "outputs": [
              {
                "output_type": "display_data",
                "data": {
                  "text/plain": "Working... \u001b[38;2;114;156;31m━━━━━━━━━━━━━━━━━━━━━━━━━━━━━━━━━━━━━━━━\u001b[0m \u001b[35m100%\u001b[0m \u001b[33m0:16:55\u001b[0m\n",
                  "text/html": "<pre style=\"white-space:pre;overflow-x:auto;line-height:normal;font-family:Menlo,'DejaVu Sans Mono',consolas,'Courier New',monospace\">Working... <span style=\"color: #729c1f; text-decoration-color: #729c1f\">━━━━━━━━━━━━━━━━━━━━━━━━━━━━━━━━━━━━━━━━</span> <span style=\"color: #800080; text-decoration-color: #800080\">100%</span> <span style=\"color: #808000; text-decoration-color: #808000\">0:16:55</span>\n</pre>\n"
                },
                "metadata": {}
              }
            ]
          }
        },
        "b36c6294e2544334ae1d83d2054bbd6b": {
          "model_module": "@jupyter-widgets/base",
          "model_name": "LayoutModel",
          "model_module_version": "1.2.0",
          "state": {
            "_model_module": "@jupyter-widgets/base",
            "_model_module_version": "1.2.0",
            "_model_name": "LayoutModel",
            "_view_count": null,
            "_view_module": "@jupyter-widgets/base",
            "_view_module_version": "1.2.0",
            "_view_name": "LayoutView",
            "align_content": null,
            "align_items": null,
            "align_self": null,
            "border": null,
            "bottom": null,
            "display": null,
            "flex": null,
            "flex_flow": null,
            "grid_area": null,
            "grid_auto_columns": null,
            "grid_auto_flow": null,
            "grid_auto_rows": null,
            "grid_column": null,
            "grid_gap": null,
            "grid_row": null,
            "grid_template_areas": null,
            "grid_template_columns": null,
            "grid_template_rows": null,
            "height": null,
            "justify_content": null,
            "justify_items": null,
            "left": null,
            "margin": null,
            "max_height": null,
            "max_width": null,
            "min_height": null,
            "min_width": null,
            "object_fit": null,
            "object_position": null,
            "order": null,
            "overflow": null,
            "overflow_x": null,
            "overflow_y": null,
            "padding": null,
            "right": null,
            "top": null,
            "visibility": null,
            "width": null
          }
        },
        "0ff0dda2a31944f2ac52115e5e570d23": {
          "model_module": "@jupyter-widgets/output",
          "model_name": "OutputModel",
          "model_module_version": "1.0.0",
          "state": {
            "_dom_classes": [],
            "_model_module": "@jupyter-widgets/output",
            "_model_module_version": "1.0.0",
            "_model_name": "OutputModel",
            "_view_count": null,
            "_view_module": "@jupyter-widgets/output",
            "_view_module_version": "1.0.0",
            "_view_name": "OutputView",
            "layout": "IPY_MODEL_a8d0f8f3b266423abfd4ac867af6b9e6",
            "msg_id": "",
            "outputs": [
              {
                "output_type": "display_data",
                "data": {
                  "text/plain": "Working... \u001b[38;2;114;156;31m━━━━━━━━━━━━━━━━━━━━━━━━━━━━━━━━━━━━━━━━\u001b[0m \u001b[35m100%\u001b[0m \u001b[33m0:00:00\u001b[0m\n",
                  "text/html": "<pre style=\"white-space:pre;overflow-x:auto;line-height:normal;font-family:Menlo,'DejaVu Sans Mono',consolas,'Courier New',monospace\">Working... <span style=\"color: #729c1f; text-decoration-color: #729c1f\">━━━━━━━━━━━━━━━━━━━━━━━━━━━━━━━━━━━━━━━━</span> <span style=\"color: #800080; text-decoration-color: #800080\">100%</span> <span style=\"color: #808000; text-decoration-color: #808000\">0:00:00</span>\n</pre>\n"
                },
                "metadata": {}
              }
            ]
          }
        },
        "a8d0f8f3b266423abfd4ac867af6b9e6": {
          "model_module": "@jupyter-widgets/base",
          "model_name": "LayoutModel",
          "model_module_version": "1.2.0",
          "state": {
            "_model_module": "@jupyter-widgets/base",
            "_model_module_version": "1.2.0",
            "_model_name": "LayoutModel",
            "_view_count": null,
            "_view_module": "@jupyter-widgets/base",
            "_view_module_version": "1.2.0",
            "_view_name": "LayoutView",
            "align_content": null,
            "align_items": null,
            "align_self": null,
            "border": null,
            "bottom": null,
            "display": null,
            "flex": null,
            "flex_flow": null,
            "grid_area": null,
            "grid_auto_columns": null,
            "grid_auto_flow": null,
            "grid_auto_rows": null,
            "grid_column": null,
            "grid_gap": null,
            "grid_row": null,
            "grid_template_areas": null,
            "grid_template_columns": null,
            "grid_template_rows": null,
            "height": null,
            "justify_content": null,
            "justify_items": null,
            "left": null,
            "margin": null,
            "max_height": null,
            "max_width": null,
            "min_height": null,
            "min_width": null,
            "object_fit": null,
            "object_position": null,
            "order": null,
            "overflow": null,
            "overflow_x": null,
            "overflow_y": null,
            "padding": null,
            "right": null,
            "top": null,
            "visibility": null,
            "width": null
          }
        },
        "142ab7ff5ab04a7cb69cee3f29de3333": {
          "model_module": "@jupyter-widgets/output",
          "model_name": "OutputModel",
          "model_module_version": "1.0.0",
          "state": {
            "_dom_classes": [],
            "_model_module": "@jupyter-widgets/output",
            "_model_module_version": "1.0.0",
            "_model_name": "OutputModel",
            "_view_count": null,
            "_view_module": "@jupyter-widgets/output",
            "_view_module_version": "1.0.0",
            "_view_name": "OutputView",
            "layout": "IPY_MODEL_9665172b9e7849d8b55b26b9b3e6abc8",
            "msg_id": "",
            "outputs": [
              {
                "output_type": "display_data",
                "data": {
                  "text/plain": "Working... \u001b[38;2;114;156;31m━━━━━━━━━━━━━━━━━━━━━━━━━━━━━━━━━━━━━━━━\u001b[0m \u001b[35m100%\u001b[0m \u001b[33m0:00:00\u001b[0m\n",
                  "text/html": "<pre style=\"white-space:pre;overflow-x:auto;line-height:normal;font-family:Menlo,'DejaVu Sans Mono',consolas,'Courier New',monospace\">Working... <span style=\"color: #729c1f; text-decoration-color: #729c1f\">━━━━━━━━━━━━━━━━━━━━━━━━━━━━━━━━━━━━━━━━</span> <span style=\"color: #800080; text-decoration-color: #800080\">100%</span> <span style=\"color: #808000; text-decoration-color: #808000\">0:00:00</span>\n</pre>\n"
                },
                "metadata": {}
              }
            ]
          }
        },
        "9665172b9e7849d8b55b26b9b3e6abc8": {
          "model_module": "@jupyter-widgets/base",
          "model_name": "LayoutModel",
          "model_module_version": "1.2.0",
          "state": {
            "_model_module": "@jupyter-widgets/base",
            "_model_module_version": "1.2.0",
            "_model_name": "LayoutModel",
            "_view_count": null,
            "_view_module": "@jupyter-widgets/base",
            "_view_module_version": "1.2.0",
            "_view_name": "LayoutView",
            "align_content": null,
            "align_items": null,
            "align_self": null,
            "border": null,
            "bottom": null,
            "display": null,
            "flex": null,
            "flex_flow": null,
            "grid_area": null,
            "grid_auto_columns": null,
            "grid_auto_flow": null,
            "grid_auto_rows": null,
            "grid_column": null,
            "grid_gap": null,
            "grid_row": null,
            "grid_template_areas": null,
            "grid_template_columns": null,
            "grid_template_rows": null,
            "height": null,
            "justify_content": null,
            "justify_items": null,
            "left": null,
            "margin": null,
            "max_height": null,
            "max_width": null,
            "min_height": null,
            "min_width": null,
            "object_fit": null,
            "object_position": null,
            "order": null,
            "overflow": null,
            "overflow_x": null,
            "overflow_y": null,
            "padding": null,
            "right": null,
            "top": null,
            "visibility": null,
            "width": null
          }
        },
        "6192b9ba6db147558ef35eaebacec6ae": {
          "model_module": "@jupyter-widgets/output",
          "model_name": "OutputModel",
          "model_module_version": "1.0.0",
          "state": {
            "_dom_classes": [],
            "_model_module": "@jupyter-widgets/output",
            "_model_module_version": "1.0.0",
            "_model_name": "OutputModel",
            "_view_count": null,
            "_view_module": "@jupyter-widgets/output",
            "_view_module_version": "1.0.0",
            "_view_name": "OutputView",
            "layout": "IPY_MODEL_3337537c8aa44276a8b29653ce38e522",
            "msg_id": "",
            "outputs": [
              {
                "output_type": "display_data",
                "data": {
                  "text/plain": "Working... \u001b[38;2;114;156;31m━━━━━━━━━━━━━━━━━━━━━━━━━━━━━━━━━━━━━━━━\u001b[0m \u001b[35m100%\u001b[0m \u001b[33m0:04:13\u001b[0m\n",
                  "text/html": "<pre style=\"white-space:pre;overflow-x:auto;line-height:normal;font-family:Menlo,'DejaVu Sans Mono',consolas,'Courier New',monospace\">Working... <span style=\"color: #729c1f; text-decoration-color: #729c1f\">━━━━━━━━━━━━━━━━━━━━━━━━━━━━━━━━━━━━━━━━</span> <span style=\"color: #800080; text-decoration-color: #800080\">100%</span> <span style=\"color: #808000; text-decoration-color: #808000\">0:04:13</span>\n</pre>\n"
                },
                "metadata": {}
              }
            ]
          }
        },
        "3337537c8aa44276a8b29653ce38e522": {
          "model_module": "@jupyter-widgets/base",
          "model_name": "LayoutModel",
          "model_module_version": "1.2.0",
          "state": {
            "_model_module": "@jupyter-widgets/base",
            "_model_module_version": "1.2.0",
            "_model_name": "LayoutModel",
            "_view_count": null,
            "_view_module": "@jupyter-widgets/base",
            "_view_module_version": "1.2.0",
            "_view_name": "LayoutView",
            "align_content": null,
            "align_items": null,
            "align_self": null,
            "border": null,
            "bottom": null,
            "display": null,
            "flex": null,
            "flex_flow": null,
            "grid_area": null,
            "grid_auto_columns": null,
            "grid_auto_flow": null,
            "grid_auto_rows": null,
            "grid_column": null,
            "grid_gap": null,
            "grid_row": null,
            "grid_template_areas": null,
            "grid_template_columns": null,
            "grid_template_rows": null,
            "height": null,
            "justify_content": null,
            "justify_items": null,
            "left": null,
            "margin": null,
            "max_height": null,
            "max_width": null,
            "min_height": null,
            "min_width": null,
            "object_fit": null,
            "object_position": null,
            "order": null,
            "overflow": null,
            "overflow_x": null,
            "overflow_y": null,
            "padding": null,
            "right": null,
            "top": null,
            "visibility": null,
            "width": null
          }
        }
      }
    }
  },
  "cells": [
    {
      "cell_type": "markdown",
      "source": [
        "# KoBert feature matching : food typos to right food name"
      ],
      "metadata": {
        "id": "tVqOKgbyJKPS"
      }
    },
    {
      "cell_type": "markdown",
      "source": [
        "# Install KoBERT to colab"
      ],
      "metadata": {
        "id": "PUjK1Dn5PZgu"
      }
    },
    {
      "cell_type": "code",
      "execution_count": 1,
      "metadata": {
        "colab": {
          "base_uri": "https://localhost:8080/"
        },
        "id": "fFfx4CfuJIoZ",
        "outputId": "4dfa89b4-7e9f-43be-9da2-fcee6182349b"
      },
      "outputs": [
        {
          "output_type": "stream",
          "name": "stdout",
          "text": [
            "Collecting gluonnlp\n",
            "  Downloading gluonnlp-0.10.0.tar.gz (344 kB)\n",
            "\u001b[2K     \u001b[90m━━━━━━━━━━━━━━━━━━━━━━━━━━━━━━━━━━━━━━━\u001b[0m \u001b[32m344.5/344.5 kB\u001b[0m \u001b[31m5.0 MB/s\u001b[0m eta \u001b[36m0:00:00\u001b[0m\n",
            "\u001b[?25h  Preparing metadata (setup.py) ... \u001b[?25l\u001b[?25hdone\n",
            "Requirement already satisfied: pandas in /usr/local/lib/python3.10/dist-packages (1.5.3)\n",
            "Requirement already satisfied: tqdm in /usr/local/lib/python3.10/dist-packages (4.66.1)\n",
            "Requirement already satisfied: numpy>=1.16.0 in /usr/local/lib/python3.10/dist-packages (from gluonnlp) (1.23.5)\n",
            "Requirement already satisfied: cython in /usr/local/lib/python3.10/dist-packages (from gluonnlp) (3.0.2)\n",
            "Requirement already satisfied: packaging in /usr/local/lib/python3.10/dist-packages (from gluonnlp) (23.1)\n",
            "Requirement already satisfied: python-dateutil>=2.8.1 in /usr/local/lib/python3.10/dist-packages (from pandas) (2.8.2)\n",
            "Requirement already satisfied: pytz>=2020.1 in /usr/local/lib/python3.10/dist-packages (from pandas) (2023.3.post1)\n",
            "Requirement already satisfied: six>=1.5 in /usr/local/lib/python3.10/dist-packages (from python-dateutil>=2.8.1->pandas) (1.16.0)\n",
            "Building wheels for collected packages: gluonnlp\n",
            "  Building wheel for gluonnlp (setup.py) ... \u001b[?25l\u001b[?25hdone\n",
            "  Created wheel for gluonnlp: filename=gluonnlp-0.10.0-cp310-cp310-linux_x86_64.whl size=665003 sha256=0fb352304c5c52c200840017afb4ce134417ae1acb8b6ee0dae2674d8b48d079\n",
            "  Stored in directory: /root/.cache/pip/wheels/1a/1e/0d/99f55911d90f2b95b9f7c176d5813ef3622894a4b30fde6bd3\n",
            "Successfully built gluonnlp\n",
            "Installing collected packages: gluonnlp\n",
            "Successfully installed gluonnlp-0.10.0\n",
            "Collecting mxnet\n",
            "  Downloading mxnet-1.9.1-py3-none-manylinux2014_x86_64.whl (49.1 MB)\n",
            "\u001b[2K     \u001b[90m━━━━━━━━━━━━━━━━━━━━━━━━━━━━━━━━━━━━━━━━\u001b[0m \u001b[32m49.1/49.1 MB\u001b[0m \u001b[31m38.3 MB/s\u001b[0m eta \u001b[36m0:00:00\u001b[0m\n",
            "\u001b[?25hRequirement already satisfied: numpy<2.0.0,>1.16.0 in /usr/local/lib/python3.10/dist-packages (from mxnet) (1.23.5)\n",
            "Requirement already satisfied: requests<3,>=2.20.0 in /usr/local/lib/python3.10/dist-packages (from mxnet) (2.31.0)\n",
            "Collecting graphviz<0.9.0,>=0.8.1 (from mxnet)\n",
            "  Downloading graphviz-0.8.4-py2.py3-none-any.whl (16 kB)\n",
            "Requirement already satisfied: charset-normalizer<4,>=2 in /usr/local/lib/python3.10/dist-packages (from requests<3,>=2.20.0->mxnet) (3.2.0)\n",
            "Requirement already satisfied: idna<4,>=2.5 in /usr/local/lib/python3.10/dist-packages (from requests<3,>=2.20.0->mxnet) (3.4)\n",
            "Requirement already satisfied: urllib3<3,>=1.21.1 in /usr/local/lib/python3.10/dist-packages (from requests<3,>=2.20.0->mxnet) (2.0.4)\n",
            "Requirement already satisfied: certifi>=2017.4.17 in /usr/local/lib/python3.10/dist-packages (from requests<3,>=2.20.0->mxnet) (2023.7.22)\n",
            "Installing collected packages: graphviz, mxnet\n",
            "  Attempting uninstall: graphviz\n",
            "    Found existing installation: graphviz 0.20.1\n",
            "    Uninstalling graphviz-0.20.1:\n",
            "      Successfully uninstalled graphviz-0.20.1\n",
            "Successfully installed graphviz-0.8.4 mxnet-1.9.1\n",
            "Collecting sentencepiece==0.1.96\n",
            "  Downloading sentencepiece-0.1.96-cp310-cp310-manylinux_2_17_x86_64.manylinux2014_x86_64.whl (1.2 MB)\n",
            "\u001b[2K     \u001b[90m━━━━━━━━━━━━━━━━━━━━━━━━━━━━━━━━━━━━━━━━\u001b[0m \u001b[32m1.2/1.2 MB\u001b[0m \u001b[31m13.6 MB/s\u001b[0m eta \u001b[36m0:00:00\u001b[0m\n",
            "\u001b[?25hInstalling collected packages: sentencepiece\n",
            "Successfully installed sentencepiece-0.1.96\n",
            "Collecting transformers\n",
            "  Downloading transformers-4.33.2-py3-none-any.whl (7.6 MB)\n",
            "\u001b[2K     \u001b[90m━━━━━━━━━━━━━━━━━━━━━━━━━━━━━━━━━━━━━━━━\u001b[0m \u001b[32m7.6/7.6 MB\u001b[0m \u001b[31m50.9 MB/s\u001b[0m eta \u001b[36m0:00:00\u001b[0m\n",
            "\u001b[?25hRequirement already satisfied: filelock in /usr/local/lib/python3.10/dist-packages (from transformers) (3.12.2)\n",
            "Collecting huggingface-hub<1.0,>=0.15.1 (from transformers)\n",
            "  Downloading huggingface_hub-0.17.2-py3-none-any.whl (294 kB)\n",
            "\u001b[2K     \u001b[90m━━━━━━━━━━━━━━━━━━━━━━━━━━━━━━━━━━━━━━\u001b[0m \u001b[32m294.9/294.9 kB\u001b[0m \u001b[31m28.7 MB/s\u001b[0m eta \u001b[36m0:00:00\u001b[0m\n",
            "\u001b[?25hRequirement already satisfied: numpy>=1.17 in /usr/local/lib/python3.10/dist-packages (from transformers) (1.23.5)\n",
            "Requirement already satisfied: packaging>=20.0 in /usr/local/lib/python3.10/dist-packages (from transformers) (23.1)\n",
            "Requirement already satisfied: pyyaml>=5.1 in /usr/local/lib/python3.10/dist-packages (from transformers) (6.0.1)\n",
            "Requirement already satisfied: regex!=2019.12.17 in /usr/local/lib/python3.10/dist-packages (from transformers) (2023.6.3)\n",
            "Requirement already satisfied: requests in /usr/local/lib/python3.10/dist-packages (from transformers) (2.31.0)\n",
            "Collecting tokenizers!=0.11.3,<0.14,>=0.11.1 (from transformers)\n",
            "  Downloading tokenizers-0.13.3-cp310-cp310-manylinux_2_17_x86_64.manylinux2014_x86_64.whl (7.8 MB)\n",
            "\u001b[2K     \u001b[90m━━━━━━━━━━━━━━━━━━━━━━━━━━━━━━━━━━━━━━━━\u001b[0m \u001b[32m7.8/7.8 MB\u001b[0m \u001b[31m106.7 MB/s\u001b[0m eta \u001b[36m0:00:00\u001b[0m\n",
            "\u001b[?25hCollecting safetensors>=0.3.1 (from transformers)\n",
            "  Downloading safetensors-0.3.3-cp310-cp310-manylinux_2_17_x86_64.manylinux2014_x86_64.whl (1.3 MB)\n",
            "\u001b[2K     \u001b[90m━━━━━━━━━━━━━━━━━━━━━━━━━━━━━━━━━━━━━━━━\u001b[0m \u001b[32m1.3/1.3 MB\u001b[0m \u001b[31m76.0 MB/s\u001b[0m eta \u001b[36m0:00:00\u001b[0m\n",
            "\u001b[?25hRequirement already satisfied: tqdm>=4.27 in /usr/local/lib/python3.10/dist-packages (from transformers) (4.66.1)\n",
            "Requirement already satisfied: fsspec in /usr/local/lib/python3.10/dist-packages (from huggingface-hub<1.0,>=0.15.1->transformers) (2023.6.0)\n",
            "Requirement already satisfied: typing-extensions>=3.7.4.3 in /usr/local/lib/python3.10/dist-packages (from huggingface-hub<1.0,>=0.15.1->transformers) (4.5.0)\n",
            "Requirement already satisfied: charset-normalizer<4,>=2 in /usr/local/lib/python3.10/dist-packages (from requests->transformers) (3.2.0)\n",
            "Requirement already satisfied: idna<4,>=2.5 in /usr/local/lib/python3.10/dist-packages (from requests->transformers) (3.4)\n",
            "Requirement already satisfied: urllib3<3,>=1.21.1 in /usr/local/lib/python3.10/dist-packages (from requests->transformers) (2.0.4)\n",
            "Requirement already satisfied: certifi>=2017.4.17 in /usr/local/lib/python3.10/dist-packages (from requests->transformers) (2023.7.22)\n",
            "Installing collected packages: tokenizers, safetensors, huggingface-hub, transformers\n",
            "Successfully installed huggingface-hub-0.17.2 safetensors-0.3.3 tokenizers-0.13.3 transformers-4.33.2\n",
            "Requirement already satisfied: torch in /usr/local/lib/python3.10/dist-packages (2.0.1+cu118)\n",
            "Requirement already satisfied: filelock in /usr/local/lib/python3.10/dist-packages (from torch) (3.12.2)\n",
            "Requirement already satisfied: typing-extensions in /usr/local/lib/python3.10/dist-packages (from torch) (4.5.0)\n",
            "Requirement already satisfied: sympy in /usr/local/lib/python3.10/dist-packages (from torch) (1.12)\n",
            "Requirement already satisfied: networkx in /usr/local/lib/python3.10/dist-packages (from torch) (3.1)\n",
            "Requirement already satisfied: jinja2 in /usr/local/lib/python3.10/dist-packages (from torch) (3.1.2)\n",
            "Requirement already satisfied: triton==2.0.0 in /usr/local/lib/python3.10/dist-packages (from torch) (2.0.0)\n",
            "Requirement already satisfied: cmake in /usr/local/lib/python3.10/dist-packages (from triton==2.0.0->torch) (3.27.4.1)\n",
            "Requirement already satisfied: lit in /usr/local/lib/python3.10/dist-packages (from triton==2.0.0->torch) (16.0.6)\n",
            "Requirement already satisfied: MarkupSafe>=2.0 in /usr/local/lib/python3.10/dist-packages (from jinja2->torch) (2.1.3)\n",
            "Requirement already satisfied: mpmath>=0.19 in /usr/local/lib/python3.10/dist-packages (from sympy->torch) (1.3.0)\n"
          ]
        }
      ],
      "source": [
        "# Colab 환경 설정\n",
        "# requirements : https://github.com/SKTBrain/KoBERT/blob/master/kobert_hf/requirements.txt\n",
        "!pip install gluonnlp pandas tqdm\n",
        "!pip install mxnet\n",
        "!pip install sentencepiece==0.1.96\n",
        "!pip install transformers\n",
        "!pip install torch"
      ]
    },
    {
      "cell_type": "code",
      "source": [
        "!pip install rich"
      ],
      "metadata": {
        "colab": {
          "base_uri": "https://localhost:8080/"
        },
        "id": "nq9zl2nFUP5g",
        "outputId": "838e2c20-589a-4092-e5f3-515e324b89b6"
      },
      "execution_count": 2,
      "outputs": [
        {
          "output_type": "stream",
          "name": "stdout",
          "text": [
            "Requirement already satisfied: rich in /usr/local/lib/python3.10/dist-packages (13.5.2)\n",
            "Requirement already satisfied: markdown-it-py>=2.2.0 in /usr/local/lib/python3.10/dist-packages (from rich) (3.0.0)\n",
            "Requirement already satisfied: pygments<3.0.0,>=2.13.0 in /usr/local/lib/python3.10/dist-packages (from rich) (2.16.1)\n",
            "Requirement already satisfied: mdurl~=0.1 in /usr/local/lib/python3.10/dist-packages (from markdown-it-py>=2.2.0->rich) (0.1.2)\n"
          ]
        }
      ]
    },
    {
      "cell_type": "code",
      "source": [
        "!pip install 'git+https://github.com/SKTBrain/KoBERT.git#egg=kobert_tokenizer&subdirectory=kobert_hf'"
      ],
      "metadata": {
        "colab": {
          "base_uri": "https://localhost:8080/"
        },
        "id": "EtHJaZ_cORBp",
        "outputId": "72fefa4d-f2c4-492f-df75-d22727e83d73"
      },
      "execution_count": 3,
      "outputs": [
        {
          "output_type": "stream",
          "name": "stdout",
          "text": [
            "Collecting kobert_tokenizer\n",
            "  Cloning https://github.com/SKTBrain/KoBERT.git to /tmp/pip-install-ndbk97s2/kobert-tokenizer_f0d2e3a1725849c3ac858eecd8867946\n",
            "  Running command git clone --filter=blob:none --quiet https://github.com/SKTBrain/KoBERT.git /tmp/pip-install-ndbk97s2/kobert-tokenizer_f0d2e3a1725849c3ac858eecd8867946\n",
            "  Resolved https://github.com/SKTBrain/KoBERT.git to commit 47a69af87928fc24e20f571fe10c3cc9dd9af9a3\n",
            "  Preparing metadata (setup.py) ... \u001b[?25l\u001b[?25hdone\n",
            "Building wheels for collected packages: kobert_tokenizer\n",
            "  Building wheel for kobert_tokenizer (setup.py) ... \u001b[?25l\u001b[?25hdone\n",
            "  Created wheel for kobert_tokenizer: filename=kobert_tokenizer-0.1-py3-none-any.whl size=4633 sha256=aa741f2377a157b5dcea6c0ba7714c9d619f429837b907c76cde8541de00afd3\n",
            "  Stored in directory: /tmp/pip-ephem-wheel-cache-rv8qq5_u/wheels/e9/1a/3f/a864970e8a169c176befa3c4a1e07aa612f69195907a4045fe\n",
            "Successfully built kobert_tokenizer\n",
            "Installing collected packages: kobert_tokenizer\n",
            "Successfully installed kobert_tokenizer-0.1\n"
          ]
        }
      ]
    },
    {
      "cell_type": "markdown",
      "source": [
        "# setting"
      ],
      "metadata": {
        "id": "oK-gfMy3PdOq"
      }
    },
    {
      "cell_type": "markdown",
      "source": [
        "## Library"
      ],
      "metadata": {
        "id": "R7EZ_PTUSty2"
      }
    },
    {
      "cell_type": "code",
      "source": [
        "import json\n",
        "import numpy as np\n",
        "import pandas as pd\n",
        "import tensorflow as tf\n",
        "from transformers import BertModel\n",
        "from kobert_tokenizer import KoBERTTokenizer\n",
        "import torch\n",
        "\n",
        "from rich.progress import track"
      ],
      "metadata": {
        "id": "bnRKrq4XJWKl"
      },
      "execution_count": 4,
      "outputs": []
    },
    {
      "cell_type": "code",
      "source": [
        "tokenizer = KoBERTTokenizer.from_pretrained('skt/kobert-base-v1')\n",
        "bert_model = BertModel.from_pretrained('skt/kobert-base-v1')"
      ],
      "metadata": {
        "colab": {
          "base_uri": "https://localhost:8080/",
          "height": 231,
          "referenced_widgets": [
            "244243e761764474a789fd041ef3c06e",
            "6829bba5bc6e4685a4f9ba6abfafdc91",
            "8b2b1cf9731140489483bf6a77aa832e",
            "356e78bb4a7f4218beafe6af24701ac8",
            "ac387bccccac480e87ba3a1bfd088bf0",
            "6df7e80fe7dc48a98902f5d26ce67a9b",
            "35dfdbf765114c92bb2219fbf2cf9001",
            "4659ab85afd4447c800f83c900a3b355",
            "9f4b30794f6f4927a3e67a0d09e2ea8d",
            "645668af5bf74a128dbb38be42d505ad",
            "a1c28ca8f05b42b3b259a293c1fc2e15",
            "4a9f1708d7944313a1ac95e64c194b27",
            "3244899c5aa94d4f881e612ec4402632",
            "47b95817a19d4ea8bd98eba5a28f7d85",
            "8944694f3e604fbdbe6431d35ce76988",
            "4f96f9ed1462471d930f0f167beb9023",
            "acd8777f569e4388ae03859fb2867cc8",
            "426478facb1c4a00b713540c405e3bca",
            "e68866c879ec4be2acf1fb78bad80c6f",
            "c8d3fa848be64fc392433ebab9095e99",
            "b7e437d8f45a46ba8a3264c38415d50d",
            "6c68098615c545af83ffb7f2dbb5c279",
            "f14e875030c34d0f82a36b4ad523ecd2",
            "57382eb68575437a90329f2ee9cbe54a",
            "d2d2c9ec55e3449ba048c66919216c2b",
            "621e6d991df84d659aedd9ed9b534cd5",
            "db5a74258df74ce2b0afd4301733ff67",
            "c97a2742edc543f69400e87ee4375191",
            "2b73d12160264c23b608b5883fa2724c",
            "1ed411e91fc64fbd8a4423880a2fa458",
            "75ad3d1bb528409e96c8a8a7f93344c0",
            "f5af703c328e42f5988d7b3ef90f8306",
            "795d67fbe9ec4928ad4944a810176781",
            "5c54bf417d454604a4b0200f8858043e",
            "12270956143448fd9fc1dd6595717531",
            "5ecd9599e7544ff2b396f078a9882b27",
            "80db545e0bb041f2b576deb41c188cb3",
            "7f541781bea048e79a299a30aadc3216",
            "c132cd208fa84cecb2a49900bbe53191",
            "8a6d8a974fd549bdb42a3f292ffbc28c",
            "90119e09461d4fc09ea4c48bf7242f66",
            "11296e5a0c4a4cc986422bb46b1d5303",
            "354f07298b9e47848640460bef69132c",
            "c16537ade5174c659839395a7933df91",
            "56d092252df244a788295b5ba8ee0644",
            "9e8b53debcca4e5bbc3a1b4de53e9246",
            "3b6c7bffec3a41268d89c6afa7be3fb4",
            "fb4258596afd4fdc8b43cfb47629ace7",
            "e0a6f31e7e8a4c1fa05158ef4870d8d0",
            "e6603a27d2fa4abcbce90d2f82c032c8",
            "c3ab631856884c98953ece8676d5a0e1",
            "164b68bd60ad4359a1442010f25db7d2",
            "488dddcf953248078f9a1adf7181cfea",
            "40e2c911e78e445091e6da783d32479e",
            "6db7bc7068744316833d5155c6462675"
          ]
        },
        "id": "LmjO8ucYLbuM",
        "outputId": "2fc079f6-6b40-4915-a99f-12efaf5bbaaa"
      },
      "execution_count": 5,
      "outputs": [
        {
          "output_type": "display_data",
          "data": {
            "text/plain": [
              "Downloading (…)ve/main/spiece.model:   0%|          | 0.00/371k [00:00<?, ?B/s]"
            ],
            "application/vnd.jupyter.widget-view+json": {
              "version_major": 2,
              "version_minor": 0,
              "model_id": "244243e761764474a789fd041ef3c06e"
            }
          },
          "metadata": {}
        },
        {
          "output_type": "display_data",
          "data": {
            "text/plain": [
              "Downloading (…)cial_tokens_map.json:   0%|          | 0.00/244 [00:00<?, ?B/s]"
            ],
            "application/vnd.jupyter.widget-view+json": {
              "version_major": 2,
              "version_minor": 0,
              "model_id": "4a9f1708d7944313a1ac95e64c194b27"
            }
          },
          "metadata": {}
        },
        {
          "output_type": "display_data",
          "data": {
            "text/plain": [
              "Downloading (…)okenizer_config.json:   0%|          | 0.00/432 [00:00<?, ?B/s]"
            ],
            "application/vnd.jupyter.widget-view+json": {
              "version_major": 2,
              "version_minor": 0,
              "model_id": "f14e875030c34d0f82a36b4ad523ecd2"
            }
          },
          "metadata": {}
        },
        {
          "output_type": "stream",
          "name": "stderr",
          "text": [
            "The tokenizer class you load from this checkpoint is not the same type as the class this function is called from. It may result in unexpected tokenization. \n",
            "The tokenizer class you load from this checkpoint is 'XLNetTokenizer'. \n",
            "The class this function is called from is 'KoBERTTokenizer'.\n"
          ]
        },
        {
          "output_type": "display_data",
          "data": {
            "text/plain": [
              "Downloading (…)lve/main/config.json:   0%|          | 0.00/535 [00:00<?, ?B/s]"
            ],
            "application/vnd.jupyter.widget-view+json": {
              "version_major": 2,
              "version_minor": 0,
              "model_id": "5c54bf417d454604a4b0200f8858043e"
            }
          },
          "metadata": {}
        },
        {
          "output_type": "display_data",
          "data": {
            "text/plain": [
              "Downloading pytorch_model.bin:   0%|          | 0.00/369M [00:00<?, ?B/s]"
            ],
            "application/vnd.jupyter.widget-view+json": {
              "version_major": 2,
              "version_minor": 0,
              "model_id": "56d092252df244a788295b5ba8ee0644"
            }
          },
          "metadata": {}
        }
      ]
    },
    {
      "cell_type": "code",
      "source": [
        "device = torch.device(\"cuda:0\")"
      ],
      "metadata": {
        "id": "vpizx7mkLbq3"
      },
      "execution_count": 6,
      "outputs": []
    },
    {
      "cell_type": "markdown",
      "source": [
        "## Load data"
      ],
      "metadata": {
        "id": "o6n1C2_ySv2G"
      }
    },
    {
      "cell_type": "code",
      "source": [
        "from google.colab import drive\n",
        "drive.mount('/gdrive')"
      ],
      "metadata": {
        "id": "mGVYYtp8Lbny",
        "colab": {
          "base_uri": "https://localhost:8080/"
        },
        "outputId": "1a9f994c-f530-4c2e-d76a-f5920aa2becb"
      },
      "execution_count": 7,
      "outputs": [
        {
          "output_type": "stream",
          "name": "stdout",
          "text": [
            "Mounted at /gdrive\n"
          ]
        }
      ]
    },
    {
      "cell_type": "code",
      "source": [
        "!cp /gdrive/MyDrive/NLP/food_aging_test.csv ./\n",
        "!cp /gdrive/MyDrive/NLP/food_aging_train.csv ./\n",
        "!cp /gdrive/MyDrive/NLP/food_nutrient_final.csv ./"
      ],
      "metadata": {
        "id": "wdZ33cAaSFwq"
      },
      "execution_count": 19,
      "outputs": []
    },
    {
      "cell_type": "code",
      "source": [
        "food_train = pd.read_csv('food_aging_train.csv')\n",
        "food_test = pd.read_csv('food_aging_test.csv')\n",
        "food_nutrient_info = pd.read_csv('food_nutrient_final.csv')"
      ],
      "metadata": {
        "id": "BI3wE6x5SV5i"
      },
      "execution_count": 20,
      "outputs": []
    },
    {
      "cell_type": "code",
      "source": [
        "food_train.head()"
      ],
      "metadata": {
        "colab": {
          "base_uri": "https://localhost:8080/",
          "height": 206
        },
        "id": "bKXW6_k9Sju-",
        "outputId": "54689db6-a0f9-40aa-f634-a023e2c04447"
      },
      "execution_count": 21,
      "outputs": [
        {
          "output_type": "execute_result",
          "data": {
            "text/plain": [
              "        식품명    식품오타              food_line\n",
              "0        호떡      하떡            하떡<input>호떡\n",
              "1  달걀찜(새우젓)  새우젓계란찜  새우젓계란찜<input>달걀찜(새우젓)\n",
              "2     오징어덮밥   오징이덥밥      오징이덥밥<input>오징어덮밥\n",
              "3     참나물무침     참나물        참나물<input>참나물무침\n",
              "4  크림소스스파게티  크림스파게티  크림스파게티<input>크림소스스파게티"
            ],
            "text/html": [
              "\n",
              "  <div id=\"df-96602aa9-f60b-41fb-9fc5-81cf3115b754\" class=\"colab-df-container\">\n",
              "    <div>\n",
              "<style scoped>\n",
              "    .dataframe tbody tr th:only-of-type {\n",
              "        vertical-align: middle;\n",
              "    }\n",
              "\n",
              "    .dataframe tbody tr th {\n",
              "        vertical-align: top;\n",
              "    }\n",
              "\n",
              "    .dataframe thead th {\n",
              "        text-align: right;\n",
              "    }\n",
              "</style>\n",
              "<table border=\"1\" class=\"dataframe\">\n",
              "  <thead>\n",
              "    <tr style=\"text-align: right;\">\n",
              "      <th></th>\n",
              "      <th>식품명</th>\n",
              "      <th>식품오타</th>\n",
              "      <th>food_line</th>\n",
              "    </tr>\n",
              "  </thead>\n",
              "  <tbody>\n",
              "    <tr>\n",
              "      <th>0</th>\n",
              "      <td>호떡</td>\n",
              "      <td>하떡</td>\n",
              "      <td>하떡&lt;input&gt;호떡</td>\n",
              "    </tr>\n",
              "    <tr>\n",
              "      <th>1</th>\n",
              "      <td>달걀찜(새우젓)</td>\n",
              "      <td>새우젓계란찜</td>\n",
              "      <td>새우젓계란찜&lt;input&gt;달걀찜(새우젓)</td>\n",
              "    </tr>\n",
              "    <tr>\n",
              "      <th>2</th>\n",
              "      <td>오징어덮밥</td>\n",
              "      <td>오징이덥밥</td>\n",
              "      <td>오징이덥밥&lt;input&gt;오징어덮밥</td>\n",
              "    </tr>\n",
              "    <tr>\n",
              "      <th>3</th>\n",
              "      <td>참나물무침</td>\n",
              "      <td>참나물</td>\n",
              "      <td>참나물&lt;input&gt;참나물무침</td>\n",
              "    </tr>\n",
              "    <tr>\n",
              "      <th>4</th>\n",
              "      <td>크림소스스파게티</td>\n",
              "      <td>크림스파게티</td>\n",
              "      <td>크림스파게티&lt;input&gt;크림소스스파게티</td>\n",
              "    </tr>\n",
              "  </tbody>\n",
              "</table>\n",
              "</div>\n",
              "    <div class=\"colab-df-buttons\">\n",
              "\n",
              "  <div class=\"colab-df-container\">\n",
              "    <button class=\"colab-df-convert\" onclick=\"convertToInteractive('df-96602aa9-f60b-41fb-9fc5-81cf3115b754')\"\n",
              "            title=\"Convert this dataframe to an interactive table.\"\n",
              "            style=\"display:none;\">\n",
              "\n",
              "  <svg xmlns=\"http://www.w3.org/2000/svg\" height=\"24px\" viewBox=\"0 -960 960 960\">\n",
              "    <path d=\"M120-120v-720h720v720H120Zm60-500h600v-160H180v160Zm220 220h160v-160H400v160Zm0 220h160v-160H400v160ZM180-400h160v-160H180v160Zm440 0h160v-160H620v160ZM180-180h160v-160H180v160Zm440 0h160v-160H620v160Z\"/>\n",
              "  </svg>\n",
              "    </button>\n",
              "\n",
              "  <style>\n",
              "    .colab-df-container {\n",
              "      display:flex;\n",
              "      gap: 12px;\n",
              "    }\n",
              "\n",
              "    .colab-df-convert {\n",
              "      background-color: #E8F0FE;\n",
              "      border: none;\n",
              "      border-radius: 50%;\n",
              "      cursor: pointer;\n",
              "      display: none;\n",
              "      fill: #1967D2;\n",
              "      height: 32px;\n",
              "      padding: 0 0 0 0;\n",
              "      width: 32px;\n",
              "    }\n",
              "\n",
              "    .colab-df-convert:hover {\n",
              "      background-color: #E2EBFA;\n",
              "      box-shadow: 0px 1px 2px rgba(60, 64, 67, 0.3), 0px 1px 3px 1px rgba(60, 64, 67, 0.15);\n",
              "      fill: #174EA6;\n",
              "    }\n",
              "\n",
              "    .colab-df-buttons div {\n",
              "      margin-bottom: 4px;\n",
              "    }\n",
              "\n",
              "    [theme=dark] .colab-df-convert {\n",
              "      background-color: #3B4455;\n",
              "      fill: #D2E3FC;\n",
              "    }\n",
              "\n",
              "    [theme=dark] .colab-df-convert:hover {\n",
              "      background-color: #434B5C;\n",
              "      box-shadow: 0px 1px 3px 1px rgba(0, 0, 0, 0.15);\n",
              "      filter: drop-shadow(0px 1px 2px rgba(0, 0, 0, 0.3));\n",
              "      fill: #FFFFFF;\n",
              "    }\n",
              "  </style>\n",
              "\n",
              "    <script>\n",
              "      const buttonEl =\n",
              "        document.querySelector('#df-96602aa9-f60b-41fb-9fc5-81cf3115b754 button.colab-df-convert');\n",
              "      buttonEl.style.display =\n",
              "        google.colab.kernel.accessAllowed ? 'block' : 'none';\n",
              "\n",
              "      async function convertToInteractive(key) {\n",
              "        const element = document.querySelector('#df-96602aa9-f60b-41fb-9fc5-81cf3115b754');\n",
              "        const dataTable =\n",
              "          await google.colab.kernel.invokeFunction('convertToInteractive',\n",
              "                                                    [key], {});\n",
              "        if (!dataTable) return;\n",
              "\n",
              "        const docLinkHtml = 'Like what you see? Visit the ' +\n",
              "          '<a target=\"_blank\" href=https://colab.research.google.com/notebooks/data_table.ipynb>data table notebook</a>'\n",
              "          + ' to learn more about interactive tables.';\n",
              "        element.innerHTML = '';\n",
              "        dataTable['output_type'] = 'display_data';\n",
              "        await google.colab.output.renderOutput(dataTable, element);\n",
              "        const docLink = document.createElement('div');\n",
              "        docLink.innerHTML = docLinkHtml;\n",
              "        element.appendChild(docLink);\n",
              "      }\n",
              "    </script>\n",
              "  </div>\n",
              "\n",
              "\n",
              "<div id=\"df-b29b639f-adca-423c-a80a-ba618fae9a13\">\n",
              "  <button class=\"colab-df-quickchart\" onclick=\"quickchart('df-b29b639f-adca-423c-a80a-ba618fae9a13')\"\n",
              "            title=\"Suggest charts.\"\n",
              "            style=\"display:none;\">\n",
              "\n",
              "<svg xmlns=\"http://www.w3.org/2000/svg\" height=\"24px\"viewBox=\"0 0 24 24\"\n",
              "     width=\"24px\">\n",
              "    <g>\n",
              "        <path d=\"M19 3H5c-1.1 0-2 .9-2 2v14c0 1.1.9 2 2 2h14c1.1 0 2-.9 2-2V5c0-1.1-.9-2-2-2zM9 17H7v-7h2v7zm4 0h-2V7h2v10zm4 0h-2v-4h2v4z\"/>\n",
              "    </g>\n",
              "</svg>\n",
              "  </button>\n",
              "\n",
              "<style>\n",
              "  .colab-df-quickchart {\n",
              "      --bg-color: #E8F0FE;\n",
              "      --fill-color: #1967D2;\n",
              "      --hover-bg-color: #E2EBFA;\n",
              "      --hover-fill-color: #174EA6;\n",
              "      --disabled-fill-color: #AAA;\n",
              "      --disabled-bg-color: #DDD;\n",
              "  }\n",
              "\n",
              "  [theme=dark] .colab-df-quickchart {\n",
              "      --bg-color: #3B4455;\n",
              "      --fill-color: #D2E3FC;\n",
              "      --hover-bg-color: #434B5C;\n",
              "      --hover-fill-color: #FFFFFF;\n",
              "      --disabled-bg-color: #3B4455;\n",
              "      --disabled-fill-color: #666;\n",
              "  }\n",
              "\n",
              "  .colab-df-quickchart {\n",
              "    background-color: var(--bg-color);\n",
              "    border: none;\n",
              "    border-radius: 50%;\n",
              "    cursor: pointer;\n",
              "    display: none;\n",
              "    fill: var(--fill-color);\n",
              "    height: 32px;\n",
              "    padding: 0;\n",
              "    width: 32px;\n",
              "  }\n",
              "\n",
              "  .colab-df-quickchart:hover {\n",
              "    background-color: var(--hover-bg-color);\n",
              "    box-shadow: 0 1px 2px rgba(60, 64, 67, 0.3), 0 1px 3px 1px rgba(60, 64, 67, 0.15);\n",
              "    fill: var(--button-hover-fill-color);\n",
              "  }\n",
              "\n",
              "  .colab-df-quickchart-complete:disabled,\n",
              "  .colab-df-quickchart-complete:disabled:hover {\n",
              "    background-color: var(--disabled-bg-color);\n",
              "    fill: var(--disabled-fill-color);\n",
              "    box-shadow: none;\n",
              "  }\n",
              "\n",
              "  .colab-df-spinner {\n",
              "    border: 2px solid var(--fill-color);\n",
              "    border-color: transparent;\n",
              "    border-bottom-color: var(--fill-color);\n",
              "    animation:\n",
              "      spin 1s steps(1) infinite;\n",
              "  }\n",
              "\n",
              "  @keyframes spin {\n",
              "    0% {\n",
              "      border-color: transparent;\n",
              "      border-bottom-color: var(--fill-color);\n",
              "      border-left-color: var(--fill-color);\n",
              "    }\n",
              "    20% {\n",
              "      border-color: transparent;\n",
              "      border-left-color: var(--fill-color);\n",
              "      border-top-color: var(--fill-color);\n",
              "    }\n",
              "    30% {\n",
              "      border-color: transparent;\n",
              "      border-left-color: var(--fill-color);\n",
              "      border-top-color: var(--fill-color);\n",
              "      border-right-color: var(--fill-color);\n",
              "    }\n",
              "    40% {\n",
              "      border-color: transparent;\n",
              "      border-right-color: var(--fill-color);\n",
              "      border-top-color: var(--fill-color);\n",
              "    }\n",
              "    60% {\n",
              "      border-color: transparent;\n",
              "      border-right-color: var(--fill-color);\n",
              "    }\n",
              "    80% {\n",
              "      border-color: transparent;\n",
              "      border-right-color: var(--fill-color);\n",
              "      border-bottom-color: var(--fill-color);\n",
              "    }\n",
              "    90% {\n",
              "      border-color: transparent;\n",
              "      border-bottom-color: var(--fill-color);\n",
              "    }\n",
              "  }\n",
              "</style>\n",
              "\n",
              "  <script>\n",
              "    async function quickchart(key) {\n",
              "      const quickchartButtonEl =\n",
              "        document.querySelector('#' + key + ' button');\n",
              "      quickchartButtonEl.disabled = true;  // To prevent multiple clicks.\n",
              "      quickchartButtonEl.classList.add('colab-df-spinner');\n",
              "      try {\n",
              "        const charts = await google.colab.kernel.invokeFunction(\n",
              "            'suggestCharts', [key], {});\n",
              "      } catch (error) {\n",
              "        console.error('Error during call to suggestCharts:', error);\n",
              "      }\n",
              "      quickchartButtonEl.classList.remove('colab-df-spinner');\n",
              "      quickchartButtonEl.classList.add('colab-df-quickchart-complete');\n",
              "    }\n",
              "    (() => {\n",
              "      let quickchartButtonEl =\n",
              "        document.querySelector('#df-b29b639f-adca-423c-a80a-ba618fae9a13 button');\n",
              "      quickchartButtonEl.style.display =\n",
              "        google.colab.kernel.accessAllowed ? 'block' : 'none';\n",
              "    })();\n",
              "  </script>\n",
              "</div>\n",
              "    </div>\n",
              "  </div>\n"
            ]
          },
          "metadata": {},
          "execution_count": 21
        }
      ]
    },
    {
      "cell_type": "code",
      "source": [
        "food_test.head()"
      ],
      "metadata": {
        "colab": {
          "base_uri": "https://localhost:8080/",
          "height": 206
        },
        "id": "pWedIcIxSnXV",
        "outputId": "50363d4b-9d43-44e8-a5c5-b7716030c4f1"
      },
      "execution_count": 22,
      "outputs": [
        {
          "output_type": "execute_result",
          "data": {
            "text/plain": [
              "      식품명    식품오타           test_input\n",
              "0  달래나물무침  다래나물무침  다래나물무침<input>다래나물무침\n",
              "1     깻잎찜     깬닙찜        깬닙찜<input>깬닙찜\n",
              "2   등심돈가스   등심돈까쓰    등심돈까쓰<input>등심돈까쓰\n",
              "3     게살죽     게살쭉        게살쭉<input>게살쭉\n",
              "4     버섯전     버섯즌        버섯즌<input>버섯즌"
            ],
            "text/html": [
              "\n",
              "  <div id=\"df-63e2dce2-0559-43cd-ab93-41f884e40113\" class=\"colab-df-container\">\n",
              "    <div>\n",
              "<style scoped>\n",
              "    .dataframe tbody tr th:only-of-type {\n",
              "        vertical-align: middle;\n",
              "    }\n",
              "\n",
              "    .dataframe tbody tr th {\n",
              "        vertical-align: top;\n",
              "    }\n",
              "\n",
              "    .dataframe thead th {\n",
              "        text-align: right;\n",
              "    }\n",
              "</style>\n",
              "<table border=\"1\" class=\"dataframe\">\n",
              "  <thead>\n",
              "    <tr style=\"text-align: right;\">\n",
              "      <th></th>\n",
              "      <th>식품명</th>\n",
              "      <th>식품오타</th>\n",
              "      <th>test_input</th>\n",
              "    </tr>\n",
              "  </thead>\n",
              "  <tbody>\n",
              "    <tr>\n",
              "      <th>0</th>\n",
              "      <td>달래나물무침</td>\n",
              "      <td>다래나물무침</td>\n",
              "      <td>다래나물무침&lt;input&gt;다래나물무침</td>\n",
              "    </tr>\n",
              "    <tr>\n",
              "      <th>1</th>\n",
              "      <td>깻잎찜</td>\n",
              "      <td>깬닙찜</td>\n",
              "      <td>깬닙찜&lt;input&gt;깬닙찜</td>\n",
              "    </tr>\n",
              "    <tr>\n",
              "      <th>2</th>\n",
              "      <td>등심돈가스</td>\n",
              "      <td>등심돈까쓰</td>\n",
              "      <td>등심돈까쓰&lt;input&gt;등심돈까쓰</td>\n",
              "    </tr>\n",
              "    <tr>\n",
              "      <th>3</th>\n",
              "      <td>게살죽</td>\n",
              "      <td>게살쭉</td>\n",
              "      <td>게살쭉&lt;input&gt;게살쭉</td>\n",
              "    </tr>\n",
              "    <tr>\n",
              "      <th>4</th>\n",
              "      <td>버섯전</td>\n",
              "      <td>버섯즌</td>\n",
              "      <td>버섯즌&lt;input&gt;버섯즌</td>\n",
              "    </tr>\n",
              "  </tbody>\n",
              "</table>\n",
              "</div>\n",
              "    <div class=\"colab-df-buttons\">\n",
              "\n",
              "  <div class=\"colab-df-container\">\n",
              "    <button class=\"colab-df-convert\" onclick=\"convertToInteractive('df-63e2dce2-0559-43cd-ab93-41f884e40113')\"\n",
              "            title=\"Convert this dataframe to an interactive table.\"\n",
              "            style=\"display:none;\">\n",
              "\n",
              "  <svg xmlns=\"http://www.w3.org/2000/svg\" height=\"24px\" viewBox=\"0 -960 960 960\">\n",
              "    <path d=\"M120-120v-720h720v720H120Zm60-500h600v-160H180v160Zm220 220h160v-160H400v160Zm0 220h160v-160H400v160ZM180-400h160v-160H180v160Zm440 0h160v-160H620v160ZM180-180h160v-160H180v160Zm440 0h160v-160H620v160Z\"/>\n",
              "  </svg>\n",
              "    </button>\n",
              "\n",
              "  <style>\n",
              "    .colab-df-container {\n",
              "      display:flex;\n",
              "      gap: 12px;\n",
              "    }\n",
              "\n",
              "    .colab-df-convert {\n",
              "      background-color: #E8F0FE;\n",
              "      border: none;\n",
              "      border-radius: 50%;\n",
              "      cursor: pointer;\n",
              "      display: none;\n",
              "      fill: #1967D2;\n",
              "      height: 32px;\n",
              "      padding: 0 0 0 0;\n",
              "      width: 32px;\n",
              "    }\n",
              "\n",
              "    .colab-df-convert:hover {\n",
              "      background-color: #E2EBFA;\n",
              "      box-shadow: 0px 1px 2px rgba(60, 64, 67, 0.3), 0px 1px 3px 1px rgba(60, 64, 67, 0.15);\n",
              "      fill: #174EA6;\n",
              "    }\n",
              "\n",
              "    .colab-df-buttons div {\n",
              "      margin-bottom: 4px;\n",
              "    }\n",
              "\n",
              "    [theme=dark] .colab-df-convert {\n",
              "      background-color: #3B4455;\n",
              "      fill: #D2E3FC;\n",
              "    }\n",
              "\n",
              "    [theme=dark] .colab-df-convert:hover {\n",
              "      background-color: #434B5C;\n",
              "      box-shadow: 0px 1px 3px 1px rgba(0, 0, 0, 0.15);\n",
              "      filter: drop-shadow(0px 1px 2px rgba(0, 0, 0, 0.3));\n",
              "      fill: #FFFFFF;\n",
              "    }\n",
              "  </style>\n",
              "\n",
              "    <script>\n",
              "      const buttonEl =\n",
              "        document.querySelector('#df-63e2dce2-0559-43cd-ab93-41f884e40113 button.colab-df-convert');\n",
              "      buttonEl.style.display =\n",
              "        google.colab.kernel.accessAllowed ? 'block' : 'none';\n",
              "\n",
              "      async function convertToInteractive(key) {\n",
              "        const element = document.querySelector('#df-63e2dce2-0559-43cd-ab93-41f884e40113');\n",
              "        const dataTable =\n",
              "          await google.colab.kernel.invokeFunction('convertToInteractive',\n",
              "                                                    [key], {});\n",
              "        if (!dataTable) return;\n",
              "\n",
              "        const docLinkHtml = 'Like what you see? Visit the ' +\n",
              "          '<a target=\"_blank\" href=https://colab.research.google.com/notebooks/data_table.ipynb>data table notebook</a>'\n",
              "          + ' to learn more about interactive tables.';\n",
              "        element.innerHTML = '';\n",
              "        dataTable['output_type'] = 'display_data';\n",
              "        await google.colab.output.renderOutput(dataTable, element);\n",
              "        const docLink = document.createElement('div');\n",
              "        docLink.innerHTML = docLinkHtml;\n",
              "        element.appendChild(docLink);\n",
              "      }\n",
              "    </script>\n",
              "  </div>\n",
              "\n",
              "\n",
              "<div id=\"df-c12fc09d-57cf-4454-9bb9-786d9cccd9d3\">\n",
              "  <button class=\"colab-df-quickchart\" onclick=\"quickchart('df-c12fc09d-57cf-4454-9bb9-786d9cccd9d3')\"\n",
              "            title=\"Suggest charts.\"\n",
              "            style=\"display:none;\">\n",
              "\n",
              "<svg xmlns=\"http://www.w3.org/2000/svg\" height=\"24px\"viewBox=\"0 0 24 24\"\n",
              "     width=\"24px\">\n",
              "    <g>\n",
              "        <path d=\"M19 3H5c-1.1 0-2 .9-2 2v14c0 1.1.9 2 2 2h14c1.1 0 2-.9 2-2V5c0-1.1-.9-2-2-2zM9 17H7v-7h2v7zm4 0h-2V7h2v10zm4 0h-2v-4h2v4z\"/>\n",
              "    </g>\n",
              "</svg>\n",
              "  </button>\n",
              "\n",
              "<style>\n",
              "  .colab-df-quickchart {\n",
              "      --bg-color: #E8F0FE;\n",
              "      --fill-color: #1967D2;\n",
              "      --hover-bg-color: #E2EBFA;\n",
              "      --hover-fill-color: #174EA6;\n",
              "      --disabled-fill-color: #AAA;\n",
              "      --disabled-bg-color: #DDD;\n",
              "  }\n",
              "\n",
              "  [theme=dark] .colab-df-quickchart {\n",
              "      --bg-color: #3B4455;\n",
              "      --fill-color: #D2E3FC;\n",
              "      --hover-bg-color: #434B5C;\n",
              "      --hover-fill-color: #FFFFFF;\n",
              "      --disabled-bg-color: #3B4455;\n",
              "      --disabled-fill-color: #666;\n",
              "  }\n",
              "\n",
              "  .colab-df-quickchart {\n",
              "    background-color: var(--bg-color);\n",
              "    border: none;\n",
              "    border-radius: 50%;\n",
              "    cursor: pointer;\n",
              "    display: none;\n",
              "    fill: var(--fill-color);\n",
              "    height: 32px;\n",
              "    padding: 0;\n",
              "    width: 32px;\n",
              "  }\n",
              "\n",
              "  .colab-df-quickchart:hover {\n",
              "    background-color: var(--hover-bg-color);\n",
              "    box-shadow: 0 1px 2px rgba(60, 64, 67, 0.3), 0 1px 3px 1px rgba(60, 64, 67, 0.15);\n",
              "    fill: var(--button-hover-fill-color);\n",
              "  }\n",
              "\n",
              "  .colab-df-quickchart-complete:disabled,\n",
              "  .colab-df-quickchart-complete:disabled:hover {\n",
              "    background-color: var(--disabled-bg-color);\n",
              "    fill: var(--disabled-fill-color);\n",
              "    box-shadow: none;\n",
              "  }\n",
              "\n",
              "  .colab-df-spinner {\n",
              "    border: 2px solid var(--fill-color);\n",
              "    border-color: transparent;\n",
              "    border-bottom-color: var(--fill-color);\n",
              "    animation:\n",
              "      spin 1s steps(1) infinite;\n",
              "  }\n",
              "\n",
              "  @keyframes spin {\n",
              "    0% {\n",
              "      border-color: transparent;\n",
              "      border-bottom-color: var(--fill-color);\n",
              "      border-left-color: var(--fill-color);\n",
              "    }\n",
              "    20% {\n",
              "      border-color: transparent;\n",
              "      border-left-color: var(--fill-color);\n",
              "      border-top-color: var(--fill-color);\n",
              "    }\n",
              "    30% {\n",
              "      border-color: transparent;\n",
              "      border-left-color: var(--fill-color);\n",
              "      border-top-color: var(--fill-color);\n",
              "      border-right-color: var(--fill-color);\n",
              "    }\n",
              "    40% {\n",
              "      border-color: transparent;\n",
              "      border-right-color: var(--fill-color);\n",
              "      border-top-color: var(--fill-color);\n",
              "    }\n",
              "    60% {\n",
              "      border-color: transparent;\n",
              "      border-right-color: var(--fill-color);\n",
              "    }\n",
              "    80% {\n",
              "      border-color: transparent;\n",
              "      border-right-color: var(--fill-color);\n",
              "      border-bottom-color: var(--fill-color);\n",
              "    }\n",
              "    90% {\n",
              "      border-color: transparent;\n",
              "      border-bottom-color: var(--fill-color);\n",
              "    }\n",
              "  }\n",
              "</style>\n",
              "\n",
              "  <script>\n",
              "    async function quickchart(key) {\n",
              "      const quickchartButtonEl =\n",
              "        document.querySelector('#' + key + ' button');\n",
              "      quickchartButtonEl.disabled = true;  // To prevent multiple clicks.\n",
              "      quickchartButtonEl.classList.add('colab-df-spinner');\n",
              "      try {\n",
              "        const charts = await google.colab.kernel.invokeFunction(\n",
              "            'suggestCharts', [key], {});\n",
              "      } catch (error) {\n",
              "        console.error('Error during call to suggestCharts:', error);\n",
              "      }\n",
              "      quickchartButtonEl.classList.remove('colab-df-spinner');\n",
              "      quickchartButtonEl.classList.add('colab-df-quickchart-complete');\n",
              "    }\n",
              "    (() => {\n",
              "      let quickchartButtonEl =\n",
              "        document.querySelector('#df-c12fc09d-57cf-4454-9bb9-786d9cccd9d3 button');\n",
              "      quickchartButtonEl.style.display =\n",
              "        google.colab.kernel.accessAllowed ? 'block' : 'none';\n",
              "    })();\n",
              "  </script>\n",
              "</div>\n",
              "    </div>\n",
              "  </div>\n"
            ]
          },
          "metadata": {},
          "execution_count": 22
        }
      ]
    },
    {
      "cell_type": "markdown",
      "source": [
        "# data prep"
      ],
      "metadata": {
        "id": "wleDhJMfS0lQ"
      }
    },
    {
      "cell_type": "markdown",
      "source": [
        "## read marked text inputs"
      ],
      "metadata": {
        "id": "YxXSXXVdS4WY"
      }
    },
    {
      "cell_type": "code",
      "source": [
        "train_lines = [str(s) for s in food_train['food_line']]\n",
        "test_lines = [str(s) for s in food_test['test_input']]\n",
        "print(train_lines[:10])\n",
        "print(test_lines[:10])"
      ],
      "metadata": {
        "colab": {
          "base_uri": "https://localhost:8080/"
        },
        "id": "wm6IRch8SnUy",
        "outputId": "202408e6-edbb-4d2a-e102-41700645c239"
      },
      "execution_count": 23,
      "outputs": [
        {
          "output_type": "stream",
          "name": "stdout",
          "text": [
            "['하떡<input>호떡', '새우젓계란찜<input>달걀찜(새우젓)', '오징이덥밥<input>오징어덮밥', '참나물<input>참나물무침', '크림스파게티<input>크림소스스파게티', '안심돈까쑤<input>안심돈가스', '쇠고기뭇국<input>쇠고기무국', '채소샌드이치<input>채소샌드위치', '채소보끈빱<input>채소볶음밥', '볶은밥<input>볶음밥']\n",
            "['다래나물무침<input>다래나물무침', '깬닙찜<input>깬닙찜', '등심돈까쓰<input>등심돈까쓰', '게살쭉<input>게살쭉', '버섯즌<input>버섯즌', '고추튀기<input>고추튀기', '간장닭다리구이<input>간장닭다리구이', '버섯샤부<input>버섯샤부', '닥꼬기냉채<input>닥꼬기냉채', '소고기전골<input>소고기전골']\n"
          ]
        }
      ]
    },
    {
      "cell_type": "markdown",
      "source": [
        "## Check the number of UNK tokens"
      ],
      "metadata": {
        "id": "NQPsDbnlS-NG"
      }
    },
    {
      "cell_type": "code",
      "source": [
        "tokenizer"
      ],
      "metadata": {
        "colab": {
          "base_uri": "https://localhost:8080/"
        },
        "id": "Nkb4C8M4T2K-",
        "outputId": "1d7bacfb-515a-487c-e6bc-85849dcbc05f"
      },
      "execution_count": 24,
      "outputs": [
        {
          "output_type": "execute_result",
          "data": {
            "text/plain": [
              "KoBERTTokenizer(name_or_path='skt/kobert-base-v1', vocab_size=8002, model_max_length=1000000000000000019884624838656, is_fast=False, padding_side='right', truncation_side='right', special_tokens={'bos_token': '[CLS]', 'eos_token': '[SEP]', 'unk_token': '[UNK]', 'sep_token': '[SEP]', 'pad_token': '[PAD]', 'cls_token': '[CLS]', 'mask_token': AddedToken(\"[MASK]\", rstrip=False, lstrip=True, single_word=False, normalized=True)}, clean_up_tokenization_spaces=True)"
            ]
          },
          "metadata": {},
          "execution_count": 24
        }
      ]
    },
    {
      "cell_type": "code",
      "source": [
        "all_lines = [str(s) for s in food_train['식품오타']] + [str(s) for s in food_test['식품오타']]\n",
        "all_lines[:10]"
      ],
      "metadata": {
        "colab": {
          "base_uri": "https://localhost:8080/"
        },
        "id": "qbpHwHaOSnPE",
        "outputId": "21da6a7a-a2cd-452b-d710-a562ae4a672a"
      },
      "execution_count": 25,
      "outputs": [
        {
          "output_type": "execute_result",
          "data": {
            "text/plain": [
              "['하떡',\n",
              " '새우젓계란찜',\n",
              " '오징이덥밥',\n",
              " '참나물',\n",
              " '크림스파게티',\n",
              " '안심돈까쑤',\n",
              " '쇠고기뭇국',\n",
              " '채소샌드이치',\n",
              " '채소보끈빱',\n",
              " '볶은밥']"
            ]
          },
          "metadata": {},
          "execution_count": 25
        }
      ]
    },
    {
      "cell_type": "code",
      "source": [
        "count = 0\n",
        "for line in all_lines:\n",
        "    tokens= tokenizer.tokenize(line)\n",
        "    if tokens[0] == '[UNK]':\n",
        "        count +=1\n",
        "print('The number of UNK token : ', count)\n",
        "print('The number of all food names : ', len(all_lines))\n",
        "print('percentage of UNK token/all food names: ', (count/len(all_lines)*100))"
      ],
      "metadata": {
        "colab": {
          "base_uri": "https://localhost:8080/"
        },
        "id": "KReABpIaSnMt",
        "outputId": "70328991-8605-4226-b758-8bfd2359603e"
      },
      "execution_count": 26,
      "outputs": [
        {
          "output_type": "stream",
          "name": "stdout",
          "text": [
            "The number of UNK token :  0\n",
            "The number of all food names :  2921\n",
            "percentage of UNK token/all food names:  0.0\n"
          ]
        }
      ]
    },
    {
      "cell_type": "markdown",
      "source": [
        "# extracting embedding values"
      ],
      "metadata": {
        "id": "29w5rVCoTF_X"
      }
    },
    {
      "cell_type": "markdown",
      "source": [
        "## set max fixed tokenized data size"
      ],
      "metadata": {
        "id": "QogEDEWGT8rk"
      }
    },
    {
      "cell_type": "code",
      "source": [
        "max_token_length = 384\n",
        "kobert_feats = np.zeros((len(train_lines), max_token_length*768))"
      ],
      "metadata": {
        "id": "waZ5uybFTNoH"
      },
      "execution_count": 27,
      "outputs": []
    },
    {
      "cell_type": "markdown",
      "source": [
        "## Batch processing"
      ],
      "metadata": {
        "id": "wUv__hS1UAFL"
      }
    },
    {
      "cell_type": "code",
      "source": [
        "for i in track(range(len(train_lines))):\n",
        "    encoded = tokenizer(train_lines[i], max_length=384, padding='max_length', truncation=True, return_tensors='pt')\n",
        "    kobert_feats[i] = bert_model(**encoded).last_hidden_state.detach().numpy().reshape(max_token_length*768)"
      ],
      "metadata": {
        "colab": {
          "base_uri": "https://localhost:8080/",
          "height": 33,
          "referenced_widgets": [
            "dc5563a370da40ea88298fd999063ccb",
            "b36c6294e2544334ae1d83d2054bbd6b"
          ]
        },
        "id": "O9Ll8sYqTNlh",
        "outputId": "6f9e2d78-5c6a-40d6-a891-321aba8f3775"
      },
      "execution_count": 28,
      "outputs": [
        {
          "output_type": "display_data",
          "data": {
            "text/plain": [
              "Output()"
            ],
            "application/vnd.jupyter.widget-view+json": {
              "version_major": 2,
              "version_minor": 0,
              "model_id": "dc5563a370da40ea88298fd999063ccb"
            }
          },
          "metadata": {}
        },
        {
          "output_type": "display_data",
          "data": {
            "text/plain": [],
            "text/html": [
              "<pre style=\"white-space:pre;overflow-x:auto;line-height:normal;font-family:Menlo,'DejaVu Sans Mono',consolas,'Courier New',monospace\"></pre>\n"
            ]
          },
          "metadata": {}
        },
        {
          "output_type": "display_data",
          "data": {
            "text/plain": [
              "\n"
            ],
            "text/html": [
              "<pre style=\"white-space:pre;overflow-x:auto;line-height:normal;font-family:Menlo,'DejaVu Sans Mono',consolas,'Courier New',monospace\">\n",
              "</pre>\n"
            ]
          },
          "metadata": {}
        }
      ]
    },
    {
      "cell_type": "code",
      "source": [
        "kobert_feats.shape"
      ],
      "metadata": {
        "colab": {
          "base_uri": "https://localhost:8080/"
        },
        "id": "XMEch-IhF9pW",
        "outputId": "ab750be5-1ed1-41ae-bb64-d9cfefc74a91"
      },
      "execution_count": 29,
      "outputs": [
        {
          "output_type": "execute_result",
          "data": {
            "text/plain": [
              "(2337, 294912)"
            ]
          },
          "metadata": {},
          "execution_count": 29
        }
      ]
    },
    {
      "cell_type": "code",
      "source": [
        "np.save('kobert_food_feat1.npy',kobert_feats)"
      ],
      "metadata": {
        "id": "pcdB_bzYGAq8"
      },
      "execution_count": 30,
      "outputs": []
    },
    {
      "cell_type": "markdown",
      "source": [
        "# Generate Text search engine"
      ],
      "metadata": {
        "id": "zrrtr1URUjSF"
      }
    },
    {
      "cell_type": "code",
      "source": [
        "max_size = kobert_feats.shape[1]\n",
        "print(max_size)"
      ],
      "metadata": {
        "colab": {
          "base_uri": "https://localhost:8080/"
        },
        "id": "xPWEMUo6UtVE",
        "outputId": "9ad5a86f-cb57-4b98-b8b6-c7da9ee73e85"
      },
      "execution_count": 31,
      "outputs": [
        {
          "output_type": "stream",
          "name": "stdout",
          "text": [
            "294912\n"
          ]
        }
      ]
    },
    {
      "cell_type": "code",
      "source": [
        "x_kobert = tf.keras.Input(shape=(max_size,))\n",
        "x = tf.keras.layers.Dense(units=kobert_feats.shape[0], activation='linear', name='fc1', use_bias=False)(x_kobert)\n",
        "x_kobert_feat_matching = tf.keras.models.Model(inputs=x_kobert, outputs=x)"
      ],
      "metadata": {
        "id": "4gJcZA_ATNi9"
      },
      "execution_count": 32,
      "outputs": []
    },
    {
      "cell_type": "code",
      "source": [
        "temp_weights = x_kobert_feature_matching.get_weights()"
      ],
      "metadata": {
        "id": "WbFQPRKvTMuo"
      },
      "execution_count": 33,
      "outputs": []
    },
    {
      "cell_type": "code",
      "source": [
        "temp_weights[-1] = kobert_feats.T\n",
        "x_kobert_feat_matching.set_weights(temp_weights)"
      ],
      "metadata": {
        "id": "k6DeaJfqU6Ho"
      },
      "execution_count": 34,
      "outputs": []
    },
    {
      "cell_type": "code",
      "source": [
        "x_kobert_feat_matching.save_weights('kobert-food-ko-featmatching1.h5')"
      ],
      "metadata": {
        "id": "HP6KnwUCU3nb"
      },
      "execution_count": 35,
      "outputs": []
    },
    {
      "cell_type": "markdown",
      "source": [
        "# Define chosen topics the model can handle"
      ],
      "metadata": {
        "id": "ZipF92fLU961"
      }
    },
    {
      "cell_type": "code",
      "source": [
        "total_text = []\n",
        "for each in track(train_lines):\n",
        "    total_text.append(each)"
      ],
      "metadata": {
        "colab": {
          "base_uri": "https://localhost:8080/",
          "height": 33,
          "referenced_widgets": [
            "0ff0dda2a31944f2ac52115e5e570d23",
            "a8d0f8f3b266423abfd4ac867af6b9e6"
          ]
        },
        "id": "tSHJWANtU6FR",
        "outputId": "ed4e9fc3-c461-401b-b8a0-68825dc6978b"
      },
      "execution_count": 36,
      "outputs": [
        {
          "output_type": "display_data",
          "data": {
            "text/plain": [
              "Output()"
            ],
            "application/vnd.jupyter.widget-view+json": {
              "version_major": 2,
              "version_minor": 0,
              "model_id": "0ff0dda2a31944f2ac52115e5e570d23"
            }
          },
          "metadata": {}
        },
        {
          "output_type": "display_data",
          "data": {
            "text/plain": [],
            "text/html": [
              "<pre style=\"white-space:pre;overflow-x:auto;line-height:normal;font-family:Menlo,'DejaVu Sans Mono',consolas,'Courier New',monospace\"></pre>\n"
            ]
          },
          "metadata": {}
        },
        {
          "output_type": "display_data",
          "data": {
            "text/plain": [
              "\n"
            ],
            "text/html": [
              "<pre style=\"white-space:pre;overflow-x:auto;line-height:normal;font-family:Menlo,'DejaVu Sans Mono',consolas,'Courier New',monospace\">\n",
              "</pre>\n"
            ]
          },
          "metadata": {}
        }
      ]
    },
    {
      "cell_type": "code",
      "source": [
        "topics = []\n",
        "\n",
        "for each in train_lines:\n",
        "    topics.append(each.split('<input>')[1])\n",
        "\n",
        "topics = np.unique(topics).tolist()\n",
        "\n",
        "# store sample chats\n",
        "topic_samples = {}\n",
        "for each in track(train_lines):\n",
        "    current_topic = each.split('<input>')[1]\n",
        "    names = each.split('<input>')[0]\n",
        "    if current_topic in topic_samples:\n",
        "        topic_samples[current_topic].append(names)\n",
        "    else:\n",
        "        topic_samples[current_topic] = []\n",
        "        topic_samples[current_topic].append(names)"
      ],
      "metadata": {
        "colab": {
          "base_uri": "https://localhost:8080/",
          "height": 33,
          "referenced_widgets": [
            "142ab7ff5ab04a7cb69cee3f29de3333",
            "9665172b9e7849d8b55b26b9b3e6abc8"
          ]
        },
        "id": "Oagck720U6Cp",
        "outputId": "1e380296-7a0a-438d-9b9b-070f16d10915"
      },
      "execution_count": 37,
      "outputs": [
        {
          "output_type": "display_data",
          "data": {
            "text/plain": [
              "Output()"
            ],
            "application/vnd.jupyter.widget-view+json": {
              "version_major": 2,
              "version_minor": 0,
              "model_id": "142ab7ff5ab04a7cb69cee3f29de3333"
            }
          },
          "metadata": {}
        },
        {
          "output_type": "display_data",
          "data": {
            "text/plain": [],
            "text/html": [
              "<pre style=\"white-space:pre;overflow-x:auto;line-height:normal;font-family:Menlo,'DejaVu Sans Mono',consolas,'Courier New',monospace\"></pre>\n"
            ]
          },
          "metadata": {}
        },
        {
          "output_type": "display_data",
          "data": {
            "text/plain": [
              "\n"
            ],
            "text/html": [
              "<pre style=\"white-space:pre;overflow-x:auto;line-height:normal;font-family:Menlo,'DejaVu Sans Mono',consolas,'Courier New',monospace\">\n",
              "</pre>\n"
            ]
          },
          "metadata": {}
        }
      ]
    },
    {
      "cell_type": "code",
      "source": [
        "test_samples = {}\n",
        "real_names = food_test['식품명'].tolist()\n",
        "for i in range(len(real_names)):\n",
        "    real_food = real_names[i]\n",
        "    input_line = test_lines[i]\n",
        "    test_samples[input_line] = real_food\n",
        "\n",
        "print(test_samples)"
      ],
      "metadata": {
        "colab": {
          "base_uri": "https://localhost:8080/"
        },
        "id": "OrBKRifHVFsm",
        "outputId": "2b7da859-3736-4198-8411-a0fb6793c004"
      },
      "execution_count": 38,
      "outputs": [
        {
          "output_type": "stream",
          "name": "stdout",
          "text": [
            "{'다래나물무침<input>다래나물무침': '달래나물무침', '깬닙찜<input>깬닙찜': '깻잎찜', '등심돈까쓰<input>등심돈까쓰': '등심돈가스', '게살쭉<input>게살쭉': '게살죽', '버섯즌<input>버섯즌': '버섯전', '고추튀기<input>고추튀기': '고추튀김', '간장닭다리구이<input>간장닭다리구이': '간장양념닭다리구이', '버섯샤부<input>버섯샤부': '버섯샤브샤브', '닥꼬기냉채<input>닥꼬기냉채': '닭고기냉채', '소고기전골<input>소고기전골': '쇠고기전골', '삼겹살<input>삼겹살': '삼겹살구이', '딱뽀끔탕<input>딱뽀끔탕': '닭볶음탕', '냉이된장찌기<input>냉이된장찌기': '냉이된장찌개', '순두부김치찌기<input>순두부김치찌기': '순두부김치찌개', '가배기<input>가배기': '꽈배기', '쇠고기완자즌<input>쇠고기완자즌': '쇠고기완자전', '우렁된장구<input>우렁된장구': '우렁된장국', '불고기햄버거<input>불고기햄버거': '불고기버거', '소고기주먹밥<input>소고기주먹밥': '쇠고기주먹밥', '해덥밥<input>해덥밥': '회덮밥', '감저사라다<input>감저사라다': '감자샐러드', '소고기채소보끈<input>소고기채소보끈': '쇠고기채소볶음', '대지괴기산즉<input>대지괴기산즉': '돼지고기산적', '바지락조개궁<input>바지락조개궁': '바지락조개국', '오징어티김<input>오징어티김': '오징어튀김', '다시마멋침<input>다시마멋침': '다시마무침', '쇠고기고추장보끈<input>쇠고기고추장보끈': '쇠고기고추장볶음', '닥뽀끔<input>닥뽀끔': '닭볶음', '중국우동<input>중국우동': '우동(중식)', '오이장아지<input>오이장아지': '오이장아찌', '갓낌치<input>갓낌치': '갓김치', '계란찜(우유)<input>계란찜(우유)': '달걀찜(우유)', '우거질해장국<input>우거질해장국': '우거지해장국', '쌀국시<input>쌀국시': '쌀국수', '껌정콩밥<input>껌정콩밥': '검정콩밥', '열무냉믄<input>열무냉믄': '열무냉면', '냉김치마리국수<input>냉김치마리국수': '냉김치말이국수', '간장개장<input>간장개장': '간장게장', '오징아산적<input>오징아산적': '오징어산적', '더부전<input>더부전': '두부전', '팟빙수<input>팟빙수': '팥빙수', '소고기메추리알장저림<input>소고기메추리알장저림': '소고기메추리알장조림', '고치장아찌<input>고치장아찌': '고추장아찌', '우거지된장꾹<input>우거지된장꾹': '우거지된장국', '무너초밥<input>무너초밥': '문어초밥', '일본식우동<input>일본식우동': '우동(일식)', '무짱아지<input>무짱아지': '무장아찌', '꽈리고츄멸치보끈<input>꽈리고츄멸치보끈': '꽈리고추멸치볶음', '무지긔뜩<input>무지긔뜩': '무지개떡', '절핀<input>절핀': '절편', '후박부침개<input>후박부침개': '호박부침개', '재육더빱<input>재육더빱': '제육덮밥', '떡만둣구<input>떡만둣구': '떡만둣국', '소고기멋국<input>소고기멋국': '소고기무국', '삼겹살고추장<input>삼겹살고추장': '삼겹살고추장구이', '두부애호박된장찌기<input>두부애호박된장찌기': '두부애호박된장찌개', '고츄볶음<input>고츄볶음': '고추볶음', '양성이수푸<input>양성이수푸': '양송이스프', '버섯샤부샤부<input>버섯샤부샤부': '버섯샤브샤브', '해물완자즌<input>해물완자즌': '해물완자전', '쇠고기미역꾹<input>쇠고기미역꾹': '쇠고기미역국', '게란마리<input>게란마리': '달걀말이', '햐물된장국<input>햐물된장국': '해물된장국', '죽순소고기볶음<input>죽순소고기볶음': '죽순쇠고기볶음', '깐짜장<input>깐짜장': '간자장', '고추장마늘쭝짱아지<input>고추장마늘쭝짱아지': '고추장마늘쫑장아찌', '간장닭다리튀김<input>간장닭다리튀김': '간장양념닭다리튀김', '죽순쇠고기보끔<input>죽순쇠고기보끔': '죽순쇠고기볶음', '달걀마리<input>달걀마리': '달걀말이', '콩경단<input>콩경단': '경단(콩)', '다시마머침<input>다시마머침': '다시마무침', '떠깡정<input>떠깡정': '떡강정', '선지해장구<input>선지해장구': '선지해장국', '부추머침<input>부추머침': '부추무침', '김치궁<input>김치궁': '김치국', '서벗샤푸<input>서벗샤푸': '버섯샤브샤브', '충무김빱<input>충무김빱': '충무김밥', '감저채소볶음<input>감저채소볶음': '감자채소볶음', '어일파섯타<input>어일파섯타': '오일소스스파게티', '칩쌀띠익<input>칩쌀띠익': '찹쌀떡', '키조개애구이<input>키조개애구이': '키조개구이', '대지고기완자전<input>대지고기완자전': '돼지고기완자전', '멸치마늘쫑보끈<input>멸치마늘쫑보끈': '멸치마늘쫑볶음', '양념장으구이<input>양념장으구이': '양념장어구이', '햐물매운탕<input>햐물매운탕': '해물매운탕', '쪼꼬소라빵<input>쪼꼬소라빵': '초코소라빵', '토마투스파게티<input>토마투스파게티': '토마토소스스파게티', '쇠고기삿태찜<input>쇠고기삿태찜': '쇠고기사태찜', '김취김빱<input>김취김빱': '김치김밥', '소고기샤부샤부<input>소고기샤부샤부': '소고기샤브샤브', '닭가슴살샌도이취<input>닭가슴살샌도이취': '닭가슴살샌드위치', '어일파스타<input>어일파스타': '오일소스스파게티', '꺼막짐<input>꺼막짐': '꼬막찜', '감즈즌<input>감즈즌': '감자전', '채소산도이치<input>채소산도이치': '채소샌드위치', '김치콩나물꾹<input>김치콩나물꾹': '김치콩나물국', '매밀즌<input>매밀즌': '메밀전', '마늘뭇침<input>마늘뭇침': '풋마늘무침', '참치완저즌<input>참치완저즌': '참치완자전', '훈제오림<input>훈제오림': '훈제오리', '소고기배추국<input>소고기배추국': '쇠고기배춧국', '깻닢찜<input>깻닢찜': '깻잎찜', '유뷰초밥<input>유뷰초밥': '유부초밥', '돼지고기김치보끔<input>돼지고기김치보끔': '돼지고기김치볶음', '참치김치찌게<input>참치김치찌게': '참치김치찌개', '버터크림빠앙<input>버터크림빠앙': '버터크림빵', '가죽나물<input>가죽나물': '가죽나물무침', '계란보끔밥<input>계란보끔밥': '계란볶음밥', '얼가리배추국<input>얼가리배추국': '얼갈이배춧국', '해물크림파스타<input>해물크림파스타': '해물크림소스스파게티', '해멀덥밥<input>해멀덥밥': '해물덮밥', '오이이김치<input>오이이김치': '오이김치', '김취우동<input>김취우동': '김치우동', '오징어더빱<input>오징어더빱': '오징어덮밥', '버섯전걸<input>버섯전걸': '버섯전골', '참치더빱<input>참치더빱': '참치덮밥', '잔멸치풋고추보끔<input>잔멸치풋고추보끔': '잔멸치풋고추볶음', '쿠림파스타<input>쿠림파스타': '크림소스스파게티', '불괴기햄버거<input>불괴기햄버거': '불고기버거', '데리야키치킨<input>데리야키치킨': '치킨데리야끼', '해물찌임<input>해물찌임': '해물찜', '오사불고기<input>오사불고기': '오삼불고기', '닥꼬츄장조림<input>닥꼬츄장조림': '닭고추장조림', '어리탕<input>어리탕': '오리탕', '미익국<input>미익국': '미역국', '치커리것쩌리<input>치커리것쩌리': '치커리겉절이', '냉이나멀<input>냉이나멀': '냉이나물무침', '굴잠뿡<input>굴잠뿡': '굴짬뽕', '무너처밥<input>무너처밥': '문어초밥', '김취라면<input>김취라면': '김치라면', '뽀끈빱<input>뽀끈빱': '볶음밥', '소고기미역국<input>소고기미역국': '쇠고기미역국', '매늘빠앙<input>매늘빠앙': '마늘빵', '두부쪼림<input>두부쪼림': '두부조림', '채소햄보끔<input>채소햄보끔': '햄채소볶음', '고사리<input>고사리': '고사리나물무침', '전벅죽<input>전벅죽': '전복죽', '오걱밥<input>오걱밥': '오곡밥', '시퀘<input>시퀘': '식혜', '쑥덕<input>쑥덕': '쑥떡', '똥그랑땡<input>똥그랑땡': '동그랑땡(육원전)', '을무얼갈의김치<input>을무얼갈의김치': '열무얼갈이김치', '채수전<input>채수전': '채소전', '안심돈까수<input>안심돈까수': '안심돈가스', '뼈해장꾹<input>뼈해장꾹': '뼈해장국', '두부붓침<input>두부붓침': '두부부침', '느타리버섯멋침<input>느타리버섯멋침': '느타리버섯무침', '시래기된장구<input>시래기된장구': '시래기된장국', '느타리버섯머침<input>느타리버섯머침': '느타리버섯무침', '회냉명<input>회냉명': '회냉면', '애플파이<input>애플파이': '사과파이', '굴극밥<input>굴극밥': '굴국밥', '버섯소고기볶음<input>버섯소고기볶음': '쇠고기버섯볶음', '유가<input>유가': '유과', '간증게장<input>간증게장': '간장게장', '오뎅국<input>오뎅국': '어묵국', '햐물콩나물찜<input>햐물콩나물찜': '해물콩나물찜', '얼무김치국시<input>얼무김치국시': '열무김치국수', '표고버섯보끔<input>표고버섯보끔': '표고버섯볶음', '검은콩밥<input>검은콩밥': '검정콩밥', '매널빵<input>매널빵': '마늘빵', '쇠갈비<input>쇠갈비': '쇠갈비구이', '치주라면<input>치주라면': '치즈라면', '마늘쫑잔멸치보끈<input>마늘쫑잔멸치보끈': '마늘쫑잔멸치볶음', '베이이글<input>베이이글': '베이글', '오징어보끔<input>오징어보끔': '오징어볶음', '달걀짱조림<input>달걀짱조림': '달걀장조림', '대지머릿괴기<input>대지머릿괴기': '돼지머리고기', '파빱<input>파빱': '팥밥', '김칫콩나멀국<input>김칫콩나멀국': '김치콩나물국', '전북죽<input>전북죽': '전복죽', '생선모듬초법<input>생선모듬초법': '생선모듬초밥', '돼지머릿고기<input>돼지머릿고기': '돼지머리고기', '닭가슴살샌도이치<input>닭가슴살샌도이치': '닭가슴살샌드위치', '대지갈비찜<input>대지갈비찜': '돼지갈비찜', '옥시시샐러다<input>옥시시샐러다': '옥수수샐러드', '참치완즈전<input>참치완즈전': '참치완자전', '깻입전<input>깻입전': '깻잎전', '김치전고<input>김치전고': '김치전골', '청포물무침<input>청포물무침': '청포묵무침', '떡말둣국<input>떡말둣국': '떡만둣국', '양파짱아찌<input>양파짱아찌': '양파장아찌', '참취죽<input>참취죽': '참치죽', '오삼불괴기<input>오삼불괴기': '오삼불고기', '햐물팟전<input>햐물팟전': '해물파전', '참취더밥<input>참취더밥': '참치덮밥', '청포묵무칫<input>청포묵무칫': '청포묵무침', '토란꾹<input>토란꾹': '토란국', '중국식우동<input>중국식우동': '우동(중식)', '오일파수타<input>오일파수타': '오일소스스파게티', '닥빨<input>닥빨': '닭발구이', '버섯소고기보끔<input>버섯소고기보끔': '쇠고기버섯볶음', '연끈조림<input>연끈조림': '연근조림', '군고등어<input>군고등어': '고등어구이', '닥곰탕<input>닥곰탕': '닭곰탕', '양념취킨<input>양념취킨': '양념치킨', '햐물된장궁<input>햐물된장궁': '해물된장국', '치킨까쑤<input>치킨까쑤': '치킨까스', '얼밥<input>얼밥': '알밥', '바지락조개구<input>바지락조개구': '바지락조개국', '머위나물보끔<input>머위나물보끔': '머위나물볶음', '오징이무침<input>오징이무침': '오징어무침', '송이덥밥<input>송이덥밥': '송이덮밥', '장어고츄장구이<input>장어고츄장구이': '장어고추장구이', '소고기완자전<input>소고기완자전': '쇠고기완자전', '열무거쩌리<input>열무거쩌리': '열무겉절이', '얼가리배추꾹<input>얼가리배추꾹': '얼갈이배춧국', '표구버슷구이<input>표구버슷구이': '표고버섯구이', '고딩이찌개<input>고딩이찌개': '고등어찌개', '시래기된장굽<input>시래기된장굽': '시래기된장국', '참치쭉<input>참치쭉': '참치죽', '일본매실짱아찌<input>일본매실짱아찌': '일본매실장아찌', '초콜릿케익<input>초콜릿케익': '초콜릿케이크', '내장타앙<input>내장타앙': '내장탕', '무우쪼림<input>무우쪼림': '무조림', '김치즌<input>김치즌': '김치전', '콩나물된장찌기<input>콩나물된장찌기': '콩나물된장찌개', '고춧가루콩나물<input>고춧가루콩나물': '콩나물고춧가루무침', '김칙국<input>김칙국': '김치국', '피망닥까슴살보끔<input>피망닥까슴살보끔': '닭가슴살피망볶음', '제육뽀끔<input>제육뽀끔': '제육볶음', '장어덥밥<input>장어덥밥': '장어덮밥', '오징어보끈<input>오징어보끈': '오징어볶음', '대헙미역국<input>대헙미역국': '대합미역국', '옥수수샐러다<input>옥수수샐러다': '옥수수샐러드', '고츄닙나물무침<input>고츄닙나물무침': '고춧잎나물무침', '얼가리배츄김치<input>얼가리배츄김치': '얼갈이배추김치', '조귀찜<input>조귀찜': '조기찜', '삼선짜장민<input>삼선짜장민': '삼선자장면', '후박즌<input>후박즌': '호박전', '찹쌀도오넛<input>찹쌀도오넛': '찹쌀도넛', '고춧잎나물<input>고춧잎나물': '고춧잎나물무침', '동태찌게<input>동태찌게': '동태찌개', '송이더빱<input>송이더빱': '송이덮밥', '닥발보끈<input>닥발보끈': '닭발볶음', '소고기죽<input>소고기죽': '쇠고기죽', '삼신볶음밥<input>삼신볶음밥': '삼선볶음밥', '살국쑤<input>살국쑤': '쌀국수', '열무얼가리김치<input>열무얼가리김치': '열무얼갈이김치', '쇠고기샤브<input>쇠고기샤브': '쇠고기샤브샤브', '무지개애떡<input>무지개애떡': '무지개떡', '두부애호박된장찌게<input>두부애호박된장찌게': '두부애호박된장찌개', '갓김취<input>갓김취': '갓김치', '기장빱<input>기장빱': '기장밥', '우렁될장국<input>우렁될장국': '우렁된장국', '미서된장구<input>미서된장구': '미소된장국', '추아탕<input>추아탕': '추어탕', '재첩꾹<input>재첩꾹': '재첩국', '계란꾹<input>계란꾹': '달걀국', '동티국<input>동티국': '동태국', '미나리나멀<input>미나리나멀': '미나리나물', '닥까슴살샐러다<input>닥까슴살샐러다': '닭가슴살샐러드', '비빔냉믄<input>비빔냉믄': '비빔냉면', '마늘쫑쪼림<input>마늘쫑쪼림': '마늘쫑조림', '깻닙김치<input>깻닙김치': '깻잎김치', '된장풋고추무침<input>된장풋고추무침': '풋고추된장무침', '오리불구기<input>오리불구기': '오리불고기', '브로콜리보끈<input>브로콜리보끈': '브로콜리볶음', '깬닙짱아찌<input>깬닙짱아찌': '깻잎장아찌', '무지기떡<input>무지기떡': '무지개떡', '표곳버섯볶음<input>표곳버섯볶음': '표고버섯볶음', '동타찌개<input>동타찌개': '동태찌개', '미역초뭇침<input>미역초뭇침': '미역초무침', '수수부꾸무<input>수수부꾸무': '수수부꾸미', '럴케익<input>럴케익': '롤케이크', '찹쌀띡<input>찹쌀띡': '찹쌀떡', '떠뽀끼<input>떠뽀끼': '떡볶이', '어묵채소보끈<input>어묵채소보끈': '어묵채소볶음', '배추나물<input>배추나물': '배추나물무침', '닥깡정<input>닥깡정': '닭강정', '양생추샐러드<input>양생추샐러드': '양상추샐러드', '닥빨보끔<input>닥빨보끔': '닭발볶음', '닥까슴살샌도이치<input>닥까슴살샌도이치': '닭가슴살샌드위치', '캘리퍼니아롤<input>캘리퍼니아롤': '캘리포니아롤', '더덩구이<input>더덩구이': '더덕구이', '달래된정찌개<input>달래된정찌개': '달래된장찌개', '달래뭇침<input>달래뭇침': '달래무침', '모커빵<input>모커빵': '모카빵', '쇠괴기김밥<input>쇠괴기김밥': '소고기김밥', '고굼마투김<input>고굼마투김': '고구마튀김', '쇠고기전걸<input>쇠고기전걸': '쇠고기전골', '짜짱밥<input>짜짱밥': '자장밥', '버러쿠림빵<input>버러쿠림빵': '버터크림빵', '쇠괴기수육<input>쇠괴기수육': '쇠고기수육', '낙지전굴<input>낙지전굴': '낙지전골', '까뚜기<input>까뚜기': '깍두기', '메밀묵꾹<input>메밀묵꾹': '메밀묵국', '장어더빱<input>장어더빱': '장어덮밥', '김치보끔빱<input>김치보끔빱': '김치볶음밥', '양념계장<input>양념계장': '양념게장', '송화다시<input>송화다시': '송화다식', '열무된장나물<input>열무된장나물': '열무된장나물무침', '도라지나멀<input>도라지나멀': '도라지나물무침', '꽃게타앙<input>꽃게타앙': '꽃게탕', '미트볼토마토파스타<input>미트볼토마토파스타': '미트볼토마토스파게티', '쟁반국시<input>쟁반국시': '쟁반국수', '시래기된장공<input>시래기된장공': '시래기된장국', '쑥갓나멀<input>쑥갓나멀': '쑥갓나물무침', '프라이드치킨<input>프라이드치킨': '후라이드치킨', '찐감저<input>찐감저': '찐감자', '꽈리고추잔멸치볶음<input>꽈리고추잔멸치볶음': '잔멸치꽈리고추볶음', '후라이두치킨<input>후라이두치킨': '후라이드치킨', '선두부찌개<input>선두부찌개': '순두부찌개', '소고기무궁<input>소고기무궁': '소고기무국', '쭈꾸미보끔<input>쭈꾸미보끔': '주꾸미볶음', '돼지껍대기보끔<input>돼지껍대기보끔': '돼지껍데기볶음', '죽쑨쇠고기볶음<input>죽쑨쇠고기볶음': '죽순쇠고기볶음', '대지고기찌기<input>대지고기찌기': '돼지고기찌개', '양미리쪼림<input>양미리쪼림': '양미리조림', '삼겹살묵은지볶음<input>삼겹살묵은지볶음': '묵은지삼겹살볶음', '마늘쫑잔멸치보끔<input>마늘쫑잔멸치보끔': '마늘쫑잔멸치볶음', '토란대무침<input>토란대무침': '토란대나물무침', '채소햄보끈<input>채소햄보끈': '햄채소볶음', '잔치국쑤<input>잔치국쑤': '잔치국수', '소세지튀기<input>소세지튀기': '소시지튀김', '표구버슷전<input>표구버슷전': '표고버섯전', '닭가슴살샌드이치<input>닭가슴살샌드이치': '닭가슴살샌드위치', '쇠고기버섯죽<input>쇠고기버섯죽': '소고기버섯죽', '더덕물침<input>더덕물침': '더덕무침', '햄샌도이취<input>햄샌도이취': '햄샌드위치', '바지락칼국씨<input>바지락칼국씨': '바지락칼국수', '삼겹살묵은지보끈<input>삼겹살묵은지보끈': '묵은지삼겹살볶음', '쇠고기샤푸<input>쇠고기샤푸': '쇠고기샤브샤브', '골빙이무침<input>골빙이무침': '골뱅이무침', '시금치나물<input>시금치나물': '시금치나물무침', '콩나무울잡치<input>콩나무울잡치': '콩나물잡채', '달걀후라이<input>달걀후라이': '달걀프라이', '매작가<input>매작가': '매작과', '열무김칫<input>열무김칫': '열무김치', '고츄조림<input>고츄조림': '고추조림', '꼳개탕<input>꼳개탕': '꽃게탕', '오뎅채소보끈<input>오뎅채소보끈': '어묵채소볶음', '풋고츄된장무침<input>풋고츄된장무침': '풋고추된장무침', '대지불괴기<input>대지불괴기': '돼지불고기', '소고기고추장보끔<input>소고기고추장보끔': '쇠고기고추장볶음', '소고기메추리알장조림<input>소고기메추리알장조림': '쇠고기메추리알장조림', '오이생치<input>오이생치': '오이생채', '양파부츄멋침<input>양파부츄멋침': '양파부추무침', '닭날개티김<input>닭날개티김': '닭날개튀김', '김친국<input>김친국': '김치국', '호박오가리나물뭇침<input>호박오가리나물뭇침': '호박오가리나물무침', '더부부침<input>더부부침': '두부부침', '김멋침<input>김멋침': '김무침', '소고기장조림<input>소고기장조림': '쇠고기장조림', '묵은지삼겹살보끔<input>묵은지삼겹살보끔': '묵은지삼겹살볶음', '병아조림<input>병아조림': '병어조림', '떡만두꾹<input>떡만두꾹': '떡만두국', '닥깽정<input>닥깽정': '닭강정', '대지수육<input>대지수육': '돼지고기수육', '햐물찜<input>햐물찜': '해물찜', '주꾸미보끔<input>주꾸미보끔': '주꾸미볶음', '오이지멋침<input>오이지멋침': '오이지무침', '후박전<input>후박전': '호박전', '오이지머침<input>오이지머침': '오이지무침', '꽁치구운<input>꽁치구운': '꽁치구이', '매추리알장조림<input>매추리알장조림': '메추리알장조림', '소양념갈비구시<input>소양념갈비구시': '소양념갈비구이', '돼지메추리알장쪼림<input>돼지메추리알장쪼림': '돼지고기메추리알장조림', '참꼬믹<input>참꼬믹': '참꼬막', '기픠편<input>기픠편': '기피편', '흔제어리<input>흔제어리': '훈제오리', '소고기샤부<input>소고기샤부': '소고기샤브샤브', '간장응념닭다리구이<input>간장응념닭다리구이': '간장양념닭다리구이', '연어처밥<input>연어처밥': '연어초밥', '가자미시케<input>가자미시케': '가자미식해', '거구마줄기나물<input>거구마줄기나물': '고구마줄기나물무침', '부로콜리볶음<input>부로콜리볶음': '브로콜리볶음', '푸고츄된장무침<input>푸고츄된장무침': '풋고추된장무침', '떡만둥국<input>떡만둥국': '떡만둣국', '풋고추잔멸치볶음<input>풋고추잔멸치볶음': '잔멸치풋고추볶음', '호박고추장찌기<input>호박고추장찌기': '호박고추장찌개', '미억튀각<input>미억튀각': '미역튀각', '도라지나물<input>도라지나물': '도라지나물무침', '새송이버섯<input>새송이버섯': '새송이버섯구이', '조미기임<input>조미기임': '조미김', '회머침<input>회머침': '회무침', '모듬회덥밥<input>모듬회덥밥': '모듬회덮밥', '채수죽<input>채수죽': '채소죽', '동태찌기<input>동태찌기': '동태찌개', '개란라면<input>개란라면': '달걀라면', '돼지괴기메추리장조림<input>돼지괴기메추리장조림': '돼지고기메추리알장조림', '버섯쇠고기볶음<input>버섯쇠고기볶음': '쇠고기버섯볶음', '김채우동<input>김채우동': '김치우동', '피잣빠앙<input>피잣빠앙': '피자빵', '패슷츄리빵<input>패슷츄리빵': '페이스트리빵', '카쓰테라<input>카쓰테라': '카스텔라', '걸전<input>걸전': '굴전', '식빵터스트<input>식빵터스트': '식빵토스트', '소양념가비구이<input>소양념가비구이': '소양념갈비구이', '치즈핏자<input>치즈핏자': '치즈피자', '기정밥<input>기정밥': '기장밥', '문어처밥<input>문어처밥': '문어초밥', '고츄보끈<input>고츄보끈': '고추볶음', '가자미즌<input>가자미즌': '가자미전', '대지갈비<input>대지갈비': '돼지갈비구이', '깬입나물<input>깬입나물': '깻잎나물무침', '홍합멋국<input>홍합멋국': '홍합무국', '장어초빱<input>장어초빱': '장어초밥', '죽쑨소고기볶음<input>죽쑨소고기볶음': '죽순쇠고기볶음', '콩나물국빱<input>콩나물국빱': '콩나물국밥', '순두부김치찌게<input>순두부김치찌게': '순두부김치찌개', '고추장삼겹<input>고추장삼겹': '삼겹살고추장구이', '추러스<input>추러스': '츄러스', '무닝빵<input>무닝빵': '모닝빵', '고추장불고기삼김<input>고추장불고기삼김': '고추장불고기삼각김밥', '삼슨우동<input>삼슨우동': '삼선우동', '감자그로겟<input>감자그로겟': '감자크로켓', '대지등갈비찜<input>대지등갈비찜': '돼지등갈비찜', '동티전<input>동티전': '동태전', '채소사라다<input>채소사라다': '채소샐러드', '수부루빵<input>수부루빵': '소보로빵', '양념장어<input>양념장어': '양념장어구이', '롤케익<input>롤케익': '롤케이크', '버섯찌기<input>버섯찌기': '버섯찌개', '만둣굳<input>만둣굳': '만둣국', '청포무무침<input>청포무무침': '청포묵무침', '롤케잌<input>롤케잌': '롤케이크', '임연수구기<input>임연수구기': '임연수구이', '햄치주샌도이치<input>햄치주샌도이치': '햄치즈샌드위치', '꽁츼찌기<input>꽁츼찌기': '꽁치찌개', '모카빠앙<input>모카빠앙': '모카빵', '무카빵<input>무카빵': '모카빵', '고추장문어보끈<input>고추장문어보끈': '문어고추장볶음', '매실짱아찌<input>매실짱아찌': '매실장아찌', '생선무뢰<input>생선무뢰': '생선물회', '넉두시루뚝<input>넉두시루뚝': '녹두시루떡', '불고기덥밥<input>불고기덥밥': '불고기덮밥', '오뎅꾹<input>오뎅꾹': '어묵국', '미수가리<input>미수가리': '미숫가루', '돼지찌개<input>돼지찌개': '돼지고기찌개', '중식우동<input>중식우동': '우동(중식)', '고사리나물<input>고사리나물': '고사리나물무침', '깨닙전<input>깨닙전': '깻잎전', '새우탕슈육<input>새우탕슈육': '새우탕수육', '치나물<input>치나물': '취나물', '닥튀김<input>닥튀김': '닭튀김', '풋마늘뭇침<input>풋마늘뭇침': '풋마늘무침', '양념개장<input>양념개장': '양념게장', '마늘짱아찌<input>마늘짱아찌': '마늘장아찌', '의삼불고기<input>의삼불고기': '오삼불고기', '소시지보끔<input>소시지보끔': '소세지볶음', '과일사라다<input>과일사라다': '과일샐러드', '콩송핀<input>콩송핀': '송편(콩)', '느타리버슷볶음<input>느타리버슷볶음': '느타리버섯볶음', '김튀기<input>김튀기': '김튀김', '달리나멀<input>달리나멀': '달래나물무침', '김치전걸<input>김치전걸': '김치전골', '갈치죄림<input>갈치죄림': '갈치조림', '소갤비<input>소갤비': '쇠갈비구이', '간장마늘쭝짱아지<input>간장마늘쭝짱아지': '간장마늘쫑장아찌', '순더부계란탕<input>순더부계란탕': '순두부달걀탕', '초꼬소라빵<input>초꼬소라빵': '초코소라빵', '국굴빱<input>국굴빱': '굴국밥', '송이덥바<input>송이덥바': '송이덮밥', '동티조림<input>동티조림': '동태조림', '오댕김치찌개<input>오댕김치찌개': '어묵김치찌개', '지포조림<input>지포조림': '쥐포조림', '떡만룽국<input>떡만룽국': '떡만둣국', '대파닭꼬치<input>대파닭꼬치': '닭고기대파꼬치구이', '다시마뭇침<input>다시마뭇침': '다시마무침', '맛쌀전<input>맛쌀전': '맛살전', '라조깅<input>라조깅': '라조기', '모듬찰띡<input>모듬찰띡': '모듬찰떡', '마늘쩡조림<input>마늘쩡조림': '마늘쫑조림', '해물보끔밥<input>해물보끔밥': '해물볶음밥', '허박죽<input>허박죽': '호박죽', '더딕무침<input>더딕무침': '더덕무침', '해초뭇침<input>해초뭇침': '해초무침', '터란꾹<input>터란꾹': '토란국', '배춧된장국<input>배춧된장국': '배추된장국', '잡치밥<input>잡치밥': '잡채밥', '머삔<input>머삔': '머핀', '치커리걷저리<input>치커리걷저리': '치커리겉절이', '황태구자<input>황태구자': '황태구이', '낙지덥밥<input>낙지덥밥': '낙지덮밥', '감자피자<input>감자피자': '포테이토피자', '골빙이국쑤무침<input>골빙이국쑤무침': '골뱅이국수무침', '얼무냉믄<input>얼무냉믄': '열무냉면', '헝합뭇국<input>헝합뭇국': '홍합무국', '부거채무침<input>부거채무침': '북어채무침', '만드국<input>만드국': '만둣국', '메밀전병<input>메밀전병': '메밀전병', '양배추사라다<input>양배추사라다': '양배추샐러드', '초콜릿케잌<input>초콜릿케잌': '초콜릿케이크', '드득장아찌<input>드득장아찌': '더덕장아찌', '숫불갤비삼각김빱<input>숫불갤비삼각김빱': '숯불갈비삼각김밥', '두부전걸<input>두부전걸': '두부전골', '고츄장장어<input>고츄장장어': '장어고추장구이', '참치마요삼각김법<input>참치마요삼각김법': '참치마요네즈삼각김밥', '달걀보끔밥<input>달걀보끔밥': '계란볶음밥', '콩비지찌게<input>콩비지찌게': '콩비지찌개', '샐러드김빱<input>샐러드김빱': '샐러드김밥', '후박찌개<input>후박찌개': '호박찌개', '콩나물고츄가루무침<input>콩나물고츄가루무침': '콩나물고춧가루무침', '임연스구이<input>임연스구이': '임연수구이', '느타리버섯보끔<input>느타리버섯보끔': '느타리버섯볶음', '냉이이된자이찌개<input>냉이이된자이찌개': '냉이된장찌개', '팟찹쌀띡<input>팟찹쌀띡': '팥찹쌀떡', '양상추샐러다<input>양상추샐러다': '양상추샐러드', '오이부추뭇침<input>오이부추뭇침': '오이부추무침', '꼬리굼탕<input>꼬리굼탕': '꼬리곰탕', '닥빨구이<input>닥빨구이': '닭발구이', '짬봉<input>짬봉': '짬뽕', '김치이전<input>김치이전': '김치전', '마쌀전<input>마쌀전': '맛살전', '애호박보끔<input>애호박보끔': '애호박볶음', '표구버섯전<input>표구버섯전': '표고버섯전', '부추즌<input>부추즌': '부추전', '골뱅무침<input>골뱅무침': '골뱅이무침', '황태가이<input>황태가이': '황태구이', '쪼코소라빵<input>쪼코소라빵': '초코소라빵', '드득무침<input>드득무침': '더덕무침', '무된장공<input>무된장공': '무된장국', '문어고추장보끈<input>문어고추장보끈': '문어고추장볶음', '고등이조림<input>고등이조림': '고등어조림', '쉬래기나물<input>쉬래기나물': '시래기나물무침', '보끔밥<input>보끔밥': '볶음밥', '닥칼국수<input>닥칼국수': '닭칼국수', '양송이수푸<input>양송이수푸': '양송이스프', '감저된장궁<input>감저된장궁': '감자된장국', '시케<input>시케': '식혜', '오이부춧멋침<input>오이부춧멋침': '오이부추무침', '채소샐러다<input>채소샐러다': '채소샐러드', '호박나물무침<input>호박나물무침': '호박오가리나물무침', '쇠고기주먹빱<input>쇠고기주먹빱': '쇠고기주먹밥', '고추잔멸치보끔<input>고추잔멸치보끔': '잔멸치고추볶음', '오일스파게티<input>오일스파게티': '오일소스스파게티', '오징이산적<input>오징이산적': '오징어산적', '닥꼬기덮밥<input>닥꼬기덮밥': '닭고기덮밥', '치주라민<input>치주라민': '치즈라면', '골빙이국수무침<input>골빙이국수무침': '골뱅이국수무침', '깻닙나물보끔<input>깻닙나물보끔': '깻잎나물볶음', '소고기샤브샤비<input>소고기샤브샤비': '소고기샤브샤브', '근대됭장국<input>근대됭장국': '근대된장국', '콩나멀<input>콩나멀': '콩나물무침', '응념갈치젓<input>응념갈치젓': '양념갈치젓', '시레기된장국<input>시레기된장국': '시래기된장국', '야채즌<input>야채즌': '야채전', '샐러디김밥<input>샐러디김밥': '샐러드김밥', '닭고츄장조림<input>닭고츄장조림': '닭고추장조림', '고츄투김<input>고츄투김': '고추튀김', '햄버그스테익<input>햄버그스테익': '햄버그스테이크', '두부김친<input>두부김친': '두부김치', '과리고츄찜<input>과리고츄찜': '꽈리고추찜', '페스츄리<input>페스츄리': '페이스트리', '해물크림스파게티<input>해물크림스파게티': '해물크림소스스파게티', '깨경단<input>깨경단': '경단(깨)', '소갤비찜<input>소갤비찜': '쇠갈비찜', '토마토스파게티<input>토마토스파게티': '토마토소스스파게티', '들깨칼구수<input>들깨칼구수': '둘깨칼국수', '오이부추머침<input>오이부추머침': '오이부추무침', '김치보끔밥<input>김치보끔밥': '김치볶음밥', '오징어찌게<input>오징어찌게': '오징어찌개', '간장응념통닭<input>간장응념통닭': '간장양념치킨', '새싹채소사라다<input>새싹채소사라다': '새싹채소샐러드', '달레무침<input>달레무침': '달래무침', '계란프라이<input>계란프라이': '달걀프라이', '잔치국슈<input>잔치국슈': '잔치국수', '소메추리장조림<input>소메추리장조림': '소고기메추리알장조림', '돼지갤비찜<input>돼지갤비찜': '돼지갈비찜', '배이글<input>배이글': '베이글', '스크램블에그<input>스크램블에그': '스크램블드에그', '불고기햄버걸<input>불고기햄버걸': '불고기버거', '고굼마마탕<input>고굼마마탕': '고구마맛탕', '쇠고기배추국<input>쇠고기배추국': '쇠고기배춧국', '막꾹시<input>막꾹시': '막국수', '대지머리국빱<input>대지머리국빱': '돼지머리국밥', '감자국<input>감자국': '감잣국', '오이나물<input>오이나물': '오이나물무침', '화양직<input>화양직': '화양적', '꽈리고추멸치보끔<input>꽈리고추멸치보끔': '꽈리고추멸치볶음', '오므라이쓰<input>오므라이쓰': '오므라이스', '쥐치치<input>쥐치치': '쥐치채', '고추장장어<input>고추장장어': '장어고추장구이', '순대걱밥<input>순대걱밥': '순대국밥', '팟시루떡<input>팟시루떡': '팥시루떡', '가지나멀<input>가지나멀': '가지나물무침', '고추장소고기볶음<input>고추장소고기볶음': '쇠고기고추장볶음', '더부고추장찌개<input>더부고추장찌개': '두부고추장찌개', '단무우지<input>단무우지': '단무지', '데리야끼치킨<input>데리야끼치킨': '치킨데리야끼'}\n"
          ]
        }
      ]
    },
    {
      "cell_type": "markdown",
      "source": [
        "# Text search engine response (for multiple items)"
      ],
      "metadata": {
        "id": "P1y-rQkuVI7F"
      }
    },
    {
      "cell_type": "markdown",
      "source": [
        "## Test data batch processing (multiple data)"
      ],
      "metadata": {
        "id": "GWJlxXrHVOuE"
      }
    },
    {
      "cell_type": "code",
      "source": [
        "max_token_length = 384\n",
        "input_feats = np.zeros((len(test_lines), max_token_length*768))\n",
        "\n",
        "for i in track(range(len(test_lines))):\n",
        "    encoded = tokenizer(test_lines[i], max_length=384, padding='max_length', truncation=True, return_tensors='pt')\n",
        "    input_feats[i] = bert_model(**encoded).last_hidden_state.detach().numpy().reshape(max_token_length*768)"
      ],
      "metadata": {
        "colab": {
          "base_uri": "https://localhost:8080/",
          "height": 33,
          "referenced_widgets": [
            "6192b9ba6db147558ef35eaebacec6ae",
            "3337537c8aa44276a8b29653ce38e522"
          ]
        },
        "id": "zgCxJJ2VVFqH",
        "outputId": "722f7954-8939-466e-bd84-470503b8f718"
      },
      "execution_count": 39,
      "outputs": [
        {
          "output_type": "display_data",
          "data": {
            "text/plain": [
              "Output()"
            ],
            "application/vnd.jupyter.widget-view+json": {
              "version_major": 2,
              "version_minor": 0,
              "model_id": "6192b9ba6db147558ef35eaebacec6ae"
            }
          },
          "metadata": {}
        },
        {
          "output_type": "display_data",
          "data": {
            "text/plain": [],
            "text/html": [
              "<pre style=\"white-space:pre;overflow-x:auto;line-height:normal;font-family:Menlo,'DejaVu Sans Mono',consolas,'Courier New',monospace\"></pre>\n"
            ]
          },
          "metadata": {}
        },
        {
          "output_type": "display_data",
          "data": {
            "text/plain": [
              "\n"
            ],
            "text/html": [
              "<pre style=\"white-space:pre;overflow-x:auto;line-height:normal;font-family:Menlo,'DejaVu Sans Mono',consolas,'Courier New',monospace\">\n",
              "</pre>\n"
            ]
          },
          "metadata": {}
        }
      ]
    },
    {
      "cell_type": "code",
      "source": [
        "prediction = x_kobert_feat_matching.predict(input_feats)"
      ],
      "metadata": {
        "colab": {
          "base_uri": "https://localhost:8080/"
        },
        "id": "X-LnhiTRVFlT",
        "outputId": "f3a0c5d9-9641-4609-de0a-a07b076137c5"
      },
      "execution_count": 40,
      "outputs": [
        {
          "output_type": "stream",
          "name": "stdout",
          "text": [
            "19/19 [==============================] - 4s 21ms/step\n"
          ]
        }
      ]
    },
    {
      "cell_type": "markdown",
      "source": [
        "## accuracy to test data"
      ],
      "metadata": {
        "id": "jWph8tiZVboR"
      }
    },
    {
      "cell_type": "code",
      "source": [
        "def response_acc(k,total_text, prediction):\n",
        "    total_results = []\n",
        "    for item in prediction:\n",
        "        item_results = []\n",
        "        for index in item.argsort()[-k::][::-1]:\n",
        "            item_results.append(total_text[index].split('<input>')[1])\n",
        "            item_set = set(item_results)\n",
        "        total_results.append(item_set)\n",
        "\n",
        "    count = 0\n",
        "    for i in range(len(test_lines)):\n",
        "        target = test_samples[test_lines[i]]\n",
        "        for item in total_results:\n",
        "            if target in item:\n",
        "                    count +=1\n",
        "                    break\n",
        "    return (count/len(test_lines))*100"
      ],
      "metadata": {
        "id": "RgTrEVPqVFi1"
      },
      "execution_count": 41,
      "outputs": []
    },
    {
      "cell_type": "code",
      "source": [
        "print('TOP 1 accuracy of response: ',response_acc(1,total_text, prediction))\n",
        "print('TOP 3 accuracy of response: ',response_acc(3,total_text, prediction))\n",
        "print('TOP 5 accuracy of response: ',response_acc(5,total_text, prediction))"
      ],
      "metadata": {
        "colab": {
          "base_uri": "https://localhost:8080/"
        },
        "id": "P69qGti8ViEj",
        "outputId": "ce872bfa-cb4b-469d-d5d4-ecd8c6fb093a"
      },
      "execution_count": 42,
      "outputs": [
        {
          "output_type": "stream",
          "name": "stdout",
          "text": [
            "TOP 1 accuracy of response:  79.7945205479452\n",
            "TOP 3 accuracy of response:  90.23972602739725\n",
            "TOP 5 accuracy of response:  93.83561643835617\n"
          ]
        }
      ]
    },
    {
      "cell_type": "markdown",
      "source": [
        "# Text search engine response for 1 item"
      ],
      "metadata": {
        "id": "M3Phf6hBVvqp"
      }
    },
    {
      "cell_type": "code",
      "source": [
        "input_keyword = '노각머침<input>노각머침'\n",
        "\n",
        "encoded = tokenizer(input_keyword, max_length=384, padding='max_length', truncation=True, return_tensors='pt')\n",
        "temp_feats = bert_model(**encoded).last_hidden_state.detach().numpy().reshape(1,384*768)\n",
        "\n",
        "one_prediction = x_kobert_feat_matching.predict(temp_feats).reshape(-1)\n",
        "print(one_prediction.shape)"
      ],
      "metadata": {
        "colab": {
          "base_uri": "https://localhost:8080/"
        },
        "id": "pRyHvjmiViCJ",
        "outputId": "66850096-db97-4943-d3b5-38363f93d97a"
      },
      "execution_count": 43,
      "outputs": [
        {
          "output_type": "stream",
          "name": "stdout",
          "text": [
            "1/1 [==============================] - 0s 31ms/step\n",
            "(2337,)\n"
          ]
        }
      ]
    },
    {
      "cell_type": "code",
      "source": [
        "k=5\n",
        "for index in one_prediction.argsort()[-k:][::-1]:\n",
        "    print (total_text[index])"
      ],
      "metadata": {
        "colab": {
          "base_uri": "https://localhost:8080/"
        },
        "id": "45WNVLwyV5yh",
        "outputId": "0286ba2b-6000-4b44-a3e0-af74f54dcbba"
      },
      "execution_count": 44,
      "outputs": [
        {
          "output_type": "stream",
          "name": "stdout",
          "text": [
            "노각머침<input>노각무침\n",
            "노각물침<input>노각무침\n",
            "노각무침<input>노각무침\n",
            "낙지무침<input>낙지무침\n",
            "해초머침<input>해초무침\n"
          ]
        }
      ]
    },
    {
      "cell_type": "markdown",
      "source": [
        "## chatbot response for 1 item"
      ],
      "metadata": {
        "id": "tFLFJOErV7iZ"
      }
    },
    {
      "cell_type": "code",
      "source": [
        "total_text[one_prediction.argsort()[-5:][::-1][0]].split('<input>')[1]"
      ],
      "metadata": {
        "colab": {
          "base_uri": "https://localhost:8080/",
          "height": 35
        },
        "id": "33bpSiQMV5v_",
        "outputId": "10b40417-c835-4a90-d30d-fc0fb31a3ab9"
      },
      "execution_count": 45,
      "outputs": [
        {
          "output_type": "execute_result",
          "data": {
            "text/plain": [
              "'노각무침'"
            ],
            "application/vnd.google.colaboratory.intrinsic+json": {
              "type": "string"
            }
          },
          "metadata": {},
          "execution_count": 45
        }
      ]
    },
    {
      "cell_type": "markdown",
      "source": [
        "## Find nutrient with matched food names (for chat response for 1 item)"
      ],
      "metadata": {
        "id": "0h2qEOJgWAgI"
      }
    },
    {
      "cell_type": "code",
      "source": [
        "def find_food_info(df, target_column, chat_response):\n",
        "    food_info = df[df[target_column] == chat_response]\n",
        "    return food_info"
      ],
      "metadata": {
        "id": "U431cOBKV_WH"
      },
      "execution_count": 46,
      "outputs": []
    },
    {
      "cell_type": "code",
      "source": [
        "chat_response = total_text[one_prediction.argsort()[-5:][::-1][0]].split('<input>')[1]\n",
        "find_food_info(food_nutrient_info,'food_item',chat_response)"
      ],
      "metadata": {
        "colab": {
          "base_uri": "https://localhost:8080/",
          "height": 81
        },
        "id": "dq7NPNo4V_TT",
        "outputId": "2148f21e-f504-4d6e-a89c-32b964c9687e"
      },
      "execution_count": 48,
      "outputs": [
        {
          "output_type": "execute_result",
          "data": {
            "text/plain": [
              "   food_item  serving_size  calories  protein  fat  carbohydrate  sugar\n",
              "76      노각무침           150      84.0      2.6  1.8          14.3    7.1"
            ],
            "text/html": [
              "\n",
              "  <div id=\"df-a614f234-2226-44e9-bc7d-a455760593bb\" class=\"colab-df-container\">\n",
              "    <div>\n",
              "<style scoped>\n",
              "    .dataframe tbody tr th:only-of-type {\n",
              "        vertical-align: middle;\n",
              "    }\n",
              "\n",
              "    .dataframe tbody tr th {\n",
              "        vertical-align: top;\n",
              "    }\n",
              "\n",
              "    .dataframe thead th {\n",
              "        text-align: right;\n",
              "    }\n",
              "</style>\n",
              "<table border=\"1\" class=\"dataframe\">\n",
              "  <thead>\n",
              "    <tr style=\"text-align: right;\">\n",
              "      <th></th>\n",
              "      <th>food_item</th>\n",
              "      <th>serving_size</th>\n",
              "      <th>calories</th>\n",
              "      <th>protein</th>\n",
              "      <th>fat</th>\n",
              "      <th>carbohydrate</th>\n",
              "      <th>sugar</th>\n",
              "    </tr>\n",
              "  </thead>\n",
              "  <tbody>\n",
              "    <tr>\n",
              "      <th>76</th>\n",
              "      <td>노각무침</td>\n",
              "      <td>150</td>\n",
              "      <td>84.0</td>\n",
              "      <td>2.6</td>\n",
              "      <td>1.8</td>\n",
              "      <td>14.3</td>\n",
              "      <td>7.1</td>\n",
              "    </tr>\n",
              "  </tbody>\n",
              "</table>\n",
              "</div>\n",
              "    <div class=\"colab-df-buttons\">\n",
              "\n",
              "  <div class=\"colab-df-container\">\n",
              "    <button class=\"colab-df-convert\" onclick=\"convertToInteractive('df-a614f234-2226-44e9-bc7d-a455760593bb')\"\n",
              "            title=\"Convert this dataframe to an interactive table.\"\n",
              "            style=\"display:none;\">\n",
              "\n",
              "  <svg xmlns=\"http://www.w3.org/2000/svg\" height=\"24px\" viewBox=\"0 -960 960 960\">\n",
              "    <path d=\"M120-120v-720h720v720H120Zm60-500h600v-160H180v160Zm220 220h160v-160H400v160Zm0 220h160v-160H400v160ZM180-400h160v-160H180v160Zm440 0h160v-160H620v160ZM180-180h160v-160H180v160Zm440 0h160v-160H620v160Z\"/>\n",
              "  </svg>\n",
              "    </button>\n",
              "\n",
              "  <style>\n",
              "    .colab-df-container {\n",
              "      display:flex;\n",
              "      gap: 12px;\n",
              "    }\n",
              "\n",
              "    .colab-df-convert {\n",
              "      background-color: #E8F0FE;\n",
              "      border: none;\n",
              "      border-radius: 50%;\n",
              "      cursor: pointer;\n",
              "      display: none;\n",
              "      fill: #1967D2;\n",
              "      height: 32px;\n",
              "      padding: 0 0 0 0;\n",
              "      width: 32px;\n",
              "    }\n",
              "\n",
              "    .colab-df-convert:hover {\n",
              "      background-color: #E2EBFA;\n",
              "      box-shadow: 0px 1px 2px rgba(60, 64, 67, 0.3), 0px 1px 3px 1px rgba(60, 64, 67, 0.15);\n",
              "      fill: #174EA6;\n",
              "    }\n",
              "\n",
              "    .colab-df-buttons div {\n",
              "      margin-bottom: 4px;\n",
              "    }\n",
              "\n",
              "    [theme=dark] .colab-df-convert {\n",
              "      background-color: #3B4455;\n",
              "      fill: #D2E3FC;\n",
              "    }\n",
              "\n",
              "    [theme=dark] .colab-df-convert:hover {\n",
              "      background-color: #434B5C;\n",
              "      box-shadow: 0px 1px 3px 1px rgba(0, 0, 0, 0.15);\n",
              "      filter: drop-shadow(0px 1px 2px rgba(0, 0, 0, 0.3));\n",
              "      fill: #FFFFFF;\n",
              "    }\n",
              "  </style>\n",
              "\n",
              "    <script>\n",
              "      const buttonEl =\n",
              "        document.querySelector('#df-a614f234-2226-44e9-bc7d-a455760593bb button.colab-df-convert');\n",
              "      buttonEl.style.display =\n",
              "        google.colab.kernel.accessAllowed ? 'block' : 'none';\n",
              "\n",
              "      async function convertToInteractive(key) {\n",
              "        const element = document.querySelector('#df-a614f234-2226-44e9-bc7d-a455760593bb');\n",
              "        const dataTable =\n",
              "          await google.colab.kernel.invokeFunction('convertToInteractive',\n",
              "                                                    [key], {});\n",
              "        if (!dataTable) return;\n",
              "\n",
              "        const docLinkHtml = 'Like what you see? Visit the ' +\n",
              "          '<a target=\"_blank\" href=https://colab.research.google.com/notebooks/data_table.ipynb>data table notebook</a>'\n",
              "          + ' to learn more about interactive tables.';\n",
              "        element.innerHTML = '';\n",
              "        dataTable['output_type'] = 'display_data';\n",
              "        await google.colab.output.renderOutput(dataTable, element);\n",
              "        const docLink = document.createElement('div');\n",
              "        docLink.innerHTML = docLinkHtml;\n",
              "        element.appendChild(docLink);\n",
              "      }\n",
              "    </script>\n",
              "  </div>\n",
              "\n",
              "    </div>\n",
              "  </div>\n"
            ]
          },
          "metadata": {},
          "execution_count": 48
        }
      ]
    },
    {
      "cell_type": "code",
      "source": [],
      "metadata": {
        "id": "EBq8XD_Sog9G"
      },
      "execution_count": null,
      "outputs": []
    }
  ]
}