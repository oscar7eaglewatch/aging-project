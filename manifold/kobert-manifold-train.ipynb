{
 "cells": [
  {
   "cell_type": "code",
   "execution_count": 1,
   "metadata": {},
   "outputs": [],
   "source": [
    "import os\n",
    "import numpy as np\n",
    "\n",
    "import time\n",
    "from sklearn.preprocessing import RobustScaler\n",
    "from sklearn.preprocessing import MaxAbsScaler\n",
    "from sklearn.preprocessing import MinMaxScaler\n",
    "from sklearn.preprocessing import StandardScaler\n",
    "from sklearn.metrics import davies_bouldin_score\n",
    "\n",
    "from cuml import IncrementalPCA as cumlPCA\n",
    "from cuml import TSNE as cumlTSNE\n",
    "\n",
    "\n",
    "import joblib\n",
    "import pandas as pd\n",
    "\n",
    "import json\n",
    "\n",
    "import plotly\n",
    "import plotly.express as px\n",
    "import plotly.graph_objects as go\n",
    "import tqdm\n",
    "\n",
    "# reset GPU\n",
    "import subprocess\n",
    "from numba import cuda\n",
    "import threading\n"
   ]
  },
  {
   "cell_type": "code",
   "execution_count": 2,
   "metadata": {},
   "outputs": [],
   "source": [
    "data_path = \"/mnt/f/cluster_analysis/kobert_train.npy\""
   ]
  },
  {
   "cell_type": "code",
   "execution_count": 3,
   "metadata": {},
   "outputs": [],
   "source": [
    "data = np.load(data_path)"
   ]
  },
  {
   "cell_type": "code",
   "execution_count": 4,
   "metadata": {},
   "outputs": [
    {
     "data": {
      "text/plain": [
       "(2337, 294912)"
      ]
     },
     "execution_count": 4,
     "metadata": {},
     "output_type": "execute_result"
    }
   ],
   "source": [
    "data.shape"
   ]
  },
  {
   "cell_type": "code",
   "execution_count": 5,
   "metadata": {},
   "outputs": [
    {
     "data": {
      "text/plain": [
       "array([[ 0.12607618, -0.2177927 , -0.02630411, ..., -0.18577793,\n",
       "        -0.65449542,  0.20252991],\n",
       "       [-0.19878492,  0.1088952 ,  0.16065916, ..., -0.27704975,\n",
       "        -0.90432692,  0.07277443],\n",
       "       [ 0.03491082,  0.04019241,  0.25021282, ..., -0.28724536,\n",
       "        -0.81275618,  0.34508607],\n",
       "       ...,\n",
       "       [ 0.09750635, -0.19071175,  0.05225878, ..., -0.16661298,\n",
       "        -0.55150944, -0.16517413],\n",
       "       [ 0.03690892, -0.36995983,  0.06538674, ...,  0.02063052,\n",
       "        -0.6465764 ,  0.2242703 ],\n",
       "       [ 0.03537651, -0.25579143,  0.07226921, ...,  0.01541212,\n",
       "        -0.54696864, -0.17482601]])"
      ]
     },
     "execution_count": 5,
     "metadata": {},
     "output_type": "execute_result"
    }
   ],
   "source": [
    "data"
   ]
  },
  {
   "cell_type": "code",
   "execution_count": 6,
   "metadata": {},
   "outputs": [],
   "source": [
    "scaler = RobustScaler()\n",
    "scaled_data = scaler.fit_transform(data)"
   ]
  },
  {
   "cell_type": "code",
   "execution_count": 7,
   "metadata": {},
   "outputs": [
    {
     "data": {
      "text/plain": [
       "0.17721471190452576"
      ]
     },
     "execution_count": 7,
     "metadata": {},
     "output_type": "execute_result"
    }
   ],
   "source": [
    "pca_gpu = cumlPCA(n_components = 25, batch_size=32)\n",
    "pca_processed = pca_gpu.fit_transform(scaled_data)\n",
    "cumltsne_final = cumlTSNE(n_components=2, perplexity=5, n_neighbors=50, method=\"exact\")\n",
    "cuml_processed = cumltsne_final.fit_transform(pca_processed)\n",
    "cumltsne_final.kl_divergence_"
   ]
  },
  {
   "cell_type": "code",
   "execution_count": 8,
   "metadata": {},
   "outputs": [
    {
     "data": {
      "text/plain": [
       "0.17721471190452576"
      ]
     },
     "execution_count": 8,
     "metadata": {},
     "output_type": "execute_result"
    }
   ],
   "source": [
    "cumltsne_final.kl_divergence_"
   ]
  },
  {
   "cell_type": "code",
   "execution_count": 9,
   "metadata": {},
   "outputs": [
    {
     "data": {
      "text/plain": [
       "(2337, 2)"
      ]
     },
     "execution_count": 9,
     "metadata": {},
     "output_type": "execute_result"
    }
   ],
   "source": [
    "cuml_processed.shape"
   ]
  },
  {
   "cell_type": "code",
   "execution_count": 10,
   "metadata": {},
   "outputs": [
    {
     "data": {
      "text/html": [
       "<div>\n",
       "<style scoped>\n",
       "    .dataframe tbody tr th:only-of-type {\n",
       "        vertical-align: middle;\n",
       "    }\n",
       "\n",
       "    .dataframe tbody tr th {\n",
       "        vertical-align: top;\n",
       "    }\n",
       "\n",
       "    .dataframe thead th {\n",
       "        text-align: right;\n",
       "    }\n",
       "</style>\n",
       "<table border=\"1\" class=\"dataframe\">\n",
       "  <thead>\n",
       "    <tr style=\"text-align: right;\">\n",
       "      <th></th>\n",
       "      <th>x</th>\n",
       "      <th>y</th>\n",
       "    </tr>\n",
       "  </thead>\n",
       "  <tbody>\n",
       "    <tr>\n",
       "      <th>0</th>\n",
       "      <td>-91.874916</td>\n",
       "      <td>8.868083</td>\n",
       "    </tr>\n",
       "    <tr>\n",
       "      <th>1</th>\n",
       "      <td>15.114115</td>\n",
       "      <td>94.223305</td>\n",
       "    </tr>\n",
       "    <tr>\n",
       "      <th>2</th>\n",
       "      <td>23.729103</td>\n",
       "      <td>-46.067886</td>\n",
       "    </tr>\n",
       "    <tr>\n",
       "      <th>3</th>\n",
       "      <td>71.267189</td>\n",
       "      <td>-117.083344</td>\n",
       "    </tr>\n",
       "    <tr>\n",
       "      <th>4</th>\n",
       "      <td>-42.724987</td>\n",
       "      <td>142.073807</td>\n",
       "    </tr>\n",
       "    <tr>\n",
       "      <th>...</th>\n",
       "      <td>...</td>\n",
       "      <td>...</td>\n",
       "    </tr>\n",
       "    <tr>\n",
       "      <th>2332</th>\n",
       "      <td>10.695359</td>\n",
       "      <td>119.545364</td>\n",
       "    </tr>\n",
       "    <tr>\n",
       "      <th>2333</th>\n",
       "      <td>-8.111209</td>\n",
       "      <td>125.669495</td>\n",
       "    </tr>\n",
       "    <tr>\n",
       "      <th>2334</th>\n",
       "      <td>-15.123107</td>\n",
       "      <td>43.457623</td>\n",
       "    </tr>\n",
       "    <tr>\n",
       "      <th>2335</th>\n",
       "      <td>-114.006973</td>\n",
       "      <td>-17.471989</td>\n",
       "    </tr>\n",
       "    <tr>\n",
       "      <th>2336</th>\n",
       "      <td>-19.592857</td>\n",
       "      <td>43.079334</td>\n",
       "    </tr>\n",
       "  </tbody>\n",
       "</table>\n",
       "<p>2337 rows × 2 columns</p>\n",
       "</div>"
      ],
      "text/plain": [
       "               x           y\n",
       "0     -91.874916    8.868083\n",
       "1      15.114115   94.223305\n",
       "2      23.729103  -46.067886\n",
       "3      71.267189 -117.083344\n",
       "4     -42.724987  142.073807\n",
       "...          ...         ...\n",
       "2332   10.695359  119.545364\n",
       "2333   -8.111209  125.669495\n",
       "2334  -15.123107   43.457623\n",
       "2335 -114.006973  -17.471989\n",
       "2336  -19.592857   43.079334\n",
       "\n",
       "[2337 rows x 2 columns]"
      ]
     },
     "execution_count": 10,
     "metadata": {},
     "output_type": "execute_result"
    }
   ],
   "source": [
    "column_axis = ['x', 'y']\n",
    "df_manifold = pd.DataFrame(cuml_processed, columns=column_axis, index=np.arange(cuml_processed.shape[0]))  \n",
    "df_manifold"
   ]
  },
  {
   "cell_type": "code",
   "execution_count": 11,
   "metadata": {},
   "outputs": [],
   "source": [
    "try:\n",
    "    os.makedirs(\"/mnt/f/cluster_analysis/kobert/train/\")\n",
    "except:\n",
    "    pass"
   ]
  },
  {
   "cell_type": "code",
   "execution_count": 12,
   "metadata": {},
   "outputs": [],
   "source": [
    "def plot_dimension_reduction(manifold_processed_DataFrame):\n",
    "\n",
    "\tfig = go.Figure()\n",
    "\n",
    "\tfig.add_trace(go.Scatter(x=manifold_processed_DataFrame['x'], \n",
    "\t\t\t\t\ty=manifold_processed_DataFrame['y'],\n",
    "\t\t\t\t\tmode='markers', \n",
    "\t\t\t\t\tmarker=dict(color='LightSkyBlue', \n",
    "\t\t\t\t\t\t\t\tsize=12, line=dict(color='MediumPurple', width=2)),\n",
    "\t\t\t\t\tname='reals'))\n",
    "\n",
    "\tfig.update_layout(autosize=True, width=900, height=900)\n",
    "\tfig.update_layout(title='KoBERT, Korean Food Training Dataset, Hidden State Output in 2D')\n",
    "\tfig.write_image('/mnt/f/cluster_analysis/kobert/train/dtrain_manifold.webp')\n",
    "\tfig.write_image('/mnt/f/cluster_analysis/kobert/train/dtrain_manifold.png')\n",
    "\tplotly.offline.plot(fig, filename = '/mnt/f/cluster_analysis/kobert/train/dtrain_manifold.html', auto_open=False)"
   ]
  },
  {
   "cell_type": "code",
   "execution_count": 13,
   "metadata": {},
   "outputs": [],
   "source": [
    "plot_dimension_reduction(df_manifold)"
   ]
  },
  {
   "cell_type": "code",
   "execution_count": 14,
   "metadata": {},
   "outputs": [],
   "source": [
    "df_manifold.to_csv('/mnt/f/cluster_analysis/kobert/train/dtrain_manifold', index=False)"
   ]
  },
  {
   "cell_type": "code",
   "execution_count": null,
   "metadata": {},
   "outputs": [],
   "source": []
  },
  {
   "cell_type": "code",
   "execution_count": null,
   "metadata": {},
   "outputs": [],
   "source": []
  }
 ],
 "metadata": {
  "kernelspec": {
   "display_name": "Python 3",
   "language": "python",
   "name": "python3"
  },
  "language_info": {
   "codemirror_mode": {
    "name": "ipython",
    "version": 3
   },
   "file_extension": ".py",
   "mimetype": "text/x-python",
   "name": "python",
   "nbconvert_exporter": "python",
   "pygments_lexer": "ipython3",
   "version": "3.9.18"
  }
 },
 "nbformat": 4,
 "nbformat_minor": 2
}
