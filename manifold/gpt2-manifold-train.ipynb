{
 "cells": [
  {
   "cell_type": "code",
   "execution_count": 1,
   "metadata": {},
   "outputs": [],
   "source": [
    "import os\n",
    "import numpy as np\n",
    "\n",
    "import time\n",
    "from sklearn.preprocessing import RobustScaler\n",
    "from sklearn.preprocessing import MaxAbsScaler\n",
    "from sklearn.preprocessing import MinMaxScaler\n",
    "from sklearn.preprocessing import StandardScaler\n",
    "from sklearn.metrics import davies_bouldin_score\n",
    "\n",
    "from cuml import IncrementalPCA as cumlPCA\n",
    "from cuml import TSNE as cumlTSNE\n",
    "\n",
    "\n",
    "import joblib\n",
    "import pandas as pd\n",
    "\n",
    "import json\n",
    "\n",
    "import plotly\n",
    "import plotly.express as px\n",
    "import plotly.graph_objects as go\n",
    "import tqdm\n",
    "\n",
    "# reset GPU\n",
    "import subprocess\n",
    "from numba import cuda\n",
    "import threading\n"
   ]
  },
  {
   "cell_type": "code",
   "execution_count": 2,
   "metadata": {},
   "outputs": [],
   "source": [
    "data_path = \"/mnt/f/cluster_analysis/gpt2-train.npy\""
   ]
  },
  {
   "cell_type": "code",
   "execution_count": 3,
   "metadata": {},
   "outputs": [],
   "source": [
    "data = np.load(data_path)"
   ]
  },
  {
   "cell_type": "code",
   "execution_count": 4,
   "metadata": {},
   "outputs": [
    {
     "data": {
      "text/plain": [
       "(2337, 786432)"
      ]
     },
     "execution_count": 4,
     "metadata": {},
     "output_type": "execute_result"
    }
   ],
   "source": [
    "data.shape"
   ]
  },
  {
   "cell_type": "code",
   "execution_count": 5,
   "metadata": {},
   "outputs": [
    {
     "data": {
      "text/plain": [
       "array([[-0.46568674, -1.02676618, -2.10928679, ..., -1.23934782,\n",
       "         2.38638377,  1.14557326],\n",
       "       [-0.39376995, -0.37493441, -1.8621099 , ..., -1.14678025,\n",
       "         2.08672857,  1.53005564],\n",
       "       [-0.95601022, -0.47106016, -1.42170763, ..., -1.31075263,\n",
       "         2.62891436,  1.2803489 ],\n",
       "       ...,\n",
       "       [-0.64854562,  0.03179695, -1.74919176, ..., -0.87320691,\n",
       "         2.14874005,  1.53177893],\n",
       "       [-0.48164964, -0.51160353, -1.94577396, ..., -1.23118579,\n",
       "         2.29757762,  0.91173029],\n",
       "       [-0.43425503, -0.67103899, -2.09265566, ..., -1.23825562,\n",
       "         2.31448531,  1.29377663]])"
      ]
     },
     "execution_count": 5,
     "metadata": {},
     "output_type": "execute_result"
    }
   ],
   "source": [
    "data"
   ]
  },
  {
   "cell_type": "code",
   "execution_count": 6,
   "metadata": {},
   "outputs": [],
   "source": [
    "scaler = RobustScaler()\n",
    "scaled_data = scaler.fit_transform(data)"
   ]
  },
  {
   "cell_type": "code",
   "execution_count": 7,
   "metadata": {},
   "outputs": [
    {
     "data": {
      "text/plain": [
       "0.24280664324760437"
      ]
     },
     "execution_count": 7,
     "metadata": {},
     "output_type": "execute_result"
    }
   ],
   "source": [
    "pca_gpu = cumlPCA(n_components = 25, batch_size=32)\n",
    "pca_processed = pca_gpu.fit_transform(scaled_data)\n",
    "cumltsne_final = cumlTSNE(n_components=2, perplexity=5, n_neighbors=50, method=\"exact\")\n",
    "cuml_processed = cumltsne_final.fit_transform(pca_processed)\n",
    "cumltsne_final.kl_divergence_"
   ]
  },
  {
   "cell_type": "code",
   "execution_count": 8,
   "metadata": {},
   "outputs": [
    {
     "data": {
      "text/plain": [
       "0.24280664324760437"
      ]
     },
     "execution_count": 8,
     "metadata": {},
     "output_type": "execute_result"
    }
   ],
   "source": [
    "cumltsne_final.kl_divergence_"
   ]
  },
  {
   "cell_type": "code",
   "execution_count": 9,
   "metadata": {},
   "outputs": [
    {
     "data": {
      "text/plain": [
       "(2337, 2)"
      ]
     },
     "execution_count": 9,
     "metadata": {},
     "output_type": "execute_result"
    }
   ],
   "source": [
    "cuml_processed.shape"
   ]
  },
  {
   "cell_type": "code",
   "execution_count": 10,
   "metadata": {},
   "outputs": [
    {
     "data": {
      "text/html": [
       "<div>\n",
       "<style scoped>\n",
       "    .dataframe tbody tr th:only-of-type {\n",
       "        vertical-align: middle;\n",
       "    }\n",
       "\n",
       "    .dataframe tbody tr th {\n",
       "        vertical-align: top;\n",
       "    }\n",
       "\n",
       "    .dataframe thead th {\n",
       "        text-align: right;\n",
       "    }\n",
       "</style>\n",
       "<table border=\"1\" class=\"dataframe\">\n",
       "  <thead>\n",
       "    <tr style=\"text-align: right;\">\n",
       "      <th></th>\n",
       "      <th>x</th>\n",
       "      <th>y</th>\n",
       "    </tr>\n",
       "  </thead>\n",
       "  <tbody>\n",
       "    <tr>\n",
       "      <th>0</th>\n",
       "      <td>38.576649</td>\n",
       "      <td>-39.150810</td>\n",
       "    </tr>\n",
       "    <tr>\n",
       "      <th>1</th>\n",
       "      <td>-54.216434</td>\n",
       "      <td>139.096512</td>\n",
       "    </tr>\n",
       "    <tr>\n",
       "      <th>2</th>\n",
       "      <td>104.826767</td>\n",
       "      <td>-55.286514</td>\n",
       "    </tr>\n",
       "    <tr>\n",
       "      <th>3</th>\n",
       "      <td>58.810375</td>\n",
       "      <td>-108.206070</td>\n",
       "    </tr>\n",
       "    <tr>\n",
       "      <th>4</th>\n",
       "      <td>-97.672928</td>\n",
       "      <td>-6.757593</td>\n",
       "    </tr>\n",
       "    <tr>\n",
       "      <th>...</th>\n",
       "      <td>...</td>\n",
       "      <td>...</td>\n",
       "    </tr>\n",
       "    <tr>\n",
       "      <th>2332</th>\n",
       "      <td>3.264577</td>\n",
       "      <td>-107.511368</td>\n",
       "    </tr>\n",
       "    <tr>\n",
       "      <th>2333</th>\n",
       "      <td>29.842676</td>\n",
       "      <td>19.792850</td>\n",
       "    </tr>\n",
       "    <tr>\n",
       "      <th>2334</th>\n",
       "      <td>2.137388</td>\n",
       "      <td>-94.250923</td>\n",
       "    </tr>\n",
       "    <tr>\n",
       "      <th>2335</th>\n",
       "      <td>40.597595</td>\n",
       "      <td>55.810890</td>\n",
       "    </tr>\n",
       "    <tr>\n",
       "      <th>2336</th>\n",
       "      <td>-104.320435</td>\n",
       "      <td>-26.231287</td>\n",
       "    </tr>\n",
       "  </tbody>\n",
       "</table>\n",
       "<p>2337 rows × 2 columns</p>\n",
       "</div>"
      ],
      "text/plain": [
       "               x           y\n",
       "0      38.576649  -39.150810\n",
       "1     -54.216434  139.096512\n",
       "2     104.826767  -55.286514\n",
       "3      58.810375 -108.206070\n",
       "4     -97.672928   -6.757593\n",
       "...          ...         ...\n",
       "2332    3.264577 -107.511368\n",
       "2333   29.842676   19.792850\n",
       "2334    2.137388  -94.250923\n",
       "2335   40.597595   55.810890\n",
       "2336 -104.320435  -26.231287\n",
       "\n",
       "[2337 rows x 2 columns]"
      ]
     },
     "execution_count": 10,
     "metadata": {},
     "output_type": "execute_result"
    }
   ],
   "source": [
    "column_axis = ['x', 'y']\n",
    "df_manifold = pd.DataFrame(cuml_processed, columns=column_axis, index=np.arange(cuml_processed.shape[0]))  \n",
    "df_manifold"
   ]
  },
  {
   "cell_type": "code",
   "execution_count": 11,
   "metadata": {},
   "outputs": [],
   "source": [
    "try:\n",
    "    os.makedirs(\"/mnt/f/cluster_analysis/gpt2/train/\")\n",
    "except:\n",
    "    pass"
   ]
  },
  {
   "cell_type": "code",
   "execution_count": 12,
   "metadata": {},
   "outputs": [],
   "source": [
    "def plot_dimension_reduction(manifold_processed_DataFrame):\n",
    "\n",
    "\tfig = go.Figure()\n",
    "\n",
    "\tfig.add_trace(go.Scatter(x=manifold_processed_DataFrame['x'], \n",
    "\t\t\t\t\ty=manifold_processed_DataFrame['y'],\n",
    "\t\t\t\t\tmode='markers', \n",
    "\t\t\t\t\tmarker=dict(color='LightSkyBlue', \n",
    "\t\t\t\t\t\t\t\tsize=12, line=dict(color='MediumPurple', width=2)),\n",
    "\t\t\t\t\tname='reals'))\n",
    "\n",
    "\tfig.update_layout(autosize=True, width=900, height=900)\n",
    "\tfig.update_layout(title='GPT2, Korean Food Training Dataset, Hidden State Output in 2D')\n",
    "\tfig.write_image('/mnt/f/cluster_analysis/gpt2/train/dtrain_manifold.webp')\n",
    "\tfig.write_image('/mnt/f/cluster_analysis/gpt2/train/dtrain_manifold.png')\n",
    "\tplotly.offline.plot(fig, filename = '/mnt/f/cluster_analysis/gpt2/train/dtrain_manifold.html', auto_open=False)"
   ]
  },
  {
   "cell_type": "code",
   "execution_count": 13,
   "metadata": {},
   "outputs": [],
   "source": [
    "plot_dimension_reduction(df_manifold)"
   ]
  },
  {
   "cell_type": "code",
   "execution_count": 14,
   "metadata": {},
   "outputs": [],
   "source": [
    "df_manifold.to_csv('/mnt/f/cluster_analysis/gpt2/train/dtrain_manifold.csv', index=False)"
   ]
  },
  {
   "cell_type": "code",
   "execution_count": null,
   "metadata": {},
   "outputs": [],
   "source": []
  },
  {
   "cell_type": "code",
   "execution_count": null,
   "metadata": {},
   "outputs": [],
   "source": []
  }
 ],
 "metadata": {
  "kernelspec": {
   "display_name": "Python 3",
   "language": "python",
   "name": "python3"
  },
  "language_info": {
   "codemirror_mode": {
    "name": "ipython",
    "version": 3
   },
   "file_extension": ".py",
   "mimetype": "text/x-python",
   "name": "python",
   "nbconvert_exporter": "python",
   "pygments_lexer": "ipython3",
   "version": "3.9.18"
  }
 },
 "nbformat": 4,
 "nbformat_minor": 2
}
