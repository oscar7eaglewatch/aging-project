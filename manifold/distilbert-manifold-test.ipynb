{
 "cells": [
  {
   "cell_type": "code",
   "execution_count": 1,
   "metadata": {},
   "outputs": [],
   "source": [
    "import os\n",
    "import numpy as np\n",
    "\n",
    "import time\n",
    "from sklearn.preprocessing import RobustScaler\n",
    "from sklearn.preprocessing import MaxAbsScaler\n",
    "from sklearn.preprocessing import MinMaxScaler\n",
    "from sklearn.preprocessing import StandardScaler\n",
    "from sklearn.metrics import davies_bouldin_score\n",
    "\n",
    "from cuml import IncrementalPCA as cumlPCA\n",
    "from cuml import TSNE as cumlTSNE\n",
    "\n",
    "\n",
    "import joblib\n",
    "import pandas as pd\n",
    "\n",
    "import json\n",
    "\n",
    "import plotly\n",
    "import plotly.express as px\n",
    "import plotly.graph_objects as go\n",
    "import tqdm\n",
    "\n",
    "# reset GPU\n",
    "import subprocess\n",
    "from numba import cuda\n",
    "import threading\n"
   ]
  },
  {
   "cell_type": "code",
   "execution_count": 2,
   "metadata": {},
   "outputs": [],
   "source": [
    "data_path = \"/mnt/f/cluster_analysis/distilbert-test.npy\""
   ]
  },
  {
   "cell_type": "code",
   "execution_count": 3,
   "metadata": {},
   "outputs": [],
   "source": [
    "data = np.load(data_path)"
   ]
  },
  {
   "cell_type": "code",
   "execution_count": 4,
   "metadata": {},
   "outputs": [
    {
     "data": {
      "text/plain": [
       "(584, 294912)"
      ]
     },
     "execution_count": 4,
     "metadata": {},
     "output_type": "execute_result"
    }
   ],
   "source": [
    "data.shape"
   ]
  },
  {
   "cell_type": "code",
   "execution_count": 5,
   "metadata": {},
   "outputs": [
    {
     "data": {
      "text/plain": [
       "array([[-1.03429747,  0.75285625, -0.12534927, ...,  0.69523805,\n",
       "        -1.36313701, -0.57561493],\n",
       "       [-1.03681886,  0.76581448, -0.11867484, ...,  0.68454576,\n",
       "        -1.3793354 , -0.55683678],\n",
       "       [-1.04473364,  0.75014418, -0.11938943, ...,  0.68804699,\n",
       "        -1.37801635, -0.55951768],\n",
       "       ...,\n",
       "       [-1.05106902,  0.75740474, -0.11918234, ...,  0.68745422,\n",
       "        -1.37183642, -0.5624885 ],\n",
       "       [-1.03620577,  0.75632888, -0.12579644, ...,  0.6876002 ,\n",
       "        -1.37288237, -0.56787789],\n",
       "       [-1.03971851,  0.75834543, -0.11320455, ...,  0.69876885,\n",
       "        -1.37027085, -0.5637297 ]])"
      ]
     },
     "execution_count": 5,
     "metadata": {},
     "output_type": "execute_result"
    }
   ],
   "source": [
    "data"
   ]
  },
  {
   "cell_type": "code",
   "execution_count": 6,
   "metadata": {},
   "outputs": [],
   "source": [
    "scaler = RobustScaler()\n",
    "scaled_data = scaler.fit_transform(data)"
   ]
  },
  {
   "cell_type": "code",
   "execution_count": 25,
   "metadata": {},
   "outputs": [
    {
     "data": {
      "text/plain": [
       "0.3680535554885864"
      ]
     },
     "execution_count": 25,
     "metadata": {},
     "output_type": "execute_result"
    }
   ],
   "source": [
    "pca_gpu = cumlPCA(n_components = 25, batch_size=32)\n",
    "pca_processed = pca_gpu.fit_transform(scaled_data)\n",
    "cumltsne_final = cumlTSNE(n_components=2, perplexity=5, n_neighbors=50, method=\"exact\")\n",
    "cuml_processed = cumltsne_final.fit_transform(pca_processed)\n",
    "cumltsne_final.kl_divergence_"
   ]
  },
  {
   "cell_type": "code",
   "execution_count": 26,
   "metadata": {},
   "outputs": [
    {
     "data": {
      "text/plain": [
       "0.3680535554885864"
      ]
     },
     "execution_count": 26,
     "metadata": {},
     "output_type": "execute_result"
    }
   ],
   "source": [
    "cumltsne_final.kl_divergence_"
   ]
  },
  {
   "cell_type": "code",
   "execution_count": 27,
   "metadata": {},
   "outputs": [
    {
     "data": {
      "text/plain": [
       "(584, 2)"
      ]
     },
     "execution_count": 27,
     "metadata": {},
     "output_type": "execute_result"
    }
   ],
   "source": [
    "cuml_processed.shape"
   ]
  },
  {
   "cell_type": "code",
   "execution_count": 28,
   "metadata": {},
   "outputs": [
    {
     "data": {
      "text/html": [
       "<div>\n",
       "<style scoped>\n",
       "    .dataframe tbody tr th:only-of-type {\n",
       "        vertical-align: middle;\n",
       "    }\n",
       "\n",
       "    .dataframe tbody tr th {\n",
       "        vertical-align: top;\n",
       "    }\n",
       "\n",
       "    .dataframe thead th {\n",
       "        text-align: right;\n",
       "    }\n",
       "</style>\n",
       "<table border=\"1\" class=\"dataframe\">\n",
       "  <thead>\n",
       "    <tr style=\"text-align: right;\">\n",
       "      <th></th>\n",
       "      <th>x</th>\n",
       "      <th>y</th>\n",
       "    </tr>\n",
       "  </thead>\n",
       "  <tbody>\n",
       "    <tr>\n",
       "      <th>0</th>\n",
       "      <td>-41.682705</td>\n",
       "      <td>43.882267</td>\n",
       "    </tr>\n",
       "    <tr>\n",
       "      <th>1</th>\n",
       "      <td>35.175560</td>\n",
       "      <td>19.549891</td>\n",
       "    </tr>\n",
       "    <tr>\n",
       "      <th>2</th>\n",
       "      <td>51.287228</td>\n",
       "      <td>-53.525631</td>\n",
       "    </tr>\n",
       "    <tr>\n",
       "      <th>3</th>\n",
       "      <td>-26.423721</td>\n",
       "      <td>-63.671886</td>\n",
       "    </tr>\n",
       "    <tr>\n",
       "      <th>4</th>\n",
       "      <td>-37.171738</td>\n",
       "      <td>-56.850910</td>\n",
       "    </tr>\n",
       "    <tr>\n",
       "      <th>...</th>\n",
       "      <td>...</td>\n",
       "      <td>...</td>\n",
       "    </tr>\n",
       "    <tr>\n",
       "      <th>579</th>\n",
       "      <td>-30.582468</td>\n",
       "      <td>-63.839230</td>\n",
       "    </tr>\n",
       "    <tr>\n",
       "      <th>580</th>\n",
       "      <td>41.885387</td>\n",
       "      <td>25.668541</td>\n",
       "    </tr>\n",
       "    <tr>\n",
       "      <th>581</th>\n",
       "      <td>-13.974753</td>\n",
       "      <td>5.951581</td>\n",
       "    </tr>\n",
       "    <tr>\n",
       "      <th>582</th>\n",
       "      <td>-80.353561</td>\n",
       "      <td>-0.445030</td>\n",
       "    </tr>\n",
       "    <tr>\n",
       "      <th>583</th>\n",
       "      <td>-39.343739</td>\n",
       "      <td>52.818432</td>\n",
       "    </tr>\n",
       "  </tbody>\n",
       "</table>\n",
       "<p>584 rows × 2 columns</p>\n",
       "</div>"
      ],
      "text/plain": [
       "             x          y\n",
       "0   -41.682705  43.882267\n",
       "1    35.175560  19.549891\n",
       "2    51.287228 -53.525631\n",
       "3   -26.423721 -63.671886\n",
       "4   -37.171738 -56.850910\n",
       "..         ...        ...\n",
       "579 -30.582468 -63.839230\n",
       "580  41.885387  25.668541\n",
       "581 -13.974753   5.951581\n",
       "582 -80.353561  -0.445030\n",
       "583 -39.343739  52.818432\n",
       "\n",
       "[584 rows x 2 columns]"
      ]
     },
     "execution_count": 28,
     "metadata": {},
     "output_type": "execute_result"
    }
   ],
   "source": [
    "column_axis = ['x', 'y']\n",
    "df_manifold = pd.DataFrame(cuml_processed, columns=column_axis, index=np.arange(cuml_processed.shape[0]))  \n",
    "df_manifold"
   ]
  },
  {
   "cell_type": "code",
   "execution_count": 29,
   "metadata": {},
   "outputs": [],
   "source": [
    "try:\n",
    "    os.makedirs(\"/mnt/f/cluster_analysis/distilBERT/test/\")\n",
    "except:\n",
    "    pass"
   ]
  },
  {
   "cell_type": "code",
   "execution_count": 30,
   "metadata": {},
   "outputs": [],
   "source": [
    "def plot_dimension_reduction(manifold_processed_DataFrame):\n",
    "\n",
    "\tfig = go.Figure()\n",
    "\n",
    "\tfig.add_trace(go.Scatter(x=manifold_processed_DataFrame['x'], \n",
    "\t\t\t\t\ty=manifold_processed_DataFrame['y'],\n",
    "\t\t\t\t\tmode='markers', \n",
    "\t\t\t\t\tmarker=dict(color='LightSkyBlue', \n",
    "\t\t\t\t\t\t\t\tsize=12, line=dict(color='MediumPurple', width=2)),\n",
    "\t\t\t\t\tname='reals'))\n",
    "\n",
    "\tfig.update_layout(autosize=True, width=900, height=900)\n",
    "\tfig.update_layout(title='DistilBERT, Korean Food Test Dataset, Hidden State Output in 2D')\n",
    "\tfig.write_image('/mnt/f/cluster_analysis/distilBERT/test/dtest_manifold.webp')\n",
    "\tfig.write_image('/mnt/f/cluster_analysis/distilBERT/test/dtest_manifold.png')\n",
    "\tplotly.offline.plot(fig, filename = '/mnt/f/cluster_analysis/distilBERT/test/dtest_manifold.html', auto_open=False)\n"
   ]
  },
  {
   "cell_type": "code",
   "execution_count": 31,
   "metadata": {},
   "outputs": [],
   "source": [
    "plot_dimension_reduction(df_manifold)"
   ]
  },
  {
   "cell_type": "code",
   "execution_count": 32,
   "metadata": {},
   "outputs": [],
   "source": [
    "df_manifold.to_csv('/mnt/f/cluster_analysis/distilBERT/test/dtest_manifold.csv', index=False)"
   ]
  },
  {
   "cell_type": "code",
   "execution_count": null,
   "metadata": {},
   "outputs": [],
   "source": []
  },
  {
   "cell_type": "code",
   "execution_count": null,
   "metadata": {},
   "outputs": [],
   "source": []
  }
 ],
 "metadata": {
  "kernelspec": {
   "display_name": "Python 3",
   "language": "python",
   "name": "python3"
  },
  "language_info": {
   "codemirror_mode": {
    "name": "ipython",
    "version": 3
   },
   "file_extension": ".py",
   "mimetype": "text/x-python",
   "name": "python",
   "nbconvert_exporter": "python",
   "pygments_lexer": "ipython3",
   "version": "3.9.18"
  }
 },
 "nbformat": 4,
 "nbformat_minor": 2
}
