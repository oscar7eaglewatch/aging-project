{
 "cells": [
  {
   "cell_type": "code",
   "execution_count": 1,
   "metadata": {},
   "outputs": [],
   "source": [
    "import os\n",
    "import numpy as np\n",
    "\n",
    "import time\n",
    "from sklearn.preprocessing import RobustScaler\n",
    "from sklearn.preprocessing import MaxAbsScaler\n",
    "from sklearn.preprocessing import MinMaxScaler\n",
    "from sklearn.preprocessing import StandardScaler\n",
    "from sklearn.metrics import davies_bouldin_score\n",
    "\n",
    "from cuml import IncrementalPCA as cumlPCA\n",
    "from cuml import TSNE as cumlTSNE\n",
    "\n",
    "\n",
    "import joblib\n",
    "import pandas as pd\n",
    "\n",
    "import json\n",
    "\n",
    "import plotly\n",
    "import plotly.express as px\n",
    "import plotly.graph_objects as go\n",
    "import tqdm\n",
    "\n",
    "# reset GPU\n",
    "import subprocess\n",
    "from numba import cuda\n",
    "import threading\n"
   ]
  },
  {
   "cell_type": "code",
   "execution_count": 2,
   "metadata": {},
   "outputs": [],
   "source": [
    "data_path = \"/mnt/f/cluster_analysis/kobert_test.npy\""
   ]
  },
  {
   "cell_type": "code",
   "execution_count": 3,
   "metadata": {},
   "outputs": [],
   "source": [
    "data = np.load(data_path)"
   ]
  },
  {
   "cell_type": "code",
   "execution_count": 4,
   "metadata": {},
   "outputs": [
    {
     "data": {
      "text/plain": [
       "(584, 294912)"
      ]
     },
     "execution_count": 4,
     "metadata": {},
     "output_type": "execute_result"
    }
   ],
   "source": [
    "data.shape"
   ]
  },
  {
   "cell_type": "code",
   "execution_count": 5,
   "metadata": {},
   "outputs": [
    {
     "data": {
      "text/plain": [
       "array([[-0.00673927, -0.27696738,  0.18406919, ..., -0.26043224,\n",
       "        -0.51055956,  0.2976166 ],\n",
       "       [-0.30848643,  0.0253956 ,  0.2490128 , ..., -0.39589956,\n",
       "        -0.61496603,  0.32088938],\n",
       "       [-0.1203639 , -0.17493483,  0.49172568, ..., -0.22080015,\n",
       "        -0.43350857,  0.31536001],\n",
       "       ...,\n",
       "       [-0.11639293, -0.11735741,  0.19944194, ..., -0.23721074,\n",
       "        -0.61880887,  0.16988194],\n",
       "       [-0.06783877, -0.13779117, -0.04867897, ..., -0.28151396,\n",
       "        -0.51182514,  0.69420105],\n",
       "       [ 0.05839941, -0.33118621,  0.0842925 , ..., -0.10381245,\n",
       "        -0.35972151,  0.18938683]])"
      ]
     },
     "execution_count": 5,
     "metadata": {},
     "output_type": "execute_result"
    }
   ],
   "source": [
    "data"
   ]
  },
  {
   "cell_type": "code",
   "execution_count": 6,
   "metadata": {},
   "outputs": [],
   "source": [
    "scaler = RobustScaler()\n",
    "scaled_data = scaler.fit_transform(data)"
   ]
  },
  {
   "cell_type": "code",
   "execution_count": 7,
   "metadata": {},
   "outputs": [
    {
     "data": {
      "text/plain": [
       "0.25436070561408997"
      ]
     },
     "execution_count": 7,
     "metadata": {},
     "output_type": "execute_result"
    }
   ],
   "source": [
    "pca_gpu = cumlPCA(n_components = 25, batch_size=32)\n",
    "pca_processed = pca_gpu.fit_transform(scaled_data)\n",
    "cumltsne_final = cumlTSNE(n_components=2, perplexity=5, n_neighbors=50, method=\"exact\")\n",
    "cuml_processed = cumltsne_final.fit_transform(pca_processed)\n",
    "cumltsne_final.kl_divergence_"
   ]
  },
  {
   "cell_type": "code",
   "execution_count": 8,
   "metadata": {},
   "outputs": [
    {
     "data": {
      "text/plain": [
       "0.25436070561408997"
      ]
     },
     "execution_count": 8,
     "metadata": {},
     "output_type": "execute_result"
    }
   ],
   "source": [
    "cumltsne_final.kl_divergence_"
   ]
  },
  {
   "cell_type": "code",
   "execution_count": 9,
   "metadata": {},
   "outputs": [
    {
     "data": {
      "text/plain": [
       "(584, 2)"
      ]
     },
     "execution_count": 9,
     "metadata": {},
     "output_type": "execute_result"
    }
   ],
   "source": [
    "cuml_processed.shape"
   ]
  },
  {
   "cell_type": "code",
   "execution_count": 10,
   "metadata": {},
   "outputs": [
    {
     "data": {
      "text/html": [
       "<div>\n",
       "<style scoped>\n",
       "    .dataframe tbody tr th:only-of-type {\n",
       "        vertical-align: middle;\n",
       "    }\n",
       "\n",
       "    .dataframe tbody tr th {\n",
       "        vertical-align: top;\n",
       "    }\n",
       "\n",
       "    .dataframe thead th {\n",
       "        text-align: right;\n",
       "    }\n",
       "</style>\n",
       "<table border=\"1\" class=\"dataframe\">\n",
       "  <thead>\n",
       "    <tr style=\"text-align: right;\">\n",
       "      <th></th>\n",
       "      <th>x</th>\n",
       "      <th>y</th>\n",
       "    </tr>\n",
       "  </thead>\n",
       "  <tbody>\n",
       "    <tr>\n",
       "      <th>0</th>\n",
       "      <td>-35.619770</td>\n",
       "      <td>58.024300</td>\n",
       "    </tr>\n",
       "    <tr>\n",
       "      <th>1</th>\n",
       "      <td>-43.282856</td>\n",
       "      <td>6.999091</td>\n",
       "    </tr>\n",
       "    <tr>\n",
       "      <th>2</th>\n",
       "      <td>-12.151334</td>\n",
       "      <td>18.501585</td>\n",
       "    </tr>\n",
       "    <tr>\n",
       "      <th>3</th>\n",
       "      <td>-54.887043</td>\n",
       "      <td>4.461901</td>\n",
       "    </tr>\n",
       "    <tr>\n",
       "      <th>4</th>\n",
       "      <td>34.845520</td>\n",
       "      <td>12.508245</td>\n",
       "    </tr>\n",
       "    <tr>\n",
       "      <th>...</th>\n",
       "      <td>...</td>\n",
       "      <td>...</td>\n",
       "    </tr>\n",
       "    <tr>\n",
       "      <th>579</th>\n",
       "      <td>37.783928</td>\n",
       "      <td>3.886666</td>\n",
       "    </tr>\n",
       "    <tr>\n",
       "      <th>580</th>\n",
       "      <td>-37.135948</td>\n",
       "      <td>-50.223747</td>\n",
       "    </tr>\n",
       "    <tr>\n",
       "      <th>581</th>\n",
       "      <td>-36.071941</td>\n",
       "      <td>-44.177242</td>\n",
       "    </tr>\n",
       "    <tr>\n",
       "      <th>582</th>\n",
       "      <td>7.665291</td>\n",
       "      <td>10.419816</td>\n",
       "    </tr>\n",
       "    <tr>\n",
       "      <th>583</th>\n",
       "      <td>26.983589</td>\n",
       "      <td>-28.843388</td>\n",
       "    </tr>\n",
       "  </tbody>\n",
       "</table>\n",
       "<p>584 rows × 2 columns</p>\n",
       "</div>"
      ],
      "text/plain": [
       "             x          y\n",
       "0   -35.619770  58.024300\n",
       "1   -43.282856   6.999091\n",
       "2   -12.151334  18.501585\n",
       "3   -54.887043   4.461901\n",
       "4    34.845520  12.508245\n",
       "..         ...        ...\n",
       "579  37.783928   3.886666\n",
       "580 -37.135948 -50.223747\n",
       "581 -36.071941 -44.177242\n",
       "582   7.665291  10.419816\n",
       "583  26.983589 -28.843388\n",
       "\n",
       "[584 rows x 2 columns]"
      ]
     },
     "execution_count": 10,
     "metadata": {},
     "output_type": "execute_result"
    }
   ],
   "source": [
    "column_axis = ['x', 'y']\n",
    "df_manifold = pd.DataFrame(cuml_processed, columns=column_axis, index=np.arange(cuml_processed.shape[0]))  \n",
    "df_manifold"
   ]
  },
  {
   "cell_type": "code",
   "execution_count": null,
   "metadata": {},
   "outputs": [],
   "source": [
    "try:\n",
    "    os.makedirs(\"/mnt/f/cluster_analysis/kobert/test/\")\n",
    "except:\n",
    "    pass"
   ]
  },
  {
   "cell_type": "code",
   "execution_count": 11,
   "metadata": {},
   "outputs": [],
   "source": [
    "def plot_dimension_reduction(manifold_processed_DataFrame):\n",
    "\n",
    "\tfig = go.Figure()\n",
    "\n",
    "\tfig.add_trace(go.Scatter(x=manifold_processed_DataFrame['x'], \n",
    "\t\t\t\t\ty=manifold_processed_DataFrame['y'],\n",
    "\t\t\t\t\tmode='markers', \n",
    "\t\t\t\t\tmarker=dict(color='LightSkyBlue', \n",
    "\t\t\t\t\t\t\t\tsize=12, line=dict(color='MediumPurple', width=2)),\n",
    "\t\t\t\t\tname='reals'))\n",
    "\n",
    "\tfig.update_layout(autosize=True, width=900, height=900)\n",
    "\tfig.update_layout(title='KoBERT, Korean Food Training Dataset, Hidden State Output in 2D')\n",
    "\tfig.write_image('/mnt/f/cluster_analysis/kobert/test/dtest_manifold.webp')\n",
    "\tfig.write_image('/mnt/f/cluster_analysis/kobert/test/dtest_manifold.png')\n",
    "\tplotly.offline.plot(fig, filename = '/mnt/f/cluster_analysis/kobert/test/dtest_manifold.html', auto_open=False)"
   ]
  },
  {
   "cell_type": "code",
   "execution_count": 12,
   "metadata": {},
   "outputs": [],
   "source": [
    "plot_dimension_reduction(df_manifold)"
   ]
  },
  {
   "cell_type": "code",
   "execution_count": 13,
   "metadata": {},
   "outputs": [],
   "source": [
    "df_manifold.to_csv('/mnt/f/cluster_analysis/kobert/test/dtest_manifold', index=False)"
   ]
  },
  {
   "cell_type": "code",
   "execution_count": null,
   "metadata": {},
   "outputs": [],
   "source": []
  },
  {
   "cell_type": "code",
   "execution_count": null,
   "metadata": {},
   "outputs": [],
   "source": []
  }
 ],
 "metadata": {
  "kernelspec": {
   "display_name": "Python 3",
   "language": "python",
   "name": "python3"
  },
  "language_info": {
   "codemirror_mode": {
    "name": "ipython",
    "version": 3
   },
   "file_extension": ".py",
   "mimetype": "text/x-python",
   "name": "python",
   "nbconvert_exporter": "python",
   "pygments_lexer": "ipython3",
   "version": "3.9.18"
  }
 },
 "nbformat": 4,
 "nbformat_minor": 2
}
