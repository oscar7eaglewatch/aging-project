{
 "cells": [
  {
   "cell_type": "code",
   "execution_count": 1,
   "metadata": {},
   "outputs": [],
   "source": [
    "import os\n",
    "import numpy as np\n",
    "\n",
    "import time\n",
    "from sklearn.metrics import davies_bouldin_score\n",
    "\n",
    "from cuml import KMeans as cuml_kmeans\n",
    "from cuml.cluster import DBSCAN as cuml_dbscan\n",
    "from cuml import AgglomerativeClustering as cuml_agglomerative\n",
    "from cuml.metrics.cluster.silhouette_score import cython_silhouette_score, cython_silhouette_samples\n",
    "\n",
    "import joblib\n",
    "import pandas as pd\n",
    "\n",
    "import json\n",
    "\n",
    "\n",
    "import plotly\n",
    "import plotly.express as px\n",
    "\n",
    "# reset GPU\n",
    "import subprocess\n",
    "from numba import cuda\n",
    "import threading"
   ]
  },
  {
   "cell_type": "code",
   "execution_count": 2,
   "metadata": {},
   "outputs": [],
   "source": [
    "def get_simple_fraction(f, detail_level=1000.):\n",
    "\treturn int(detail_level * f) / detail_level"
   ]
  },
  {
   "cell_type": "code",
   "execution_count": 3,
   "metadata": {},
   "outputs": [],
   "source": [
    "def find_the_best_eps(eps_chosen, n_clusters, silhouette_scores, davies_bouldin_scores, n_noise_points):\n",
    "\tdata_interested = []\n",
    "\tfor each in list(np.argwhere(n_clusters == np.amax(n_clusters))[:, 0]):\n",
    "\t\tdata_interested.append(each)\n",
    "\n",
    "\tfor each in list(np.argwhere(n_noise_points == np.amin(n_noise_points))[:, 0]):\n",
    "\t\tdata_interested.append(each)\n",
    "\n",
    "\tfor each in list(np.argwhere(silhouette_scores == np.amax(silhouette_scores))[:, 0]):\n",
    "\t\tdata_interested.append(each)\n",
    "\n",
    "\t#for each in list(np.argwhere(calinski_harabasz_scores == np.amax(calinski_harabasz_scores))[:, 0]):\n",
    "\t#\tdata_interested.append(each)\n",
    "\n",
    "\tfor each in list(np.argwhere(davies_bouldin_scores == np.amin(davies_bouldin_scores))[:, 0]):\n",
    "\t\tdata_interested.append(each)\n",
    "\n",
    "\tmost_frequent_data_point = np.bincount(data_interested).argmax()  # first of most frequent data point\n",
    "\n",
    "\treturn eps_chosen[most_frequent_data_point]\n"
   ]
  },
  {
   "cell_type": "code",
   "execution_count": 4,
   "metadata": {},
   "outputs": [],
   "source": [
    "def cluster_analysis_dbscan(pre_cluster_DataFrame, min_samples, eps_range=[0.001, 10, 0.2]):\n",
    "\tall_eps_ranges = np.arange(eps_range[0], eps_range[1], eps_range[2])\n",
    "\n",
    "\toutputs = []\n",
    "\tfor i in range(all_eps_ranges.shape[0]):\n",
    "\t\teps_val = all_eps_ranges[i]\n",
    "\t\tdbscan_rapids = cuml_dbscan(eps=eps_val, min_samples=min_samples, verbose=0)\n",
    "\t\t# assume that the min. number of neighbors in N-D can be used here, too.\n",
    "\t\tlabel_outputs = dbscan_rapids.fit(pre_cluster_DataFrame)\n",
    "\t\toutputs.append(label_outputs.labels_)\n",
    "\n",
    "\treal_eps = []\n",
    "\tn_clusters = []\n",
    "\tn_noise_points = []\n",
    "\tsilhouette_scores = []\n",
    "\tcalinski_harabasz_scores = []\n",
    "\tdavies_bouldin_scores = []\n",
    "\n",
    "\tfor i in range(all_eps_ranges.shape[0]):\n",
    "\n",
    "\t\tlabels = outputs[i]\n",
    "\n",
    "\t\tnum_unique = len(np.unique(labels))\n",
    "\n",
    "\t\tif num_unique == 1:\n",
    "\t\t\t# print ('eps dropped: ', eps_val)\n",
    "\t\t\tcontinue  # silhouette_score needs at least 2 clusters\n",
    "\n",
    "\t\treal_eps.append(all_eps_ranges[i])\n",
    "\t\tn_clusters.append(np.max(labels) + 1)\n",
    "\t\tn_noise_points.append(np.sum(labels == -1))\n",
    "\t\tsilhouette_scores.append(cython_silhouette_score(pre_cluster_DataFrame, labels))\n",
    "\t\t# calinski_harabasz_scores.append(calinski_harabasz_score(pre_cluster_DataFrame, labels))\n",
    "\t\tdavies_bouldin_scores.append(davies_bouldin_score(pre_cluster_DataFrame, labels))\n",
    "\n",
    "\treturn find_the_best_eps(real_eps, n_clusters, silhouette_scores, davies_bouldin_scores, n_noise_points)\n",
    "\n"
   ]
  },
  {
   "cell_type": "code",
   "execution_count": 38,
   "metadata": {},
   "outputs": [],
   "source": [
    "def plot_cluster_dbscan_result(final_df, cluster_max):\n",
    "\t\n",
    "\tfig = px.scatter(final_df, x=\"x\", y=\"y\", color=\"prediction\", title='clustering')\n",
    "\n",
    "\tfig.update_layout(autosize=True, width=900, height=900)\n",
    "\tfig.update_layout(title='DistilBERT, Korean Food Training Dataset, DBSCAN Clustering')\n",
    "\n",
    "\tfor each in cluster_max:\n",
    "\t\t\n",
    "\t\tx_centroids = final_df[final_df['prediction'] == each][['x']].mean()[0]\n",
    "\t\ty_centroids = final_df[final_df['prediction'] == each][['y']].mean()[0]\n",
    "\t\t\n",
    "\t\tif each != -1:\n",
    "\t\t\tfig.add_annotation(dict(font=dict(color='White',size=15),\n",
    "\t\t\t\t\t\t\t\t\t\t\tx=x_centroids,\n",
    "\t\t\t\t\t\t\t\t\t\t\ty=y_centroids,\n",
    "\t\t\t\t\t\t\t\t\t\t\tshowarrow=False,\n",
    "\t\t\t\t\t\t\t\t\t\t\ttext=str(each),\n",
    "\t\t\t\t\t\t\t\t\t\t\ttextangle=0,\n",
    "\t\t\t\t\t\t\t\t\t\t\tbgcolor=\"Blue\",\n",
    "                \t\t\t\t\t\t\topacity=0.74))\n",
    "\t\telse:\n",
    "\t\t\tnoise_count = len(final_df[final_df['prediction'] == -1])\n",
    "\t\t\tnoise_cluster = final_df[final_df['prediction'] == -1].reset_index(drop=True)\n",
    "\t\t\t\n",
    "\t\t\tfor j in range(noise_count):\n",
    "\t\t\t\tfig.add_annotation(dict(font=dict(color='White',size=10),\n",
    "\t\t\t\t\t\t\t\t\t\t\tx=noise_cluster.x[j],\n",
    "\t\t\t\t\t\t\t\t\t\t\ty=noise_cluster.y[j],\n",
    "\t\t\t\t\t\t\t\t\t\t\tshowarrow=False,\n",
    "\t\t\t\t\t\t\t\t\t\t\ttext='X',\n",
    "\t\t\t\t\t\t\t\t\t\t\ttextangle=0,\n",
    "\t\t\t\t\t\t\t\t\t\t\tbgcolor=\"White\",\n",
    "                \t\t\t\t\t\t\topacity=0.64))\n",
    "\n",
    "\tfig.write_image('post-clustering.webp')\n",
    "\tfig.write_image('post-clustering.png')\n",
    "\tplotly.offline.plot(fig, filename = 'post-clustering.html', auto_open=False)"
   ]
  },
  {
   "cell_type": "code",
   "execution_count": 6,
   "metadata": {},
   "outputs": [],
   "source": [
    "def get_euclidean(p1, p2):\n",
    "\treturn np.sqrt(pow(np.linalg.norm(p1[0] - p2[0]), 2) + pow(np.linalg.norm(p1[1] - p2[1]), 2))"
   ]
  },
  {
   "cell_type": "code",
   "execution_count": 8,
   "metadata": {},
   "outputs": [],
   "source": [
    "df = pd.read_csv(\"/mnt/d/works/paperworks/2023/aging/dtrain_manifold.csv\")"
   ]
  },
  {
   "cell_type": "code",
   "execution_count": 9,
   "metadata": {},
   "outputs": [
    {
     "data": {
      "text/html": [
       "<div>\n",
       "<style scoped>\n",
       "    .dataframe tbody tr th:only-of-type {\n",
       "        vertical-align: middle;\n",
       "    }\n",
       "\n",
       "    .dataframe tbody tr th {\n",
       "        vertical-align: top;\n",
       "    }\n",
       "\n",
       "    .dataframe thead th {\n",
       "        text-align: right;\n",
       "    }\n",
       "</style>\n",
       "<table border=\"1\" class=\"dataframe\">\n",
       "  <thead>\n",
       "    <tr style=\"text-align: right;\">\n",
       "      <th></th>\n",
       "      <th>x</th>\n",
       "      <th>y</th>\n",
       "    </tr>\n",
       "  </thead>\n",
       "  <tbody>\n",
       "    <tr>\n",
       "      <th>0</th>\n",
       "      <td>-117.752180</td>\n",
       "      <td>-44.765297</td>\n",
       "    </tr>\n",
       "    <tr>\n",
       "      <th>1</th>\n",
       "      <td>3.223371</td>\n",
       "      <td>94.655080</td>\n",
       "    </tr>\n",
       "    <tr>\n",
       "      <th>2</th>\n",
       "      <td>-80.087160</td>\n",
       "      <td>-69.563360</td>\n",
       "    </tr>\n",
       "    <tr>\n",
       "      <th>3</th>\n",
       "      <td>-75.593560</td>\n",
       "      <td>65.009050</td>\n",
       "    </tr>\n",
       "    <tr>\n",
       "      <th>4</th>\n",
       "      <td>15.957396</td>\n",
       "      <td>125.094986</td>\n",
       "    </tr>\n",
       "    <tr>\n",
       "      <th>...</th>\n",
       "      <td>...</td>\n",
       "      <td>...</td>\n",
       "    </tr>\n",
       "    <tr>\n",
       "      <th>2332</th>\n",
       "      <td>22.260605</td>\n",
       "      <td>-0.802777</td>\n",
       "    </tr>\n",
       "    <tr>\n",
       "      <th>2333</th>\n",
       "      <td>-12.615958</td>\n",
       "      <td>-71.338540</td>\n",
       "    </tr>\n",
       "    <tr>\n",
       "      <th>2334</th>\n",
       "      <td>-17.663586</td>\n",
       "      <td>16.931108</td>\n",
       "    </tr>\n",
       "    <tr>\n",
       "      <th>2335</th>\n",
       "      <td>-31.762358</td>\n",
       "      <td>-33.692554</td>\n",
       "    </tr>\n",
       "    <tr>\n",
       "      <th>2336</th>\n",
       "      <td>71.931220</td>\n",
       "      <td>-19.536835</td>\n",
       "    </tr>\n",
       "  </tbody>\n",
       "</table>\n",
       "<p>2337 rows × 2 columns</p>\n",
       "</div>"
      ],
      "text/plain": [
       "               x           y\n",
       "0    -117.752180  -44.765297\n",
       "1       3.223371   94.655080\n",
       "2     -80.087160  -69.563360\n",
       "3     -75.593560   65.009050\n",
       "4      15.957396  125.094986\n",
       "...          ...         ...\n",
       "2332   22.260605   -0.802777\n",
       "2333  -12.615958  -71.338540\n",
       "2334  -17.663586   16.931108\n",
       "2335  -31.762358  -33.692554\n",
       "2336   71.931220  -19.536835\n",
       "\n",
       "[2337 rows x 2 columns]"
      ]
     },
     "execution_count": 9,
     "metadata": {},
     "output_type": "execute_result"
    }
   ],
   "source": [
    "df"
   ]
  },
  {
   "cell_type": "code",
   "execution_count": 28,
   "metadata": {},
   "outputs": [],
   "source": [
    "the_best_eps = cluster_analysis_dbscan(df, 5, eps_range=[0.001, 50, 0.2])"
   ]
  },
  {
   "cell_type": "code",
   "execution_count": 29,
   "metadata": {},
   "outputs": [
    {
     "data": {
      "text/plain": [
       "3.801"
      ]
     },
     "execution_count": 29,
     "metadata": {},
     "output_type": "execute_result"
    }
   ],
   "source": [
    "the_best_eps"
   ]
  },
  {
   "cell_type": "code",
   "execution_count": 30,
   "metadata": {},
   "outputs": [],
   "source": [
    "clusterer = cuml_dbscan(eps=the_best_eps, min_samples=5, verbose=0)\n",
    "label_outputs = clusterer.fit_predict(df)"
   ]
  },
  {
   "cell_type": "code",
   "execution_count": 31,
   "metadata": {},
   "outputs": [
    {
     "data": {
      "text/plain": [
       "0         0\n",
       "1         1\n",
       "2         2\n",
       "3         3\n",
       "4         4\n",
       "       ... \n",
       "2332    148\n",
       "2333     -1\n",
       "2334     26\n",
       "2335     -1\n",
       "2336    150\n",
       "Length: 2337, dtype: int32"
      ]
     },
     "execution_count": 31,
     "metadata": {},
     "output_type": "execute_result"
    }
   ],
   "source": [
    "label_outputs"
   ]
  },
  {
   "cell_type": "code",
   "execution_count": 32,
   "metadata": {},
   "outputs": [],
   "source": [
    "df['prediction'] = label_outputs"
   ]
  },
  {
   "cell_type": "code",
   "execution_count": 33,
   "metadata": {},
   "outputs": [
    {
     "data": {
      "text/html": [
       "<div>\n",
       "<style scoped>\n",
       "    .dataframe tbody tr th:only-of-type {\n",
       "        vertical-align: middle;\n",
       "    }\n",
       "\n",
       "    .dataframe tbody tr th {\n",
       "        vertical-align: top;\n",
       "    }\n",
       "\n",
       "    .dataframe thead th {\n",
       "        text-align: right;\n",
       "    }\n",
       "</style>\n",
       "<table border=\"1\" class=\"dataframe\">\n",
       "  <thead>\n",
       "    <tr style=\"text-align: right;\">\n",
       "      <th></th>\n",
       "      <th>x</th>\n",
       "      <th>y</th>\n",
       "      <th>prediction</th>\n",
       "    </tr>\n",
       "  </thead>\n",
       "  <tbody>\n",
       "    <tr>\n",
       "      <th>0</th>\n",
       "      <td>-117.752180</td>\n",
       "      <td>-44.765297</td>\n",
       "      <td>0</td>\n",
       "    </tr>\n",
       "    <tr>\n",
       "      <th>1</th>\n",
       "      <td>3.223371</td>\n",
       "      <td>94.655080</td>\n",
       "      <td>1</td>\n",
       "    </tr>\n",
       "    <tr>\n",
       "      <th>2</th>\n",
       "      <td>-80.087160</td>\n",
       "      <td>-69.563360</td>\n",
       "      <td>2</td>\n",
       "    </tr>\n",
       "    <tr>\n",
       "      <th>3</th>\n",
       "      <td>-75.593560</td>\n",
       "      <td>65.009050</td>\n",
       "      <td>3</td>\n",
       "    </tr>\n",
       "    <tr>\n",
       "      <th>4</th>\n",
       "      <td>15.957396</td>\n",
       "      <td>125.094986</td>\n",
       "      <td>4</td>\n",
       "    </tr>\n",
       "    <tr>\n",
       "      <th>...</th>\n",
       "      <td>...</td>\n",
       "      <td>...</td>\n",
       "      <td>...</td>\n",
       "    </tr>\n",
       "    <tr>\n",
       "      <th>2332</th>\n",
       "      <td>22.260605</td>\n",
       "      <td>-0.802777</td>\n",
       "      <td>148</td>\n",
       "    </tr>\n",
       "    <tr>\n",
       "      <th>2333</th>\n",
       "      <td>-12.615958</td>\n",
       "      <td>-71.338540</td>\n",
       "      <td>-1</td>\n",
       "    </tr>\n",
       "    <tr>\n",
       "      <th>2334</th>\n",
       "      <td>-17.663586</td>\n",
       "      <td>16.931108</td>\n",
       "      <td>26</td>\n",
       "    </tr>\n",
       "    <tr>\n",
       "      <th>2335</th>\n",
       "      <td>-31.762358</td>\n",
       "      <td>-33.692554</td>\n",
       "      <td>-1</td>\n",
       "    </tr>\n",
       "    <tr>\n",
       "      <th>2336</th>\n",
       "      <td>71.931220</td>\n",
       "      <td>-19.536835</td>\n",
       "      <td>150</td>\n",
       "    </tr>\n",
       "  </tbody>\n",
       "</table>\n",
       "<p>2337 rows × 3 columns</p>\n",
       "</div>"
      ],
      "text/plain": [
       "               x           y  prediction\n",
       "0    -117.752180  -44.765297           0\n",
       "1       3.223371   94.655080           1\n",
       "2     -80.087160  -69.563360           2\n",
       "3     -75.593560   65.009050           3\n",
       "4      15.957396  125.094986           4\n",
       "...          ...         ...         ...\n",
       "2332   22.260605   -0.802777         148\n",
       "2333  -12.615958  -71.338540          -1\n",
       "2334  -17.663586   16.931108          26\n",
       "2335  -31.762358  -33.692554          -1\n",
       "2336   71.931220  -19.536835         150\n",
       "\n",
       "[2337 rows x 3 columns]"
      ]
     },
     "execution_count": 33,
     "metadata": {},
     "output_type": "execute_result"
    }
   ],
   "source": [
    "df"
   ]
  },
  {
   "cell_type": "code",
   "execution_count": 34,
   "metadata": {},
   "outputs": [
    {
     "data": {
      "text/plain": [
       "163"
      ]
     },
     "execution_count": 34,
     "metadata": {},
     "output_type": "execute_result"
    }
   ],
   "source": [
    "cluster_max = np.unique(label_outputs).shape[0]\n",
    "cluster_max"
   ]
  },
  {
   "cell_type": "code",
   "execution_count": 35,
   "metadata": {},
   "outputs": [
    {
     "data": {
      "text/plain": [
       "(669, 3)"
      ]
     },
     "execution_count": 35,
     "metadata": {},
     "output_type": "execute_result"
    }
   ],
   "source": [
    "df[df.prediction==-1].shape"
   ]
  },
  {
   "cell_type": "code",
   "execution_count": 40,
   "metadata": {},
   "outputs": [
    {
     "data": {
      "text/plain": [
       "(347, 3)"
      ]
     },
     "execution_count": 40,
     "metadata": {},
     "output_type": "execute_result"
    }
   ],
   "source": [
    "df[df.prediction==7].shape"
   ]
  },
  {
   "cell_type": "code",
   "execution_count": 36,
   "metadata": {},
   "outputs": [
    {
     "data": {
      "text/plain": [
       "[0,\n",
       " 1,\n",
       " 2,\n",
       " 3,\n",
       " 4,\n",
       " 5,\n",
       " 6,\n",
       " -1,\n",
       " 7,\n",
       " 151,\n",
       " 8,\n",
       " 115,\n",
       " 159,\n",
       " 9,\n",
       " 10,\n",
       " 11,\n",
       " 12,\n",
       " 13,\n",
       " 14,\n",
       " 15,\n",
       " 16,\n",
       " 17,\n",
       " 18,\n",
       " 108,\n",
       " 98,\n",
       " 19,\n",
       " 20,\n",
       " 21,\n",
       " 55,\n",
       " 22,\n",
       " 23,\n",
       " 24,\n",
       " 25,\n",
       " 26,\n",
       " 27,\n",
       " 28,\n",
       " 29,\n",
       " 30,\n",
       " 31,\n",
       " 32,\n",
       " 33,\n",
       " 34,\n",
       " 58,\n",
       " 35,\n",
       " 36,\n",
       " 153,\n",
       " 37,\n",
       " 38,\n",
       " 39,\n",
       " 40,\n",
       " 89,\n",
       " 41,\n",
       " 42,\n",
       " 43,\n",
       " 44,\n",
       " 45,\n",
       " 46,\n",
       " 47,\n",
       " 48,\n",
       " 49,\n",
       " 50,\n",
       " 51,\n",
       " 52,\n",
       " 53,\n",
       " 54,\n",
       " 56,\n",
       " 57,\n",
       " 59,\n",
       " 60,\n",
       " 61,\n",
       " 62,\n",
       " 63,\n",
       " 64,\n",
       " 65,\n",
       " 66,\n",
       " 67,\n",
       " 161,\n",
       " 68,\n",
       " 69,\n",
       " 70,\n",
       " 71,\n",
       " 72,\n",
       " 111,\n",
       " 73,\n",
       " 74,\n",
       " 75,\n",
       " 76,\n",
       " 77,\n",
       " 86,\n",
       " 78,\n",
       " 79,\n",
       " 80,\n",
       " 81,\n",
       " 82,\n",
       " 83,\n",
       " 84,\n",
       " 85,\n",
       " 101,\n",
       " 87,\n",
       " 88,\n",
       " 90,\n",
       " 91,\n",
       " 92,\n",
       " 93,\n",
       " 94,\n",
       " 95,\n",
       " 96,\n",
       " 97,\n",
       " 99,\n",
       " 100,\n",
       " 102,\n",
       " 103,\n",
       " 104,\n",
       " 105,\n",
       " 106,\n",
       " 107,\n",
       " 155,\n",
       " 109,\n",
       " 156,\n",
       " 110,\n",
       " 112,\n",
       " 150,\n",
       " 113,\n",
       " 114,\n",
       " 116,\n",
       " 157,\n",
       " 117,\n",
       " 149,\n",
       " 118,\n",
       " 119,\n",
       " 160,\n",
       " 120,\n",
       " 121,\n",
       " 122,\n",
       " 123,\n",
       " 124,\n",
       " 125,\n",
       " 139,\n",
       " 126,\n",
       " 127,\n",
       " 133,\n",
       " 128,\n",
       " 129,\n",
       " 130,\n",
       " 131,\n",
       " 132,\n",
       " 146,\n",
       " 134,\n",
       " 135,\n",
       " 158,\n",
       " 136,\n",
       " 137,\n",
       " 138,\n",
       " 140,\n",
       " 141,\n",
       " 142,\n",
       " 143,\n",
       " 144,\n",
       " 145,\n",
       " 147,\n",
       " 148,\n",
       " 152,\n",
       " 154]"
      ]
     },
     "execution_count": 36,
     "metadata": {},
     "output_type": "execute_result"
    }
   ],
   "source": [
    "df['prediction'].unique().tolist()"
   ]
  },
  {
   "cell_type": "code",
   "execution_count": 39,
   "metadata": {},
   "outputs": [],
   "source": [
    "plot_cluster_dbscan_result(df[['x', 'y', 'prediction']], df['prediction'].unique().tolist())\n",
    "\n",
    "df.to_csv('/mnt/d/works/paperworks/2023/aging/post-clustering.csv', index=False)"
   ]
  },
  {
   "cell_type": "code",
   "execution_count": null,
   "metadata": {},
   "outputs": [],
   "source": []
  }
 ],
 "metadata": {
  "kernelspec": {
   "display_name": "rapids-23.10",
   "language": "python",
   "name": "python3"
  },
  "language_info": {
   "codemirror_mode": {
    "name": "ipython",
    "version": 3
   },
   "file_extension": ".py",
   "mimetype": "text/x-python",
   "name": "python",
   "nbconvert_exporter": "python",
   "pygments_lexer": "ipython3",
   "version": "3.9.18"
  }
 },
 "nbformat": 4,
 "nbformat_minor": 2
}
