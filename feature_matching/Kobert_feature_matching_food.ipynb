{
  "cells": [
    {
      "cell_type": "markdown",
      "metadata": {
        "id": "R7EZ_PTUSty2"
      },
      "source": [
        "## Library"
      ]
    },
    {
      "cell_type": "code",
      "execution_count": 1,
      "metadata": {
        "id": "bnRKrq4XJWKl"
      },
      "outputs": [
        {
          "name": "stderr",
          "output_type": "stream",
          "text": [
            "2024-02-28 11:46:33.531656: I tensorflow/core/util/port.cc:113] oneDNN custom operations are on. You may see slightly different numerical results due to floating-point round-off errors from different computation orders. To turn them off, set the environment variable `TF_ENABLE_ONEDNN_OPTS=0`.\n",
            "2024-02-28 11:46:33.694578: E external/local_xla/xla/stream_executor/cuda/cuda_dnn.cc:9261] Unable to register cuDNN factory: Attempting to register factory for plugin cuDNN when one has already been registered\n",
            "2024-02-28 11:46:33.694608: E external/local_xla/xla/stream_executor/cuda/cuda_fft.cc:607] Unable to register cuFFT factory: Attempting to register factory for plugin cuFFT when one has already been registered\n",
            "2024-02-28 11:46:33.722234: E external/local_xla/xla/stream_executor/cuda/cuda_blas.cc:1515] Unable to register cuBLAS factory: Attempting to register factory for plugin cuBLAS when one has already been registered\n",
            "2024-02-28 11:46:33.778913: I tensorflow/core/platform/cpu_feature_guard.cc:182] This TensorFlow binary is optimized to use available CPU instructions in performance-critical operations.\n",
            "To enable the following instructions: AVX2 AVX512F AVX512_VNNI AVX512_BF16 FMA, in other operations, rebuild TensorFlow with the appropriate compiler flags.\n",
            "/home/eaglewatch/miniconda3/envs/kobertnlp/lib/python3.9/site-packages/tqdm/auto.py:21: TqdmWarning: IProgress not found. Please update jupyter and ipywidgets. See https://ipywidgets.readthedocs.io/en/stable/user_install.html\n",
            "  from .autonotebook import tqdm as notebook_tqdm\n"
          ]
        }
      ],
      "source": [
        "import json\n",
        "import numpy as np\n",
        "import pandas as pd\n",
        "import tensorflow as tf\n",
        "from transformers import BertModel\n",
        "from kobert_tokenizer import KoBERTTokenizer\n",
        "import torch\n",
        "\n",
        "from rich.progress import track"
      ]
    },
    {
      "cell_type": "code",
      "execution_count": 2,
      "metadata": {
        "colab": {
          "base_uri": "https://localhost:8080/",
          "height": 231,
          "referenced_widgets": [
            "244243e761764474a789fd041ef3c06e",
            "6829bba5bc6e4685a4f9ba6abfafdc91",
            "8b2b1cf9731140489483bf6a77aa832e",
            "356e78bb4a7f4218beafe6af24701ac8",
            "ac387bccccac480e87ba3a1bfd088bf0",
            "6df7e80fe7dc48a98902f5d26ce67a9b",
            "35dfdbf765114c92bb2219fbf2cf9001",
            "4659ab85afd4447c800f83c900a3b355",
            "9f4b30794f6f4927a3e67a0d09e2ea8d",
            "645668af5bf74a128dbb38be42d505ad",
            "a1c28ca8f05b42b3b259a293c1fc2e15",
            "4a9f1708d7944313a1ac95e64c194b27",
            "3244899c5aa94d4f881e612ec4402632",
            "47b95817a19d4ea8bd98eba5a28f7d85",
            "8944694f3e604fbdbe6431d35ce76988",
            "4f96f9ed1462471d930f0f167beb9023",
            "acd8777f569e4388ae03859fb2867cc8",
            "426478facb1c4a00b713540c405e3bca",
            "e68866c879ec4be2acf1fb78bad80c6f",
            "c8d3fa848be64fc392433ebab9095e99",
            "b7e437d8f45a46ba8a3264c38415d50d",
            "6c68098615c545af83ffb7f2dbb5c279",
            "f14e875030c34d0f82a36b4ad523ecd2",
            "57382eb68575437a90329f2ee9cbe54a",
            "d2d2c9ec55e3449ba048c66919216c2b",
            "621e6d991df84d659aedd9ed9b534cd5",
            "db5a74258df74ce2b0afd4301733ff67",
            "c97a2742edc543f69400e87ee4375191",
            "2b73d12160264c23b608b5883fa2724c",
            "1ed411e91fc64fbd8a4423880a2fa458",
            "75ad3d1bb528409e96c8a8a7f93344c0",
            "f5af703c328e42f5988d7b3ef90f8306",
            "795d67fbe9ec4928ad4944a810176781",
            "5c54bf417d454604a4b0200f8858043e",
            "12270956143448fd9fc1dd6595717531",
            "5ecd9599e7544ff2b396f078a9882b27",
            "80db545e0bb041f2b576deb41c188cb3",
            "7f541781bea048e79a299a30aadc3216",
            "c132cd208fa84cecb2a49900bbe53191",
            "8a6d8a974fd549bdb42a3f292ffbc28c",
            "90119e09461d4fc09ea4c48bf7242f66",
            "11296e5a0c4a4cc986422bb46b1d5303",
            "354f07298b9e47848640460bef69132c",
            "c16537ade5174c659839395a7933df91",
            "56d092252df244a788295b5ba8ee0644",
            "9e8b53debcca4e5bbc3a1b4de53e9246",
            "3b6c7bffec3a41268d89c6afa7be3fb4",
            "fb4258596afd4fdc8b43cfb47629ace7",
            "e0a6f31e7e8a4c1fa05158ef4870d8d0",
            "e6603a27d2fa4abcbce90d2f82c032c8",
            "c3ab631856884c98953ece8676d5a0e1",
            "164b68bd60ad4359a1442010f25db7d2",
            "488dddcf953248078f9a1adf7181cfea",
            "40e2c911e78e445091e6da783d32479e",
            "6db7bc7068744316833d5155c6462675"
          ]
        },
        "id": "LmjO8ucYLbuM",
        "outputId": "2fc079f6-6b40-4915-a99f-12efaf5bbaaa"
      },
      "outputs": [],
      "source": [
        "tokenizer = KoBERTTokenizer.from_pretrained('skt/kobert-base-v1')\n",
        "bert_model = BertModel.from_pretrained('skt/kobert-base-v1')"
      ]
    },
    {
      "cell_type": "code",
      "execution_count": 3,
      "metadata": {
        "id": "vpizx7mkLbq3"
      },
      "outputs": [],
      "source": [
        "device = torch.device(\"cuda:0\")"
      ]
    },
    {
      "cell_type": "markdown",
      "metadata": {
        "id": "o6n1C2_ySv2G"
      },
      "source": [
        "## Load data"
      ]
    },
    {
      "cell_type": "code",
      "execution_count": 5,
      "metadata": {
        "id": "BI3wE6x5SV5i"
      },
      "outputs": [],
      "source": [
        "food_train = pd.read_csv('data/food_aging_train.csv')\n",
        "food_test = pd.read_csv('data/food_aging_test.csv')\n",
        "food_nutrient_info = pd.read_csv('data/food_nutrient_info_finalized.csv')"
      ]
    },
    {
      "cell_type": "code",
      "execution_count": 6,
      "metadata": {
        "colab": {
          "base_uri": "https://localhost:8080/",
          "height": 206
        },
        "id": "bKXW6_k9Sju-",
        "outputId": "54689db6-a0f9-40aa-f634-a023e2c04447"
      },
      "outputs": [
        {
          "data": {
            "text/html": [
              "<div>\n",
              "<style scoped>\n",
              "    .dataframe tbody tr th:only-of-type {\n",
              "        vertical-align: middle;\n",
              "    }\n",
              "\n",
              "    .dataframe tbody tr th {\n",
              "        vertical-align: top;\n",
              "    }\n",
              "\n",
              "    .dataframe thead th {\n",
              "        text-align: right;\n",
              "    }\n",
              "</style>\n",
              "<table border=\"1\" class=\"dataframe\">\n",
              "  <thead>\n",
              "    <tr style=\"text-align: right;\">\n",
              "      <th></th>\n",
              "      <th>식품명</th>\n",
              "      <th>식품오타</th>\n",
              "      <th>food_line</th>\n",
              "    </tr>\n",
              "  </thead>\n",
              "  <tbody>\n",
              "    <tr>\n",
              "      <th>0</th>\n",
              "      <td>호떡</td>\n",
              "      <td>하떡</td>\n",
              "      <td>하떡&lt;input&gt;호떡</td>\n",
              "    </tr>\n",
              "    <tr>\n",
              "      <th>1</th>\n",
              "      <td>달걀찜(새우젓)</td>\n",
              "      <td>새우젓계란찜</td>\n",
              "      <td>새우젓계란찜&lt;input&gt;달걀찜(새우젓)</td>\n",
              "    </tr>\n",
              "    <tr>\n",
              "      <th>2</th>\n",
              "      <td>오징어덮밥</td>\n",
              "      <td>오징이덥밥</td>\n",
              "      <td>오징이덥밥&lt;input&gt;오징어덮밥</td>\n",
              "    </tr>\n",
              "    <tr>\n",
              "      <th>3</th>\n",
              "      <td>참나물무침</td>\n",
              "      <td>참나물</td>\n",
              "      <td>참나물&lt;input&gt;참나물무침</td>\n",
              "    </tr>\n",
              "    <tr>\n",
              "      <th>4</th>\n",
              "      <td>크림소스스파게티</td>\n",
              "      <td>크림스파게티</td>\n",
              "      <td>크림스파게티&lt;input&gt;크림소스스파게티</td>\n",
              "    </tr>\n",
              "  </tbody>\n",
              "</table>\n",
              "</div>"
            ],
            "text/plain": [
              "        식품명    식품오타              food_line\n",
              "0        호떡      하떡            하떡<input>호떡\n",
              "1  달걀찜(새우젓)  새우젓계란찜  새우젓계란찜<input>달걀찜(새우젓)\n",
              "2     오징어덮밥   오징이덥밥      오징이덥밥<input>오징어덮밥\n",
              "3     참나물무침     참나물        참나물<input>참나물무침\n",
              "4  크림소스스파게티  크림스파게티  크림스파게티<input>크림소스스파게티"
            ]
          },
          "execution_count": 6,
          "metadata": {},
          "output_type": "execute_result"
        }
      ],
      "source": [
        "food_train.head()"
      ]
    },
    {
      "cell_type": "code",
      "execution_count": 7,
      "metadata": {
        "colab": {
          "base_uri": "https://localhost:8080/",
          "height": 206
        },
        "id": "pWedIcIxSnXV",
        "outputId": "50363d4b-9d43-44e8-a5c5-b7716030c4f1"
      },
      "outputs": [
        {
          "data": {
            "text/html": [
              "<div>\n",
              "<style scoped>\n",
              "    .dataframe tbody tr th:only-of-type {\n",
              "        vertical-align: middle;\n",
              "    }\n",
              "\n",
              "    .dataframe tbody tr th {\n",
              "        vertical-align: top;\n",
              "    }\n",
              "\n",
              "    .dataframe thead th {\n",
              "        text-align: right;\n",
              "    }\n",
              "</style>\n",
              "<table border=\"1\" class=\"dataframe\">\n",
              "  <thead>\n",
              "    <tr style=\"text-align: right;\">\n",
              "      <th></th>\n",
              "      <th>식품명</th>\n",
              "      <th>식품오타</th>\n",
              "      <th>test_input</th>\n",
              "    </tr>\n",
              "  </thead>\n",
              "  <tbody>\n",
              "    <tr>\n",
              "      <th>0</th>\n",
              "      <td>달래나물무침</td>\n",
              "      <td>다래나물무침</td>\n",
              "      <td>다래나물무침&lt;input&gt;다래나물무침</td>\n",
              "    </tr>\n",
              "    <tr>\n",
              "      <th>1</th>\n",
              "      <td>깻잎찜</td>\n",
              "      <td>깬닙찜</td>\n",
              "      <td>깬닙찜&lt;input&gt;깬닙찜</td>\n",
              "    </tr>\n",
              "    <tr>\n",
              "      <th>2</th>\n",
              "      <td>등심돈가스</td>\n",
              "      <td>등심돈까쓰</td>\n",
              "      <td>등심돈까쓰&lt;input&gt;등심돈까쓰</td>\n",
              "    </tr>\n",
              "    <tr>\n",
              "      <th>3</th>\n",
              "      <td>게살죽</td>\n",
              "      <td>게살쭉</td>\n",
              "      <td>게살쭉&lt;input&gt;게살쭉</td>\n",
              "    </tr>\n",
              "    <tr>\n",
              "      <th>4</th>\n",
              "      <td>버섯전</td>\n",
              "      <td>버섯즌</td>\n",
              "      <td>버섯즌&lt;input&gt;버섯즌</td>\n",
              "    </tr>\n",
              "  </tbody>\n",
              "</table>\n",
              "</div>"
            ],
            "text/plain": [
              "      식품명    식품오타           test_input\n",
              "0  달래나물무침  다래나물무침  다래나물무침<input>다래나물무침\n",
              "1     깻잎찜     깬닙찜        깬닙찜<input>깬닙찜\n",
              "2   등심돈가스   등심돈까쓰    등심돈까쓰<input>등심돈까쓰\n",
              "3     게살죽     게살쭉        게살쭉<input>게살쭉\n",
              "4     버섯전     버섯즌        버섯즌<input>버섯즌"
            ]
          },
          "execution_count": 7,
          "metadata": {},
          "output_type": "execute_result"
        }
      ],
      "source": [
        "food_test.head()"
      ]
    },
    {
      "cell_type": "markdown",
      "metadata": {
        "id": "wleDhJMfS0lQ"
      },
      "source": [
        "# data prep"
      ]
    },
    {
      "cell_type": "markdown",
      "metadata": {
        "id": "YxXSXXVdS4WY"
      },
      "source": [
        "## read marked text inputs"
      ]
    },
    {
      "cell_type": "code",
      "execution_count": 8,
      "metadata": {
        "colab": {
          "base_uri": "https://localhost:8080/"
        },
        "id": "wm6IRch8SnUy",
        "outputId": "202408e6-edbb-4d2a-e102-41700645c239"
      },
      "outputs": [
        {
          "name": "stdout",
          "output_type": "stream",
          "text": [
            "['하떡<input>호떡', '새우젓계란찜<input>달걀찜(새우젓)', '오징이덥밥<input>오징어덮밥', '참나물<input>참나물무침', '크림스파게티<input>크림소스스파게티', '안심돈까쑤<input>안심돈가스', '쇠고기뭇국<input>쇠고기무국', '채소샌드이치<input>채소샌드위치', '채소보끈빱<input>채소볶음밥', '볶은밥<input>볶음밥']\n",
            "['다래나물무침<input>다래나물무침', '깬닙찜<input>깬닙찜', '등심돈까쓰<input>등심돈까쓰', '게살쭉<input>게살쭉', '버섯즌<input>버섯즌', '고추튀기<input>고추튀기', '간장닭다리구이<input>간장닭다리구이', '버섯샤부<input>버섯샤부', '닥꼬기냉채<input>닥꼬기냉채', '소고기전골<input>소고기전골']\n"
          ]
        }
      ],
      "source": [
        "train_lines = [str(s) for s in food_train['food_line']]\n",
        "test_lines = [str(s) for s in food_test['test_input']]\n",
        "print(train_lines[:10])\n",
        "print(test_lines[:10])"
      ]
    },
    {
      "cell_type": "markdown",
      "metadata": {
        "id": "NQPsDbnlS-NG"
      },
      "source": [
        "## Check the number of UNK tokens"
      ]
    },
    {
      "cell_type": "code",
      "execution_count": 9,
      "metadata": {
        "colab": {
          "base_uri": "https://localhost:8080/"
        },
        "id": "Nkb4C8M4T2K-",
        "outputId": "1d7bacfb-515a-487c-e6bc-85849dcbc05f"
      },
      "outputs": [
        {
          "data": {
            "text/plain": [
              "PreTrainedTokenizer(name_or_path='skt/kobert-base-v1', vocab_size=8002, model_max_len=1000000000000000019884624838656, is_fast=False, padding_side='right', special_tokens={'bos_token': '[CLS]', 'eos_token': '[SEP]', 'unk_token': '[UNK]', 'sep_token': '[SEP]', 'pad_token': '[PAD]', 'cls_token': '[CLS]', 'mask_token': AddedToken(\"[MASK]\", rstrip=False, lstrip=True, single_word=False, normalized=True)})"
            ]
          },
          "execution_count": 9,
          "metadata": {},
          "output_type": "execute_result"
        }
      ],
      "source": [
        "tokenizer"
      ]
    },
    {
      "cell_type": "code",
      "execution_count": 10,
      "metadata": {
        "colab": {
          "base_uri": "https://localhost:8080/"
        },
        "id": "qbpHwHaOSnPE",
        "outputId": "21da6a7a-a2cd-452b-d710-a562ae4a672a"
      },
      "outputs": [
        {
          "data": {
            "text/plain": [
              "['하떡',\n",
              " '새우젓계란찜',\n",
              " '오징이덥밥',\n",
              " '참나물',\n",
              " '크림스파게티',\n",
              " '안심돈까쑤',\n",
              " '쇠고기뭇국',\n",
              " '채소샌드이치',\n",
              " '채소보끈빱',\n",
              " '볶은밥']"
            ]
          },
          "execution_count": 10,
          "metadata": {},
          "output_type": "execute_result"
        }
      ],
      "source": [
        "all_lines = [str(s) for s in food_train['식품오타']] + [str(s) for s in food_test['식품오타']]\n",
        "all_lines[:10]"
      ]
    },
    {
      "cell_type": "code",
      "execution_count": 11,
      "metadata": {
        "colab": {
          "base_uri": "https://localhost:8080/"
        },
        "id": "KReABpIaSnMt",
        "outputId": "70328991-8605-4226-b758-8bfd2359603e"
      },
      "outputs": [
        {
          "name": "stdout",
          "output_type": "stream",
          "text": [
            "The number of UNK token :  0\n",
            "The number of all food names :  2921\n",
            "percentage of UNK token/all food names:  0.0\n"
          ]
        }
      ],
      "source": [
        "count = 0\n",
        "for line in all_lines:\n",
        "    tokens= tokenizer.tokenize(line)\n",
        "    if tokens[0] == '[UNK]':\n",
        "        count +=1\n",
        "print('The number of UNK token : ', count)\n",
        "print('The number of all food names : ', len(all_lines))\n",
        "print('percentage of UNK token/all food names: ', (count/len(all_lines)*100))"
      ]
    },
    {
      "cell_type": "markdown",
      "metadata": {
        "id": "29w5rVCoTF_X"
      },
      "source": [
        "# extracting embedding values"
      ]
    },
    {
      "cell_type": "markdown",
      "metadata": {
        "id": "QogEDEWGT8rk"
      },
      "source": [
        "## set max fixed tokenized data size"
      ]
    },
    {
      "cell_type": "code",
      "execution_count": 12,
      "metadata": {
        "id": "waZ5uybFTNoH"
      },
      "outputs": [],
      "source": [
        "max_token_length = 384\n",
        "kobert_feats = np.zeros((len(train_lines), max_token_length*768))"
      ]
    },
    {
      "cell_type": "markdown",
      "metadata": {
        "id": "wUv__hS1UAFL"
      },
      "source": [
        "## Batch processing"
      ]
    },
    {
      "cell_type": "code",
      "execution_count": 13,
      "metadata": {
        "colab": {
          "base_uri": "https://localhost:8080/",
          "height": 33,
          "referenced_widgets": [
            "dc5563a370da40ea88298fd999063ccb",
            "b36c6294e2544334ae1d83d2054bbd6b"
          ]
        },
        "id": "O9Ll8sYqTNlh",
        "outputId": "6f9e2d78-5c6a-40d6-a891-321aba8f3775"
      },
      "outputs": [
        {
          "data": {
            "text/html": [
              "<pre style=\"white-space:pre;overflow-x:auto;line-height:normal;font-family:Menlo,'DejaVu Sans Mono',consolas,'Courier New',monospace\">/home/eaglewatch/miniconda3/envs/kobertnlp/lib/python3.9/site-packages/rich/live.py:231: UserWarning: install \n",
              "\"ipywidgets\" for Jupyter support\n",
              "  warnings.warn('install \"ipywidgets\" for Jupyter support')\n",
              "</pre>\n"
            ],
            "text/plain": [
              "/home/eaglewatch/miniconda3/envs/kobertnlp/lib/python3.9/site-packages/rich/live.py:231: UserWarning: install \n",
              "\"ipywidgets\" for Jupyter support\n",
              "  warnings.warn('install \"ipywidgets\" for Jupyter support')\n"
            ]
          },
          "metadata": {},
          "output_type": "display_data"
        },
        {
          "data": {
            "text/html": [
              "<pre style=\"white-space:pre;overflow-x:auto;line-height:normal;font-family:Menlo,'DejaVu Sans Mono',consolas,'Courier New',monospace\"></pre>\n"
            ],
            "text/plain": []
          },
          "metadata": {},
          "output_type": "display_data"
        },
        {
          "data": {
            "text/html": [
              "<pre style=\"white-space:pre;overflow-x:auto;line-height:normal;font-family:Menlo,'DejaVu Sans Mono',consolas,'Courier New',monospace\">\n",
              "</pre>\n"
            ],
            "text/plain": [
              "\n"
            ]
          },
          "metadata": {},
          "output_type": "display_data"
        }
      ],
      "source": [
        "for i in track(range(len(train_lines))):\n",
        "    encoded = tokenizer(train_lines[i], max_length=384, padding='max_length', truncation=True, return_tensors='pt')\n",
        "    kobert_feats[i] = bert_model(**encoded).last_hidden_state.detach().numpy().reshape(max_token_length*768)"
      ]
    },
    {
      "cell_type": "code",
      "execution_count": 14,
      "metadata": {
        "colab": {
          "base_uri": "https://localhost:8080/"
        },
        "id": "XMEch-IhF9pW",
        "outputId": "ab750be5-1ed1-41ae-bb64-d9cfefc74a91"
      },
      "outputs": [
        {
          "data": {
            "text/plain": [
              "(2337, 294912)"
            ]
          },
          "execution_count": 14,
          "metadata": {},
          "output_type": "execute_result"
        }
      ],
      "source": [
        "kobert_feats.shape"
      ]
    },
    {
      "cell_type": "code",
      "execution_count": 15,
      "metadata": {
        "id": "pcdB_bzYGAq8"
      },
      "outputs": [],
      "source": [
        "np.save('kobert_food_feat1.npy',kobert_feats)"
      ]
    },
    {
      "cell_type": "markdown",
      "metadata": {
        "id": "zrrtr1URUjSF"
      },
      "source": [
        "# Generate Text search engine"
      ]
    },
    {
      "cell_type": "code",
      "execution_count": 16,
      "metadata": {
        "colab": {
          "base_uri": "https://localhost:8080/"
        },
        "id": "xPWEMUo6UtVE",
        "outputId": "9ad5a86f-cb57-4b98-b8b6-c7da9ee73e85"
      },
      "outputs": [
        {
          "name": "stdout",
          "output_type": "stream",
          "text": [
            "294912\n"
          ]
        }
      ],
      "source": [
        "max_size = kobert_feats.shape[1]\n",
        "print(max_size)"
      ]
    },
    {
      "cell_type": "code",
      "execution_count": 17,
      "metadata": {
        "id": "4gJcZA_ATNi9"
      },
      "outputs": [
        {
          "name": "stderr",
          "output_type": "stream",
          "text": [
            "2024-02-28 11:52:03.332471: I external/local_xla/xla/stream_executor/cuda/cuda_executor.cc:887] could not open file to read NUMA node: /sys/bus/pci/devices/0000:01:00.0/numa_node\n",
            "Your kernel may have been built without NUMA support.\n",
            "2024-02-28 11:52:03.414803: I external/local_xla/xla/stream_executor/cuda/cuda_executor.cc:887] could not open file to read NUMA node: /sys/bus/pci/devices/0000:01:00.0/numa_node\n",
            "Your kernel may have been built without NUMA support.\n",
            "2024-02-28 11:52:03.414950: I external/local_xla/xla/stream_executor/cuda/cuda_executor.cc:887] could not open file to read NUMA node: /sys/bus/pci/devices/0000:01:00.0/numa_node\n",
            "Your kernel may have been built without NUMA support.\n",
            "2024-02-28 11:52:03.416119: I external/local_xla/xla/stream_executor/cuda/cuda_executor.cc:887] could not open file to read NUMA node: /sys/bus/pci/devices/0000:01:00.0/numa_node\n",
            "Your kernel may have been built without NUMA support.\n",
            "2024-02-28 11:52:03.416253: I external/local_xla/xla/stream_executor/cuda/cuda_executor.cc:887] could not open file to read NUMA node: /sys/bus/pci/devices/0000:01:00.0/numa_node\n",
            "Your kernel may have been built without NUMA support.\n",
            "2024-02-28 11:52:03.416372: I external/local_xla/xla/stream_executor/cuda/cuda_executor.cc:887] could not open file to read NUMA node: /sys/bus/pci/devices/0000:01:00.0/numa_node\n",
            "Your kernel may have been built without NUMA support.\n",
            "2024-02-28 11:52:03.550502: I external/local_xla/xla/stream_executor/cuda/cuda_executor.cc:887] could not open file to read NUMA node: /sys/bus/pci/devices/0000:01:00.0/numa_node\n",
            "Your kernel may have been built without NUMA support.\n",
            "2024-02-28 11:52:03.550663: I external/local_xla/xla/stream_executor/cuda/cuda_executor.cc:887] could not open file to read NUMA node: /sys/bus/pci/devices/0000:01:00.0/numa_node\n",
            "Your kernel may have been built without NUMA support.\n",
            "2024-02-28 11:52:03.550674: I tensorflow/core/common_runtime/gpu/gpu_device.cc:2022] Could not identify NUMA node of platform GPU id 0, defaulting to 0.  Your kernel may not have been built with NUMA support.\n",
            "2024-02-28 11:52:03.550826: I external/local_xla/xla/stream_executor/cuda/cuda_executor.cc:887] could not open file to read NUMA node: /sys/bus/pci/devices/0000:01:00.0/numa_node\n",
            "Your kernel may have been built without NUMA support.\n",
            "2024-02-28 11:52:03.550847: I tensorflow/core/common_runtime/gpu/gpu_device.cc:1929] Created device /job:localhost/replica:0/task:0/device:GPU:0 with 21765 MB memory:  -> device: 0, name: NVIDIA GeForce RTX 3090 Ti, pci bus id: 0000:01:00.0, compute capability: 8.6\n"
          ]
        }
      ],
      "source": [
        "x_kobert = tf.keras.Input(shape=(max_size,))\n",
        "x = tf.keras.layers.Dense(units=kobert_feats.shape[0], activation='linear', name='fc1', use_bias=False)(x_kobert)\n",
        "x_kobert_feat_matching = tf.keras.models.Model(inputs=x_kobert, outputs=x)"
      ]
    },
    {
      "cell_type": "code",
      "execution_count": 18,
      "metadata": {
        "id": "WbFQPRKvTMuo"
      },
      "outputs": [],
      "source": [
        "temp_weights = x_kobert_feat_matching.get_weights()"
      ]
    },
    {
      "cell_type": "code",
      "execution_count": 19,
      "metadata": {
        "id": "k6DeaJfqU6Ho"
      },
      "outputs": [],
      "source": [
        "temp_weights[-1] = kobert_feats.T\n",
        "x_kobert_feat_matching.set_weights(temp_weights)"
      ]
    },
    {
      "cell_type": "code",
      "execution_count": 20,
      "metadata": {
        "id": "HP6KnwUCU3nb"
      },
      "outputs": [],
      "source": [
        "x_kobert_feat_matching.save_weights('kobert-food-ko-featmatching1.h5')"
      ]
    },
    {
      "cell_type": "markdown",
      "metadata": {
        "id": "ZipF92fLU961"
      },
      "source": [
        "# Define chosen topics the model can handle"
      ]
    },
    {
      "cell_type": "code",
      "execution_count": 21,
      "metadata": {
        "colab": {
          "base_uri": "https://localhost:8080/",
          "height": 33,
          "referenced_widgets": [
            "0ff0dda2a31944f2ac52115e5e570d23",
            "a8d0f8f3b266423abfd4ac867af6b9e6"
          ]
        },
        "id": "tSHJWANtU6FR",
        "outputId": "ed4e9fc3-c461-401b-b8a0-68825dc6978b"
      },
      "outputs": [
        {
          "data": {
            "text/html": [
              "<pre style=\"white-space:pre;overflow-x:auto;line-height:normal;font-family:Menlo,'DejaVu Sans Mono',consolas,'Courier New',monospace\"></pre>\n"
            ],
            "text/plain": []
          },
          "metadata": {},
          "output_type": "display_data"
        },
        {
          "data": {
            "text/html": [
              "<pre style=\"white-space:pre;overflow-x:auto;line-height:normal;font-family:Menlo,'DejaVu Sans Mono',consolas,'Courier New',monospace\">\n",
              "</pre>\n"
            ],
            "text/plain": [
              "\n"
            ]
          },
          "metadata": {},
          "output_type": "display_data"
        }
      ],
      "source": [
        "total_text = []\n",
        "for each in track(train_lines):\n",
        "    total_text.append(each)"
      ]
    },
    {
      "cell_type": "code",
      "execution_count": 22,
      "metadata": {
        "colab": {
          "base_uri": "https://localhost:8080/",
          "height": 33,
          "referenced_widgets": [
            "142ab7ff5ab04a7cb69cee3f29de3333",
            "9665172b9e7849d8b55b26b9b3e6abc8"
          ]
        },
        "id": "Oagck720U6Cp",
        "outputId": "1e380296-7a0a-438d-9b9b-070f16d10915"
      },
      "outputs": [
        {
          "data": {
            "text/html": [
              "<pre style=\"white-space:pre;overflow-x:auto;line-height:normal;font-family:Menlo,'DejaVu Sans Mono',consolas,'Courier New',monospace\"></pre>\n"
            ],
            "text/plain": []
          },
          "metadata": {},
          "output_type": "display_data"
        },
        {
          "data": {
            "text/html": [
              "<pre style=\"white-space:pre;overflow-x:auto;line-height:normal;font-family:Menlo,'DejaVu Sans Mono',consolas,'Courier New',monospace\">\n",
              "</pre>\n"
            ],
            "text/plain": [
              "\n"
            ]
          },
          "metadata": {},
          "output_type": "display_data"
        }
      ],
      "source": [
        "topics = []\n",
        "\n",
        "for each in train_lines:\n",
        "    topics.append(each.split('<input>')[1])\n",
        "\n",
        "topics = np.unique(topics).tolist()\n",
        "\n",
        "# store sample chats\n",
        "topic_samples = {}\n",
        "for each in track(train_lines):\n",
        "    current_topic = each.split('<input>')[1]\n",
        "    names = each.split('<input>')[0]\n",
        "    if current_topic in topic_samples:\n",
        "        topic_samples[current_topic].append(names)\n",
        "    else:\n",
        "        topic_samples[current_topic] = []\n",
        "        topic_samples[current_topic].append(names)"
      ]
    },
    {
      "cell_type": "code",
      "execution_count": 23,
      "metadata": {
        "colab": {
          "base_uri": "https://localhost:8080/"
        },
        "id": "OrBKRifHVFsm",
        "outputId": "2b7da859-3736-4198-8411-a0fb6793c004"
      },
      "outputs": [
        {
          "name": "stdout",
          "output_type": "stream",
          "text": [
            "{'다래나물무침<input>다래나물무침': '달래나물무침', '깬닙찜<input>깬닙찜': '깻잎찜', '등심돈까쓰<input>등심돈까쓰': '등심돈가스', '게살쭉<input>게살쭉': '게살죽', '버섯즌<input>버섯즌': '버섯전', '고추튀기<input>고추튀기': '고추튀김', '간장닭다리구이<input>간장닭다리구이': '간장양념닭다리구이', '버섯샤부<input>버섯샤부': '버섯샤브샤브', '닥꼬기냉채<input>닥꼬기냉채': '닭고기냉채', '소고기전골<input>소고기전골': '쇠고기전골', '삼겹살<input>삼겹살': '삼겹살구이', '딱뽀끔탕<input>딱뽀끔탕': '닭볶음탕', '냉이된장찌기<input>냉이된장찌기': '냉이된장찌개', '순두부김치찌기<input>순두부김치찌기': '순두부김치찌개', '가배기<input>가배기': '꽈배기', '쇠고기완자즌<input>쇠고기완자즌': '쇠고기완자전', '우렁된장구<input>우렁된장구': '우렁된장국', '불고기햄버거<input>불고기햄버거': '불고기버거', '소고기주먹밥<input>소고기주먹밥': '쇠고기주먹밥', '해덥밥<input>해덥밥': '회덮밥', '감저사라다<input>감저사라다': '감자샐러드', '소고기채소보끈<input>소고기채소보끈': '쇠고기채소볶음', '대지괴기산즉<input>대지괴기산즉': '돼지고기산적', '바지락조개궁<input>바지락조개궁': '바지락조개국', '오징어티김<input>오징어티김': '오징어튀김', '다시마멋침<input>다시마멋침': '다시마무침', '쇠고기고추장보끈<input>쇠고기고추장보끈': '쇠고기고추장볶음', '닥뽀끔<input>닥뽀끔': '닭볶음', '중국우동<input>중국우동': '우동(중식)', '오이장아지<input>오이장아지': '오이장아찌', '갓낌치<input>갓낌치': '갓김치', '계란찜(우유)<input>계란찜(우유)': '달걀찜(우유)', '우거질해장국<input>우거질해장국': '우거지해장국', '쌀국시<input>쌀국시': '쌀국수', '껌정콩밥<input>껌정콩밥': '검정콩밥', '열무냉믄<input>열무냉믄': '열무냉면', '냉김치마리국수<input>냉김치마리국수': '냉김치말이국수', '간장개장<input>간장개장': '간장게장', '오징아산적<input>오징아산적': '오징어산적', '더부전<input>더부전': '두부전', '팟빙수<input>팟빙수': '팥빙수', '소고기메추리알장저림<input>소고기메추리알장저림': '소고기메추리알장조림', '고치장아찌<input>고치장아찌': '고추장아찌', '우거지된장꾹<input>우거지된장꾹': '우거지된장국', '무너초밥<input>무너초밥': '문어초밥', '일본식우동<input>일본식우동': '우동(일식)', '무짱아지<input>무짱아지': '무장아찌', '꽈리고츄멸치보끈<input>꽈리고츄멸치보끈': '꽈리고추멸치볶음', '무지긔뜩<input>무지긔뜩': '무지개떡', '절핀<input>절핀': '절편', '후박부침개<input>후박부침개': '호박부침개', '재육더빱<input>재육더빱': '제육덮밥', '떡만둣구<input>떡만둣구': '떡만둣국', '소고기멋국<input>소고기멋국': '소고기무국', '삼겹살고추장<input>삼겹살고추장': '삼겹살고추장구이', '두부애호박된장찌기<input>두부애호박된장찌기': '두부애호박된장찌개', '고츄볶음<input>고츄볶음': '고추볶음', '양성이수푸<input>양성이수푸': '양송이스프', '버섯샤부샤부<input>버섯샤부샤부': '버섯샤브샤브', '해물완자즌<input>해물완자즌': '해물완자전', '쇠고기미역꾹<input>쇠고기미역꾹': '쇠고기미역국', '게란마리<input>게란마리': '달걀말이', '햐물된장국<input>햐물된장국': '해물된장국', '죽순소고기볶음<input>죽순소고기볶음': '죽순쇠고기볶음', '깐짜장<input>깐짜장': '간자장', '고추장마늘쭝짱아지<input>고추장마늘쭝짱아지': '고추장마늘쫑장아찌', '간장닭다리튀김<input>간장닭다리튀김': '간장양념닭다리튀김', '죽순쇠고기보끔<input>죽순쇠고기보끔': '죽순쇠고기볶음', '달걀마리<input>달걀마리': '달걀말이', '콩경단<input>콩경단': '경단(콩)', '다시마머침<input>다시마머침': '다시마무침', '떠깡정<input>떠깡정': '떡강정', '선지해장구<input>선지해장구': '선지해장국', '부추머침<input>부추머침': '부추무침', '김치궁<input>김치궁': '김치국', '서벗샤푸<input>서벗샤푸': '버섯샤브샤브', '충무김빱<input>충무김빱': '충무김밥', '감저채소볶음<input>감저채소볶음': '감자채소볶음', '어일파섯타<input>어일파섯타': '오일소스스파게티', '칩쌀띠익<input>칩쌀띠익': '찹쌀떡', '키조개애구이<input>키조개애구이': '키조개구이', '대지고기완자전<input>대지고기완자전': '돼지고기완자전', '멸치마늘쫑보끈<input>멸치마늘쫑보끈': '멸치마늘쫑볶음', '양념장으구이<input>양념장으구이': '양념장어구이', '햐물매운탕<input>햐물매운탕': '해물매운탕', '쪼꼬소라빵<input>쪼꼬소라빵': '초코소라빵', '토마투스파게티<input>토마투스파게티': '토마토소스스파게티', '쇠고기삿태찜<input>쇠고기삿태찜': '쇠고기사태찜', '김취김빱<input>김취김빱': '김치김밥', '소고기샤부샤부<input>소고기샤부샤부': '소고기샤브샤브', '닭가슴살샌도이취<input>닭가슴살샌도이취': '닭가슴살샌드위치', '어일파스타<input>어일파스타': '오일소스스파게티', '꺼막짐<input>꺼막짐': '꼬막찜', '감즈즌<input>감즈즌': '감자전', '채소산도이치<input>채소산도이치': '채소샌드위치', '김치콩나물꾹<input>김치콩나물꾹': '김치콩나물국', '매밀즌<input>매밀즌': '메밀전', '마늘뭇침<input>마늘뭇침': '풋마늘무침', '참치완저즌<input>참치완저즌': '참치완자전', '훈제오림<input>훈제오림': '훈제오리', '소고기배추국<input>소고기배추국': '쇠고기배춧국', '깻닢찜<input>깻닢찜': '깻잎찜', '유뷰초밥<input>유뷰초밥': '유부초밥', '돼지고기김치보끔<input>돼지고기김치보끔': '돼지고기김치볶음', '참치김치찌게<input>참치김치찌게': '참치김치찌개', '버터크림빠앙<input>버터크림빠앙': '버터크림빵', '가죽나물<input>가죽나물': '가죽나물무침', '계란보끔밥<input>계란보끔밥': '계란볶음밥', '얼가리배추국<input>얼가리배추국': '얼갈이배춧국', '해물크림파스타<input>해물크림파스타': '해물크림소스스파게티', '해멀덥밥<input>해멀덥밥': '해물덮밥', '오이이김치<input>오이이김치': '오이김치', '김취우동<input>김취우동': '김치우동', '오징어더빱<input>오징어더빱': '오징어덮밥', '버섯전걸<input>버섯전걸': '버섯전골', '참치더빱<input>참치더빱': '참치덮밥', '잔멸치풋고추보끔<input>잔멸치풋고추보끔': '잔멸치풋고추볶음', '쿠림파스타<input>쿠림파스타': '크림소스스파게티', '불괴기햄버거<input>불괴기햄버거': '불고기버거', '데리야키치킨<input>데리야키치킨': '치킨데리야끼', '해물찌임<input>해물찌임': '해물찜', '오사불고기<input>오사불고기': '오삼불고기', '닥꼬츄장조림<input>닥꼬츄장조림': '닭고추장조림', '어리탕<input>어리탕': '오리탕', '미익국<input>미익국': '미역국', '치커리것쩌리<input>치커리것쩌리': '치커리겉절이', '냉이나멀<input>냉이나멀': '냉이나물무침', '굴잠뿡<input>굴잠뿡': '굴짬뽕', '무너처밥<input>무너처밥': '문어초밥', '김취라면<input>김취라면': '김치라면', '뽀끈빱<input>뽀끈빱': '볶음밥', '소고기미역국<input>소고기미역국': '쇠고기미역국', '매늘빠앙<input>매늘빠앙': '마늘빵', '두부쪼림<input>두부쪼림': '두부조림', '채소햄보끔<input>채소햄보끔': '햄채소볶음', '고사리<input>고사리': '고사리나물무침', '전벅죽<input>전벅죽': '전복죽', '오걱밥<input>오걱밥': '오곡밥', '시퀘<input>시퀘': '식혜', '쑥덕<input>쑥덕': '쑥떡', '똥그랑땡<input>똥그랑땡': '동그랑땡(육원전)', '을무얼갈의김치<input>을무얼갈의김치': '열무얼갈이김치', '채수전<input>채수전': '채소전', '안심돈까수<input>안심돈까수': '안심돈가스', '뼈해장꾹<input>뼈해장꾹': '뼈해장국', '두부붓침<input>두부붓침': '두부부침', '느타리버섯멋침<input>느타리버섯멋침': '느타리버섯무침', '시래기된장구<input>시래기된장구': '시래기된장국', '느타리버섯머침<input>느타리버섯머침': '느타리버섯무침', '회냉명<input>회냉명': '회냉면', '애플파이<input>애플파이': '사과파이', '굴극밥<input>굴극밥': '굴국밥', '버섯소고기볶음<input>버섯소고기볶음': '쇠고기버섯볶음', '유가<input>유가': '유과', '간증게장<input>간증게장': '간장게장', '오뎅국<input>오뎅국': '어묵국', '햐물콩나물찜<input>햐물콩나물찜': '해물콩나물찜', '얼무김치국시<input>얼무김치국시': '열무김치국수', '표고버섯보끔<input>표고버섯보끔': '표고버섯볶음', '검은콩밥<input>검은콩밥': '검정콩밥', '매널빵<input>매널빵': '마늘빵', '쇠갈비<input>쇠갈비': '쇠갈비구이', '치주라면<input>치주라면': '치즈라면', '마늘쫑잔멸치보끈<input>마늘쫑잔멸치보끈': '마늘쫑잔멸치볶음', '베이이글<input>베이이글': '베이글', '오징어보끔<input>오징어보끔': '오징어볶음', '달걀짱조림<input>달걀짱조림': '달걀장조림', '대지머릿괴기<input>대지머릿괴기': '돼지머리고기', '파빱<input>파빱': '팥밥', '김칫콩나멀국<input>김칫콩나멀국': '김치콩나물국', '전북죽<input>전북죽': '전복죽', '생선모듬초법<input>생선모듬초법': '생선모듬초밥', '돼지머릿고기<input>돼지머릿고기': '돼지머리고기', '닭가슴살샌도이치<input>닭가슴살샌도이치': '닭가슴살샌드위치', '대지갈비찜<input>대지갈비찜': '돼지갈비찜', '옥시시샐러다<input>옥시시샐러다': '옥수수샐러드', '참치완즈전<input>참치완즈전': '참치완자전', '깻입전<input>깻입전': '깻잎전', '김치전고<input>김치전고': '김치전골', '청포물무침<input>청포물무침': '청포묵무침', '떡말둣국<input>떡말둣국': '떡만둣국', '양파짱아찌<input>양파짱아찌': '양파장아찌', '참취죽<input>참취죽': '참치죽', '오삼불괴기<input>오삼불괴기': '오삼불고기', '햐물팟전<input>햐물팟전': '해물파전', '참취더밥<input>참취더밥': '참치덮밥', '청포묵무칫<input>청포묵무칫': '청포묵무침', '토란꾹<input>토란꾹': '토란국', '중국식우동<input>중국식우동': '우동(중식)', '오일파수타<input>오일파수타': '오일소스스파게티', '닥빨<input>닥빨': '닭발구이', '버섯소고기보끔<input>버섯소고기보끔': '쇠고기버섯볶음', '연끈조림<input>연끈조림': '연근조림', '군고등어<input>군고등어': '고등어구이', '닥곰탕<input>닥곰탕': '닭곰탕', '양념취킨<input>양념취킨': '양념치킨', '햐물된장궁<input>햐물된장궁': '해물된장국', '치킨까쑤<input>치킨까쑤': '치킨까스', '얼밥<input>얼밥': '알밥', '바지락조개구<input>바지락조개구': '바지락조개국', '머위나물보끔<input>머위나물보끔': '머위나물볶음', '오징이무침<input>오징이무침': '오징어무침', '송이덥밥<input>송이덥밥': '송이덮밥', '장어고츄장구이<input>장어고츄장구이': '장어고추장구이', '소고기완자전<input>소고기완자전': '쇠고기완자전', '열무거쩌리<input>열무거쩌리': '열무겉절이', '얼가리배추꾹<input>얼가리배추꾹': '얼갈이배춧국', '표구버슷구이<input>표구버슷구이': '표고버섯구이', '고딩이찌개<input>고딩이찌개': '고등어찌개', '시래기된장굽<input>시래기된장굽': '시래기된장국', '참치쭉<input>참치쭉': '참치죽', '일본매실짱아찌<input>일본매실짱아찌': '일본매실장아찌', '초콜릿케익<input>초콜릿케익': '초콜릿케이크', '내장타앙<input>내장타앙': '내장탕', '무우쪼림<input>무우쪼림': '무조림', '김치즌<input>김치즌': '김치전', '콩나물된장찌기<input>콩나물된장찌기': '콩나물된장찌개', '고춧가루콩나물<input>고춧가루콩나물': '콩나물고춧가루무침', '김칙국<input>김칙국': '김치국', '피망닥까슴살보끔<input>피망닥까슴살보끔': '닭가슴살피망볶음', '제육뽀끔<input>제육뽀끔': '제육볶음', '장어덥밥<input>장어덥밥': '장어덮밥', '오징어보끈<input>오징어보끈': '오징어볶음', '대헙미역국<input>대헙미역국': '대합미역국', '옥수수샐러다<input>옥수수샐러다': '옥수수샐러드', '고츄닙나물무침<input>고츄닙나물무침': '고춧잎나물무침', '얼가리배츄김치<input>얼가리배츄김치': '얼갈이배추김치', '조귀찜<input>조귀찜': '조기찜', '삼선짜장민<input>삼선짜장민': '삼선자장면', '후박즌<input>후박즌': '호박전', '찹쌀도오넛<input>찹쌀도오넛': '찹쌀도넛', '고춧잎나물<input>고춧잎나물': '고춧잎나물무침', '동태찌게<input>동태찌게': '동태찌개', '송이더빱<input>송이더빱': '송이덮밥', '닥발보끈<input>닥발보끈': '닭발볶음', '소고기죽<input>소고기죽': '쇠고기죽', '삼신볶음밥<input>삼신볶음밥': '삼선볶음밥', '살국쑤<input>살국쑤': '쌀국수', '열무얼가리김치<input>열무얼가리김치': '열무얼갈이김치', '쇠고기샤브<input>쇠고기샤브': '쇠고기샤브샤브', '무지개애떡<input>무지개애떡': '무지개떡', '두부애호박된장찌게<input>두부애호박된장찌게': '두부애호박된장찌개', '갓김취<input>갓김취': '갓김치', '기장빱<input>기장빱': '기장밥', '우렁될장국<input>우렁될장국': '우렁된장국', '미서된장구<input>미서된장구': '미소된장국', '추아탕<input>추아탕': '추어탕', '재첩꾹<input>재첩꾹': '재첩국', '계란꾹<input>계란꾹': '달걀국', '동티국<input>동티국': '동태국', '미나리나멀<input>미나리나멀': '미나리나물', '닥까슴살샐러다<input>닥까슴살샐러다': '닭가슴살샐러드', '비빔냉믄<input>비빔냉믄': '비빔냉면', '마늘쫑쪼림<input>마늘쫑쪼림': '마늘쫑조림', '깻닙김치<input>깻닙김치': '깻잎김치', '된장풋고추무침<input>된장풋고추무침': '풋고추된장무침', '오리불구기<input>오리불구기': '오리불고기', '브로콜리보끈<input>브로콜리보끈': '브로콜리볶음', '깬닙짱아찌<input>깬닙짱아찌': '깻잎장아찌', '무지기떡<input>무지기떡': '무지개떡', '표곳버섯볶음<input>표곳버섯볶음': '표고버섯볶음', '동타찌개<input>동타찌개': '동태찌개', '미역초뭇침<input>미역초뭇침': '미역초무침', '수수부꾸무<input>수수부꾸무': '수수부꾸미', '럴케익<input>럴케익': '롤케이크', '찹쌀띡<input>찹쌀띡': '찹쌀떡', '떠뽀끼<input>떠뽀끼': '떡볶이', '어묵채소보끈<input>어묵채소보끈': '어묵채소볶음', '배추나물<input>배추나물': '배추나물무침', '닥깡정<input>닥깡정': '닭강정', '양생추샐러드<input>양생추샐러드': '양상추샐러드', '닥빨보끔<input>닥빨보끔': '닭발볶음', '닥까슴살샌도이치<input>닥까슴살샌도이치': '닭가슴살샌드위치', '캘리퍼니아롤<input>캘리퍼니아롤': '캘리포니아롤', '더덩구이<input>더덩구이': '더덕구이', '달래된정찌개<input>달래된정찌개': '달래된장찌개', '달래뭇침<input>달래뭇침': '달래무침', '모커빵<input>모커빵': '모카빵', '쇠괴기김밥<input>쇠괴기김밥': '소고기김밥', '고굼마투김<input>고굼마투김': '고구마튀김', '쇠고기전걸<input>쇠고기전걸': '쇠고기전골', '짜짱밥<input>짜짱밥': '자장밥', '버러쿠림빵<input>버러쿠림빵': '버터크림빵', '쇠괴기수육<input>쇠괴기수육': '쇠고기수육', '낙지전굴<input>낙지전굴': '낙지전골', '까뚜기<input>까뚜기': '깍두기', '메밀묵꾹<input>메밀묵꾹': '메밀묵국', '장어더빱<input>장어더빱': '장어덮밥', '김치보끔빱<input>김치보끔빱': '김치볶음밥', '양념계장<input>양념계장': '양념게장', '송화다시<input>송화다시': '송화다식', '열무된장나물<input>열무된장나물': '열무된장나물무침', '도라지나멀<input>도라지나멀': '도라지나물무침', '꽃게타앙<input>꽃게타앙': '꽃게탕', '미트볼토마토파스타<input>미트볼토마토파스타': '미트볼토마토스파게티', '쟁반국시<input>쟁반국시': '쟁반국수', '시래기된장공<input>시래기된장공': '시래기된장국', '쑥갓나멀<input>쑥갓나멀': '쑥갓나물무침', '프라이드치킨<input>프라이드치킨': '후라이드치킨', '찐감저<input>찐감저': '찐감자', '꽈리고추잔멸치볶음<input>꽈리고추잔멸치볶음': '잔멸치꽈리고추볶음', '후라이두치킨<input>후라이두치킨': '후라이드치킨', '선두부찌개<input>선두부찌개': '순두부찌개', '소고기무궁<input>소고기무궁': '소고기무국', '쭈꾸미보끔<input>쭈꾸미보끔': '주꾸미볶음', '돼지껍대기보끔<input>돼지껍대기보끔': '돼지껍데기볶음', '죽쑨쇠고기볶음<input>죽쑨쇠고기볶음': '죽순쇠고기볶음', '대지고기찌기<input>대지고기찌기': '돼지고기찌개', '양미리쪼림<input>양미리쪼림': '양미리조림', '삼겹살묵은지볶음<input>삼겹살묵은지볶음': '묵은지삼겹살볶음', '마늘쫑잔멸치보끔<input>마늘쫑잔멸치보끔': '마늘쫑잔멸치볶음', '토란대무침<input>토란대무침': '토란대나물무침', '채소햄보끈<input>채소햄보끈': '햄채소볶음', '잔치국쑤<input>잔치국쑤': '잔치국수', '소세지튀기<input>소세지튀기': '소시지튀김', '표구버슷전<input>표구버슷전': '표고버섯전', '닭가슴살샌드이치<input>닭가슴살샌드이치': '닭가슴살샌드위치', '쇠고기버섯죽<input>쇠고기버섯죽': '소고기버섯죽', '더덕물침<input>더덕물침': '더덕무침', '햄샌도이취<input>햄샌도이취': '햄샌드위치', '바지락칼국씨<input>바지락칼국씨': '바지락칼국수', '삼겹살묵은지보끈<input>삼겹살묵은지보끈': '묵은지삼겹살볶음', '쇠고기샤푸<input>쇠고기샤푸': '쇠고기샤브샤브', '골빙이무침<input>골빙이무침': '골뱅이무침', '시금치나물<input>시금치나물': '시금치나물무침', '콩나무울잡치<input>콩나무울잡치': '콩나물잡채', '달걀후라이<input>달걀후라이': '달걀프라이', '매작가<input>매작가': '매작과', '열무김칫<input>열무김칫': '열무김치', '고츄조림<input>고츄조림': '고추조림', '꼳개탕<input>꼳개탕': '꽃게탕', '오뎅채소보끈<input>오뎅채소보끈': '어묵채소볶음', '풋고츄된장무침<input>풋고츄된장무침': '풋고추된장무침', '대지불괴기<input>대지불괴기': '돼지불고기', '소고기고추장보끔<input>소고기고추장보끔': '쇠고기고추장볶음', '소고기메추리알장조림<input>소고기메추리알장조림': '쇠고기메추리알장조림', '오이생치<input>오이생치': '오이생채', '양파부츄멋침<input>양파부츄멋침': '양파부추무침', '닭날개티김<input>닭날개티김': '닭날개튀김', '김친국<input>김친국': '김치국', '호박오가리나물뭇침<input>호박오가리나물뭇침': '호박오가리나물무침', '더부부침<input>더부부침': '두부부침', '김멋침<input>김멋침': '김무침', '소고기장조림<input>소고기장조림': '쇠고기장조림', '묵은지삼겹살보끔<input>묵은지삼겹살보끔': '묵은지삼겹살볶음', '병아조림<input>병아조림': '병어조림', '떡만두꾹<input>떡만두꾹': '떡만두국', '닥깽정<input>닥깽정': '닭강정', '대지수육<input>대지수육': '돼지고기수육', '햐물찜<input>햐물찜': '해물찜', '주꾸미보끔<input>주꾸미보끔': '주꾸미볶음', '오이지멋침<input>오이지멋침': '오이지무침', '후박전<input>후박전': '호박전', '오이지머침<input>오이지머침': '오이지무침', '꽁치구운<input>꽁치구운': '꽁치구이', '매추리알장조림<input>매추리알장조림': '메추리알장조림', '소양념갈비구시<input>소양념갈비구시': '소양념갈비구이', '돼지메추리알장쪼림<input>돼지메추리알장쪼림': '돼지고기메추리알장조림', '참꼬믹<input>참꼬믹': '참꼬막', '기픠편<input>기픠편': '기피편', '흔제어리<input>흔제어리': '훈제오리', '소고기샤부<input>소고기샤부': '소고기샤브샤브', '간장응념닭다리구이<input>간장응념닭다리구이': '간장양념닭다리구이', '연어처밥<input>연어처밥': '연어초밥', '가자미시케<input>가자미시케': '가자미식해', '거구마줄기나물<input>거구마줄기나물': '고구마줄기나물무침', '부로콜리볶음<input>부로콜리볶음': '브로콜리볶음', '푸고츄된장무침<input>푸고츄된장무침': '풋고추된장무침', '떡만둥국<input>떡만둥국': '떡만둣국', '풋고추잔멸치볶음<input>풋고추잔멸치볶음': '잔멸치풋고추볶음', '호박고추장찌기<input>호박고추장찌기': '호박고추장찌개', '미억튀각<input>미억튀각': '미역튀각', '도라지나물<input>도라지나물': '도라지나물무침', '새송이버섯<input>새송이버섯': '새송이버섯구이', '조미기임<input>조미기임': '조미김', '회머침<input>회머침': '회무침', '모듬회덥밥<input>모듬회덥밥': '모듬회덮밥', '채수죽<input>채수죽': '채소죽', '동태찌기<input>동태찌기': '동태찌개', '개란라면<input>개란라면': '달걀라면', '돼지괴기메추리장조림<input>돼지괴기메추리장조림': '돼지고기메추리알장조림', '버섯쇠고기볶음<input>버섯쇠고기볶음': '쇠고기버섯볶음', '김채우동<input>김채우동': '김치우동', '피잣빠앙<input>피잣빠앙': '피자빵', '패슷츄리빵<input>패슷츄리빵': '페이스트리빵', '카쓰테라<input>카쓰테라': '카스텔라', '걸전<input>걸전': '굴전', '식빵터스트<input>식빵터스트': '식빵토스트', '소양념가비구이<input>소양념가비구이': '소양념갈비구이', '치즈핏자<input>치즈핏자': '치즈피자', '기정밥<input>기정밥': '기장밥', '문어처밥<input>문어처밥': '문어초밥', '고츄보끈<input>고츄보끈': '고추볶음', '가자미즌<input>가자미즌': '가자미전', '대지갈비<input>대지갈비': '돼지갈비구이', '깬입나물<input>깬입나물': '깻잎나물무침', '홍합멋국<input>홍합멋국': '홍합무국', '장어초빱<input>장어초빱': '장어초밥', '죽쑨소고기볶음<input>죽쑨소고기볶음': '죽순쇠고기볶음', '콩나물국빱<input>콩나물국빱': '콩나물국밥', '순두부김치찌게<input>순두부김치찌게': '순두부김치찌개', '고추장삼겹<input>고추장삼겹': '삼겹살고추장구이', '추러스<input>추러스': '츄러스', '무닝빵<input>무닝빵': '모닝빵', '고추장불고기삼김<input>고추장불고기삼김': '고추장불고기삼각김밥', '삼슨우동<input>삼슨우동': '삼선우동', '감자그로겟<input>감자그로겟': '감자크로켓', '대지등갈비찜<input>대지등갈비찜': '돼지등갈비찜', '동티전<input>동티전': '동태전', '채소사라다<input>채소사라다': '채소샐러드', '수부루빵<input>수부루빵': '소보로빵', '양념장어<input>양념장어': '양념장어구이', '롤케익<input>롤케익': '롤케이크', '버섯찌기<input>버섯찌기': '버섯찌개', '만둣굳<input>만둣굳': '만둣국', '청포무무침<input>청포무무침': '청포묵무침', '롤케잌<input>롤케잌': '롤케이크', '임연수구기<input>임연수구기': '임연수구이', '햄치주샌도이치<input>햄치주샌도이치': '햄치즈샌드위치', '꽁츼찌기<input>꽁츼찌기': '꽁치찌개', '모카빠앙<input>모카빠앙': '모카빵', '무카빵<input>무카빵': '모카빵', '고추장문어보끈<input>고추장문어보끈': '문어고추장볶음', '매실짱아찌<input>매실짱아찌': '매실장아찌', '생선무뢰<input>생선무뢰': '생선물회', '넉두시루뚝<input>넉두시루뚝': '녹두시루떡', '불고기덥밥<input>불고기덥밥': '불고기덮밥', '오뎅꾹<input>오뎅꾹': '어묵국', '미수가리<input>미수가리': '미숫가루', '돼지찌개<input>돼지찌개': '돼지고기찌개', '중식우동<input>중식우동': '우동(중식)', '고사리나물<input>고사리나물': '고사리나물무침', '깨닙전<input>깨닙전': '깻잎전', '새우탕슈육<input>새우탕슈육': '새우탕수육', '치나물<input>치나물': '취나물', '닥튀김<input>닥튀김': '닭튀김', '풋마늘뭇침<input>풋마늘뭇침': '풋마늘무침', '양념개장<input>양념개장': '양념게장', '마늘짱아찌<input>마늘짱아찌': '마늘장아찌', '의삼불고기<input>의삼불고기': '오삼불고기', '소시지보끔<input>소시지보끔': '소세지볶음', '과일사라다<input>과일사라다': '과일샐러드', '콩송핀<input>콩송핀': '송편(콩)', '느타리버슷볶음<input>느타리버슷볶음': '느타리버섯볶음', '김튀기<input>김튀기': '김튀김', '달리나멀<input>달리나멀': '달래나물무침', '김치전걸<input>김치전걸': '김치전골', '갈치죄림<input>갈치죄림': '갈치조림', '소갤비<input>소갤비': '쇠갈비구이', '간장마늘쭝짱아지<input>간장마늘쭝짱아지': '간장마늘쫑장아찌', '순더부계란탕<input>순더부계란탕': '순두부달걀탕', '초꼬소라빵<input>초꼬소라빵': '초코소라빵', '국굴빱<input>국굴빱': '굴국밥', '송이덥바<input>송이덥바': '송이덮밥', '동티조림<input>동티조림': '동태조림', '오댕김치찌개<input>오댕김치찌개': '어묵김치찌개', '지포조림<input>지포조림': '쥐포조림', '떡만룽국<input>떡만룽국': '떡만둣국', '대파닭꼬치<input>대파닭꼬치': '닭고기대파꼬치구이', '다시마뭇침<input>다시마뭇침': '다시마무침', '맛쌀전<input>맛쌀전': '맛살전', '라조깅<input>라조깅': '라조기', '모듬찰띡<input>모듬찰띡': '모듬찰떡', '마늘쩡조림<input>마늘쩡조림': '마늘쫑조림', '해물보끔밥<input>해물보끔밥': '해물볶음밥', '허박죽<input>허박죽': '호박죽', '더딕무침<input>더딕무침': '더덕무침', '해초뭇침<input>해초뭇침': '해초무침', '터란꾹<input>터란꾹': '토란국', '배춧된장국<input>배춧된장국': '배추된장국', '잡치밥<input>잡치밥': '잡채밥', '머삔<input>머삔': '머핀', '치커리걷저리<input>치커리걷저리': '치커리겉절이', '황태구자<input>황태구자': '황태구이', '낙지덥밥<input>낙지덥밥': '낙지덮밥', '감자피자<input>감자피자': '포테이토피자', '골빙이국쑤무침<input>골빙이국쑤무침': '골뱅이국수무침', '얼무냉믄<input>얼무냉믄': '열무냉면', '헝합뭇국<input>헝합뭇국': '홍합무국', '부거채무침<input>부거채무침': '북어채무침', '만드국<input>만드국': '만둣국', '메밀전병<input>메밀전병': '메밀전병', '양배추사라다<input>양배추사라다': '양배추샐러드', '초콜릿케잌<input>초콜릿케잌': '초콜릿케이크', '드득장아찌<input>드득장아찌': '더덕장아찌', '숫불갤비삼각김빱<input>숫불갤비삼각김빱': '숯불갈비삼각김밥', '두부전걸<input>두부전걸': '두부전골', '고츄장장어<input>고츄장장어': '장어고추장구이', '참치마요삼각김법<input>참치마요삼각김법': '참치마요네즈삼각김밥', '달걀보끔밥<input>달걀보끔밥': '계란볶음밥', '콩비지찌게<input>콩비지찌게': '콩비지찌개', '샐러드김빱<input>샐러드김빱': '샐러드김밥', '후박찌개<input>후박찌개': '호박찌개', '콩나물고츄가루무침<input>콩나물고츄가루무침': '콩나물고춧가루무침', '임연스구이<input>임연스구이': '임연수구이', '느타리버섯보끔<input>느타리버섯보끔': '느타리버섯볶음', '냉이이된자이찌개<input>냉이이된자이찌개': '냉이된장찌개', '팟찹쌀띡<input>팟찹쌀띡': '팥찹쌀떡', '양상추샐러다<input>양상추샐러다': '양상추샐러드', '오이부추뭇침<input>오이부추뭇침': '오이부추무침', '꼬리굼탕<input>꼬리굼탕': '꼬리곰탕', '닥빨구이<input>닥빨구이': '닭발구이', '짬봉<input>짬봉': '짬뽕', '김치이전<input>김치이전': '김치전', '마쌀전<input>마쌀전': '맛살전', '애호박보끔<input>애호박보끔': '애호박볶음', '표구버섯전<input>표구버섯전': '표고버섯전', '부추즌<input>부추즌': '부추전', '골뱅무침<input>골뱅무침': '골뱅이무침', '황태가이<input>황태가이': '황태구이', '쪼코소라빵<input>쪼코소라빵': '초코소라빵', '드득무침<input>드득무침': '더덕무침', '무된장공<input>무된장공': '무된장국', '문어고추장보끈<input>문어고추장보끈': '문어고추장볶음', '고등이조림<input>고등이조림': '고등어조림', '쉬래기나물<input>쉬래기나물': '시래기나물무침', '보끔밥<input>보끔밥': '볶음밥', '닥칼국수<input>닥칼국수': '닭칼국수', '양송이수푸<input>양송이수푸': '양송이스프', '감저된장궁<input>감저된장궁': '감자된장국', '시케<input>시케': '식혜', '오이부춧멋침<input>오이부춧멋침': '오이부추무침', '채소샐러다<input>채소샐러다': '채소샐러드', '호박나물무침<input>호박나물무침': '호박오가리나물무침', '쇠고기주먹빱<input>쇠고기주먹빱': '쇠고기주먹밥', '고추잔멸치보끔<input>고추잔멸치보끔': '잔멸치고추볶음', '오일스파게티<input>오일스파게티': '오일소스스파게티', '오징이산적<input>오징이산적': '오징어산적', '닥꼬기덮밥<input>닥꼬기덮밥': '닭고기덮밥', '치주라민<input>치주라민': '치즈라면', '골빙이국수무침<input>골빙이국수무침': '골뱅이국수무침', '깻닙나물보끔<input>깻닙나물보끔': '깻잎나물볶음', '소고기샤브샤비<input>소고기샤브샤비': '소고기샤브샤브', '근대됭장국<input>근대됭장국': '근대된장국', '콩나멀<input>콩나멀': '콩나물무침', '응념갈치젓<input>응념갈치젓': '양념갈치젓', '시레기된장국<input>시레기된장국': '시래기된장국', '야채즌<input>야채즌': '야채전', '샐러디김밥<input>샐러디김밥': '샐러드김밥', '닭고츄장조림<input>닭고츄장조림': '닭고추장조림', '고츄투김<input>고츄투김': '고추튀김', '햄버그스테익<input>햄버그스테익': '햄버그스테이크', '두부김친<input>두부김친': '두부김치', '과리고츄찜<input>과리고츄찜': '꽈리고추찜', '페스츄리<input>페스츄리': '페이스트리', '해물크림스파게티<input>해물크림스파게티': '해물크림소스스파게티', '깨경단<input>깨경단': '경단(깨)', '소갤비찜<input>소갤비찜': '쇠갈비찜', '토마토스파게티<input>토마토스파게티': '토마토소스스파게티', '들깨칼구수<input>들깨칼구수': '둘깨칼국수', '오이부추머침<input>오이부추머침': '오이부추무침', '김치보끔밥<input>김치보끔밥': '김치볶음밥', '오징어찌게<input>오징어찌게': '오징어찌개', '간장응념통닭<input>간장응념통닭': '간장양념치킨', '새싹채소사라다<input>새싹채소사라다': '새싹채소샐러드', '달레무침<input>달레무침': '달래무침', '계란프라이<input>계란프라이': '달걀프라이', '잔치국슈<input>잔치국슈': '잔치국수', '소메추리장조림<input>소메추리장조림': '소고기메추리알장조림', '돼지갤비찜<input>돼지갤비찜': '돼지갈비찜', '배이글<input>배이글': '베이글', '스크램블에그<input>스크램블에그': '스크램블드에그', '불고기햄버걸<input>불고기햄버걸': '불고기버거', '고굼마마탕<input>고굼마마탕': '고구마맛탕', '쇠고기배추국<input>쇠고기배추국': '쇠고기배춧국', '막꾹시<input>막꾹시': '막국수', '대지머리국빱<input>대지머리국빱': '돼지머리국밥', '감자국<input>감자국': '감잣국', '오이나물<input>오이나물': '오이나물무침', '화양직<input>화양직': '화양적', '꽈리고추멸치보끔<input>꽈리고추멸치보끔': '꽈리고추멸치볶음', '오므라이쓰<input>오므라이쓰': '오므라이스', '쥐치치<input>쥐치치': '쥐치채', '고추장장어<input>고추장장어': '장어고추장구이', '순대걱밥<input>순대걱밥': '순대국밥', '팟시루떡<input>팟시루떡': '팥시루떡', '가지나멀<input>가지나멀': '가지나물무침', '고추장소고기볶음<input>고추장소고기볶음': '쇠고기고추장볶음', '더부고추장찌개<input>더부고추장찌개': '두부고추장찌개', '단무우지<input>단무우지': '단무지', '데리야끼치킨<input>데리야끼치킨': '치킨데리야끼'}\n"
          ]
        }
      ],
      "source": [
        "test_samples = {}\n",
        "real_names = food_test['식품명'].tolist()\n",
        "for i in range(len(real_names)):\n",
        "    real_food = real_names[i]\n",
        "    input_line = test_lines[i]\n",
        "    test_samples[input_line] = real_food\n",
        "\n",
        "print(test_samples)"
      ]
    },
    {
      "cell_type": "markdown",
      "metadata": {
        "id": "P1y-rQkuVI7F"
      },
      "source": [
        "# Text search engine response (for multiple items)"
      ]
    },
    {
      "cell_type": "markdown",
      "metadata": {
        "id": "GWJlxXrHVOuE"
      },
      "source": [
        "## Test data batch processing (multiple data)"
      ]
    },
    {
      "cell_type": "code",
      "execution_count": 24,
      "metadata": {
        "colab": {
          "base_uri": "https://localhost:8080/",
          "height": 33,
          "referenced_widgets": [
            "6192b9ba6db147558ef35eaebacec6ae",
            "3337537c8aa44276a8b29653ce38e522"
          ]
        },
        "id": "zgCxJJ2VVFqH",
        "outputId": "722f7954-8939-466e-bd84-470503b8f718"
      },
      "outputs": [
        {
          "data": {
            "text/html": [
              "<pre style=\"white-space:pre;overflow-x:auto;line-height:normal;font-family:Menlo,'DejaVu Sans Mono',consolas,'Courier New',monospace\"></pre>\n"
            ],
            "text/plain": []
          },
          "metadata": {},
          "output_type": "display_data"
        },
        {
          "data": {
            "text/html": [
              "<pre style=\"white-space:pre;overflow-x:auto;line-height:normal;font-family:Menlo,'DejaVu Sans Mono',consolas,'Courier New',monospace\">\n",
              "</pre>\n"
            ],
            "text/plain": [
              "\n"
            ]
          },
          "metadata": {},
          "output_type": "display_data"
        }
      ],
      "source": [
        "max_token_length = 384\n",
        "input_feats = np.zeros((len(test_lines), max_token_length*768))\n",
        "\n",
        "for i in track(range(len(test_lines))):\n",
        "    encoded = tokenizer(test_lines[i], max_length=384, padding='max_length', truncation=True, return_tensors='pt')\n",
        "    input_feats[i] = bert_model(**encoded).last_hidden_state.detach().numpy().reshape(max_token_length*768)"
      ]
    },
    {
      "cell_type": "code",
      "execution_count": 25,
      "metadata": {
        "colab": {
          "base_uri": "https://localhost:8080/"
        },
        "id": "X-LnhiTRVFlT",
        "outputId": "f3a0c5d9-9641-4609-de0a-a07b076137c5"
      },
      "outputs": [
        {
          "name": "stdout",
          "output_type": "stream",
          "text": [
            "19/19 [==============================] - 0s 5ms/step\n",
            "Elapsed time: 0.001440478703747057 seconds\n"
          ]
        }
      ],
      "source": [
        "# check inference time\n",
        "\n",
        "start = torch.cuda.Event(enable_timing=True)\n",
        "end = torch.cuda.Event(enable_timing=True)\n",
        "\n",
        "# start the event\n",
        "start.record()\n",
        "\n",
        "# inference all at once\n",
        "prediction = x_kobert_feat_matching.predict(input_feats)\n",
        "\n",
        "end.record()\n",
        "\n",
        "# wait until the event is done\n",
        "torch.cuda.synchronize()\n",
        "\n",
        "elapsed_time = start.elapsed_time(end)  # msec \n",
        "execution_per_sample = (elapsed_time / 1000) / len(test_lines)\n",
        "print(f\"Elapsed time: {execution_per_sample} seconds\")  # convert to sec \n"
      ]
    },
    {
      "cell_type": "markdown",
      "metadata": {
        "id": "jWph8tiZVboR"
      },
      "source": [
        "## accuracy to test data"
      ]
    },
    {
      "cell_type": "code",
      "execution_count": 31,
      "metadata": {
        "id": "RgTrEVPqVFi1"
      },
      "outputs": [],
      "source": [
        "def response_acc(k,total_text, prediction):\n",
        "    total_results = []\n",
        "    for item in prediction:\n",
        "        item_results = []\n",
        "        for index in item.argsort()[-k::][::-1]:\n",
        "            item_results.append(total_text[index].split('<input>')[1])\n",
        "            item_set = set(item_results)\n",
        "        total_results.append(item_set)\n",
        "\n",
        "    count = 0\n",
        "    for i in range(len(test_lines)):\n",
        "        target = test_samples[test_lines[i]]\n",
        "        for item in total_results:\n",
        "            if target in item:\n",
        "                    count +=1\n",
        "                    break\n",
        "    return (count/len(test_lines))*100"
      ]
    },
    {
      "cell_type": "code",
      "execution_count": 32,
      "metadata": {
        "colab": {
          "base_uri": "https://localhost:8080/"
        },
        "id": "P69qGti8ViEj",
        "outputId": "ce872bfa-cb4b-469d-d5d4-ecd8c6fb093a"
      },
      "outputs": [
        {
          "name": "stdout",
          "output_type": "stream",
          "text": [
            "TOP 1 accuracy of response:  79.7945205479452\n",
            "TOP 3 accuracy of response:  90.23972602739725\n",
            "TOP 5 accuracy of response:  93.83561643835617\n"
          ]
        }
      ],
      "source": [
        "print('TOP 1 accuracy of response: ',response_acc(1,total_text, prediction))\n",
        "print('TOP 3 accuracy of response: ',response_acc(3,total_text, prediction))\n",
        "print('TOP 5 accuracy of response: ',response_acc(5,total_text, prediction))"
      ]
    },
    {
      "cell_type": "markdown",
      "metadata": {
        "id": "M3Phf6hBVvqp"
      },
      "source": [
        "# Text search engine response for 1 item"
      ]
    },
    {
      "cell_type": "code",
      "execution_count": 33,
      "metadata": {
        "colab": {
          "base_uri": "https://localhost:8080/"
        },
        "id": "pRyHvjmiViCJ",
        "outputId": "66850096-db97-4943-d3b5-38363f93d97a"
      },
      "outputs": [
        {
          "name": "stdout",
          "output_type": "stream",
          "text": [
            "1/1 [==============================] - 0s 15ms/step\n",
            "(2337,)\n"
          ]
        }
      ],
      "source": [
        "input_keyword = '노각머침<input>노각머침'\n",
        "\n",
        "encoded = tokenizer(input_keyword, max_length=384, padding='max_length', truncation=True, return_tensors='pt')\n",
        "temp_feats = bert_model(**encoded).last_hidden_state.detach().numpy().reshape(1,384*768)\n",
        "\n",
        "one_prediction = x_kobert_feat_matching.predict(temp_feats).reshape(-1)\n",
        "print(one_prediction.shape)"
      ]
    },
    {
      "cell_type": "code",
      "execution_count": 34,
      "metadata": {
        "colab": {
          "base_uri": "https://localhost:8080/"
        },
        "id": "45WNVLwyV5yh",
        "outputId": "0286ba2b-6000-4b44-a3e0-af74f54dcbba"
      },
      "outputs": [
        {
          "name": "stdout",
          "output_type": "stream",
          "text": [
            "노각머침<input>노각무침\n",
            "노각물침<input>노각무침\n",
            "노각무침<input>노각무침\n",
            "낙지무침<input>낙지무침\n",
            "해초머침<input>해초무침\n"
          ]
        }
      ],
      "source": [
        "k=5\n",
        "for index in one_prediction.argsort()[-k:][::-1]:\n",
        "    print (total_text[index])"
      ]
    },
    {
      "cell_type": "markdown",
      "metadata": {
        "id": "tFLFJOErV7iZ"
      },
      "source": [
        "## chatbot response for 1 item"
      ]
    },
    {
      "cell_type": "code",
      "execution_count": 35,
      "metadata": {
        "colab": {
          "base_uri": "https://localhost:8080/",
          "height": 35
        },
        "id": "33bpSiQMV5v_",
        "outputId": "10b40417-c835-4a90-d30d-fc0fb31a3ab9"
      },
      "outputs": [
        {
          "data": {
            "text/plain": [
              "'노각무침'"
            ]
          },
          "execution_count": 35,
          "metadata": {},
          "output_type": "execute_result"
        }
      ],
      "source": [
        "total_text[one_prediction.argsort()[-5:][::-1][0]].split('<input>')[1]"
      ]
    },
    {
      "cell_type": "markdown",
      "metadata": {
        "id": "0h2qEOJgWAgI"
      },
      "source": [
        "## Find nutrient with matched food names (for chat response for 1 item)"
      ]
    },
    {
      "cell_type": "code",
      "execution_count": 36,
      "metadata": {
        "id": "U431cOBKV_WH"
      },
      "outputs": [],
      "source": [
        "def find_food_info(df, target_column, chat_response):\n",
        "    food_info = df[df[target_column] == chat_response]\n",
        "    return food_info"
      ]
    },
    {
      "cell_type": "code",
      "execution_count": 37,
      "metadata": {
        "colab": {
          "base_uri": "https://localhost:8080/",
          "height": 81
        },
        "id": "dq7NPNo4V_TT",
        "outputId": "2148f21e-f504-4d6e-a89c-32b964c9687e"
      },
      "outputs": [
        {
          "data": {
            "text/html": [
              "<div>\n",
              "<style scoped>\n",
              "    .dataframe tbody tr th:only-of-type {\n",
              "        vertical-align: middle;\n",
              "    }\n",
              "\n",
              "    .dataframe tbody tr th {\n",
              "        vertical-align: top;\n",
              "    }\n",
              "\n",
              "    .dataframe thead th {\n",
              "        text-align: right;\n",
              "    }\n",
              "</style>\n",
              "<table border=\"1\" class=\"dataframe\">\n",
              "  <thead>\n",
              "    <tr style=\"text-align: right;\">\n",
              "      <th></th>\n",
              "      <th>food_item</th>\n",
              "      <th>serving_size</th>\n",
              "      <th>calories (kcal)</th>\n",
              "      <th>protein (g)</th>\n",
              "      <th>protein (g).1</th>\n",
              "      <th>protein (g).2</th>\n",
              "      <th>protein (g).3</th>\n",
              "      <th>carbohydrate (g)</th>\n",
              "      <th>sugar (g)</th>\n",
              "    </tr>\n",
              "  </thead>\n",
              "  <tbody>\n",
              "    <tr>\n",
              "      <th>76</th>\n",
              "      <td>노각무침</td>\n",
              "      <td>150</td>\n",
              "      <td>84.0</td>\n",
              "      <td>2.6</td>\n",
              "      <td>1.8</td>\n",
              "      <td>2.6</td>\n",
              "      <td>1.8</td>\n",
              "      <td>14.3</td>\n",
              "      <td>7.1</td>\n",
              "    </tr>\n",
              "  </tbody>\n",
              "</table>\n",
              "</div>"
            ],
            "text/plain": [
              "   food_item  serving_size  calories (kcal)  protein (g)  protein (g).1  \\\n",
              "76      노각무침           150             84.0          2.6            1.8   \n",
              "\n",
              "    protein (g).2  protein (g).3  carbohydrate (g)  sugar (g)  \n",
              "76            2.6            1.8              14.3        7.1  "
            ]
          },
          "execution_count": 37,
          "metadata": {},
          "output_type": "execute_result"
        }
      ],
      "source": [
        "chat_response = total_text[one_prediction.argsort()[-5:][::-1][0]].split('<input>')[1]\n",
        "find_food_info(food_nutrient_info,'food_item',chat_response)"
      ]
    },
    {
      "cell_type": "code",
      "execution_count": 42,
      "metadata": {
        "id": "EBq8XD_Sog9G"
      },
      "outputs": [],
      "source": [
        "def calculate_precision_recall_f1(k, total_text, label_dict):\n",
        "    predictions = []\n",
        "    for item in prediction:\n",
        "        item_results = []\n",
        "        for index in item.argsort()[-k::][::-1]:\n",
        "            item_results.append(total_text[index].split('<input>')[1])\n",
        "            item_set = set(item_results)\n",
        "        predictions.append(item_set)\n",
        "        \n",
        "    # create truth label table \n",
        "    correct_labels_set = set(label_dict.values())\n",
        "\n",
        "    # count correct prediction from the prediction\n",
        "    correct_predictions_count = sum(1 for pred in predictions if any(label in pred for label in correct_labels_set))\n",
        "\n",
        "    predictions_count = len(predictions)\n",
        "\n",
        "    total_labels_count = len(correct_labels_set)\n",
        "\n",
        "    # Precision\n",
        "    precision = correct_predictions_count / predictions_count if predictions_count else 0\n",
        "\n",
        "    # Recall and make sure it never go over 1.0\n",
        "    recall = correct_predictions_count / total_labels_count if total_labels_count else 0\n",
        "    recall = min(recall, 1.0)\n",
        "\n",
        "    # F1-Score \n",
        "    f1_score = 2 * (precision * recall) / (precision + recall) if (precision + recall) else 0\n",
        "\n",
        "    return precision, recall, f1_score"
      ]
    },
    {
      "cell_type": "code",
      "execution_count": 43,
      "metadata": {},
      "outputs": [
        {
          "data": {
            "text/plain": [
              "(0.8458904109589042, 1.0, 0.9165120593692023)"
            ]
          },
          "execution_count": 43,
          "metadata": {},
          "output_type": "execute_result"
        }
      ],
      "source": [
        "calculate_precision_recall_f1(1, total_text, test_samples)"
      ]
    },
    {
      "cell_type": "code",
      "execution_count": null,
      "metadata": {},
      "outputs": [],
      "source": []
    }
  ],
  "metadata": {
    "accelerator": "GPU",
    "colab": {
      "gpuType": "T4",
      "machine_shape": "hm",
      "provenance": []
    },
    "kernelspec": {
      "display_name": "Python 3",
      "name": "python3"
    },
    "language_info": {
      "codemirror_mode": {
        "name": "ipython",
        "version": 3
      },
      "file_extension": ".py",
      "mimetype": "text/x-python",
      "name": "python",
      "nbconvert_exporter": "python",
      "pygments_lexer": "ipython3",
      "version": "3.9.18"
    },
    "widgets": {
      "application/vnd.jupyter.widget-state+json": {
        "0ff0dda2a31944f2ac52115e5e570d23": {
          "model_module": "@jupyter-widgets/output",
          "model_module_version": "1.0.0",
          "model_name": "OutputModel",
          "state": {
            "_dom_classes": [],
            "_model_module": "@jupyter-widgets/output",
            "_model_module_version": "1.0.0",
            "_model_name": "OutputModel",
            "_view_count": null,
            "_view_module": "@jupyter-widgets/output",
            "_view_module_version": "1.0.0",
            "_view_name": "OutputView",
            "layout": "IPY_MODEL_a8d0f8f3b266423abfd4ac867af6b9e6",
            "msg_id": "",
            "outputs": [
              {
                "data": {
                  "text/html": "<pre style=\"white-space:pre;overflow-x:auto;line-height:normal;font-family:Menlo,'DejaVu Sans Mono',consolas,'Courier New',monospace\">Working... <span style=\"color: #729c1f; text-decoration-color: #729c1f\">━━━━━━━━━━━━━━━━━━━━━━━━━━━━━━━━━━━━━━━━</span> <span style=\"color: #800080; text-decoration-color: #800080\">100%</span> <span style=\"color: #808000; text-decoration-color: #808000\">0:00:00</span>\n</pre>\n",
                  "text/plain": "Working... \u001b[38;2;114;156;31m━━━━━━━━━━━━━━━━━━━━━━━━━━━━━━━━━━━━━━━━\u001b[0m \u001b[35m100%\u001b[0m \u001b[33m0:00:00\u001b[0m\n"
                },
                "metadata": {},
                "output_type": "display_data"
              }
            ]
          }
        },
        "11296e5a0c4a4cc986422bb46b1d5303": {
          "model_module": "@jupyter-widgets/controls",
          "model_module_version": "1.5.0",
          "model_name": "ProgressStyleModel",
          "state": {
            "_model_module": "@jupyter-widgets/controls",
            "_model_module_version": "1.5.0",
            "_model_name": "ProgressStyleModel",
            "_view_count": null,
            "_view_module": "@jupyter-widgets/base",
            "_view_module_version": "1.2.0",
            "_view_name": "StyleView",
            "bar_color": null,
            "description_width": ""
          }
        },
        "12270956143448fd9fc1dd6595717531": {
          "model_module": "@jupyter-widgets/controls",
          "model_module_version": "1.5.0",
          "model_name": "HTMLModel",
          "state": {
            "_dom_classes": [],
            "_model_module": "@jupyter-widgets/controls",
            "_model_module_version": "1.5.0",
            "_model_name": "HTMLModel",
            "_view_count": null,
            "_view_module": "@jupyter-widgets/controls",
            "_view_module_version": "1.5.0",
            "_view_name": "HTMLView",
            "description": "",
            "description_tooltip": null,
            "layout": "IPY_MODEL_c132cd208fa84cecb2a49900bbe53191",
            "placeholder": "​",
            "style": "IPY_MODEL_8a6d8a974fd549bdb42a3f292ffbc28c",
            "value": "Downloading (…)lve/main/config.json: 100%"
          }
        },
        "142ab7ff5ab04a7cb69cee3f29de3333": {
          "model_module": "@jupyter-widgets/output",
          "model_module_version": "1.0.0",
          "model_name": "OutputModel",
          "state": {
            "_dom_classes": [],
            "_model_module": "@jupyter-widgets/output",
            "_model_module_version": "1.0.0",
            "_model_name": "OutputModel",
            "_view_count": null,
            "_view_module": "@jupyter-widgets/output",
            "_view_module_version": "1.0.0",
            "_view_name": "OutputView",
            "layout": "IPY_MODEL_9665172b9e7849d8b55b26b9b3e6abc8",
            "msg_id": "",
            "outputs": [
              {
                "data": {
                  "text/html": "<pre style=\"white-space:pre;overflow-x:auto;line-height:normal;font-family:Menlo,'DejaVu Sans Mono',consolas,'Courier New',monospace\">Working... <span style=\"color: #729c1f; text-decoration-color: #729c1f\">━━━━━━━━━━━━━━━━━━━━━━━━━━━━━━━━━━━━━━━━</span> <span style=\"color: #800080; text-decoration-color: #800080\">100%</span> <span style=\"color: #808000; text-decoration-color: #808000\">0:00:00</span>\n</pre>\n",
                  "text/plain": "Working... \u001b[38;2;114;156;31m━━━━━━━━━━━━━━━━━━━━━━━━━━━━━━━━━━━━━━━━\u001b[0m \u001b[35m100%\u001b[0m \u001b[33m0:00:00\u001b[0m\n"
                },
                "metadata": {},
                "output_type": "display_data"
              }
            ]
          }
        },
        "164b68bd60ad4359a1442010f25db7d2": {
          "model_module": "@jupyter-widgets/base",
          "model_module_version": "1.2.0",
          "model_name": "LayoutModel",
          "state": {
            "_model_module": "@jupyter-widgets/base",
            "_model_module_version": "1.2.0",
            "_model_name": "LayoutModel",
            "_view_count": null,
            "_view_module": "@jupyter-widgets/base",
            "_view_module_version": "1.2.0",
            "_view_name": "LayoutView",
            "align_content": null,
            "align_items": null,
            "align_self": null,
            "border": null,
            "bottom": null,
            "display": null,
            "flex": null,
            "flex_flow": null,
            "grid_area": null,
            "grid_auto_columns": null,
            "grid_auto_flow": null,
            "grid_auto_rows": null,
            "grid_column": null,
            "grid_gap": null,
            "grid_row": null,
            "grid_template_areas": null,
            "grid_template_columns": null,
            "grid_template_rows": null,
            "height": null,
            "justify_content": null,
            "justify_items": null,
            "left": null,
            "margin": null,
            "max_height": null,
            "max_width": null,
            "min_height": null,
            "min_width": null,
            "object_fit": null,
            "object_position": null,
            "order": null,
            "overflow": null,
            "overflow_x": null,
            "overflow_y": null,
            "padding": null,
            "right": null,
            "top": null,
            "visibility": null,
            "width": null
          }
        },
        "1ed411e91fc64fbd8a4423880a2fa458": {
          "model_module": "@jupyter-widgets/base",
          "model_module_version": "1.2.0",
          "model_name": "LayoutModel",
          "state": {
            "_model_module": "@jupyter-widgets/base",
            "_model_module_version": "1.2.0",
            "_model_name": "LayoutModel",
            "_view_count": null,
            "_view_module": "@jupyter-widgets/base",
            "_view_module_version": "1.2.0",
            "_view_name": "LayoutView",
            "align_content": null,
            "align_items": null,
            "align_self": null,
            "border": null,
            "bottom": null,
            "display": null,
            "flex": null,
            "flex_flow": null,
            "grid_area": null,
            "grid_auto_columns": null,
            "grid_auto_flow": null,
            "grid_auto_rows": null,
            "grid_column": null,
            "grid_gap": null,
            "grid_row": null,
            "grid_template_areas": null,
            "grid_template_columns": null,
            "grid_template_rows": null,
            "height": null,
            "justify_content": null,
            "justify_items": null,
            "left": null,
            "margin": null,
            "max_height": null,
            "max_width": null,
            "min_height": null,
            "min_width": null,
            "object_fit": null,
            "object_position": null,
            "order": null,
            "overflow": null,
            "overflow_x": null,
            "overflow_y": null,
            "padding": null,
            "right": null,
            "top": null,
            "visibility": null,
            "width": null
          }
        },
        "244243e761764474a789fd041ef3c06e": {
          "model_module": "@jupyter-widgets/controls",
          "model_module_version": "1.5.0",
          "model_name": "HBoxModel",
          "state": {
            "_dom_classes": [],
            "_model_module": "@jupyter-widgets/controls",
            "_model_module_version": "1.5.0",
            "_model_name": "HBoxModel",
            "_view_count": null,
            "_view_module": "@jupyter-widgets/controls",
            "_view_module_version": "1.5.0",
            "_view_name": "HBoxView",
            "box_style": "",
            "children": [
              "IPY_MODEL_6829bba5bc6e4685a4f9ba6abfafdc91",
              "IPY_MODEL_8b2b1cf9731140489483bf6a77aa832e",
              "IPY_MODEL_356e78bb4a7f4218beafe6af24701ac8"
            ],
            "layout": "IPY_MODEL_ac387bccccac480e87ba3a1bfd088bf0"
          }
        },
        "2b73d12160264c23b608b5883fa2724c": {
          "model_module": "@jupyter-widgets/controls",
          "model_module_version": "1.5.0",
          "model_name": "DescriptionStyleModel",
          "state": {
            "_model_module": "@jupyter-widgets/controls",
            "_model_module_version": "1.5.0",
            "_model_name": "DescriptionStyleModel",
            "_view_count": null,
            "_view_module": "@jupyter-widgets/base",
            "_view_module_version": "1.2.0",
            "_view_name": "StyleView",
            "description_width": ""
          }
        },
        "3244899c5aa94d4f881e612ec4402632": {
          "model_module": "@jupyter-widgets/controls",
          "model_module_version": "1.5.0",
          "model_name": "HTMLModel",
          "state": {
            "_dom_classes": [],
            "_model_module": "@jupyter-widgets/controls",
            "_model_module_version": "1.5.0",
            "_model_name": "HTMLModel",
            "_view_count": null,
            "_view_module": "@jupyter-widgets/controls",
            "_view_module_version": "1.5.0",
            "_view_name": "HTMLView",
            "description": "",
            "description_tooltip": null,
            "layout": "IPY_MODEL_acd8777f569e4388ae03859fb2867cc8",
            "placeholder": "​",
            "style": "IPY_MODEL_426478facb1c4a00b713540c405e3bca",
            "value": "Downloading (…)cial_tokens_map.json: 100%"
          }
        },
        "3337537c8aa44276a8b29653ce38e522": {
          "model_module": "@jupyter-widgets/base",
          "model_module_version": "1.2.0",
          "model_name": "LayoutModel",
          "state": {
            "_model_module": "@jupyter-widgets/base",
            "_model_module_version": "1.2.0",
            "_model_name": "LayoutModel",
            "_view_count": null,
            "_view_module": "@jupyter-widgets/base",
            "_view_module_version": "1.2.0",
            "_view_name": "LayoutView",
            "align_content": null,
            "align_items": null,
            "align_self": null,
            "border": null,
            "bottom": null,
            "display": null,
            "flex": null,
            "flex_flow": null,
            "grid_area": null,
            "grid_auto_columns": null,
            "grid_auto_flow": null,
            "grid_auto_rows": null,
            "grid_column": null,
            "grid_gap": null,
            "grid_row": null,
            "grid_template_areas": null,
            "grid_template_columns": null,
            "grid_template_rows": null,
            "height": null,
            "justify_content": null,
            "justify_items": null,
            "left": null,
            "margin": null,
            "max_height": null,
            "max_width": null,
            "min_height": null,
            "min_width": null,
            "object_fit": null,
            "object_position": null,
            "order": null,
            "overflow": null,
            "overflow_x": null,
            "overflow_y": null,
            "padding": null,
            "right": null,
            "top": null,
            "visibility": null,
            "width": null
          }
        },
        "354f07298b9e47848640460bef69132c": {
          "model_module": "@jupyter-widgets/base",
          "model_module_version": "1.2.0",
          "model_name": "LayoutModel",
          "state": {
            "_model_module": "@jupyter-widgets/base",
            "_model_module_version": "1.2.0",
            "_model_name": "LayoutModel",
            "_view_count": null,
            "_view_module": "@jupyter-widgets/base",
            "_view_module_version": "1.2.0",
            "_view_name": "LayoutView",
            "align_content": null,
            "align_items": null,
            "align_self": null,
            "border": null,
            "bottom": null,
            "display": null,
            "flex": null,
            "flex_flow": null,
            "grid_area": null,
            "grid_auto_columns": null,
            "grid_auto_flow": null,
            "grid_auto_rows": null,
            "grid_column": null,
            "grid_gap": null,
            "grid_row": null,
            "grid_template_areas": null,
            "grid_template_columns": null,
            "grid_template_rows": null,
            "height": null,
            "justify_content": null,
            "justify_items": null,
            "left": null,
            "margin": null,
            "max_height": null,
            "max_width": null,
            "min_height": null,
            "min_width": null,
            "object_fit": null,
            "object_position": null,
            "order": null,
            "overflow": null,
            "overflow_x": null,
            "overflow_y": null,
            "padding": null,
            "right": null,
            "top": null,
            "visibility": null,
            "width": null
          }
        },
        "356e78bb4a7f4218beafe6af24701ac8": {
          "model_module": "@jupyter-widgets/controls",
          "model_module_version": "1.5.0",
          "model_name": "HTMLModel",
          "state": {
            "_dom_classes": [],
            "_model_module": "@jupyter-widgets/controls",
            "_model_module_version": "1.5.0",
            "_model_name": "HTMLModel",
            "_view_count": null,
            "_view_module": "@jupyter-widgets/controls",
            "_view_module_version": "1.5.0",
            "_view_name": "HTMLView",
            "description": "",
            "description_tooltip": null,
            "layout": "IPY_MODEL_645668af5bf74a128dbb38be42d505ad",
            "placeholder": "​",
            "style": "IPY_MODEL_a1c28ca8f05b42b3b259a293c1fc2e15",
            "value": " 371k/371k [00:00&lt;00:00, 3.85MB/s]"
          }
        },
        "35dfdbf765114c92bb2219fbf2cf9001": {
          "model_module": "@jupyter-widgets/controls",
          "model_module_version": "1.5.0",
          "model_name": "DescriptionStyleModel",
          "state": {
            "_model_module": "@jupyter-widgets/controls",
            "_model_module_version": "1.5.0",
            "_model_name": "DescriptionStyleModel",
            "_view_count": null,
            "_view_module": "@jupyter-widgets/base",
            "_view_module_version": "1.2.0",
            "_view_name": "StyleView",
            "description_width": ""
          }
        },
        "3b6c7bffec3a41268d89c6afa7be3fb4": {
          "model_module": "@jupyter-widgets/controls",
          "model_module_version": "1.5.0",
          "model_name": "FloatProgressModel",
          "state": {
            "_dom_classes": [],
            "_model_module": "@jupyter-widgets/controls",
            "_model_module_version": "1.5.0",
            "_model_name": "FloatProgressModel",
            "_view_count": null,
            "_view_module": "@jupyter-widgets/controls",
            "_view_module_version": "1.5.0",
            "_view_name": "ProgressView",
            "bar_style": "success",
            "description": "",
            "description_tooltip": null,
            "layout": "IPY_MODEL_164b68bd60ad4359a1442010f25db7d2",
            "max": 368792544,
            "min": 0,
            "orientation": "horizontal",
            "style": "IPY_MODEL_488dddcf953248078f9a1adf7181cfea",
            "value": 368792544
          }
        },
        "40e2c911e78e445091e6da783d32479e": {
          "model_module": "@jupyter-widgets/base",
          "model_module_version": "1.2.0",
          "model_name": "LayoutModel",
          "state": {
            "_model_module": "@jupyter-widgets/base",
            "_model_module_version": "1.2.0",
            "_model_name": "LayoutModel",
            "_view_count": null,
            "_view_module": "@jupyter-widgets/base",
            "_view_module_version": "1.2.0",
            "_view_name": "LayoutView",
            "align_content": null,
            "align_items": null,
            "align_self": null,
            "border": null,
            "bottom": null,
            "display": null,
            "flex": null,
            "flex_flow": null,
            "grid_area": null,
            "grid_auto_columns": null,
            "grid_auto_flow": null,
            "grid_auto_rows": null,
            "grid_column": null,
            "grid_gap": null,
            "grid_row": null,
            "grid_template_areas": null,
            "grid_template_columns": null,
            "grid_template_rows": null,
            "height": null,
            "justify_content": null,
            "justify_items": null,
            "left": null,
            "margin": null,
            "max_height": null,
            "max_width": null,
            "min_height": null,
            "min_width": null,
            "object_fit": null,
            "object_position": null,
            "order": null,
            "overflow": null,
            "overflow_x": null,
            "overflow_y": null,
            "padding": null,
            "right": null,
            "top": null,
            "visibility": null,
            "width": null
          }
        },
        "426478facb1c4a00b713540c405e3bca": {
          "model_module": "@jupyter-widgets/controls",
          "model_module_version": "1.5.0",
          "model_name": "DescriptionStyleModel",
          "state": {
            "_model_module": "@jupyter-widgets/controls",
            "_model_module_version": "1.5.0",
            "_model_name": "DescriptionStyleModel",
            "_view_count": null,
            "_view_module": "@jupyter-widgets/base",
            "_view_module_version": "1.2.0",
            "_view_name": "StyleView",
            "description_width": ""
          }
        },
        "4659ab85afd4447c800f83c900a3b355": {
          "model_module": "@jupyter-widgets/base",
          "model_module_version": "1.2.0",
          "model_name": "LayoutModel",
          "state": {
            "_model_module": "@jupyter-widgets/base",
            "_model_module_version": "1.2.0",
            "_model_name": "LayoutModel",
            "_view_count": null,
            "_view_module": "@jupyter-widgets/base",
            "_view_module_version": "1.2.0",
            "_view_name": "LayoutView",
            "align_content": null,
            "align_items": null,
            "align_self": null,
            "border": null,
            "bottom": null,
            "display": null,
            "flex": null,
            "flex_flow": null,
            "grid_area": null,
            "grid_auto_columns": null,
            "grid_auto_flow": null,
            "grid_auto_rows": null,
            "grid_column": null,
            "grid_gap": null,
            "grid_row": null,
            "grid_template_areas": null,
            "grid_template_columns": null,
            "grid_template_rows": null,
            "height": null,
            "justify_content": null,
            "justify_items": null,
            "left": null,
            "margin": null,
            "max_height": null,
            "max_width": null,
            "min_height": null,
            "min_width": null,
            "object_fit": null,
            "object_position": null,
            "order": null,
            "overflow": null,
            "overflow_x": null,
            "overflow_y": null,
            "padding": null,
            "right": null,
            "top": null,
            "visibility": null,
            "width": null
          }
        },
        "47b95817a19d4ea8bd98eba5a28f7d85": {
          "model_module": "@jupyter-widgets/controls",
          "model_module_version": "1.5.0",
          "model_name": "FloatProgressModel",
          "state": {
            "_dom_classes": [],
            "_model_module": "@jupyter-widgets/controls",
            "_model_module_version": "1.5.0",
            "_model_name": "FloatProgressModel",
            "_view_count": null,
            "_view_module": "@jupyter-widgets/controls",
            "_view_module_version": "1.5.0",
            "_view_name": "ProgressView",
            "bar_style": "success",
            "description": "",
            "description_tooltip": null,
            "layout": "IPY_MODEL_e68866c879ec4be2acf1fb78bad80c6f",
            "max": 244,
            "min": 0,
            "orientation": "horizontal",
            "style": "IPY_MODEL_c8d3fa848be64fc392433ebab9095e99",
            "value": 244
          }
        },
        "488dddcf953248078f9a1adf7181cfea": {
          "model_module": "@jupyter-widgets/controls",
          "model_module_version": "1.5.0",
          "model_name": "ProgressStyleModel",
          "state": {
            "_model_module": "@jupyter-widgets/controls",
            "_model_module_version": "1.5.0",
            "_model_name": "ProgressStyleModel",
            "_view_count": null,
            "_view_module": "@jupyter-widgets/base",
            "_view_module_version": "1.2.0",
            "_view_name": "StyleView",
            "bar_color": null,
            "description_width": ""
          }
        },
        "4a9f1708d7944313a1ac95e64c194b27": {
          "model_module": "@jupyter-widgets/controls",
          "model_module_version": "1.5.0",
          "model_name": "HBoxModel",
          "state": {
            "_dom_classes": [],
            "_model_module": "@jupyter-widgets/controls",
            "_model_module_version": "1.5.0",
            "_model_name": "HBoxModel",
            "_view_count": null,
            "_view_module": "@jupyter-widgets/controls",
            "_view_module_version": "1.5.0",
            "_view_name": "HBoxView",
            "box_style": "",
            "children": [
              "IPY_MODEL_3244899c5aa94d4f881e612ec4402632",
              "IPY_MODEL_47b95817a19d4ea8bd98eba5a28f7d85",
              "IPY_MODEL_8944694f3e604fbdbe6431d35ce76988"
            ],
            "layout": "IPY_MODEL_4f96f9ed1462471d930f0f167beb9023"
          }
        },
        "4f96f9ed1462471d930f0f167beb9023": {
          "model_module": "@jupyter-widgets/base",
          "model_module_version": "1.2.0",
          "model_name": "LayoutModel",
          "state": {
            "_model_module": "@jupyter-widgets/base",
            "_model_module_version": "1.2.0",
            "_model_name": "LayoutModel",
            "_view_count": null,
            "_view_module": "@jupyter-widgets/base",
            "_view_module_version": "1.2.0",
            "_view_name": "LayoutView",
            "align_content": null,
            "align_items": null,
            "align_self": null,
            "border": null,
            "bottom": null,
            "display": null,
            "flex": null,
            "flex_flow": null,
            "grid_area": null,
            "grid_auto_columns": null,
            "grid_auto_flow": null,
            "grid_auto_rows": null,
            "grid_column": null,
            "grid_gap": null,
            "grid_row": null,
            "grid_template_areas": null,
            "grid_template_columns": null,
            "grid_template_rows": null,
            "height": null,
            "justify_content": null,
            "justify_items": null,
            "left": null,
            "margin": null,
            "max_height": null,
            "max_width": null,
            "min_height": null,
            "min_width": null,
            "object_fit": null,
            "object_position": null,
            "order": null,
            "overflow": null,
            "overflow_x": null,
            "overflow_y": null,
            "padding": null,
            "right": null,
            "top": null,
            "visibility": null,
            "width": null
          }
        },
        "56d092252df244a788295b5ba8ee0644": {
          "model_module": "@jupyter-widgets/controls",
          "model_module_version": "1.5.0",
          "model_name": "HBoxModel",
          "state": {
            "_dom_classes": [],
            "_model_module": "@jupyter-widgets/controls",
            "_model_module_version": "1.5.0",
            "_model_name": "HBoxModel",
            "_view_count": null,
            "_view_module": "@jupyter-widgets/controls",
            "_view_module_version": "1.5.0",
            "_view_name": "HBoxView",
            "box_style": "",
            "children": [
              "IPY_MODEL_9e8b53debcca4e5bbc3a1b4de53e9246",
              "IPY_MODEL_3b6c7bffec3a41268d89c6afa7be3fb4",
              "IPY_MODEL_fb4258596afd4fdc8b43cfb47629ace7"
            ],
            "layout": "IPY_MODEL_e0a6f31e7e8a4c1fa05158ef4870d8d0"
          }
        },
        "57382eb68575437a90329f2ee9cbe54a": {
          "model_module": "@jupyter-widgets/controls",
          "model_module_version": "1.5.0",
          "model_name": "HTMLModel",
          "state": {
            "_dom_classes": [],
            "_model_module": "@jupyter-widgets/controls",
            "_model_module_version": "1.5.0",
            "_model_name": "HTMLModel",
            "_view_count": null,
            "_view_module": "@jupyter-widgets/controls",
            "_view_module_version": "1.5.0",
            "_view_name": "HTMLView",
            "description": "",
            "description_tooltip": null,
            "layout": "IPY_MODEL_c97a2742edc543f69400e87ee4375191",
            "placeholder": "​",
            "style": "IPY_MODEL_2b73d12160264c23b608b5883fa2724c",
            "value": "Downloading (…)okenizer_config.json: 100%"
          }
        },
        "5c54bf417d454604a4b0200f8858043e": {
          "model_module": "@jupyter-widgets/controls",
          "model_module_version": "1.5.0",
          "model_name": "HBoxModel",
          "state": {
            "_dom_classes": [],
            "_model_module": "@jupyter-widgets/controls",
            "_model_module_version": "1.5.0",
            "_model_name": "HBoxModel",
            "_view_count": null,
            "_view_module": "@jupyter-widgets/controls",
            "_view_module_version": "1.5.0",
            "_view_name": "HBoxView",
            "box_style": "",
            "children": [
              "IPY_MODEL_12270956143448fd9fc1dd6595717531",
              "IPY_MODEL_5ecd9599e7544ff2b396f078a9882b27",
              "IPY_MODEL_80db545e0bb041f2b576deb41c188cb3"
            ],
            "layout": "IPY_MODEL_7f541781bea048e79a299a30aadc3216"
          }
        },
        "5ecd9599e7544ff2b396f078a9882b27": {
          "model_module": "@jupyter-widgets/controls",
          "model_module_version": "1.5.0",
          "model_name": "FloatProgressModel",
          "state": {
            "_dom_classes": [],
            "_model_module": "@jupyter-widgets/controls",
            "_model_module_version": "1.5.0",
            "_model_name": "FloatProgressModel",
            "_view_count": null,
            "_view_module": "@jupyter-widgets/controls",
            "_view_module_version": "1.5.0",
            "_view_name": "ProgressView",
            "bar_style": "success",
            "description": "",
            "description_tooltip": null,
            "layout": "IPY_MODEL_90119e09461d4fc09ea4c48bf7242f66",
            "max": 535,
            "min": 0,
            "orientation": "horizontal",
            "style": "IPY_MODEL_11296e5a0c4a4cc986422bb46b1d5303",
            "value": 535
          }
        },
        "6192b9ba6db147558ef35eaebacec6ae": {
          "model_module": "@jupyter-widgets/output",
          "model_module_version": "1.0.0",
          "model_name": "OutputModel",
          "state": {
            "_dom_classes": [],
            "_model_module": "@jupyter-widgets/output",
            "_model_module_version": "1.0.0",
            "_model_name": "OutputModel",
            "_view_count": null,
            "_view_module": "@jupyter-widgets/output",
            "_view_module_version": "1.0.0",
            "_view_name": "OutputView",
            "layout": "IPY_MODEL_3337537c8aa44276a8b29653ce38e522",
            "msg_id": "",
            "outputs": [
              {
                "data": {
                  "text/html": "<pre style=\"white-space:pre;overflow-x:auto;line-height:normal;font-family:Menlo,'DejaVu Sans Mono',consolas,'Courier New',monospace\">Working... <span style=\"color: #729c1f; text-decoration-color: #729c1f\">━━━━━━━━━━━━━━━━━━━━━━━━━━━━━━━━━━━━━━━━</span> <span style=\"color: #800080; text-decoration-color: #800080\">100%</span> <span style=\"color: #808000; text-decoration-color: #808000\">0:04:13</span>\n</pre>\n",
                  "text/plain": "Working... \u001b[38;2;114;156;31m━━━━━━━━━━━━━━━━━━━━━━━━━━━━━━━━━━━━━━━━\u001b[0m \u001b[35m100%\u001b[0m \u001b[33m0:04:13\u001b[0m\n"
                },
                "metadata": {},
                "output_type": "display_data"
              }
            ]
          }
        },
        "621e6d991df84d659aedd9ed9b534cd5": {
          "model_module": "@jupyter-widgets/controls",
          "model_module_version": "1.5.0",
          "model_name": "HTMLModel",
          "state": {
            "_dom_classes": [],
            "_model_module": "@jupyter-widgets/controls",
            "_model_module_version": "1.5.0",
            "_model_name": "HTMLModel",
            "_view_count": null,
            "_view_module": "@jupyter-widgets/controls",
            "_view_module_version": "1.5.0",
            "_view_name": "HTMLView",
            "description": "",
            "description_tooltip": null,
            "layout": "IPY_MODEL_f5af703c328e42f5988d7b3ef90f8306",
            "placeholder": "​",
            "style": "IPY_MODEL_795d67fbe9ec4928ad4944a810176781",
            "value": " 432/432 [00:00&lt;00:00, 25.3kB/s]"
          }
        },
        "645668af5bf74a128dbb38be42d505ad": {
          "model_module": "@jupyter-widgets/base",
          "model_module_version": "1.2.0",
          "model_name": "LayoutModel",
          "state": {
            "_model_module": "@jupyter-widgets/base",
            "_model_module_version": "1.2.0",
            "_model_name": "LayoutModel",
            "_view_count": null,
            "_view_module": "@jupyter-widgets/base",
            "_view_module_version": "1.2.0",
            "_view_name": "LayoutView",
            "align_content": null,
            "align_items": null,
            "align_self": null,
            "border": null,
            "bottom": null,
            "display": null,
            "flex": null,
            "flex_flow": null,
            "grid_area": null,
            "grid_auto_columns": null,
            "grid_auto_flow": null,
            "grid_auto_rows": null,
            "grid_column": null,
            "grid_gap": null,
            "grid_row": null,
            "grid_template_areas": null,
            "grid_template_columns": null,
            "grid_template_rows": null,
            "height": null,
            "justify_content": null,
            "justify_items": null,
            "left": null,
            "margin": null,
            "max_height": null,
            "max_width": null,
            "min_height": null,
            "min_width": null,
            "object_fit": null,
            "object_position": null,
            "order": null,
            "overflow": null,
            "overflow_x": null,
            "overflow_y": null,
            "padding": null,
            "right": null,
            "top": null,
            "visibility": null,
            "width": null
          }
        },
        "6829bba5bc6e4685a4f9ba6abfafdc91": {
          "model_module": "@jupyter-widgets/controls",
          "model_module_version": "1.5.0",
          "model_name": "HTMLModel",
          "state": {
            "_dom_classes": [],
            "_model_module": "@jupyter-widgets/controls",
            "_model_module_version": "1.5.0",
            "_model_name": "HTMLModel",
            "_view_count": null,
            "_view_module": "@jupyter-widgets/controls",
            "_view_module_version": "1.5.0",
            "_view_name": "HTMLView",
            "description": "",
            "description_tooltip": null,
            "layout": "IPY_MODEL_6df7e80fe7dc48a98902f5d26ce67a9b",
            "placeholder": "​",
            "style": "IPY_MODEL_35dfdbf765114c92bb2219fbf2cf9001",
            "value": "Downloading (…)ve/main/spiece.model: 100%"
          }
        },
        "6c68098615c545af83ffb7f2dbb5c279": {
          "model_module": "@jupyter-widgets/controls",
          "model_module_version": "1.5.0",
          "model_name": "DescriptionStyleModel",
          "state": {
            "_model_module": "@jupyter-widgets/controls",
            "_model_module_version": "1.5.0",
            "_model_name": "DescriptionStyleModel",
            "_view_count": null,
            "_view_module": "@jupyter-widgets/base",
            "_view_module_version": "1.2.0",
            "_view_name": "StyleView",
            "description_width": ""
          }
        },
        "6db7bc7068744316833d5155c6462675": {
          "model_module": "@jupyter-widgets/controls",
          "model_module_version": "1.5.0",
          "model_name": "DescriptionStyleModel",
          "state": {
            "_model_module": "@jupyter-widgets/controls",
            "_model_module_version": "1.5.0",
            "_model_name": "DescriptionStyleModel",
            "_view_count": null,
            "_view_module": "@jupyter-widgets/base",
            "_view_module_version": "1.2.0",
            "_view_name": "StyleView",
            "description_width": ""
          }
        },
        "6df7e80fe7dc48a98902f5d26ce67a9b": {
          "model_module": "@jupyter-widgets/base",
          "model_module_version": "1.2.0",
          "model_name": "LayoutModel",
          "state": {
            "_model_module": "@jupyter-widgets/base",
            "_model_module_version": "1.2.0",
            "_model_name": "LayoutModel",
            "_view_count": null,
            "_view_module": "@jupyter-widgets/base",
            "_view_module_version": "1.2.0",
            "_view_name": "LayoutView",
            "align_content": null,
            "align_items": null,
            "align_self": null,
            "border": null,
            "bottom": null,
            "display": null,
            "flex": null,
            "flex_flow": null,
            "grid_area": null,
            "grid_auto_columns": null,
            "grid_auto_flow": null,
            "grid_auto_rows": null,
            "grid_column": null,
            "grid_gap": null,
            "grid_row": null,
            "grid_template_areas": null,
            "grid_template_columns": null,
            "grid_template_rows": null,
            "height": null,
            "justify_content": null,
            "justify_items": null,
            "left": null,
            "margin": null,
            "max_height": null,
            "max_width": null,
            "min_height": null,
            "min_width": null,
            "object_fit": null,
            "object_position": null,
            "order": null,
            "overflow": null,
            "overflow_x": null,
            "overflow_y": null,
            "padding": null,
            "right": null,
            "top": null,
            "visibility": null,
            "width": null
          }
        },
        "75ad3d1bb528409e96c8a8a7f93344c0": {
          "model_module": "@jupyter-widgets/controls",
          "model_module_version": "1.5.0",
          "model_name": "ProgressStyleModel",
          "state": {
            "_model_module": "@jupyter-widgets/controls",
            "_model_module_version": "1.5.0",
            "_model_name": "ProgressStyleModel",
            "_view_count": null,
            "_view_module": "@jupyter-widgets/base",
            "_view_module_version": "1.2.0",
            "_view_name": "StyleView",
            "bar_color": null,
            "description_width": ""
          }
        },
        "795d67fbe9ec4928ad4944a810176781": {
          "model_module": "@jupyter-widgets/controls",
          "model_module_version": "1.5.0",
          "model_name": "DescriptionStyleModel",
          "state": {
            "_model_module": "@jupyter-widgets/controls",
            "_model_module_version": "1.5.0",
            "_model_name": "DescriptionStyleModel",
            "_view_count": null,
            "_view_module": "@jupyter-widgets/base",
            "_view_module_version": "1.2.0",
            "_view_name": "StyleView",
            "description_width": ""
          }
        },
        "7f541781bea048e79a299a30aadc3216": {
          "model_module": "@jupyter-widgets/base",
          "model_module_version": "1.2.0",
          "model_name": "LayoutModel",
          "state": {
            "_model_module": "@jupyter-widgets/base",
            "_model_module_version": "1.2.0",
            "_model_name": "LayoutModel",
            "_view_count": null,
            "_view_module": "@jupyter-widgets/base",
            "_view_module_version": "1.2.0",
            "_view_name": "LayoutView",
            "align_content": null,
            "align_items": null,
            "align_self": null,
            "border": null,
            "bottom": null,
            "display": null,
            "flex": null,
            "flex_flow": null,
            "grid_area": null,
            "grid_auto_columns": null,
            "grid_auto_flow": null,
            "grid_auto_rows": null,
            "grid_column": null,
            "grid_gap": null,
            "grid_row": null,
            "grid_template_areas": null,
            "grid_template_columns": null,
            "grid_template_rows": null,
            "height": null,
            "justify_content": null,
            "justify_items": null,
            "left": null,
            "margin": null,
            "max_height": null,
            "max_width": null,
            "min_height": null,
            "min_width": null,
            "object_fit": null,
            "object_position": null,
            "order": null,
            "overflow": null,
            "overflow_x": null,
            "overflow_y": null,
            "padding": null,
            "right": null,
            "top": null,
            "visibility": null,
            "width": null
          }
        },
        "80db545e0bb041f2b576deb41c188cb3": {
          "model_module": "@jupyter-widgets/controls",
          "model_module_version": "1.5.0",
          "model_name": "HTMLModel",
          "state": {
            "_dom_classes": [],
            "_model_module": "@jupyter-widgets/controls",
            "_model_module_version": "1.5.0",
            "_model_name": "HTMLModel",
            "_view_count": null,
            "_view_module": "@jupyter-widgets/controls",
            "_view_module_version": "1.5.0",
            "_view_name": "HTMLView",
            "description": "",
            "description_tooltip": null,
            "layout": "IPY_MODEL_354f07298b9e47848640460bef69132c",
            "placeholder": "​",
            "style": "IPY_MODEL_c16537ade5174c659839395a7933df91",
            "value": " 535/535 [00:00&lt;00:00, 41.7kB/s]"
          }
        },
        "8944694f3e604fbdbe6431d35ce76988": {
          "model_module": "@jupyter-widgets/controls",
          "model_module_version": "1.5.0",
          "model_name": "HTMLModel",
          "state": {
            "_dom_classes": [],
            "_model_module": "@jupyter-widgets/controls",
            "_model_module_version": "1.5.0",
            "_model_name": "HTMLModel",
            "_view_count": null,
            "_view_module": "@jupyter-widgets/controls",
            "_view_module_version": "1.5.0",
            "_view_name": "HTMLView",
            "description": "",
            "description_tooltip": null,
            "layout": "IPY_MODEL_b7e437d8f45a46ba8a3264c38415d50d",
            "placeholder": "​",
            "style": "IPY_MODEL_6c68098615c545af83ffb7f2dbb5c279",
            "value": " 244/244 [00:00&lt;00:00, 17.6kB/s]"
          }
        },
        "8a6d8a974fd549bdb42a3f292ffbc28c": {
          "model_module": "@jupyter-widgets/controls",
          "model_module_version": "1.5.0",
          "model_name": "DescriptionStyleModel",
          "state": {
            "_model_module": "@jupyter-widgets/controls",
            "_model_module_version": "1.5.0",
            "_model_name": "DescriptionStyleModel",
            "_view_count": null,
            "_view_module": "@jupyter-widgets/base",
            "_view_module_version": "1.2.0",
            "_view_name": "StyleView",
            "description_width": ""
          }
        },
        "8b2b1cf9731140489483bf6a77aa832e": {
          "model_module": "@jupyter-widgets/controls",
          "model_module_version": "1.5.0",
          "model_name": "FloatProgressModel",
          "state": {
            "_dom_classes": [],
            "_model_module": "@jupyter-widgets/controls",
            "_model_module_version": "1.5.0",
            "_model_name": "FloatProgressModel",
            "_view_count": null,
            "_view_module": "@jupyter-widgets/controls",
            "_view_module_version": "1.5.0",
            "_view_name": "ProgressView",
            "bar_style": "success",
            "description": "",
            "description_tooltip": null,
            "layout": "IPY_MODEL_4659ab85afd4447c800f83c900a3b355",
            "max": 371427,
            "min": 0,
            "orientation": "horizontal",
            "style": "IPY_MODEL_9f4b30794f6f4927a3e67a0d09e2ea8d",
            "value": 371427
          }
        },
        "90119e09461d4fc09ea4c48bf7242f66": {
          "model_module": "@jupyter-widgets/base",
          "model_module_version": "1.2.0",
          "model_name": "LayoutModel",
          "state": {
            "_model_module": "@jupyter-widgets/base",
            "_model_module_version": "1.2.0",
            "_model_name": "LayoutModel",
            "_view_count": null,
            "_view_module": "@jupyter-widgets/base",
            "_view_module_version": "1.2.0",
            "_view_name": "LayoutView",
            "align_content": null,
            "align_items": null,
            "align_self": null,
            "border": null,
            "bottom": null,
            "display": null,
            "flex": null,
            "flex_flow": null,
            "grid_area": null,
            "grid_auto_columns": null,
            "grid_auto_flow": null,
            "grid_auto_rows": null,
            "grid_column": null,
            "grid_gap": null,
            "grid_row": null,
            "grid_template_areas": null,
            "grid_template_columns": null,
            "grid_template_rows": null,
            "height": null,
            "justify_content": null,
            "justify_items": null,
            "left": null,
            "margin": null,
            "max_height": null,
            "max_width": null,
            "min_height": null,
            "min_width": null,
            "object_fit": null,
            "object_position": null,
            "order": null,
            "overflow": null,
            "overflow_x": null,
            "overflow_y": null,
            "padding": null,
            "right": null,
            "top": null,
            "visibility": null,
            "width": null
          }
        },
        "9665172b9e7849d8b55b26b9b3e6abc8": {
          "model_module": "@jupyter-widgets/base",
          "model_module_version": "1.2.0",
          "model_name": "LayoutModel",
          "state": {
            "_model_module": "@jupyter-widgets/base",
            "_model_module_version": "1.2.0",
            "_model_name": "LayoutModel",
            "_view_count": null,
            "_view_module": "@jupyter-widgets/base",
            "_view_module_version": "1.2.0",
            "_view_name": "LayoutView",
            "align_content": null,
            "align_items": null,
            "align_self": null,
            "border": null,
            "bottom": null,
            "display": null,
            "flex": null,
            "flex_flow": null,
            "grid_area": null,
            "grid_auto_columns": null,
            "grid_auto_flow": null,
            "grid_auto_rows": null,
            "grid_column": null,
            "grid_gap": null,
            "grid_row": null,
            "grid_template_areas": null,
            "grid_template_columns": null,
            "grid_template_rows": null,
            "height": null,
            "justify_content": null,
            "justify_items": null,
            "left": null,
            "margin": null,
            "max_height": null,
            "max_width": null,
            "min_height": null,
            "min_width": null,
            "object_fit": null,
            "object_position": null,
            "order": null,
            "overflow": null,
            "overflow_x": null,
            "overflow_y": null,
            "padding": null,
            "right": null,
            "top": null,
            "visibility": null,
            "width": null
          }
        },
        "9e8b53debcca4e5bbc3a1b4de53e9246": {
          "model_module": "@jupyter-widgets/controls",
          "model_module_version": "1.5.0",
          "model_name": "HTMLModel",
          "state": {
            "_dom_classes": [],
            "_model_module": "@jupyter-widgets/controls",
            "_model_module_version": "1.5.0",
            "_model_name": "HTMLModel",
            "_view_count": null,
            "_view_module": "@jupyter-widgets/controls",
            "_view_module_version": "1.5.0",
            "_view_name": "HTMLView",
            "description": "",
            "description_tooltip": null,
            "layout": "IPY_MODEL_e6603a27d2fa4abcbce90d2f82c032c8",
            "placeholder": "​",
            "style": "IPY_MODEL_c3ab631856884c98953ece8676d5a0e1",
            "value": "Downloading pytorch_model.bin: 100%"
          }
        },
        "9f4b30794f6f4927a3e67a0d09e2ea8d": {
          "model_module": "@jupyter-widgets/controls",
          "model_module_version": "1.5.0",
          "model_name": "ProgressStyleModel",
          "state": {
            "_model_module": "@jupyter-widgets/controls",
            "_model_module_version": "1.5.0",
            "_model_name": "ProgressStyleModel",
            "_view_count": null,
            "_view_module": "@jupyter-widgets/base",
            "_view_module_version": "1.2.0",
            "_view_name": "StyleView",
            "bar_color": null,
            "description_width": ""
          }
        },
        "a1c28ca8f05b42b3b259a293c1fc2e15": {
          "model_module": "@jupyter-widgets/controls",
          "model_module_version": "1.5.0",
          "model_name": "DescriptionStyleModel",
          "state": {
            "_model_module": "@jupyter-widgets/controls",
            "_model_module_version": "1.5.0",
            "_model_name": "DescriptionStyleModel",
            "_view_count": null,
            "_view_module": "@jupyter-widgets/base",
            "_view_module_version": "1.2.0",
            "_view_name": "StyleView",
            "description_width": ""
          }
        },
        "a8d0f8f3b266423abfd4ac867af6b9e6": {
          "model_module": "@jupyter-widgets/base",
          "model_module_version": "1.2.0",
          "model_name": "LayoutModel",
          "state": {
            "_model_module": "@jupyter-widgets/base",
            "_model_module_version": "1.2.0",
            "_model_name": "LayoutModel",
            "_view_count": null,
            "_view_module": "@jupyter-widgets/base",
            "_view_module_version": "1.2.0",
            "_view_name": "LayoutView",
            "align_content": null,
            "align_items": null,
            "align_self": null,
            "border": null,
            "bottom": null,
            "display": null,
            "flex": null,
            "flex_flow": null,
            "grid_area": null,
            "grid_auto_columns": null,
            "grid_auto_flow": null,
            "grid_auto_rows": null,
            "grid_column": null,
            "grid_gap": null,
            "grid_row": null,
            "grid_template_areas": null,
            "grid_template_columns": null,
            "grid_template_rows": null,
            "height": null,
            "justify_content": null,
            "justify_items": null,
            "left": null,
            "margin": null,
            "max_height": null,
            "max_width": null,
            "min_height": null,
            "min_width": null,
            "object_fit": null,
            "object_position": null,
            "order": null,
            "overflow": null,
            "overflow_x": null,
            "overflow_y": null,
            "padding": null,
            "right": null,
            "top": null,
            "visibility": null,
            "width": null
          }
        },
        "ac387bccccac480e87ba3a1bfd088bf0": {
          "model_module": "@jupyter-widgets/base",
          "model_module_version": "1.2.0",
          "model_name": "LayoutModel",
          "state": {
            "_model_module": "@jupyter-widgets/base",
            "_model_module_version": "1.2.0",
            "_model_name": "LayoutModel",
            "_view_count": null,
            "_view_module": "@jupyter-widgets/base",
            "_view_module_version": "1.2.0",
            "_view_name": "LayoutView",
            "align_content": null,
            "align_items": null,
            "align_self": null,
            "border": null,
            "bottom": null,
            "display": null,
            "flex": null,
            "flex_flow": null,
            "grid_area": null,
            "grid_auto_columns": null,
            "grid_auto_flow": null,
            "grid_auto_rows": null,
            "grid_column": null,
            "grid_gap": null,
            "grid_row": null,
            "grid_template_areas": null,
            "grid_template_columns": null,
            "grid_template_rows": null,
            "height": null,
            "justify_content": null,
            "justify_items": null,
            "left": null,
            "margin": null,
            "max_height": null,
            "max_width": null,
            "min_height": null,
            "min_width": null,
            "object_fit": null,
            "object_position": null,
            "order": null,
            "overflow": null,
            "overflow_x": null,
            "overflow_y": null,
            "padding": null,
            "right": null,
            "top": null,
            "visibility": null,
            "width": null
          }
        },
        "acd8777f569e4388ae03859fb2867cc8": {
          "model_module": "@jupyter-widgets/base",
          "model_module_version": "1.2.0",
          "model_name": "LayoutModel",
          "state": {
            "_model_module": "@jupyter-widgets/base",
            "_model_module_version": "1.2.0",
            "_model_name": "LayoutModel",
            "_view_count": null,
            "_view_module": "@jupyter-widgets/base",
            "_view_module_version": "1.2.0",
            "_view_name": "LayoutView",
            "align_content": null,
            "align_items": null,
            "align_self": null,
            "border": null,
            "bottom": null,
            "display": null,
            "flex": null,
            "flex_flow": null,
            "grid_area": null,
            "grid_auto_columns": null,
            "grid_auto_flow": null,
            "grid_auto_rows": null,
            "grid_column": null,
            "grid_gap": null,
            "grid_row": null,
            "grid_template_areas": null,
            "grid_template_columns": null,
            "grid_template_rows": null,
            "height": null,
            "justify_content": null,
            "justify_items": null,
            "left": null,
            "margin": null,
            "max_height": null,
            "max_width": null,
            "min_height": null,
            "min_width": null,
            "object_fit": null,
            "object_position": null,
            "order": null,
            "overflow": null,
            "overflow_x": null,
            "overflow_y": null,
            "padding": null,
            "right": null,
            "top": null,
            "visibility": null,
            "width": null
          }
        },
        "b36c6294e2544334ae1d83d2054bbd6b": {
          "model_module": "@jupyter-widgets/base",
          "model_module_version": "1.2.0",
          "model_name": "LayoutModel",
          "state": {
            "_model_module": "@jupyter-widgets/base",
            "_model_module_version": "1.2.0",
            "_model_name": "LayoutModel",
            "_view_count": null,
            "_view_module": "@jupyter-widgets/base",
            "_view_module_version": "1.2.0",
            "_view_name": "LayoutView",
            "align_content": null,
            "align_items": null,
            "align_self": null,
            "border": null,
            "bottom": null,
            "display": null,
            "flex": null,
            "flex_flow": null,
            "grid_area": null,
            "grid_auto_columns": null,
            "grid_auto_flow": null,
            "grid_auto_rows": null,
            "grid_column": null,
            "grid_gap": null,
            "grid_row": null,
            "grid_template_areas": null,
            "grid_template_columns": null,
            "grid_template_rows": null,
            "height": null,
            "justify_content": null,
            "justify_items": null,
            "left": null,
            "margin": null,
            "max_height": null,
            "max_width": null,
            "min_height": null,
            "min_width": null,
            "object_fit": null,
            "object_position": null,
            "order": null,
            "overflow": null,
            "overflow_x": null,
            "overflow_y": null,
            "padding": null,
            "right": null,
            "top": null,
            "visibility": null,
            "width": null
          }
        },
        "b7e437d8f45a46ba8a3264c38415d50d": {
          "model_module": "@jupyter-widgets/base",
          "model_module_version": "1.2.0",
          "model_name": "LayoutModel",
          "state": {
            "_model_module": "@jupyter-widgets/base",
            "_model_module_version": "1.2.0",
            "_model_name": "LayoutModel",
            "_view_count": null,
            "_view_module": "@jupyter-widgets/base",
            "_view_module_version": "1.2.0",
            "_view_name": "LayoutView",
            "align_content": null,
            "align_items": null,
            "align_self": null,
            "border": null,
            "bottom": null,
            "display": null,
            "flex": null,
            "flex_flow": null,
            "grid_area": null,
            "grid_auto_columns": null,
            "grid_auto_flow": null,
            "grid_auto_rows": null,
            "grid_column": null,
            "grid_gap": null,
            "grid_row": null,
            "grid_template_areas": null,
            "grid_template_columns": null,
            "grid_template_rows": null,
            "height": null,
            "justify_content": null,
            "justify_items": null,
            "left": null,
            "margin": null,
            "max_height": null,
            "max_width": null,
            "min_height": null,
            "min_width": null,
            "object_fit": null,
            "object_position": null,
            "order": null,
            "overflow": null,
            "overflow_x": null,
            "overflow_y": null,
            "padding": null,
            "right": null,
            "top": null,
            "visibility": null,
            "width": null
          }
        },
        "c132cd208fa84cecb2a49900bbe53191": {
          "model_module": "@jupyter-widgets/base",
          "model_module_version": "1.2.0",
          "model_name": "LayoutModel",
          "state": {
            "_model_module": "@jupyter-widgets/base",
            "_model_module_version": "1.2.0",
            "_model_name": "LayoutModel",
            "_view_count": null,
            "_view_module": "@jupyter-widgets/base",
            "_view_module_version": "1.2.0",
            "_view_name": "LayoutView",
            "align_content": null,
            "align_items": null,
            "align_self": null,
            "border": null,
            "bottom": null,
            "display": null,
            "flex": null,
            "flex_flow": null,
            "grid_area": null,
            "grid_auto_columns": null,
            "grid_auto_flow": null,
            "grid_auto_rows": null,
            "grid_column": null,
            "grid_gap": null,
            "grid_row": null,
            "grid_template_areas": null,
            "grid_template_columns": null,
            "grid_template_rows": null,
            "height": null,
            "justify_content": null,
            "justify_items": null,
            "left": null,
            "margin": null,
            "max_height": null,
            "max_width": null,
            "min_height": null,
            "min_width": null,
            "object_fit": null,
            "object_position": null,
            "order": null,
            "overflow": null,
            "overflow_x": null,
            "overflow_y": null,
            "padding": null,
            "right": null,
            "top": null,
            "visibility": null,
            "width": null
          }
        },
        "c16537ade5174c659839395a7933df91": {
          "model_module": "@jupyter-widgets/controls",
          "model_module_version": "1.5.0",
          "model_name": "DescriptionStyleModel",
          "state": {
            "_model_module": "@jupyter-widgets/controls",
            "_model_module_version": "1.5.0",
            "_model_name": "DescriptionStyleModel",
            "_view_count": null,
            "_view_module": "@jupyter-widgets/base",
            "_view_module_version": "1.2.0",
            "_view_name": "StyleView",
            "description_width": ""
          }
        },
        "c3ab631856884c98953ece8676d5a0e1": {
          "model_module": "@jupyter-widgets/controls",
          "model_module_version": "1.5.0",
          "model_name": "DescriptionStyleModel",
          "state": {
            "_model_module": "@jupyter-widgets/controls",
            "_model_module_version": "1.5.0",
            "_model_name": "DescriptionStyleModel",
            "_view_count": null,
            "_view_module": "@jupyter-widgets/base",
            "_view_module_version": "1.2.0",
            "_view_name": "StyleView",
            "description_width": ""
          }
        },
        "c8d3fa848be64fc392433ebab9095e99": {
          "model_module": "@jupyter-widgets/controls",
          "model_module_version": "1.5.0",
          "model_name": "ProgressStyleModel",
          "state": {
            "_model_module": "@jupyter-widgets/controls",
            "_model_module_version": "1.5.0",
            "_model_name": "ProgressStyleModel",
            "_view_count": null,
            "_view_module": "@jupyter-widgets/base",
            "_view_module_version": "1.2.0",
            "_view_name": "StyleView",
            "bar_color": null,
            "description_width": ""
          }
        },
        "c97a2742edc543f69400e87ee4375191": {
          "model_module": "@jupyter-widgets/base",
          "model_module_version": "1.2.0",
          "model_name": "LayoutModel",
          "state": {
            "_model_module": "@jupyter-widgets/base",
            "_model_module_version": "1.2.0",
            "_model_name": "LayoutModel",
            "_view_count": null,
            "_view_module": "@jupyter-widgets/base",
            "_view_module_version": "1.2.0",
            "_view_name": "LayoutView",
            "align_content": null,
            "align_items": null,
            "align_self": null,
            "border": null,
            "bottom": null,
            "display": null,
            "flex": null,
            "flex_flow": null,
            "grid_area": null,
            "grid_auto_columns": null,
            "grid_auto_flow": null,
            "grid_auto_rows": null,
            "grid_column": null,
            "grid_gap": null,
            "grid_row": null,
            "grid_template_areas": null,
            "grid_template_columns": null,
            "grid_template_rows": null,
            "height": null,
            "justify_content": null,
            "justify_items": null,
            "left": null,
            "margin": null,
            "max_height": null,
            "max_width": null,
            "min_height": null,
            "min_width": null,
            "object_fit": null,
            "object_position": null,
            "order": null,
            "overflow": null,
            "overflow_x": null,
            "overflow_y": null,
            "padding": null,
            "right": null,
            "top": null,
            "visibility": null,
            "width": null
          }
        },
        "d2d2c9ec55e3449ba048c66919216c2b": {
          "model_module": "@jupyter-widgets/controls",
          "model_module_version": "1.5.0",
          "model_name": "FloatProgressModel",
          "state": {
            "_dom_classes": [],
            "_model_module": "@jupyter-widgets/controls",
            "_model_module_version": "1.5.0",
            "_model_name": "FloatProgressModel",
            "_view_count": null,
            "_view_module": "@jupyter-widgets/controls",
            "_view_module_version": "1.5.0",
            "_view_name": "ProgressView",
            "bar_style": "success",
            "description": "",
            "description_tooltip": null,
            "layout": "IPY_MODEL_1ed411e91fc64fbd8a4423880a2fa458",
            "max": 432,
            "min": 0,
            "orientation": "horizontal",
            "style": "IPY_MODEL_75ad3d1bb528409e96c8a8a7f93344c0",
            "value": 432
          }
        },
        "db5a74258df74ce2b0afd4301733ff67": {
          "model_module": "@jupyter-widgets/base",
          "model_module_version": "1.2.0",
          "model_name": "LayoutModel",
          "state": {
            "_model_module": "@jupyter-widgets/base",
            "_model_module_version": "1.2.0",
            "_model_name": "LayoutModel",
            "_view_count": null,
            "_view_module": "@jupyter-widgets/base",
            "_view_module_version": "1.2.0",
            "_view_name": "LayoutView",
            "align_content": null,
            "align_items": null,
            "align_self": null,
            "border": null,
            "bottom": null,
            "display": null,
            "flex": null,
            "flex_flow": null,
            "grid_area": null,
            "grid_auto_columns": null,
            "grid_auto_flow": null,
            "grid_auto_rows": null,
            "grid_column": null,
            "grid_gap": null,
            "grid_row": null,
            "grid_template_areas": null,
            "grid_template_columns": null,
            "grid_template_rows": null,
            "height": null,
            "justify_content": null,
            "justify_items": null,
            "left": null,
            "margin": null,
            "max_height": null,
            "max_width": null,
            "min_height": null,
            "min_width": null,
            "object_fit": null,
            "object_position": null,
            "order": null,
            "overflow": null,
            "overflow_x": null,
            "overflow_y": null,
            "padding": null,
            "right": null,
            "top": null,
            "visibility": null,
            "width": null
          }
        },
        "dc5563a370da40ea88298fd999063ccb": {
          "model_module": "@jupyter-widgets/output",
          "model_module_version": "1.0.0",
          "model_name": "OutputModel",
          "state": {
            "_dom_classes": [],
            "_model_module": "@jupyter-widgets/output",
            "_model_module_version": "1.0.0",
            "_model_name": "OutputModel",
            "_view_count": null,
            "_view_module": "@jupyter-widgets/output",
            "_view_module_version": "1.0.0",
            "_view_name": "OutputView",
            "layout": "IPY_MODEL_b36c6294e2544334ae1d83d2054bbd6b",
            "msg_id": "",
            "outputs": [
              {
                "data": {
                  "text/html": "<pre style=\"white-space:pre;overflow-x:auto;line-height:normal;font-family:Menlo,'DejaVu Sans Mono',consolas,'Courier New',monospace\">Working... <span style=\"color: #729c1f; text-decoration-color: #729c1f\">━━━━━━━━━━━━━━━━━━━━━━━━━━━━━━━━━━━━━━━━</span> <span style=\"color: #800080; text-decoration-color: #800080\">100%</span> <span style=\"color: #808000; text-decoration-color: #808000\">0:16:55</span>\n</pre>\n",
                  "text/plain": "Working... \u001b[38;2;114;156;31m━━━━━━━━━━━━━━━━━━━━━━━━━━━━━━━━━━━━━━━━\u001b[0m \u001b[35m100%\u001b[0m \u001b[33m0:16:55\u001b[0m\n"
                },
                "metadata": {},
                "output_type": "display_data"
              }
            ]
          }
        },
        "e0a6f31e7e8a4c1fa05158ef4870d8d0": {
          "model_module": "@jupyter-widgets/base",
          "model_module_version": "1.2.0",
          "model_name": "LayoutModel",
          "state": {
            "_model_module": "@jupyter-widgets/base",
            "_model_module_version": "1.2.0",
            "_model_name": "LayoutModel",
            "_view_count": null,
            "_view_module": "@jupyter-widgets/base",
            "_view_module_version": "1.2.0",
            "_view_name": "LayoutView",
            "align_content": null,
            "align_items": null,
            "align_self": null,
            "border": null,
            "bottom": null,
            "display": null,
            "flex": null,
            "flex_flow": null,
            "grid_area": null,
            "grid_auto_columns": null,
            "grid_auto_flow": null,
            "grid_auto_rows": null,
            "grid_column": null,
            "grid_gap": null,
            "grid_row": null,
            "grid_template_areas": null,
            "grid_template_columns": null,
            "grid_template_rows": null,
            "height": null,
            "justify_content": null,
            "justify_items": null,
            "left": null,
            "margin": null,
            "max_height": null,
            "max_width": null,
            "min_height": null,
            "min_width": null,
            "object_fit": null,
            "object_position": null,
            "order": null,
            "overflow": null,
            "overflow_x": null,
            "overflow_y": null,
            "padding": null,
            "right": null,
            "top": null,
            "visibility": null,
            "width": null
          }
        },
        "e6603a27d2fa4abcbce90d2f82c032c8": {
          "model_module": "@jupyter-widgets/base",
          "model_module_version": "1.2.0",
          "model_name": "LayoutModel",
          "state": {
            "_model_module": "@jupyter-widgets/base",
            "_model_module_version": "1.2.0",
            "_model_name": "LayoutModel",
            "_view_count": null,
            "_view_module": "@jupyter-widgets/base",
            "_view_module_version": "1.2.0",
            "_view_name": "LayoutView",
            "align_content": null,
            "align_items": null,
            "align_self": null,
            "border": null,
            "bottom": null,
            "display": null,
            "flex": null,
            "flex_flow": null,
            "grid_area": null,
            "grid_auto_columns": null,
            "grid_auto_flow": null,
            "grid_auto_rows": null,
            "grid_column": null,
            "grid_gap": null,
            "grid_row": null,
            "grid_template_areas": null,
            "grid_template_columns": null,
            "grid_template_rows": null,
            "height": null,
            "justify_content": null,
            "justify_items": null,
            "left": null,
            "margin": null,
            "max_height": null,
            "max_width": null,
            "min_height": null,
            "min_width": null,
            "object_fit": null,
            "object_position": null,
            "order": null,
            "overflow": null,
            "overflow_x": null,
            "overflow_y": null,
            "padding": null,
            "right": null,
            "top": null,
            "visibility": null,
            "width": null
          }
        },
        "e68866c879ec4be2acf1fb78bad80c6f": {
          "model_module": "@jupyter-widgets/base",
          "model_module_version": "1.2.0",
          "model_name": "LayoutModel",
          "state": {
            "_model_module": "@jupyter-widgets/base",
            "_model_module_version": "1.2.0",
            "_model_name": "LayoutModel",
            "_view_count": null,
            "_view_module": "@jupyter-widgets/base",
            "_view_module_version": "1.2.0",
            "_view_name": "LayoutView",
            "align_content": null,
            "align_items": null,
            "align_self": null,
            "border": null,
            "bottom": null,
            "display": null,
            "flex": null,
            "flex_flow": null,
            "grid_area": null,
            "grid_auto_columns": null,
            "grid_auto_flow": null,
            "grid_auto_rows": null,
            "grid_column": null,
            "grid_gap": null,
            "grid_row": null,
            "grid_template_areas": null,
            "grid_template_columns": null,
            "grid_template_rows": null,
            "height": null,
            "justify_content": null,
            "justify_items": null,
            "left": null,
            "margin": null,
            "max_height": null,
            "max_width": null,
            "min_height": null,
            "min_width": null,
            "object_fit": null,
            "object_position": null,
            "order": null,
            "overflow": null,
            "overflow_x": null,
            "overflow_y": null,
            "padding": null,
            "right": null,
            "top": null,
            "visibility": null,
            "width": null
          }
        },
        "f14e875030c34d0f82a36b4ad523ecd2": {
          "model_module": "@jupyter-widgets/controls",
          "model_module_version": "1.5.0",
          "model_name": "HBoxModel",
          "state": {
            "_dom_classes": [],
            "_model_module": "@jupyter-widgets/controls",
            "_model_module_version": "1.5.0",
            "_model_name": "HBoxModel",
            "_view_count": null,
            "_view_module": "@jupyter-widgets/controls",
            "_view_module_version": "1.5.0",
            "_view_name": "HBoxView",
            "box_style": "",
            "children": [
              "IPY_MODEL_57382eb68575437a90329f2ee9cbe54a",
              "IPY_MODEL_d2d2c9ec55e3449ba048c66919216c2b",
              "IPY_MODEL_621e6d991df84d659aedd9ed9b534cd5"
            ],
            "layout": "IPY_MODEL_db5a74258df74ce2b0afd4301733ff67"
          }
        },
        "f5af703c328e42f5988d7b3ef90f8306": {
          "model_module": "@jupyter-widgets/base",
          "model_module_version": "1.2.0",
          "model_name": "LayoutModel",
          "state": {
            "_model_module": "@jupyter-widgets/base",
            "_model_module_version": "1.2.0",
            "_model_name": "LayoutModel",
            "_view_count": null,
            "_view_module": "@jupyter-widgets/base",
            "_view_module_version": "1.2.0",
            "_view_name": "LayoutView",
            "align_content": null,
            "align_items": null,
            "align_self": null,
            "border": null,
            "bottom": null,
            "display": null,
            "flex": null,
            "flex_flow": null,
            "grid_area": null,
            "grid_auto_columns": null,
            "grid_auto_flow": null,
            "grid_auto_rows": null,
            "grid_column": null,
            "grid_gap": null,
            "grid_row": null,
            "grid_template_areas": null,
            "grid_template_columns": null,
            "grid_template_rows": null,
            "height": null,
            "justify_content": null,
            "justify_items": null,
            "left": null,
            "margin": null,
            "max_height": null,
            "max_width": null,
            "min_height": null,
            "min_width": null,
            "object_fit": null,
            "object_position": null,
            "order": null,
            "overflow": null,
            "overflow_x": null,
            "overflow_y": null,
            "padding": null,
            "right": null,
            "top": null,
            "visibility": null,
            "width": null
          }
        },
        "fb4258596afd4fdc8b43cfb47629ace7": {
          "model_module": "@jupyter-widgets/controls",
          "model_module_version": "1.5.0",
          "model_name": "HTMLModel",
          "state": {
            "_dom_classes": [],
            "_model_module": "@jupyter-widgets/controls",
            "_model_module_version": "1.5.0",
            "_model_name": "HTMLModel",
            "_view_count": null,
            "_view_module": "@jupyter-widgets/controls",
            "_view_module_version": "1.5.0",
            "_view_name": "HTMLView",
            "description": "",
            "description_tooltip": null,
            "layout": "IPY_MODEL_40e2c911e78e445091e6da783d32479e",
            "placeholder": "​",
            "style": "IPY_MODEL_6db7bc7068744316833d5155c6462675",
            "value": " 369M/369M [00:04&lt;00:00, 71.9MB/s]"
          }
        }
      }
    }
  },
  "nbformat": 4,
  "nbformat_minor": 0
}
