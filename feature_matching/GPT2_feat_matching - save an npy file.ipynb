{
 "cells": [
  {
   "cell_type": "markdown",
   "metadata": {},
   "source": [
    "## GPT2 Feature Matching Part 1\n",
    "<br> \n",
    "We save an npy file due to its heavy file size and memory consumption"
   ]
  },
  {
   "cell_type": "code",
   "execution_count": 1,
   "metadata": {},
   "outputs": [
    {
     "name": "stderr",
     "output_type": "stream",
     "text": [
      "2023-10-02 18:45:43.178542: I tensorflow/core/platform/cpu_feature_guard.cc:182] This TensorFlow binary is optimized to use available CPU instructions in performance-critical operations.\n",
      "To enable the following instructions: AVX2 FMA, in other operations, rebuild TensorFlow with the appropriate compiler flags.\n",
      "2023-10-02 18:45:43.651904: W tensorflow/compiler/tf2tensorrt/utils/py_utils.cc:38] TF-TRT Warning: Could not find TensorRT\n"
     ]
    }
   ],
   "source": [
    "import numpy as np\n",
    "import pandas as pd\n",
    "from transformers import AutoTokenizer, AutoModel\n",
    "from rich.progress import track"
   ]
  },
  {
   "cell_type": "markdown",
   "metadata": {},
   "source": [
    "### The pre-trained model"
   ]
  },
  {
   "cell_type": "code",
   "execution_count": 2,
   "metadata": {},
   "outputs": [],
   "source": [
    "# This model \"eaglewatch/gpt2-ko-wikipedia\" was trained with \"eaglewatch/Korean_Wikipedia_Dataset_for_GPT2_August_2022\" dataset from HuggingFace\n",
    "# this dataset can be downloaded as follow;\n",
    "\n",
    "#from datasets import load_dataset\n",
    "#dataset = load_dataset(\"eaglewatch/Korean_Wikipedia_Dataset_for_GPT2_August_2022\")\n",
    "\n",
    "tokenizer = AutoTokenizer.from_pretrained(\"eaglewatch/gpt2-ko-wikipedia\")\n",
    "gpt_model = AutoModel.from_pretrained(\"eaglewatch/gpt2-ko-wikipedia\", output_hidden_states=True)"
   ]
  },
  {
   "cell_type": "markdown",
   "metadata": {},
   "source": [
    "### Food Nutrient Data"
   ]
  },
  {
   "cell_type": "code",
   "execution_count": 3,
   "metadata": {},
   "outputs": [
    {
     "data": {
      "text/html": [
       "<div>\n",
       "<style scoped>\n",
       "    .dataframe tbody tr th:only-of-type {\n",
       "        vertical-align: middle;\n",
       "    }\n",
       "\n",
       "    .dataframe tbody tr th {\n",
       "        vertical-align: top;\n",
       "    }\n",
       "\n",
       "    .dataframe thead th {\n",
       "        text-align: right;\n",
       "    }\n",
       "</style>\n",
       "<table border=\"1\" class=\"dataframe\">\n",
       "  <thead>\n",
       "    <tr style=\"text-align: right;\">\n",
       "      <th></th>\n",
       "      <th>food_item</th>\n",
       "      <th>serving_size</th>\n",
       "      <th>calories (kcal)</th>\n",
       "      <th>protein (g)</th>\n",
       "      <th>protein (g).1</th>\n",
       "      <th>protein (g).2</th>\n",
       "      <th>protein (g).3</th>\n",
       "      <th>carbohydrate (g)</th>\n",
       "      <th>sugar (g)</th>\n",
       "    </tr>\n",
       "  </thead>\n",
       "  <tbody>\n",
       "    <tr>\n",
       "      <th>0</th>\n",
       "      <td>닭갈비</td>\n",
       "      <td>400</td>\n",
       "      <td>595.61</td>\n",
       "      <td>45.90</td>\n",
       "      <td>25.80</td>\n",
       "      <td>45.90</td>\n",
       "      <td>25.80</td>\n",
       "      <td>44.90</td>\n",
       "      <td>21.20</td>\n",
       "    </tr>\n",
       "    <tr>\n",
       "      <th>1</th>\n",
       "      <td>닭꼬치</td>\n",
       "      <td>70</td>\n",
       "      <td>176.72</td>\n",
       "      <td>11.56</td>\n",
       "      <td>8.57</td>\n",
       "      <td>11.56</td>\n",
       "      <td>8.57</td>\n",
       "      <td>13.35</td>\n",
       "      <td>3.15</td>\n",
       "    </tr>\n",
       "    <tr>\n",
       "      <th>2</th>\n",
       "      <td>더덕구이</td>\n",
       "      <td>100</td>\n",
       "      <td>184.00</td>\n",
       "      <td>3.10</td>\n",
       "      <td>5.20</td>\n",
       "      <td>3.10</td>\n",
       "      <td>5.20</td>\n",
       "      <td>31.10</td>\n",
       "      <td>11.60</td>\n",
       "    </tr>\n",
       "    <tr>\n",
       "      <th>3</th>\n",
       "      <td>소양념갈비구이</td>\n",
       "      <td>300</td>\n",
       "      <td>989.15</td>\n",
       "      <td>60.10</td>\n",
       "      <td>71.60</td>\n",
       "      <td>60.10</td>\n",
       "      <td>71.60</td>\n",
       "      <td>26.20</td>\n",
       "      <td>13.90</td>\n",
       "    </tr>\n",
       "    <tr>\n",
       "      <th>4</th>\n",
       "      <td>양념장어구이</td>\n",
       "      <td>150</td>\n",
       "      <td>433.35</td>\n",
       "      <td>30.77</td>\n",
       "      <td>30.56</td>\n",
       "      <td>30.77</td>\n",
       "      <td>30.56</td>\n",
       "      <td>8.80</td>\n",
       "      <td>4.18</td>\n",
       "    </tr>\n",
       "  </tbody>\n",
       "</table>\n",
       "</div>"
      ],
      "text/plain": [
       "  food_item  serving_size  calories (kcal)  protein (g)  protein (g).1  \\\n",
       "0       닭갈비           400           595.61        45.90          25.80   \n",
       "1       닭꼬치            70           176.72        11.56           8.57   \n",
       "2      더덕구이           100           184.00         3.10           5.20   \n",
       "3   소양념갈비구이           300           989.15        60.10          71.60   \n",
       "4    양념장어구이           150           433.35        30.77          30.56   \n",
       "\n",
       "   protein (g).2  protein (g).3  carbohydrate (g)  sugar (g)  \n",
       "0          45.90          25.80             44.90      21.20  \n",
       "1          11.56           8.57             13.35       3.15  \n",
       "2           3.10           5.20             31.10      11.60  \n",
       "3          60.10          71.60             26.20      13.90  \n",
       "4          30.77          30.56              8.80       4.18  "
      ]
     },
     "execution_count": 3,
     "metadata": {},
     "output_type": "execute_result"
    }
   ],
   "source": [
    "food_df  = pd.read_csv('data/food_nutrient_info_finalized.csv')\n",
    "food_df.head()"
   ]
  },
  {
   "cell_type": "markdown",
   "metadata": {},
   "source": [
    "### Korean Food Data (Train and Test)"
   ]
  },
  {
   "cell_type": "code",
   "execution_count": 4,
   "metadata": {},
   "outputs": [],
   "source": [
    "food_train = pd.read_csv('data/food_aging_train.csv')\n",
    "food_test = pd.read_csv('data/food_aging_test.csv')"
   ]
  },
  {
   "cell_type": "code",
   "execution_count": 5,
   "metadata": {},
   "outputs": [],
   "source": [
    "food_train['food_line'] = food_train['식품오타']+'<input>'+food_train['식품명']\n",
    "food_test['test_input'] = food_test['식품오타']+'<input>'"
   ]
  },
  {
   "cell_type": "code",
   "execution_count": 6,
   "metadata": {},
   "outputs": [
    {
     "data": {
      "text/html": [
       "<div>\n",
       "<style scoped>\n",
       "    .dataframe tbody tr th:only-of-type {\n",
       "        vertical-align: middle;\n",
       "    }\n",
       "\n",
       "    .dataframe tbody tr th {\n",
       "        vertical-align: top;\n",
       "    }\n",
       "\n",
       "    .dataframe thead th {\n",
       "        text-align: right;\n",
       "    }\n",
       "</style>\n",
       "<table border=\"1\" class=\"dataframe\">\n",
       "  <thead>\n",
       "    <tr style=\"text-align: right;\">\n",
       "      <th></th>\n",
       "      <th>식품명</th>\n",
       "      <th>식품오타</th>\n",
       "      <th>food_line</th>\n",
       "    </tr>\n",
       "  </thead>\n",
       "  <tbody>\n",
       "    <tr>\n",
       "      <th>0</th>\n",
       "      <td>호떡</td>\n",
       "      <td>하떡</td>\n",
       "      <td>하떡&lt;input&gt;호떡</td>\n",
       "    </tr>\n",
       "    <tr>\n",
       "      <th>1</th>\n",
       "      <td>달걀찜(새우젓)</td>\n",
       "      <td>새우젓계란찜</td>\n",
       "      <td>새우젓계란찜&lt;input&gt;달걀찜(새우젓)</td>\n",
       "    </tr>\n",
       "    <tr>\n",
       "      <th>2</th>\n",
       "      <td>오징어덮밥</td>\n",
       "      <td>오징이덥밥</td>\n",
       "      <td>오징이덥밥&lt;input&gt;오징어덮밥</td>\n",
       "    </tr>\n",
       "    <tr>\n",
       "      <th>3</th>\n",
       "      <td>참나물무침</td>\n",
       "      <td>참나물</td>\n",
       "      <td>참나물&lt;input&gt;참나물무침</td>\n",
       "    </tr>\n",
       "    <tr>\n",
       "      <th>4</th>\n",
       "      <td>크림소스스파게티</td>\n",
       "      <td>크림스파게티</td>\n",
       "      <td>크림스파게티&lt;input&gt;크림소스스파게티</td>\n",
       "    </tr>\n",
       "  </tbody>\n",
       "</table>\n",
       "</div>"
      ],
      "text/plain": [
       "        식품명    식품오타              food_line\n",
       "0        호떡      하떡            하떡<input>호떡\n",
       "1  달걀찜(새우젓)  새우젓계란찜  새우젓계란찜<input>달걀찜(새우젓)\n",
       "2     오징어덮밥   오징이덥밥      오징이덥밥<input>오징어덮밥\n",
       "3     참나물무침     참나물        참나물<input>참나물무침\n",
       "4  크림소스스파게티  크림스파게티  크림스파게티<input>크림소스스파게티"
      ]
     },
     "execution_count": 6,
     "metadata": {},
     "output_type": "execute_result"
    }
   ],
   "source": [
    "food_train.head()"
   ]
  },
  {
   "cell_type": "code",
   "execution_count": 7,
   "metadata": {},
   "outputs": [
    {
     "data": {
      "text/html": [
       "<div>\n",
       "<style scoped>\n",
       "    .dataframe tbody tr th:only-of-type {\n",
       "        vertical-align: middle;\n",
       "    }\n",
       "\n",
       "    .dataframe tbody tr th {\n",
       "        vertical-align: top;\n",
       "    }\n",
       "\n",
       "    .dataframe thead th {\n",
       "        text-align: right;\n",
       "    }\n",
       "</style>\n",
       "<table border=\"1\" class=\"dataframe\">\n",
       "  <thead>\n",
       "    <tr style=\"text-align: right;\">\n",
       "      <th></th>\n",
       "      <th>식품명</th>\n",
       "      <th>식품오타</th>\n",
       "      <th>test_input</th>\n",
       "    </tr>\n",
       "  </thead>\n",
       "  <tbody>\n",
       "    <tr>\n",
       "      <th>0</th>\n",
       "      <td>달래나물무침</td>\n",
       "      <td>다래나물무침</td>\n",
       "      <td>다래나물무침&lt;input&gt;</td>\n",
       "    </tr>\n",
       "    <tr>\n",
       "      <th>1</th>\n",
       "      <td>깻잎찜</td>\n",
       "      <td>깬닙찜</td>\n",
       "      <td>깬닙찜&lt;input&gt;</td>\n",
       "    </tr>\n",
       "    <tr>\n",
       "      <th>2</th>\n",
       "      <td>등심돈가스</td>\n",
       "      <td>등심돈까쓰</td>\n",
       "      <td>등심돈까쓰&lt;input&gt;</td>\n",
       "    </tr>\n",
       "    <tr>\n",
       "      <th>3</th>\n",
       "      <td>게살죽</td>\n",
       "      <td>게살쭉</td>\n",
       "      <td>게살쭉&lt;input&gt;</td>\n",
       "    </tr>\n",
       "    <tr>\n",
       "      <th>4</th>\n",
       "      <td>버섯전</td>\n",
       "      <td>버섯즌</td>\n",
       "      <td>버섯즌&lt;input&gt;</td>\n",
       "    </tr>\n",
       "  </tbody>\n",
       "</table>\n",
       "</div>"
      ],
      "text/plain": [
       "      식품명    식품오타     test_input\n",
       "0  달래나물무침  다래나물무침  다래나물무침<input>\n",
       "1     깻잎찜     깬닙찜     깬닙찜<input>\n",
       "2   등심돈가스   등심돈까쓰   등심돈까쓰<input>\n",
       "3     게살죽     게살쭉     게살쭉<input>\n",
       "4     버섯전     버섯즌     버섯즌<input>"
      ]
     },
     "execution_count": 7,
     "metadata": {},
     "output_type": "execute_result"
    }
   ],
   "source": [
    "food_test.head()"
   ]
  },
  {
   "cell_type": "code",
   "execution_count": 8,
   "metadata": {},
   "outputs": [
    {
     "name": "stdout",
     "output_type": "stream",
     "text": [
      "(2337, 3)\n",
      "(584, 3)\n"
     ]
    }
   ],
   "source": [
    "print(food_train.shape)\n",
    "print(food_test.shape)"
   ]
  },
  {
   "cell_type": "markdown",
   "metadata": {},
   "source": [
    "### Check the Train and Test lines"
   ]
  },
  {
   "cell_type": "code",
   "execution_count": 9,
   "metadata": {},
   "outputs": [
    {
     "name": "stdout",
     "output_type": "stream",
     "text": [
      "['하떡<input>호떡', '새우젓계란찜<input>달걀찜(새우젓)', '오징이덥밥<input>오징어덮밥', '참나물<input>참나물무침', '크림스파게티<input>크림소스스파게티', '안심돈까쑤<input>안심돈가스', '쇠고기뭇국<input>쇠고기무국', '채소샌드이치<input>채소샌드위치', '채소보끈빱<input>채소볶음밥', '볶은밥<input>볶음밥']\n",
      "['다래나물무침<input>', '깬닙찜<input>', '등심돈까쓰<input>', '게살쭉<input>', '버섯즌<input>', '고추튀기<input>', '간장닭다리구이<input>', '버섯샤부<input>', '닥꼬기냉채<input>', '소고기전골<input>']\n"
     ]
    }
   ],
   "source": [
    "train_lines = [str(s) for s in food_train['food_line']]\n",
    "test_lines = [str(s) for s in food_test['test_input']]\n",
    "print(train_lines[:10])\n",
    "print(test_lines[:10])"
   ]
  },
  {
   "cell_type": "code",
   "execution_count": 10,
   "metadata": {},
   "outputs": [
    {
     "data": {
      "text/plain": [
       "GPT2TokenizerFast(name_or_path='eaglewatch/gpt2-ko-wikipedia', vocab_size=100000, model_max_length=1000000000000000019884624838656, is_fast=True, padding_side='right', truncation_side='right', special_tokens={'bos_token': '<s>', 'eos_token': '</s>', 'unk_token': '<unk>', 'pad_token': '<pad>', 'mask_token': '<mask>'}, clean_up_tokenization_spaces=True)"
      ]
     },
     "execution_count": 10,
     "metadata": {},
     "output_type": "execute_result"
    }
   ],
   "source": [
    "tokenizer"
   ]
  },
  {
   "cell_type": "markdown",
   "metadata": {},
   "source": [
    "### Set max fixed tokenized data size\n",
    "Then get the fixed data"
   ]
  },
  {
   "cell_type": "code",
   "execution_count": 11,
   "metadata": {},
   "outputs": [],
   "source": [
    "max_token_length = 1024\n",
    "gpt_feats = np.zeros((len(train_lines), max_token_length * 768))"
   ]
  },
  {
   "cell_type": "code",
   "execution_count": 12,
   "metadata": {},
   "outputs": [
    {
     "data": {
      "text/plain": [
       "(2337, 786432)"
      ]
     },
     "execution_count": 12,
     "metadata": {},
     "output_type": "execute_result"
    }
   ],
   "source": [
    "gpt_feats.shape"
   ]
  },
  {
   "cell_type": "markdown",
   "metadata": {},
   "source": [
    "### Extract Features\n",
    "* feature extraction with pytorch\n",
    "* it takes about 30 - 60 min depends on the machine \n"
   ]
  },
  {
   "cell_type": "code",
   "execution_count": 15,
   "metadata": {},
   "outputs": [
    {
     "data": {
      "application/vnd.jupyter.widget-view+json": {
       "model_id": "98e2d6d670154addbba5de4f405829e1",
       "version_major": 2,
       "version_minor": 0
      },
      "text/plain": [
       "Output()"
      ]
     },
     "metadata": {},
     "output_type": "display_data"
    },
    {
     "data": {
      "text/html": [
       "<pre style=\"white-space:pre;overflow-x:auto;line-height:normal;font-family:Menlo,'DejaVu Sans Mono',consolas,'Courier New',monospace\"></pre>\n"
      ],
      "text/plain": []
     },
     "metadata": {},
     "output_type": "display_data"
    },
    {
     "data": {
      "text/html": [
       "<pre style=\"white-space:pre;overflow-x:auto;line-height:normal;font-family:Menlo,'DejaVu Sans Mono',consolas,'Courier New',monospace\">\n",
       "</pre>\n"
      ],
      "text/plain": [
       "\n"
      ]
     },
     "metadata": {},
     "output_type": "display_data"
    },
    {
     "name": "stdout",
     "output_type": "stream",
     "text": [
      "CPU times: user 6h 54min 52s, sys: 39min, total: 7h 33min 53s\n",
      "Wall time: 28min 22s\n"
     ]
    }
   ],
   "source": [
    "%%time \n",
    "for i in track(range(len(train_lines))):   \n",
    "    encoded = tokenizer(train_lines[i], max_length=1024, padding='max_length', truncation=True, return_tensors='pt') \n",
    "    gpt_feats[i] = gpt_model(**encoded).last_hidden_state.detach().numpy().reshape(1024*768)"
   ]
  },
  {
   "cell_type": "code",
   "execution_count": 16,
   "metadata": {},
   "outputs": [
    {
     "data": {
      "text/plain": [
       "(2337, 786432)"
      ]
     },
     "execution_count": 16,
     "metadata": {},
     "output_type": "execute_result"
    }
   ],
   "source": [
    "gpt_feats.shape"
   ]
  },
  {
   "cell_type": "markdown",
   "metadata": {},
   "source": [
    "### Save the NPY file"
   ]
  },
  {
   "cell_type": "code",
   "execution_count": 19,
   "metadata": {},
   "outputs": [],
   "source": [
    "np.save(\"gpt_feat_food4.npy\", gpt_feats)"
   ]
  }
 ],
 "metadata": {
  "kernelspec": {
   "display_name": "tf2x",
   "language": "python",
   "name": "python3"
  },
  "language_info": {
   "codemirror_mode": {
    "name": "ipython",
    "version": 3
   },
   "file_extension": ".py",
   "mimetype": "text/x-python",
   "name": "python",
   "nbconvert_exporter": "python",
   "pygments_lexer": "ipython3",
   "version": "3.9.17"
  },
  "orig_nbformat": 4
 },
 "nbformat": 4,
 "nbformat_minor": 2
}
