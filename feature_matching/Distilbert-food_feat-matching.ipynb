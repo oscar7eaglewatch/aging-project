{
 "cells": [
  {
   "cell_type": "markdown",
   "id": "78fc815b",
   "metadata": {},
   "source": [
    "# DistilBERT feature matching : food typos to right food name"
   ]
  },
  {
   "cell_type": "code",
   "execution_count": 1,
   "id": "862efe8f-f6ef-4299-9233-b0da94a1cb0a",
   "metadata": {},
   "outputs": [
    {
     "name": "stderr",
     "output_type": "stream",
     "text": [
      "2023-10-02 16:25:40.276853: I tensorflow/core/platform/cpu_feature_guard.cc:182] This TensorFlow binary is optimized to use available CPU instructions in performance-critical operations.\n",
      "To enable the following instructions: AVX2 FMA, in other operations, rebuild TensorFlow with the appropriate compiler flags.\n",
      "2023-10-02 16:25:40.766076: W tensorflow/compiler/tf2tensorrt/utils/py_utils.cc:38] TF-TRT Warning: Could not find TensorRT\n",
      "The tokenizer class you load from this checkpoint is not the same type as the class this function is called from. It may result in unexpected tokenization. \n",
      "The tokenizer class you load from this checkpoint is 'DistilBertTokenizer'. \n",
      "The class this function is called from is 'BertTokenizer'.\n",
      "You are using a model of type distilbert to instantiate a model of type bert. This is not supported for all configurations of models and can yield errors.\n",
      "2023-10-02 16:25:42.912296: I tensorflow/compiler/xla/stream_executor/cuda/cuda_gpu_executor.cc:981] could not open file to read NUMA node: /sys/bus/pci/devices/0000:0a:00.0/numa_node\n",
      "Your kernel may have been built without NUMA support.\n",
      "2023-10-02 16:25:42.915314: I tensorflow/compiler/xla/stream_executor/cuda/cuda_gpu_executor.cc:981] could not open file to read NUMA node: /sys/bus/pci/devices/0000:0a:00.0/numa_node\n",
      "Your kernel may have been built without NUMA support.\n",
      "2023-10-02 16:25:42.915369: I tensorflow/compiler/xla/stream_executor/cuda/cuda_gpu_executor.cc:981] could not open file to read NUMA node: /sys/bus/pci/devices/0000:0a:00.0/numa_node\n",
      "Your kernel may have been built without NUMA support.\n",
      "2023-10-02 16:25:42.917650: I tensorflow/compiler/xla/stream_executor/cuda/cuda_gpu_executor.cc:981] could not open file to read NUMA node: /sys/bus/pci/devices/0000:0a:00.0/numa_node\n",
      "Your kernel may have been built without NUMA support.\n",
      "2023-10-02 16:25:42.917700: I tensorflow/compiler/xla/stream_executor/cuda/cuda_gpu_executor.cc:981] could not open file to read NUMA node: /sys/bus/pci/devices/0000:0a:00.0/numa_node\n",
      "Your kernel may have been built without NUMA support.\n",
      "2023-10-02 16:25:42.917740: I tensorflow/compiler/xla/stream_executor/cuda/cuda_gpu_executor.cc:981] could not open file to read NUMA node: /sys/bus/pci/devices/0000:0a:00.0/numa_node\n",
      "Your kernel may have been built without NUMA support.\n",
      "2023-10-02 16:25:43.488435: I tensorflow/compiler/xla/stream_executor/cuda/cuda_gpu_executor.cc:981] could not open file to read NUMA node: /sys/bus/pci/devices/0000:0a:00.0/numa_node\n",
      "Your kernel may have been built without NUMA support.\n",
      "2023-10-02 16:25:43.488492: I tensorflow/compiler/xla/stream_executor/cuda/cuda_gpu_executor.cc:981] could not open file to read NUMA node: /sys/bus/pci/devices/0000:0a:00.0/numa_node\n",
      "Your kernel may have been built without NUMA support.\n",
      "2023-10-02 16:25:43.488498: I tensorflow/core/common_runtime/gpu/gpu_device.cc:1726] Could not identify NUMA node of platform GPU id 0, defaulting to 0.  Your kernel may not have been built with NUMA support.\n",
      "2023-10-02 16:25:43.488526: I tensorflow/compiler/xla/stream_executor/cuda/cuda_gpu_executor.cc:981] could not open file to read NUMA node: /sys/bus/pci/devices/0000:0a:00.0/numa_node\n",
      "Your kernel may have been built without NUMA support.\n",
      "2023-10-02 16:25:43.488555: I tensorflow/core/common_runtime/gpu/gpu_device.cc:1639] Created device /job:localhost/replica:0/task:0/device:GPU:0 with 21286 MB memory:  -> device: 0, name: NVIDIA GeForce RTX 4090, pci bus id: 0000:0a:00.0, compute capability: 8.9\n",
      "2023-10-02 16:25:44.615329: I tensorflow/compiler/xla/stream_executor/cuda/cuda_blas.cc:606] TensorFloat-32 will be used for the matrix multiplication. This will only be logged once.\n",
      "Some weights of the PyTorch model were not used when initializing the TF 2.0 model TFBertModel: ['distilbert.transformer.layer.1.attention.q_lin.bias', 'distilbert.transformer.layer.0.ffn.lin1.bias', 'distilbert.transformer.layer.3.attention.q_lin.bias', 'distilbert.transformer.layer.4.attention.v_lin.weight', 'distilbert.transformer.layer.2.attention.out_lin.weight', 'distilbert.transformer.layer.5.attention.v_lin.weight', 'distilbert.transformer.layer.3.sa_layer_norm.weight', 'distilbert.transformer.layer.2.attention.k_lin.weight', 'distilbert.transformer.layer.3.sa_layer_norm.bias', 'distilbert.transformer.layer.3.ffn.lin2.bias', 'distilbert.transformer.layer.1.attention.out_lin.bias', 'distilbert.transformer.layer.2.attention.q_lin.bias', 'vocab_transform.weight', 'distilbert.transformer.layer.1.sa_layer_norm.weight', 'distilbert.transformer.layer.3.attention.out_lin.weight', 'distilbert.transformer.layer.5.attention.q_lin.weight', 'distilbert.transformer.layer.0.attention.v_lin.bias', 'distilbert.transformer.layer.1.attention.k_lin.bias', 'distilbert.transformer.layer.5.ffn.lin2.weight', 'distilbert.transformer.layer.3.attention.v_lin.weight', 'distilbert.transformer.layer.4.attention.v_lin.bias', 'distilbert.transformer.layer.2.ffn.lin1.weight', 'distilbert.embeddings.LayerNorm.bias', 'distilbert.transformer.layer.2.attention.v_lin.weight', 'distilbert.transformer.layer.1.attention.v_lin.bias', 'distilbert.transformer.layer.0.attention.q_lin.bias', 'distilbert.transformer.layer.0.output_layer_norm.bias', 'distilbert.transformer.layer.2.sa_layer_norm.weight', 'distilbert.transformer.layer.5.ffn.lin1.bias', 'distilbert.transformer.layer.1.output_layer_norm.weight', 'distilbert.transformer.layer.1.ffn.lin2.bias', 'distilbert.transformer.layer.1.attention.out_lin.weight', 'distilbert.transformer.layer.4.ffn.lin1.bias', 'distilbert.transformer.layer.2.attention.out_lin.bias', 'vocab_transform.bias', 'distilbert.transformer.layer.3.ffn.lin1.bias', 'distilbert.transformer.layer.5.attention.k_lin.bias', 'distilbert.transformer.layer.0.ffn.lin2.weight', 'distilbert.transformer.layer.4.ffn.lin2.bias', 'distilbert.transformer.layer.5.sa_layer_norm.weight', 'distilbert.transformer.layer.4.output_layer_norm.weight', 'distilbert.transformer.layer.0.attention.out_lin.weight', 'distilbert.transformer.layer.2.output_layer_norm.weight', 'distilbert.transformer.layer.5.sa_layer_norm.bias', 'distilbert.transformer.layer.4.attention.q_lin.bias', 'distilbert.transformer.layer.4.attention.k_lin.weight', 'distilbert.transformer.layer.5.attention.out_lin.bias', 'distilbert.transformer.layer.0.output_layer_norm.weight', 'distilbert.transformer.layer.0.ffn.lin1.weight', 'distilbert.transformer.layer.0.sa_layer_norm.weight', 'distilbert.transformer.layer.3.attention.q_lin.weight', 'distilbert.transformer.layer.4.ffn.lin1.weight', 'distilbert.transformer.layer.3.output_layer_norm.weight', 'distilbert.transformer.layer.3.attention.out_lin.bias', 'distilbert.transformer.layer.5.output_layer_norm.weight', 'distilbert.transformer.layer.2.attention.k_lin.bias', 'distilbert.embeddings.LayerNorm.weight', 'distilbert.transformer.layer.1.output_layer_norm.bias', 'distilbert.transformer.layer.3.attention.k_lin.weight', 'distilbert.transformer.layer.5.ffn.lin1.weight', 'distilbert.transformer.layer.4.sa_layer_norm.bias', 'distilbert.transformer.layer.0.attention.k_lin.weight', 'distilbert.transformer.layer.4.attention.out_lin.bias', 'distilbert.transformer.layer.2.ffn.lin1.bias', 'distilbert.transformer.layer.5.attention.q_lin.bias', 'distilbert.transformer.layer.3.output_layer_norm.bias', 'distilbert.transformer.layer.2.output_layer_norm.bias', 'distilbert.transformer.layer.2.ffn.lin2.bias', 'distilbert.transformer.layer.4.attention.out_lin.weight', 'distilbert.transformer.layer.1.attention.v_lin.weight', 'distilbert.transformer.layer.5.output_layer_norm.bias', 'distilbert.transformer.layer.4.sa_layer_norm.weight', 'distilbert.transformer.layer.0.ffn.lin2.bias', 'distilbert.transformer.layer.1.ffn.lin1.bias', 'distilbert.transformer.layer.1.sa_layer_norm.bias', 'distilbert.transformer.layer.4.attention.q_lin.weight', 'distilbert.transformer.layer.5.ffn.lin2.bias', 'vocab_projector.bias', 'distilbert.transformer.layer.5.attention.out_lin.weight', 'distilbert.transformer.layer.4.attention.k_lin.bias', 'distilbert.transformer.layer.2.sa_layer_norm.bias', 'distilbert.transformer.layer.0.attention.q_lin.weight', 'distilbert.transformer.layer.2.attention.q_lin.weight', 'distilbert.transformer.layer.4.ffn.lin2.weight', 'distilbert.transformer.layer.3.ffn.lin2.weight', 'distilbert.transformer.layer.0.sa_layer_norm.bias', 'distilbert.transformer.layer.1.ffn.lin1.weight', 'distilbert.transformer.layer.0.attention.out_lin.bias', 'distilbert.transformer.layer.1.attention.k_lin.weight', 'distilbert.transformer.layer.0.attention.k_lin.bias', 'distilbert.transformer.layer.1.ffn.lin2.weight', 'vocab_layer_norm.weight', 'distilbert.transformer.layer.3.attention.k_lin.bias', 'distilbert.transformer.layer.2.ffn.lin2.weight', 'distilbert.transformer.layer.3.ffn.lin1.weight', 'distilbert.transformer.layer.3.attention.v_lin.bias', 'distilbert.embeddings.word_embeddings.weight', 'distilbert.transformer.layer.4.output_layer_norm.bias', 'vocab_layer_norm.bias', 'distilbert.transformer.layer.0.attention.v_lin.weight', 'distilbert.transformer.layer.2.attention.v_lin.bias', 'distilbert.transformer.layer.1.attention.q_lin.weight', 'distilbert.transformer.layer.5.attention.k_lin.weight', 'distilbert.transformer.layer.5.attention.v_lin.bias', 'distilbert.embeddings.position_embeddings.weight']\n",
      "- This IS expected if you are initializing TFBertModel from a PyTorch model trained on another task or with another architecture (e.g. initializing a TFBertForSequenceClassification model from a BertForPreTraining model).\n",
      "- This IS NOT expected if you are initializing TFBertModel from a PyTorch model that you expect to be exactly identical (e.g. initializing a TFBertForSequenceClassification model from a BertForSequenceClassification model).\n",
      "Some weights or buffers of the TF 2.0 model TFBertModel were not initialized from the PyTorch model and are newly initialized: ['embeddings.word_embeddings.weight', 'embeddings.token_type_embeddings.weight', 'embeddings.position_embeddings.weight', 'embeddings.LayerNorm.weight', 'embeddings.LayerNorm.bias', 'encoder.layer.0.attention.self.query.weight', 'encoder.layer.0.attention.self.query.bias', 'encoder.layer.0.attention.self.key.weight', 'encoder.layer.0.attention.self.key.bias', 'encoder.layer.0.attention.self.value.weight', 'encoder.layer.0.attention.self.value.bias', 'encoder.layer.0.attention.output.dense.weight', 'encoder.layer.0.attention.output.dense.bias', 'encoder.layer.0.attention.output.LayerNorm.weight', 'encoder.layer.0.attention.output.LayerNorm.bias', 'encoder.layer.0.intermediate.dense.weight', 'encoder.layer.0.intermediate.dense.bias', 'encoder.layer.0.output.dense.weight', 'encoder.layer.0.output.dense.bias', 'encoder.layer.0.output.LayerNorm.weight', 'encoder.layer.0.output.LayerNorm.bias', 'encoder.layer.1.attention.self.query.weight', 'encoder.layer.1.attention.self.query.bias', 'encoder.layer.1.attention.self.key.weight', 'encoder.layer.1.attention.self.key.bias', 'encoder.layer.1.attention.self.value.weight', 'encoder.layer.1.attention.self.value.bias', 'encoder.layer.1.attention.output.dense.weight', 'encoder.layer.1.attention.output.dense.bias', 'encoder.layer.1.attention.output.LayerNorm.weight', 'encoder.layer.1.attention.output.LayerNorm.bias', 'encoder.layer.1.intermediate.dense.weight', 'encoder.layer.1.intermediate.dense.bias', 'encoder.layer.1.output.dense.weight', 'encoder.layer.1.output.dense.bias', 'encoder.layer.1.output.LayerNorm.weight', 'encoder.layer.1.output.LayerNorm.bias', 'encoder.layer.2.attention.self.query.weight', 'encoder.layer.2.attention.self.query.bias', 'encoder.layer.2.attention.self.key.weight', 'encoder.layer.2.attention.self.key.bias', 'encoder.layer.2.attention.self.value.weight', 'encoder.layer.2.attention.self.value.bias', 'encoder.layer.2.attention.output.dense.weight', 'encoder.layer.2.attention.output.dense.bias', 'encoder.layer.2.attention.output.LayerNorm.weight', 'encoder.layer.2.attention.output.LayerNorm.bias', 'encoder.layer.2.intermediate.dense.weight', 'encoder.layer.2.intermediate.dense.bias', 'encoder.layer.2.output.dense.weight', 'encoder.layer.2.output.dense.bias', 'encoder.layer.2.output.LayerNorm.weight', 'encoder.layer.2.output.LayerNorm.bias', 'encoder.layer.3.attention.self.query.weight', 'encoder.layer.3.attention.self.query.bias', 'encoder.layer.3.attention.self.key.weight', 'encoder.layer.3.attention.self.key.bias', 'encoder.layer.3.attention.self.value.weight', 'encoder.layer.3.attention.self.value.bias', 'encoder.layer.3.attention.output.dense.weight', 'encoder.layer.3.attention.output.dense.bias', 'encoder.layer.3.attention.output.LayerNorm.weight', 'encoder.layer.3.attention.output.LayerNorm.bias', 'encoder.layer.3.intermediate.dense.weight', 'encoder.layer.3.intermediate.dense.bias', 'encoder.layer.3.output.dense.weight', 'encoder.layer.3.output.dense.bias', 'encoder.layer.3.output.LayerNorm.weight', 'encoder.layer.3.output.LayerNorm.bias', 'encoder.layer.4.attention.self.query.weight', 'encoder.layer.4.attention.self.query.bias', 'encoder.layer.4.attention.self.key.weight', 'encoder.layer.4.attention.self.key.bias', 'encoder.layer.4.attention.self.value.weight', 'encoder.layer.4.attention.self.value.bias', 'encoder.layer.4.attention.output.dense.weight', 'encoder.layer.4.attention.output.dense.bias', 'encoder.layer.4.attention.output.LayerNorm.weight', 'encoder.layer.4.attention.output.LayerNorm.bias', 'encoder.layer.4.intermediate.dense.weight', 'encoder.layer.4.intermediate.dense.bias', 'encoder.layer.4.output.dense.weight', 'encoder.layer.4.output.dense.bias', 'encoder.layer.4.output.LayerNorm.weight', 'encoder.layer.4.output.LayerNorm.bias', 'encoder.layer.5.attention.self.query.weight', 'encoder.layer.5.attention.self.query.bias', 'encoder.layer.5.attention.self.key.weight', 'encoder.layer.5.attention.self.key.bias', 'encoder.layer.5.attention.self.value.weight', 'encoder.layer.5.attention.self.value.bias', 'encoder.layer.5.attention.output.dense.weight', 'encoder.layer.5.attention.output.dense.bias', 'encoder.layer.5.attention.output.LayerNorm.weight', 'encoder.layer.5.attention.output.LayerNorm.bias', 'encoder.layer.5.intermediate.dense.weight', 'encoder.layer.5.intermediate.dense.bias', 'encoder.layer.5.output.dense.weight', 'encoder.layer.5.output.dense.bias', 'encoder.layer.5.output.LayerNorm.weight', 'encoder.layer.5.output.LayerNorm.bias', 'encoder.layer.6.attention.self.query.weight', 'encoder.layer.6.attention.self.query.bias', 'encoder.layer.6.attention.self.key.weight', 'encoder.layer.6.attention.self.key.bias', 'encoder.layer.6.attention.self.value.weight', 'encoder.layer.6.attention.self.value.bias', 'encoder.layer.6.attention.output.dense.weight', 'encoder.layer.6.attention.output.dense.bias', 'encoder.layer.6.attention.output.LayerNorm.weight', 'encoder.layer.6.attention.output.LayerNorm.bias', 'encoder.layer.6.intermediate.dense.weight', 'encoder.layer.6.intermediate.dense.bias', 'encoder.layer.6.output.dense.weight', 'encoder.layer.6.output.dense.bias', 'encoder.layer.6.output.LayerNorm.weight', 'encoder.layer.6.output.LayerNorm.bias', 'encoder.layer.7.attention.self.query.weight', 'encoder.layer.7.attention.self.query.bias', 'encoder.layer.7.attention.self.key.weight', 'encoder.layer.7.attention.self.key.bias', 'encoder.layer.7.attention.self.value.weight', 'encoder.layer.7.attention.self.value.bias', 'encoder.layer.7.attention.output.dense.weight', 'encoder.layer.7.attention.output.dense.bias', 'encoder.layer.7.attention.output.LayerNorm.weight', 'encoder.layer.7.attention.output.LayerNorm.bias', 'encoder.layer.7.intermediate.dense.weight', 'encoder.layer.7.intermediate.dense.bias', 'encoder.layer.7.output.dense.weight', 'encoder.layer.7.output.dense.bias', 'encoder.layer.7.output.LayerNorm.weight', 'encoder.layer.7.output.LayerNorm.bias', 'encoder.layer.8.attention.self.query.weight', 'encoder.layer.8.attention.self.query.bias', 'encoder.layer.8.attention.self.key.weight', 'encoder.layer.8.attention.self.key.bias', 'encoder.layer.8.attention.self.value.weight', 'encoder.layer.8.attention.self.value.bias', 'encoder.layer.8.attention.output.dense.weight', 'encoder.layer.8.attention.output.dense.bias', 'encoder.layer.8.attention.output.LayerNorm.weight', 'encoder.layer.8.attention.output.LayerNorm.bias', 'encoder.layer.8.intermediate.dense.weight', 'encoder.layer.8.intermediate.dense.bias', 'encoder.layer.8.output.dense.weight', 'encoder.layer.8.output.dense.bias', 'encoder.layer.8.output.LayerNorm.weight', 'encoder.layer.8.output.LayerNorm.bias', 'encoder.layer.9.attention.self.query.weight', 'encoder.layer.9.attention.self.query.bias', 'encoder.layer.9.attention.self.key.weight', 'encoder.layer.9.attention.self.key.bias', 'encoder.layer.9.attention.self.value.weight', 'encoder.layer.9.attention.self.value.bias', 'encoder.layer.9.attention.output.dense.weight', 'encoder.layer.9.attention.output.dense.bias', 'encoder.layer.9.attention.output.LayerNorm.weight', 'encoder.layer.9.attention.output.LayerNorm.bias', 'encoder.layer.9.intermediate.dense.weight', 'encoder.layer.9.intermediate.dense.bias', 'encoder.layer.9.output.dense.weight', 'encoder.layer.9.output.dense.bias', 'encoder.layer.9.output.LayerNorm.weight', 'encoder.layer.9.output.LayerNorm.bias', 'encoder.layer.10.attention.self.query.weight', 'encoder.layer.10.attention.self.query.bias', 'encoder.layer.10.attention.self.key.weight', 'encoder.layer.10.attention.self.key.bias', 'encoder.layer.10.attention.self.value.weight', 'encoder.layer.10.attention.self.value.bias', 'encoder.layer.10.attention.output.dense.weight', 'encoder.layer.10.attention.output.dense.bias', 'encoder.layer.10.attention.output.LayerNorm.weight', 'encoder.layer.10.attention.output.LayerNorm.bias', 'encoder.layer.10.intermediate.dense.weight', 'encoder.layer.10.intermediate.dense.bias', 'encoder.layer.10.output.dense.weight', 'encoder.layer.10.output.dense.bias', 'encoder.layer.10.output.LayerNorm.weight', 'encoder.layer.10.output.LayerNorm.bias', 'encoder.layer.11.attention.self.query.weight', 'encoder.layer.11.attention.self.query.bias', 'encoder.layer.11.attention.self.key.weight', 'encoder.layer.11.attention.self.key.bias', 'encoder.layer.11.attention.self.value.weight', 'encoder.layer.11.attention.self.value.bias', 'encoder.layer.11.attention.output.dense.weight', 'encoder.layer.11.attention.output.dense.bias', 'encoder.layer.11.attention.output.LayerNorm.weight', 'encoder.layer.11.attention.output.LayerNorm.bias', 'encoder.layer.11.intermediate.dense.weight', 'encoder.layer.11.intermediate.dense.bias', 'encoder.layer.11.output.dense.weight', 'encoder.layer.11.output.dense.bias', 'encoder.layer.11.output.LayerNorm.weight', 'encoder.layer.11.output.LayerNorm.bias', 'pooler.dense.weight', 'pooler.dense.bias']\n",
      "You should probably TRAIN this model on a down-stream task to be able to use it for predictions and inference.\n"
     ]
    }
   ],
   "source": [
    "import numpy as np\n",
    "import pandas as pd\n",
    "import tensorflow as tf\n",
    "from transformers import BertTokenizer, TFBertModel\n",
    "\n",
    "from rich.progress import track\n",
    "\n",
    "# distilbert-base-multilingual-cased\n",
    "# bert-base-multilingual-cased\n",
    "tokenizer = BertTokenizer.from_pretrained(\"distilbert-base-multilingual-cased\")\n",
    "bert_model = TFBertModel.from_pretrained(\"distilbert-base-multilingual-cased\")  "
   ]
  },
  {
   "cell_type": "code",
   "execution_count": 2,
   "id": "94ad165a",
   "metadata": {},
   "outputs": [],
   "source": [
    "import tensorflow as tf\n",
    "tf.random.set_seed(42)"
   ]
  },
  {
   "cell_type": "code",
   "execution_count": 3,
   "id": "a084d670-2319-40fa-8ca1-d9e2b639c6cd",
   "metadata": {},
   "outputs": [],
   "source": [
    "def get_bert_hidden_state(tokenizer, bert_model, sequence, max_size=None):\n",
    "    inputs = tokenizer(sequence, return_tensors=\"tf\")\n",
    "    outputs = bert_model(inputs)\n",
    "    last_hidden_states = outputs.last_hidden_state\n",
    "    bert_feat = tf.keras.layers.Flatten()(last_hidden_states).numpy()   \n",
    "    \n",
    "    if max_size:\n",
    "        bert_fixed_feat = np.zeros((1,max_size))\n",
    "        size = bert_feat.shape[1]\n",
    "        bert_fixed_feat[0][:size] = bert_feat\n",
    "    \n",
    "        return bert_fixed_feat\n",
    "    else:\n",
    "        return bert_feat    "
   ]
  },
  {
   "cell_type": "markdown",
   "id": "be463eac",
   "metadata": {},
   "source": [
    "# Data load"
   ]
  },
  {
   "cell_type": "markdown",
   "id": "98a7c112",
   "metadata": {},
   "source": [
    "## food nutrient data"
   ]
  },
  {
   "cell_type": "code",
   "execution_count": 4,
   "id": "9245de11",
   "metadata": {},
   "outputs": [
    {
     "data": {
      "text/html": [
       "<div>\n",
       "<style scoped>\n",
       "    .dataframe tbody tr th:only-of-type {\n",
       "        vertical-align: middle;\n",
       "    }\n",
       "\n",
       "    .dataframe tbody tr th {\n",
       "        vertical-align: top;\n",
       "    }\n",
       "\n",
       "    .dataframe thead th {\n",
       "        text-align: right;\n",
       "    }\n",
       "</style>\n",
       "<table border=\"1\" class=\"dataframe\">\n",
       "  <thead>\n",
       "    <tr style=\"text-align: right;\">\n",
       "      <th></th>\n",
       "      <th>food_item</th>\n",
       "      <th>serving_size</th>\n",
       "      <th>calories (kcal)</th>\n",
       "      <th>protein (g)</th>\n",
       "      <th>protein (g).1</th>\n",
       "      <th>protein (g).2</th>\n",
       "      <th>protein (g).3</th>\n",
       "      <th>carbohydrate (g)</th>\n",
       "      <th>sugar (g)</th>\n",
       "    </tr>\n",
       "  </thead>\n",
       "  <tbody>\n",
       "    <tr>\n",
       "      <th>0</th>\n",
       "      <td>닭갈비</td>\n",
       "      <td>400</td>\n",
       "      <td>595.61</td>\n",
       "      <td>45.90</td>\n",
       "      <td>25.80</td>\n",
       "      <td>45.90</td>\n",
       "      <td>25.80</td>\n",
       "      <td>44.90</td>\n",
       "      <td>21.20</td>\n",
       "    </tr>\n",
       "    <tr>\n",
       "      <th>1</th>\n",
       "      <td>닭꼬치</td>\n",
       "      <td>70</td>\n",
       "      <td>176.72</td>\n",
       "      <td>11.56</td>\n",
       "      <td>8.57</td>\n",
       "      <td>11.56</td>\n",
       "      <td>8.57</td>\n",
       "      <td>13.35</td>\n",
       "      <td>3.15</td>\n",
       "    </tr>\n",
       "    <tr>\n",
       "      <th>2</th>\n",
       "      <td>더덕구이</td>\n",
       "      <td>100</td>\n",
       "      <td>184.00</td>\n",
       "      <td>3.10</td>\n",
       "      <td>5.20</td>\n",
       "      <td>3.10</td>\n",
       "      <td>5.20</td>\n",
       "      <td>31.10</td>\n",
       "      <td>11.60</td>\n",
       "    </tr>\n",
       "    <tr>\n",
       "      <th>3</th>\n",
       "      <td>소양념갈비구이</td>\n",
       "      <td>300</td>\n",
       "      <td>989.15</td>\n",
       "      <td>60.10</td>\n",
       "      <td>71.60</td>\n",
       "      <td>60.10</td>\n",
       "      <td>71.60</td>\n",
       "      <td>26.20</td>\n",
       "      <td>13.90</td>\n",
       "    </tr>\n",
       "    <tr>\n",
       "      <th>4</th>\n",
       "      <td>양념장어구이</td>\n",
       "      <td>150</td>\n",
       "      <td>433.35</td>\n",
       "      <td>30.77</td>\n",
       "      <td>30.56</td>\n",
       "      <td>30.77</td>\n",
       "      <td>30.56</td>\n",
       "      <td>8.80</td>\n",
       "      <td>4.18</td>\n",
       "    </tr>\n",
       "  </tbody>\n",
       "</table>\n",
       "</div>"
      ],
      "text/plain": [
       "  food_item  serving_size  calories (kcal)  protein (g)  protein (g).1  \\\n",
       "0       닭갈비           400           595.61        45.90          25.80   \n",
       "1       닭꼬치            70           176.72        11.56           8.57   \n",
       "2      더덕구이           100           184.00         3.10           5.20   \n",
       "3   소양념갈비구이           300           989.15        60.10          71.60   \n",
       "4    양념장어구이           150           433.35        30.77          30.56   \n",
       "\n",
       "   protein (g).2  protein (g).3  carbohydrate (g)  sugar (g)  \n",
       "0          45.90          25.80             44.90      21.20  \n",
       "1          11.56           8.57             13.35       3.15  \n",
       "2           3.10           5.20             31.10      11.60  \n",
       "3          60.10          71.60             26.20      13.90  \n",
       "4          30.77          30.56              8.80       4.18  "
      ]
     },
     "execution_count": 4,
     "metadata": {},
     "output_type": "execute_result"
    }
   ],
   "source": [
    "food_df  = pd.read_csv('data/food_nutrient_info_finalized.csv')\n",
    "food_df.head()"
   ]
  },
  {
   "cell_type": "markdown",
   "id": "ef893992",
   "metadata": {},
   "source": [
    "## food typo data\n",
    "* train: test = 8:2"
   ]
  },
  {
   "cell_type": "code",
   "execution_count": 5,
   "id": "800476f9",
   "metadata": {},
   "outputs": [],
   "source": [
    "food_train = pd.read_csv('data/food_aging_train.csv')\n",
    "food_test = pd.read_csv('data/food_aging_test.csv')"
   ]
  },
  {
   "cell_type": "code",
   "execution_count": 6,
   "id": "541585e9",
   "metadata": {},
   "outputs": [
    {
     "data": {
      "text/html": [
       "<div>\n",
       "<style scoped>\n",
       "    .dataframe tbody tr th:only-of-type {\n",
       "        vertical-align: middle;\n",
       "    }\n",
       "\n",
       "    .dataframe tbody tr th {\n",
       "        vertical-align: top;\n",
       "    }\n",
       "\n",
       "    .dataframe thead th {\n",
       "        text-align: right;\n",
       "    }\n",
       "</style>\n",
       "<table border=\"1\" class=\"dataframe\">\n",
       "  <thead>\n",
       "    <tr style=\"text-align: right;\">\n",
       "      <th></th>\n",
       "      <th>식품명</th>\n",
       "      <th>식품오타</th>\n",
       "      <th>food_line</th>\n",
       "    </tr>\n",
       "  </thead>\n",
       "  <tbody>\n",
       "    <tr>\n",
       "      <th>0</th>\n",
       "      <td>호떡</td>\n",
       "      <td>하떡</td>\n",
       "      <td>하떡&lt;input&gt;호떡</td>\n",
       "    </tr>\n",
       "    <tr>\n",
       "      <th>1</th>\n",
       "      <td>달걀찜(새우젓)</td>\n",
       "      <td>새우젓계란찜</td>\n",
       "      <td>새우젓계란찜&lt;input&gt;달걀찜(새우젓)</td>\n",
       "    </tr>\n",
       "    <tr>\n",
       "      <th>2</th>\n",
       "      <td>오징어덮밥</td>\n",
       "      <td>오징이덥밥</td>\n",
       "      <td>오징이덥밥&lt;input&gt;오징어덮밥</td>\n",
       "    </tr>\n",
       "    <tr>\n",
       "      <th>3</th>\n",
       "      <td>참나물무침</td>\n",
       "      <td>참나물</td>\n",
       "      <td>참나물&lt;input&gt;참나물무침</td>\n",
       "    </tr>\n",
       "    <tr>\n",
       "      <th>4</th>\n",
       "      <td>크림소스스파게티</td>\n",
       "      <td>크림스파게티</td>\n",
       "      <td>크림스파게티&lt;input&gt;크림소스스파게티</td>\n",
       "    </tr>\n",
       "  </tbody>\n",
       "</table>\n",
       "</div>"
      ],
      "text/plain": [
       "        식품명    식품오타              food_line\n",
       "0        호떡      하떡            하떡<input>호떡\n",
       "1  달걀찜(새우젓)  새우젓계란찜  새우젓계란찜<input>달걀찜(새우젓)\n",
       "2     오징어덮밥   오징이덥밥      오징이덥밥<input>오징어덮밥\n",
       "3     참나물무침     참나물        참나물<input>참나물무침\n",
       "4  크림소스스파게티  크림스파게티  크림스파게티<input>크림소스스파게티"
      ]
     },
     "execution_count": 6,
     "metadata": {},
     "output_type": "execute_result"
    }
   ],
   "source": [
    "food_train.head()"
   ]
  },
  {
   "cell_type": "code",
   "execution_count": 7,
   "id": "c9a0a7f8",
   "metadata": {},
   "outputs": [
    {
     "data": {
      "text/html": [
       "<div>\n",
       "<style scoped>\n",
       "    .dataframe tbody tr th:only-of-type {\n",
       "        vertical-align: middle;\n",
       "    }\n",
       "\n",
       "    .dataframe tbody tr th {\n",
       "        vertical-align: top;\n",
       "    }\n",
       "\n",
       "    .dataframe thead th {\n",
       "        text-align: right;\n",
       "    }\n",
       "</style>\n",
       "<table border=\"1\" class=\"dataframe\">\n",
       "  <thead>\n",
       "    <tr style=\"text-align: right;\">\n",
       "      <th></th>\n",
       "      <th>식품명</th>\n",
       "      <th>식품오타</th>\n",
       "      <th>test_input</th>\n",
       "    </tr>\n",
       "  </thead>\n",
       "  <tbody>\n",
       "    <tr>\n",
       "      <th>0</th>\n",
       "      <td>달래나물무침</td>\n",
       "      <td>다래나물무침</td>\n",
       "      <td>다래나물무침&lt;input&gt;다래나물무침</td>\n",
       "    </tr>\n",
       "    <tr>\n",
       "      <th>1</th>\n",
       "      <td>깻잎찜</td>\n",
       "      <td>깬닙찜</td>\n",
       "      <td>깬닙찜&lt;input&gt;깬닙찜</td>\n",
       "    </tr>\n",
       "    <tr>\n",
       "      <th>2</th>\n",
       "      <td>등심돈가스</td>\n",
       "      <td>등심돈까쓰</td>\n",
       "      <td>등심돈까쓰&lt;input&gt;등심돈까쓰</td>\n",
       "    </tr>\n",
       "    <tr>\n",
       "      <th>3</th>\n",
       "      <td>게살죽</td>\n",
       "      <td>게살쭉</td>\n",
       "      <td>게살쭉&lt;input&gt;게살쭉</td>\n",
       "    </tr>\n",
       "    <tr>\n",
       "      <th>4</th>\n",
       "      <td>버섯전</td>\n",
       "      <td>버섯즌</td>\n",
       "      <td>버섯즌&lt;input&gt;버섯즌</td>\n",
       "    </tr>\n",
       "  </tbody>\n",
       "</table>\n",
       "</div>"
      ],
      "text/plain": [
       "      식품명    식품오타           test_input\n",
       "0  달래나물무침  다래나물무침  다래나물무침<input>다래나물무침\n",
       "1     깻잎찜     깬닙찜        깬닙찜<input>깬닙찜\n",
       "2   등심돈가스   등심돈까쓰    등심돈까쓰<input>등심돈까쓰\n",
       "3     게살죽     게살쭉        게살쭉<input>게살쭉\n",
       "4     버섯전     버섯즌        버섯즌<input>버섯즌"
      ]
     },
     "execution_count": 7,
     "metadata": {},
     "output_type": "execute_result"
    }
   ],
   "source": [
    "food_test.head()"
   ]
  },
  {
   "attachments": {},
   "cell_type": "markdown",
   "id": "a0c4da88-dde1-4352-9384-5bf998d1651a",
   "metadata": {},
   "source": [
    "# Read marked text inputs"
   ]
  },
  {
   "cell_type": "code",
   "execution_count": 8,
   "id": "6e0387ef",
   "metadata": {},
   "outputs": [
    {
     "name": "stdout",
     "output_type": "stream",
     "text": [
      "['하떡<input>호떡', '새우젓계란찜<input>달걀찜(새우젓)', '오징이덥밥<input>오징어덮밥', '참나물<input>참나물무침', '크림스파게티<input>크림소스스파게티', '안심돈까쑤<input>안심돈가스', '쇠고기뭇국<input>쇠고기무국', '채소샌드이치<input>채소샌드위치', '채소보끈빱<input>채소볶음밥', '볶은밥<input>볶음밥']\n",
      "['다래나물무침<input>다래나물무침', '깬닙찜<input>깬닙찜', '등심돈까쓰<input>등심돈까쓰', '게살쭉<input>게살쭉', '버섯즌<input>버섯즌', '고추튀기<input>고추튀기', '간장닭다리구이<input>간장닭다리구이', '버섯샤부<input>버섯샤부', '닥꼬기냉채<input>닥꼬기냉채', '소고기전골<input>소고기전골']\n"
     ]
    }
   ],
   "source": [
    "train_lines = [str(s) for s in food_train['food_line']]\n",
    "test_lines = [str(s) for s in food_test['test_input']]\n",
    "print(train_lines[:10])\n",
    "print(test_lines[:10])"
   ]
  },
  {
   "cell_type": "markdown",
   "id": "849a4ab6",
   "metadata": {},
   "source": [
    "## check the number of UNK tokens of BertTokenizer"
   ]
  },
  {
   "cell_type": "code",
   "execution_count": 9,
   "id": "14bb30bc",
   "metadata": {},
   "outputs": [
    {
     "data": {
      "text/plain": [
       "['하떡',\n",
       " '새우젓계란찜',\n",
       " '오징이덥밥',\n",
       " '참나물',\n",
       " '크림스파게티',\n",
       " '안심돈까쑤',\n",
       " '쇠고기뭇국',\n",
       " '채소샌드이치',\n",
       " '채소보끈빱',\n",
       " '볶은밥']"
      ]
     },
     "execution_count": 9,
     "metadata": {},
     "output_type": "execute_result"
    }
   ],
   "source": [
    "all_lines = [str(s) for s in food_train['식품오타']] + [str(s) for s in food_test['식품오타']]\n",
    "all_lines[:10]"
   ]
  },
  {
   "cell_type": "code",
   "execution_count": 10,
   "id": "1bae3dbb",
   "metadata": {},
   "outputs": [
    {
     "name": "stdout",
     "output_type": "stream",
     "text": [
      "The number of UNK token :  718\n",
      "The number of all food names :  2921\n",
      "percentage of UNK token/all food names:  24.580623074289626\n"
     ]
    }
   ],
   "source": [
    "count = 0\n",
    "for line in all_lines:\n",
    "    tokens= tokenizer.tokenize(line)\n",
    "    if tokens[0] == '[UNK]':\n",
    "        count +=1\n",
    "print('The number of UNK token : ', count)\n",
    "print('The number of all food names : ', len(all_lines))\n",
    "print('percentage of UNK token/all food names: ', ((count/len(all_lines))*100))"
   ]
  },
  {
   "cell_type": "code",
   "execution_count": 11,
   "id": "bd3e58c6",
   "metadata": {},
   "outputs": [
    {
     "name": "stdout",
     "output_type": "stream",
     "text": [
      "the number of unk_token:  155\n",
      "['떡만둣국', '만둣국', '수수팥떡', '쑥떡', '찹쌀떡', '굴짬뽕', '삼선짬뽕', '짬뽕라면', '쑥갓나물무침', '삼선볶음밥', '숯불갈비삼각김밥', '해물볶음밥', '깻잎나물볶음', '돼지고기볶음', '돼지껍데기볶음', '머위나물볶음', '멸치풋고추볶음', '소세지볶음', '순대볶음', '양송이버섯볶음', '주꾸미볶음', '표고버섯볶음', '해물볶음', '찹쌀도우넛', '간장마늘쫑장아찌', '고추장마늘쫑장아찌', '깻잎전', '동그랑땡(육원전)', '잣죽', '꽁치찌개', '새우젓두부찌개', '대구찜', '동태찜', '돼지등갈비찜', '북어찜', '소갈비찜', '아구찜', '조기찜', '해물찜', '쑥절편', '찐감자', '찐고구마', '찐옥수수', '팥시루떡', '팥찹쌀떡', '꽁치구이', '감잣국', '김칫국', '쇠고기배춧국', '쑥된장국', '얼갈이배춧국', '깍두기', '깻잎김치', '보쌈김치', '고춧잎나물무침', '깻잎나물무침', '애호박볶음', '콩나물고춧가루무침', '톳나물무침', '볶음우동', '월남쌈', '짬뽕', '쫄면', '계란볶음밥', '김치볶음밥', '돌솥비빔밥', '볶음밥', '새우볶음밥', '쇠고기볶음밥', '영양돌솥밥', '짬뽕밥', '참치볶음밥', '채소볶음밥', '팥밥', '표고버섯볶음밥', '감자볶음', '감자채소볶음', '건새우볶음', '고추볶음', '김치볶음', '꽈리고추멸치볶음', '낙지볶음', '느타리버섯볶음', '닭가슴살피망볶음', '닭발볶음', '닭볶음', '당근볶음', '돼지고기김치볶음', '돼지고기채소볶음', '돼지곱창순대볶음', '떡볶이', '라볶이', '마늘쫑볶음', '마늘쫑잔멸치볶음', '멸치견과류볶음', '멸치마늘쫑볶음', '멸치볶음', '묵은지삼겹살볶음', '문어고추장볶음', '미역줄기볶음', '브로콜리볶음', '새송이버섯볶음', '새우볶음', '소시지볶음', '쇠고기고추장볶음', '쇠고기버섯볶음', '쇠고기볶음', '쇠고기채소볶음', '양파볶음', '어묵볶음', '어묵채소볶음', '오징어볶음', '오징어채볶음', '잔멸치견과류볶음', '잔멸치고추볶음', '잔멸치꽈리고추볶음', '잔멸치볶음', '잔멸치풋고추볶음', '제육볶음', '죽순쇠고기볶음', '참치김치볶음', '채소떡볶이', '햄채소볶음', '꽈배기', '찐빵', '찹쌀도넛', '두릅초고추장무침', '마늘쫑무침', '팥빙수', '깻잎장아찌', '무짠지', '양념갈치젓', '양념멸치젓', '양념새우젓', '오징어젓', '꽁치조림', '마늘쫑조림', '팥죽', '꽁치김치찌개', '닭볶음탕', '가오리찜', '깻잎찜', '꼬막찜', '꽈리고추찜', '달걀찜(우유)', '달걀찜(새우젓)', '닭찜', '돼지갈비찜', '쇠갈비찜', '쇠고기사태찜', '아귀찜', '애호박찜', '코다리찜', '풋고추찜', '해물콩나물찜']\n"
     ]
    }
   ],
   "source": [
    "unk_tokens = []\n",
    "for line in food_df['food_item'].tolist():\n",
    "    tokens= tokenizer.tokenize(line)\n",
    "    if tokens[0] == '[UNK]':\n",
    "        unk_tokens.append(line)\n",
    "print('the number of unk_token: ', len(unk_tokens))\n",
    "print(unk_tokens)"
   ]
  },
  {
   "attachments": {},
   "cell_type": "markdown",
   "id": "4e7d91ab-be97-442d-89d2-561a3feeb351",
   "metadata": {},
   "source": [
    "## Set max fixed tokenized data size\n",
    "\n",
    "Then get the fixed data"
   ]
  },
  {
   "cell_type": "code",
   "execution_count": 12,
   "id": "5256a7fd-d476-46b0-9d68-0bce5f121b0d",
   "metadata": {},
   "outputs": [],
   "source": [
    "max_token_length = 384\n",
    "bert_feats = np.zeros((len(train_lines), max_token_length * 768))"
   ]
  },
  {
   "cell_type": "code",
   "execution_count": 13,
   "id": "46ab8a15",
   "metadata": {},
   "outputs": [
    {
     "data": {
      "text/plain": [
       "(2337, 294912)"
      ]
     },
     "execution_count": 13,
     "metadata": {},
     "output_type": "execute_result"
    }
   ],
   "source": [
    "bert_feats.shape"
   ]
  },
  {
   "cell_type": "code",
   "execution_count": 14,
   "id": "a29fd195-6b04-42b1-8221-847bed28486c",
   "metadata": {},
   "outputs": [],
   "source": [
    "inputs = tokenizer(train_lines, max_length=max_token_length, padding='max_length', truncation=True, return_tensors='tf')"
   ]
  },
  {
   "attachments": {},
   "cell_type": "markdown",
   "id": "861331ad-ebce-402b-8e8a-987f338dc140",
   "metadata": {},
   "source": [
    "### Batch processing "
   ]
  },
  {
   "cell_type": "code",
   "execution_count": 15,
   "id": "145d21ad-e082-4baa-a37d-c7f25646dcef",
   "metadata": {},
   "outputs": [
    {
     "data": {
      "application/vnd.jupyter.widget-view+json": {
       "model_id": "4c2a6d71cd7b40c8976789b9e64fb230",
       "version_major": 2,
       "version_minor": 0
      },
      "text/plain": [
       "Output()"
      ]
     },
     "metadata": {},
     "output_type": "display_data"
    },
    {
     "data": {
      "text/html": [
       "<pre style=\"white-space:pre;overflow-x:auto;line-height:normal;font-family:Menlo,'DejaVu Sans Mono',consolas,'Courier New',monospace\"></pre>\n"
      ],
      "text/plain": []
     },
     "metadata": {},
     "output_type": "display_data"
    },
    {
     "data": {
      "text/html": [
       "<pre style=\"white-space:pre;overflow-x:auto;line-height:normal;font-family:Menlo,'DejaVu Sans Mono',consolas,'Courier New',monospace\">\n",
       "</pre>\n"
      ],
      "text/plain": [
       "\n"
      ]
     },
     "metadata": {},
     "output_type": "display_data"
    }
   ],
   "source": [
    "batch_size = 32\n",
    "file_count = len(train_lines)\n",
    "for start_index in track(list(range(0, file_count, batch_size))):\n",
    "\n",
    "        end_index = min(start_index + batch_size, file_count)\n",
    "        input_ids_ = inputs['input_ids'][start_index:end_index]\n",
    "        token_type_ids_ = inputs['token_type_ids'][start_index:end_index]\n",
    "        attention_mask_ = inputs['attention_mask'][start_index:end_index]\n",
    "\n",
    "        outputs = bert_model({'input_ids' : input_ids_, \n",
    "                'token_type_ids' : token_type_ids_, \n",
    "                'attention_mask' : attention_mask_})\n",
    "\n",
    "        bert_feats[start_index:end_index, :] = tf.keras.layers.Flatten()(outputs.last_hidden_state).numpy()  "
   ]
  },
  {
   "cell_type": "code",
   "execution_count": 16,
   "id": "ee8c4c2b-415d-46d9-91ea-d82953084683",
   "metadata": {},
   "outputs": [
    {
     "data": {
      "text/plain": [
       "(2337, 294912)"
      ]
     },
     "execution_count": 16,
     "metadata": {},
     "output_type": "execute_result"
    }
   ],
   "source": [
    "bert_feats.shape"
   ]
  },
  {
   "cell_type": "code",
   "execution_count": 17,
   "id": "4c5f56b2-435d-48d6-9337-01c7a8077b42",
   "metadata": {},
   "outputs": [],
   "source": [
    "#np.save(\"bert_food_feat1.npy\", bert_feats)"
   ]
  },
  {
   "cell_type": "code",
   "execution_count": 18,
   "id": "985ca152-701a-4b9e-a36d-26ec2267e668",
   "metadata": {},
   "outputs": [],
   "source": [
    "max_size = bert_feats.shape[1]"
   ]
  },
  {
   "attachments": {},
   "cell_type": "markdown",
   "id": "0709326a-2c63-4664-a0d9-447dc715446d",
   "metadata": {},
   "source": [
    "### Set up a text search engine"
   ]
  },
  {
   "cell_type": "code",
   "execution_count": 19,
   "id": "1021646a-868a-4f01-af0d-5c97d9d7168b",
   "metadata": {},
   "outputs": [],
   "source": [
    "x_bert = tf.keras.Input(shape=(max_size,))\n",
    "#x = tf.keras.layers.BatchNormalization()(x_bert)\n",
    "x = tf.keras.layers.Dense(units=bert_feats.shape[0], activation='linear', name='fc1', use_bias=False)(x_bert)   \n",
    "x_bert_feat_matching = tf.keras.models.Model(inputs=x_bert, outputs=x)"
   ]
  },
  {
   "cell_type": "code",
   "execution_count": 20,
   "id": "54b71e71",
   "metadata": {},
   "outputs": [
    {
     "data": {
      "text/plain": [
       "(2337, 294912)"
      ]
     },
     "execution_count": 20,
     "metadata": {},
     "output_type": "execute_result"
    }
   ],
   "source": [
    "bert_feats.shape"
   ]
  },
  {
   "cell_type": "code",
   "execution_count": 21,
   "id": "6f96a811-530e-4658-80c9-352433e2471b",
   "metadata": {},
   "outputs": [],
   "source": [
    "bert_feats_T = bert_feats.T"
   ]
  },
  {
   "cell_type": "code",
   "execution_count": 22,
   "id": "049cd74c",
   "metadata": {},
   "outputs": [
    {
     "data": {
      "text/plain": [
       "(294912, 2337)"
      ]
     },
     "execution_count": 22,
     "metadata": {},
     "output_type": "execute_result"
    }
   ],
   "source": [
    "bert_feats_T.shape"
   ]
  },
  {
   "cell_type": "code",
   "execution_count": 23,
   "id": "78d0d2bb-e0bf-4489-a488-9f8ca02ae08a",
   "metadata": {},
   "outputs": [],
   "source": [
    "temp_weights = x_bert_feat_matching.get_weights()"
   ]
  },
  {
   "cell_type": "code",
   "execution_count": 24,
   "id": "3d7ba00f",
   "metadata": {},
   "outputs": [
    {
     "data": {
      "text/plain": [
       "(294912, 2337)"
      ]
     },
     "execution_count": 24,
     "metadata": {},
     "output_type": "execute_result"
    }
   ],
   "source": [
    "temp_weights[-1].shape"
   ]
  },
  {
   "cell_type": "code",
   "execution_count": 25,
   "id": "c846ccc6-5c9b-4af7-b8b3-c9f83171a7d1",
   "metadata": {},
   "outputs": [],
   "source": [
    "temp_weights[-1] = bert_feats_T \n",
    "x_bert_feat_matching.set_weights(temp_weights)"
   ]
  },
  {
   "attachments": {},
   "cell_type": "markdown",
   "id": "731efa7a-ae83-44a9-a816-8f1b95af9bae",
   "metadata": {},
   "source": [
    "## Define chosen topics the model can handle"
   ]
  },
  {
   "cell_type": "code",
   "execution_count": 26,
   "id": "2b5efde3-61fa-4b91-8b81-200eabd0c77b",
   "metadata": {},
   "outputs": [
    {
     "data": {
      "application/vnd.jupyter.widget-view+json": {
       "model_id": "2411169c74604392a4e26b4e24a8b3f4",
       "version_major": 2,
       "version_minor": 0
      },
      "text/plain": [
       "Output()"
      ]
     },
     "metadata": {},
     "output_type": "display_data"
    },
    {
     "data": {
      "text/html": [
       "<pre style=\"white-space:pre;overflow-x:auto;line-height:normal;font-family:Menlo,'DejaVu Sans Mono',consolas,'Courier New',monospace\"></pre>\n"
      ],
      "text/plain": []
     },
     "metadata": {},
     "output_type": "display_data"
    },
    {
     "data": {
      "text/html": [
       "<pre style=\"white-space:pre;overflow-x:auto;line-height:normal;font-family:Menlo,'DejaVu Sans Mono',consolas,'Courier New',monospace\">\n",
       "</pre>\n"
      ],
      "text/plain": [
       "\n"
      ]
     },
     "metadata": {},
     "output_type": "display_data"
    }
   ],
   "source": [
    "total_text = []\n",
    "for each in track(train_lines):\n",
    "    total_text.append(each)"
   ]
  },
  {
   "cell_type": "code",
   "execution_count": 27,
   "id": "2835850d",
   "metadata": {},
   "outputs": [
    {
     "data": {
      "application/vnd.jupyter.widget-view+json": {
       "model_id": "60f98850ec844a73a453a713319871c5",
       "version_major": 2,
       "version_minor": 0
      },
      "text/plain": [
       "Output()"
      ]
     },
     "metadata": {},
     "output_type": "display_data"
    },
    {
     "data": {
      "text/html": [
       "<pre style=\"white-space:pre;overflow-x:auto;line-height:normal;font-family:Menlo,'DejaVu Sans Mono',consolas,'Courier New',monospace\"></pre>\n"
      ],
      "text/plain": []
     },
     "metadata": {},
     "output_type": "display_data"
    },
    {
     "data": {
      "text/html": [
       "<pre style=\"white-space:pre;overflow-x:auto;line-height:normal;font-family:Menlo,'DejaVu Sans Mono',consolas,'Courier New',monospace\">\n",
       "</pre>\n"
      ],
      "text/plain": [
       "\n"
      ]
     },
     "metadata": {},
     "output_type": "display_data"
    }
   ],
   "source": [
    "topics = []\n",
    "\n",
    "for each in train_lines:\n",
    "    topics.append(each.split('<input>')[1])\n",
    "    \n",
    "topics = np.unique(topics).tolist()\n",
    "\n",
    "# store sample chats\n",
    "topic_samples = {}\n",
    "for each in track(train_lines):\n",
    "    current_topic = each.split('<input>')[1]\n",
    "    names = each.split('<input>')[0]\n",
    "    if current_topic in topic_samples:\n",
    "        topic_samples[current_topic].append(names)\n",
    "    else:\n",
    "        topic_samples[current_topic] = []\n",
    "        topic_samples[current_topic].append(names) "
   ]
  },
  {
   "cell_type": "code",
   "execution_count": 28,
   "id": "b5370da8",
   "metadata": {},
   "outputs": [
    {
     "name": "stdout",
     "output_type": "stream",
     "text": [
      "{'다래나물무침<input>다래나물무침': '달래나물무침', '깬닙찜<input>깬닙찜': '깻잎찜', '등심돈까쓰<input>등심돈까쓰': '등심돈가스', '게살쭉<input>게살쭉': '게살죽', '버섯즌<input>버섯즌': '버섯전', '고추튀기<input>고추튀기': '고추튀김', '간장닭다리구이<input>간장닭다리구이': '간장양념닭다리구이', '버섯샤부<input>버섯샤부': '버섯샤브샤브', '닥꼬기냉채<input>닥꼬기냉채': '닭고기냉채', '소고기전골<input>소고기전골': '쇠고기전골', '삼겹살<input>삼겹살': '삼겹살구이', '딱뽀끔탕<input>딱뽀끔탕': '닭볶음탕', '냉이된장찌기<input>냉이된장찌기': '냉이된장찌개', '순두부김치찌기<input>순두부김치찌기': '순두부김치찌개', '가배기<input>가배기': '꽈배기', '쇠고기완자즌<input>쇠고기완자즌': '쇠고기완자전', '우렁된장구<input>우렁된장구': '우렁된장국', '불고기햄버거<input>불고기햄버거': '불고기버거', '소고기주먹밥<input>소고기주먹밥': '쇠고기주먹밥', '해덥밥<input>해덥밥': '회덮밥', '감저사라다<input>감저사라다': '감자샐러드', '소고기채소보끈<input>소고기채소보끈': '쇠고기채소볶음', '대지괴기산즉<input>대지괴기산즉': '돼지고기산적', '바지락조개궁<input>바지락조개궁': '바지락조개국', '오징어티김<input>오징어티김': '오징어튀김', '다시마멋침<input>다시마멋침': '다시마무침', '쇠고기고추장보끈<input>쇠고기고추장보끈': '쇠고기고추장볶음', '닥뽀끔<input>닥뽀끔': '닭볶음', '중국우동<input>중국우동': '우동(중식)', '오이장아지<input>오이장아지': '오이장아찌', '갓낌치<input>갓낌치': '갓김치', '계란찜(우유)<input>계란찜(우유)': '달걀찜(우유)', '우거질해장국<input>우거질해장국': '우거지해장국', '쌀국시<input>쌀국시': '쌀국수', '껌정콩밥<input>껌정콩밥': '검정콩밥', '열무냉믄<input>열무냉믄': '열무냉면', '냉김치마리국수<input>냉김치마리국수': '냉김치말이국수', '간장개장<input>간장개장': '간장게장', '오징아산적<input>오징아산적': '오징어산적', '더부전<input>더부전': '두부전', '팟빙수<input>팟빙수': '팥빙수', '소고기메추리알장저림<input>소고기메추리알장저림': '소고기메추리알장조림', '고치장아찌<input>고치장아찌': '고추장아찌', '우거지된장꾹<input>우거지된장꾹': '우거지된장국', '무너초밥<input>무너초밥': '문어초밥', '일본식우동<input>일본식우동': '우동(일식)', '무짱아지<input>무짱아지': '무장아찌', '꽈리고츄멸치보끈<input>꽈리고츄멸치보끈': '꽈리고추멸치볶음', '무지긔뜩<input>무지긔뜩': '무지개떡', '절핀<input>절핀': '절편', '후박부침개<input>후박부침개': '호박부침개', '재육더빱<input>재육더빱': '제육덮밥', '떡만둣구<input>떡만둣구': '떡만둣국', '소고기멋국<input>소고기멋국': '소고기무국', '삼겹살고추장<input>삼겹살고추장': '삼겹살고추장구이', '두부애호박된장찌기<input>두부애호박된장찌기': '두부애호박된장찌개', '고츄볶음<input>고츄볶음': '고추볶음', '양성이수푸<input>양성이수푸': '양송이스프', '버섯샤부샤부<input>버섯샤부샤부': '버섯샤브샤브', '해물완자즌<input>해물완자즌': '해물완자전', '쇠고기미역꾹<input>쇠고기미역꾹': '쇠고기미역국', '게란마리<input>게란마리': '달걀말이', '햐물된장국<input>햐물된장국': '해물된장국', '죽순소고기볶음<input>죽순소고기볶음': '죽순쇠고기볶음', '깐짜장<input>깐짜장': '간자장', '고추장마늘쭝짱아지<input>고추장마늘쭝짱아지': '고추장마늘쫑장아찌', '간장닭다리튀김<input>간장닭다리튀김': '간장양념닭다리튀김', '죽순쇠고기보끔<input>죽순쇠고기보끔': '죽순쇠고기볶음', '달걀마리<input>달걀마리': '달걀말이', '콩경단<input>콩경단': '경단(콩)', '다시마머침<input>다시마머침': '다시마무침', '떠깡정<input>떠깡정': '떡강정', '선지해장구<input>선지해장구': '선지해장국', '부추머침<input>부추머침': '부추무침', '김치궁<input>김치궁': '김치국', '서벗샤푸<input>서벗샤푸': '버섯샤브샤브', '충무김빱<input>충무김빱': '충무김밥', '감저채소볶음<input>감저채소볶음': '감자채소볶음', '어일파섯타<input>어일파섯타': '오일소스스파게티', '칩쌀띠익<input>칩쌀띠익': '찹쌀떡', '키조개애구이<input>키조개애구이': '키조개구이', '대지고기완자전<input>대지고기완자전': '돼지고기완자전', '멸치마늘쫑보끈<input>멸치마늘쫑보끈': '멸치마늘쫑볶음', '양념장으구이<input>양념장으구이': '양념장어구이', '햐물매운탕<input>햐물매운탕': '해물매운탕', '쪼꼬소라빵<input>쪼꼬소라빵': '초코소라빵', '토마투스파게티<input>토마투스파게티': '토마토소스스파게티', '쇠고기삿태찜<input>쇠고기삿태찜': '쇠고기사태찜', '김취김빱<input>김취김빱': '김치김밥', '소고기샤부샤부<input>소고기샤부샤부': '소고기샤브샤브', '닭가슴살샌도이취<input>닭가슴살샌도이취': '닭가슴살샌드위치', '어일파스타<input>어일파스타': '오일소스스파게티', '꺼막짐<input>꺼막짐': '꼬막찜', '감즈즌<input>감즈즌': '감자전', '채소산도이치<input>채소산도이치': '채소샌드위치', '김치콩나물꾹<input>김치콩나물꾹': '김치콩나물국', '매밀즌<input>매밀즌': '메밀전', '마늘뭇침<input>마늘뭇침': '풋마늘무침', '참치완저즌<input>참치완저즌': '참치완자전', '훈제오림<input>훈제오림': '훈제오리', '소고기배추국<input>소고기배추국': '쇠고기배춧국', '깻닢찜<input>깻닢찜': '깻잎찜', '유뷰초밥<input>유뷰초밥': '유부초밥', '돼지고기김치보끔<input>돼지고기김치보끔': '돼지고기김치볶음', '참치김치찌게<input>참치김치찌게': '참치김치찌개', '버터크림빠앙<input>버터크림빠앙': '버터크림빵', '가죽나물<input>가죽나물': '가죽나물무침', '계란보끔밥<input>계란보끔밥': '계란볶음밥', '얼가리배추국<input>얼가리배추국': '얼갈이배춧국', '해물크림파스타<input>해물크림파스타': '해물크림소스스파게티', '해멀덥밥<input>해멀덥밥': '해물덮밥', '오이이김치<input>오이이김치': '오이김치', '김취우동<input>김취우동': '김치우동', '오징어더빱<input>오징어더빱': '오징어덮밥', '버섯전걸<input>버섯전걸': '버섯전골', '참치더빱<input>참치더빱': '참치덮밥', '잔멸치풋고추보끔<input>잔멸치풋고추보끔': '잔멸치풋고추볶음', '쿠림파스타<input>쿠림파스타': '크림소스스파게티', '불괴기햄버거<input>불괴기햄버거': '불고기버거', '데리야키치킨<input>데리야키치킨': '치킨데리야끼', '해물찌임<input>해물찌임': '해물찜', '오사불고기<input>오사불고기': '오삼불고기', '닥꼬츄장조림<input>닥꼬츄장조림': '닭고추장조림', '어리탕<input>어리탕': '오리탕', '미익국<input>미익국': '미역국', '치커리것쩌리<input>치커리것쩌리': '치커리겉절이', '냉이나멀<input>냉이나멀': '냉이나물무침', '굴잠뿡<input>굴잠뿡': '굴짬뽕', '무너처밥<input>무너처밥': '문어초밥', '김취라면<input>김취라면': '김치라면', '뽀끈빱<input>뽀끈빱': '볶음밥', '소고기미역국<input>소고기미역국': '쇠고기미역국', '매늘빠앙<input>매늘빠앙': '마늘빵', '두부쪼림<input>두부쪼림': '두부조림', '채소햄보끔<input>채소햄보끔': '햄채소볶음', '고사리<input>고사리': '고사리나물무침', '전벅죽<input>전벅죽': '전복죽', '오걱밥<input>오걱밥': '오곡밥', '시퀘<input>시퀘': '식혜', '쑥덕<input>쑥덕': '쑥떡', '똥그랑땡<input>똥그랑땡': '동그랑땡(육원전)', '을무얼갈의김치<input>을무얼갈의김치': '열무얼갈이김치', '채수전<input>채수전': '채소전', '안심돈까수<input>안심돈까수': '안심돈가스', '뼈해장꾹<input>뼈해장꾹': '뼈해장국', '두부붓침<input>두부붓침': '두부부침', '느타리버섯멋침<input>느타리버섯멋침': '느타리버섯무침', '시래기된장구<input>시래기된장구': '시래기된장국', '느타리버섯머침<input>느타리버섯머침': '느타리버섯무침', '회냉명<input>회냉명': '회냉면', '애플파이<input>애플파이': '사과파이', '굴극밥<input>굴극밥': '굴국밥', '버섯소고기볶음<input>버섯소고기볶음': '쇠고기버섯볶음', '유가<input>유가': '유과', '간증게장<input>간증게장': '간장게장', '오뎅국<input>오뎅국': '어묵국', '햐물콩나물찜<input>햐물콩나물찜': '해물콩나물찜', '얼무김치국시<input>얼무김치국시': '열무김치국수', '표고버섯보끔<input>표고버섯보끔': '표고버섯볶음', '검은콩밥<input>검은콩밥': '검정콩밥', '매널빵<input>매널빵': '마늘빵', '쇠갈비<input>쇠갈비': '쇠갈비구이', '치주라면<input>치주라면': '치즈라면', '마늘쫑잔멸치보끈<input>마늘쫑잔멸치보끈': '마늘쫑잔멸치볶음', '베이이글<input>베이이글': '베이글', '오징어보끔<input>오징어보끔': '오징어볶음', '달걀짱조림<input>달걀짱조림': '달걀장조림', '대지머릿괴기<input>대지머릿괴기': '돼지머리고기', '파빱<input>파빱': '팥밥', '김칫콩나멀국<input>김칫콩나멀국': '김치콩나물국', '전북죽<input>전북죽': '전복죽', '생선모듬초법<input>생선모듬초법': '생선모듬초밥', '돼지머릿고기<input>돼지머릿고기': '돼지머리고기', '닭가슴살샌도이치<input>닭가슴살샌도이치': '닭가슴살샌드위치', '대지갈비찜<input>대지갈비찜': '돼지갈비찜', '옥시시샐러다<input>옥시시샐러다': '옥수수샐러드', '참치완즈전<input>참치완즈전': '참치완자전', '깻입전<input>깻입전': '깻잎전', '김치전고<input>김치전고': '김치전골', '청포물무침<input>청포물무침': '청포묵무침', '떡말둣국<input>떡말둣국': '떡만둣국', '양파짱아찌<input>양파짱아찌': '양파장아찌', '참취죽<input>참취죽': '참치죽', '오삼불괴기<input>오삼불괴기': '오삼불고기', '햐물팟전<input>햐물팟전': '해물파전', '참취더밥<input>참취더밥': '참치덮밥', '청포묵무칫<input>청포묵무칫': '청포묵무침', '토란꾹<input>토란꾹': '토란국', '중국식우동<input>중국식우동': '우동(중식)', '오일파수타<input>오일파수타': '오일소스스파게티', '닥빨<input>닥빨': '닭발구이', '버섯소고기보끔<input>버섯소고기보끔': '쇠고기버섯볶음', '연끈조림<input>연끈조림': '연근조림', '군고등어<input>군고등어': '고등어구이', '닥곰탕<input>닥곰탕': '닭곰탕', '양념취킨<input>양념취킨': '양념치킨', '햐물된장궁<input>햐물된장궁': '해물된장국', '치킨까쑤<input>치킨까쑤': '치킨까스', '얼밥<input>얼밥': '알밥', '바지락조개구<input>바지락조개구': '바지락조개국', '머위나물보끔<input>머위나물보끔': '머위나물볶음', '오징이무침<input>오징이무침': '오징어무침', '송이덥밥<input>송이덥밥': '송이덮밥', '장어고츄장구이<input>장어고츄장구이': '장어고추장구이', '소고기완자전<input>소고기완자전': '쇠고기완자전', '열무거쩌리<input>열무거쩌리': '열무겉절이', '얼가리배추꾹<input>얼가리배추꾹': '얼갈이배춧국', '표구버슷구이<input>표구버슷구이': '표고버섯구이', '고딩이찌개<input>고딩이찌개': '고등어찌개', '시래기된장굽<input>시래기된장굽': '시래기된장국', '참치쭉<input>참치쭉': '참치죽', '일본매실짱아찌<input>일본매실짱아찌': '일본매실장아찌', '초콜릿케익<input>초콜릿케익': '초콜릿케이크', '내장타앙<input>내장타앙': '내장탕', '무우쪼림<input>무우쪼림': '무조림', '김치즌<input>김치즌': '김치전', '콩나물된장찌기<input>콩나물된장찌기': '콩나물된장찌개', '고춧가루콩나물<input>고춧가루콩나물': '콩나물고춧가루무침', '김칙국<input>김칙국': '김치국', '피망닥까슴살보끔<input>피망닥까슴살보끔': '닭가슴살피망볶음', '제육뽀끔<input>제육뽀끔': '제육볶음', '장어덥밥<input>장어덥밥': '장어덮밥', '오징어보끈<input>오징어보끈': '오징어볶음', '대헙미역국<input>대헙미역국': '대합미역국', '옥수수샐러다<input>옥수수샐러다': '옥수수샐러드', '고츄닙나물무침<input>고츄닙나물무침': '고춧잎나물무침', '얼가리배츄김치<input>얼가리배츄김치': '얼갈이배추김치', '조귀찜<input>조귀찜': '조기찜', '삼선짜장민<input>삼선짜장민': '삼선자장면', '후박즌<input>후박즌': '호박전', '찹쌀도오넛<input>찹쌀도오넛': '찹쌀도넛', '고춧잎나물<input>고춧잎나물': '고춧잎나물무침', '동태찌게<input>동태찌게': '동태찌개', '송이더빱<input>송이더빱': '송이덮밥', '닥발보끈<input>닥발보끈': '닭발볶음', '소고기죽<input>소고기죽': '쇠고기죽', '삼신볶음밥<input>삼신볶음밥': '삼선볶음밥', '살국쑤<input>살국쑤': '쌀국수', '열무얼가리김치<input>열무얼가리김치': '열무얼갈이김치', '쇠고기샤브<input>쇠고기샤브': '쇠고기샤브샤브', '무지개애떡<input>무지개애떡': '무지개떡', '두부애호박된장찌게<input>두부애호박된장찌게': '두부애호박된장찌개', '갓김취<input>갓김취': '갓김치', '기장빱<input>기장빱': '기장밥', '우렁될장국<input>우렁될장국': '우렁된장국', '미서된장구<input>미서된장구': '미소된장국', '추아탕<input>추아탕': '추어탕', '재첩꾹<input>재첩꾹': '재첩국', '계란꾹<input>계란꾹': '달걀국', '동티국<input>동티국': '동태국', '미나리나멀<input>미나리나멀': '미나리나물', '닥까슴살샐러다<input>닥까슴살샐러다': '닭가슴살샐러드', '비빔냉믄<input>비빔냉믄': '비빔냉면', '마늘쫑쪼림<input>마늘쫑쪼림': '마늘쫑조림', '깻닙김치<input>깻닙김치': '깻잎김치', '된장풋고추무침<input>된장풋고추무침': '풋고추된장무침', '오리불구기<input>오리불구기': '오리불고기', '브로콜리보끈<input>브로콜리보끈': '브로콜리볶음', '깬닙짱아찌<input>깬닙짱아찌': '깻잎장아찌', '무지기떡<input>무지기떡': '무지개떡', '표곳버섯볶음<input>표곳버섯볶음': '표고버섯볶음', '동타찌개<input>동타찌개': '동태찌개', '미역초뭇침<input>미역초뭇침': '미역초무침', '수수부꾸무<input>수수부꾸무': '수수부꾸미', '럴케익<input>럴케익': '롤케이크', '찹쌀띡<input>찹쌀띡': '찹쌀떡', '떠뽀끼<input>떠뽀끼': '떡볶이', '어묵채소보끈<input>어묵채소보끈': '어묵채소볶음', '배추나물<input>배추나물': '배추나물무침', '닥깡정<input>닥깡정': '닭강정', '양생추샐러드<input>양생추샐러드': '양상추샐러드', '닥빨보끔<input>닥빨보끔': '닭발볶음', '닥까슴살샌도이치<input>닥까슴살샌도이치': '닭가슴살샌드위치', '캘리퍼니아롤<input>캘리퍼니아롤': '캘리포니아롤', '더덩구이<input>더덩구이': '더덕구이', '달래된정찌개<input>달래된정찌개': '달래된장찌개', '달래뭇침<input>달래뭇침': '달래무침', '모커빵<input>모커빵': '모카빵', '쇠괴기김밥<input>쇠괴기김밥': '소고기김밥', '고굼마투김<input>고굼마투김': '고구마튀김', '쇠고기전걸<input>쇠고기전걸': '쇠고기전골', '짜짱밥<input>짜짱밥': '자장밥', '버러쿠림빵<input>버러쿠림빵': '버터크림빵', '쇠괴기수육<input>쇠괴기수육': '쇠고기수육', '낙지전굴<input>낙지전굴': '낙지전골', '까뚜기<input>까뚜기': '깍두기', '메밀묵꾹<input>메밀묵꾹': '메밀묵국', '장어더빱<input>장어더빱': '장어덮밥', '김치보끔빱<input>김치보끔빱': '김치볶음밥', '양념계장<input>양념계장': '양념게장', '송화다시<input>송화다시': '송화다식', '열무된장나물<input>열무된장나물': '열무된장나물무침', '도라지나멀<input>도라지나멀': '도라지나물무침', '꽃게타앙<input>꽃게타앙': '꽃게탕', '미트볼토마토파스타<input>미트볼토마토파스타': '미트볼토마토스파게티', '쟁반국시<input>쟁반국시': '쟁반국수', '시래기된장공<input>시래기된장공': '시래기된장국', '쑥갓나멀<input>쑥갓나멀': '쑥갓나물무침', '프라이드치킨<input>프라이드치킨': '후라이드치킨', '찐감저<input>찐감저': '찐감자', '꽈리고추잔멸치볶음<input>꽈리고추잔멸치볶음': '잔멸치꽈리고추볶음', '후라이두치킨<input>후라이두치킨': '후라이드치킨', '선두부찌개<input>선두부찌개': '순두부찌개', '소고기무궁<input>소고기무궁': '소고기무국', '쭈꾸미보끔<input>쭈꾸미보끔': '주꾸미볶음', '돼지껍대기보끔<input>돼지껍대기보끔': '돼지껍데기볶음', '죽쑨쇠고기볶음<input>죽쑨쇠고기볶음': '죽순쇠고기볶음', '대지고기찌기<input>대지고기찌기': '돼지고기찌개', '양미리쪼림<input>양미리쪼림': '양미리조림', '삼겹살묵은지볶음<input>삼겹살묵은지볶음': '묵은지삼겹살볶음', '마늘쫑잔멸치보끔<input>마늘쫑잔멸치보끔': '마늘쫑잔멸치볶음', '토란대무침<input>토란대무침': '토란대나물무침', '채소햄보끈<input>채소햄보끈': '햄채소볶음', '잔치국쑤<input>잔치국쑤': '잔치국수', '소세지튀기<input>소세지튀기': '소시지튀김', '표구버슷전<input>표구버슷전': '표고버섯전', '닭가슴살샌드이치<input>닭가슴살샌드이치': '닭가슴살샌드위치', '쇠고기버섯죽<input>쇠고기버섯죽': '소고기버섯죽', '더덕물침<input>더덕물침': '더덕무침', '햄샌도이취<input>햄샌도이취': '햄샌드위치', '바지락칼국씨<input>바지락칼국씨': '바지락칼국수', '삼겹살묵은지보끈<input>삼겹살묵은지보끈': '묵은지삼겹살볶음', '쇠고기샤푸<input>쇠고기샤푸': '쇠고기샤브샤브', '골빙이무침<input>골빙이무침': '골뱅이무침', '시금치나물<input>시금치나물': '시금치나물무침', '콩나무울잡치<input>콩나무울잡치': '콩나물잡채', '달걀후라이<input>달걀후라이': '달걀프라이', '매작가<input>매작가': '매작과', '열무김칫<input>열무김칫': '열무김치', '고츄조림<input>고츄조림': '고추조림', '꼳개탕<input>꼳개탕': '꽃게탕', '오뎅채소보끈<input>오뎅채소보끈': '어묵채소볶음', '풋고츄된장무침<input>풋고츄된장무침': '풋고추된장무침', '대지불괴기<input>대지불괴기': '돼지불고기', '소고기고추장보끔<input>소고기고추장보끔': '쇠고기고추장볶음', '소고기메추리알장조림<input>소고기메추리알장조림': '쇠고기메추리알장조림', '오이생치<input>오이생치': '오이생채', '양파부츄멋침<input>양파부츄멋침': '양파부추무침', '닭날개티김<input>닭날개티김': '닭날개튀김', '김친국<input>김친국': '김치국', '호박오가리나물뭇침<input>호박오가리나물뭇침': '호박오가리나물무침', '더부부침<input>더부부침': '두부부침', '김멋침<input>김멋침': '김무침', '소고기장조림<input>소고기장조림': '쇠고기장조림', '묵은지삼겹살보끔<input>묵은지삼겹살보끔': '묵은지삼겹살볶음', '병아조림<input>병아조림': '병어조림', '떡만두꾹<input>떡만두꾹': '떡만두국', '닥깽정<input>닥깽정': '닭강정', '대지수육<input>대지수육': '돼지고기수육', '햐물찜<input>햐물찜': '해물찜', '주꾸미보끔<input>주꾸미보끔': '주꾸미볶음', '오이지멋침<input>오이지멋침': '오이지무침', '후박전<input>후박전': '호박전', '오이지머침<input>오이지머침': '오이지무침', '꽁치구운<input>꽁치구운': '꽁치구이', '매추리알장조림<input>매추리알장조림': '메추리알장조림', '소양념갈비구시<input>소양념갈비구시': '소양념갈비구이', '돼지메추리알장쪼림<input>돼지메추리알장쪼림': '돼지고기메추리알장조림', '참꼬믹<input>참꼬믹': '참꼬막', '기픠편<input>기픠편': '기피편', '흔제어리<input>흔제어리': '훈제오리', '소고기샤부<input>소고기샤부': '소고기샤브샤브', '간장응념닭다리구이<input>간장응념닭다리구이': '간장양념닭다리구이', '연어처밥<input>연어처밥': '연어초밥', '가자미시케<input>가자미시케': '가자미식해', '거구마줄기나물<input>거구마줄기나물': '고구마줄기나물무침', '부로콜리볶음<input>부로콜리볶음': '브로콜리볶음', '푸고츄된장무침<input>푸고츄된장무침': '풋고추된장무침', '떡만둥국<input>떡만둥국': '떡만둣국', '풋고추잔멸치볶음<input>풋고추잔멸치볶음': '잔멸치풋고추볶음', '호박고추장찌기<input>호박고추장찌기': '호박고추장찌개', '미억튀각<input>미억튀각': '미역튀각', '도라지나물<input>도라지나물': '도라지나물무침', '새송이버섯<input>새송이버섯': '새송이버섯구이', '조미기임<input>조미기임': '조미김', '회머침<input>회머침': '회무침', '모듬회덥밥<input>모듬회덥밥': '모듬회덮밥', '채수죽<input>채수죽': '채소죽', '동태찌기<input>동태찌기': '동태찌개', '개란라면<input>개란라면': '달걀라면', '돼지괴기메추리장조림<input>돼지괴기메추리장조림': '돼지고기메추리알장조림', '버섯쇠고기볶음<input>버섯쇠고기볶음': '쇠고기버섯볶음', '김채우동<input>김채우동': '김치우동', '피잣빠앙<input>피잣빠앙': '피자빵', '패슷츄리빵<input>패슷츄리빵': '페이스트리빵', '카쓰테라<input>카쓰테라': '카스텔라', '걸전<input>걸전': '굴전', '식빵터스트<input>식빵터스트': '식빵토스트', '소양념가비구이<input>소양념가비구이': '소양념갈비구이', '치즈핏자<input>치즈핏자': '치즈피자', '기정밥<input>기정밥': '기장밥', '문어처밥<input>문어처밥': '문어초밥', '고츄보끈<input>고츄보끈': '고추볶음', '가자미즌<input>가자미즌': '가자미전', '대지갈비<input>대지갈비': '돼지갈비구이', '깬입나물<input>깬입나물': '깻잎나물무침', '홍합멋국<input>홍합멋국': '홍합무국', '장어초빱<input>장어초빱': '장어초밥', '죽쑨소고기볶음<input>죽쑨소고기볶음': '죽순쇠고기볶음', '콩나물국빱<input>콩나물국빱': '콩나물국밥', '순두부김치찌게<input>순두부김치찌게': '순두부김치찌개', '고추장삼겹<input>고추장삼겹': '삼겹살고추장구이', '추러스<input>추러스': '츄러스', '무닝빵<input>무닝빵': '모닝빵', '고추장불고기삼김<input>고추장불고기삼김': '고추장불고기삼각김밥', '삼슨우동<input>삼슨우동': '삼선우동', '감자그로겟<input>감자그로겟': '감자크로켓', '대지등갈비찜<input>대지등갈비찜': '돼지등갈비찜', '동티전<input>동티전': '동태전', '채소사라다<input>채소사라다': '채소샐러드', '수부루빵<input>수부루빵': '소보로빵', '양념장어<input>양념장어': '양념장어구이', '롤케익<input>롤케익': '롤케이크', '버섯찌기<input>버섯찌기': '버섯찌개', '만둣굳<input>만둣굳': '만둣국', '청포무무침<input>청포무무침': '청포묵무침', '롤케잌<input>롤케잌': '롤케이크', '임연수구기<input>임연수구기': '임연수구이', '햄치주샌도이치<input>햄치주샌도이치': '햄치즈샌드위치', '꽁츼찌기<input>꽁츼찌기': '꽁치찌개', '모카빠앙<input>모카빠앙': '모카빵', '무카빵<input>무카빵': '모카빵', '고추장문어보끈<input>고추장문어보끈': '문어고추장볶음', '매실짱아찌<input>매실짱아찌': '매실장아찌', '생선무뢰<input>생선무뢰': '생선물회', '넉두시루뚝<input>넉두시루뚝': '녹두시루떡', '불고기덥밥<input>불고기덥밥': '불고기덮밥', '오뎅꾹<input>오뎅꾹': '어묵국', '미수가리<input>미수가리': '미숫가루', '돼지찌개<input>돼지찌개': '돼지고기찌개', '중식우동<input>중식우동': '우동(중식)', '고사리나물<input>고사리나물': '고사리나물무침', '깨닙전<input>깨닙전': '깻잎전', '새우탕슈육<input>새우탕슈육': '새우탕수육', '치나물<input>치나물': '취나물', '닥튀김<input>닥튀김': '닭튀김', '풋마늘뭇침<input>풋마늘뭇침': '풋마늘무침', '양념개장<input>양념개장': '양념게장', '마늘짱아찌<input>마늘짱아찌': '마늘장아찌', '의삼불고기<input>의삼불고기': '오삼불고기', '소시지보끔<input>소시지보끔': '소세지볶음', '과일사라다<input>과일사라다': '과일샐러드', '콩송핀<input>콩송핀': '송편(콩)', '느타리버슷볶음<input>느타리버슷볶음': '느타리버섯볶음', '김튀기<input>김튀기': '김튀김', '달리나멀<input>달리나멀': '달래나물무침', '김치전걸<input>김치전걸': '김치전골', '갈치죄림<input>갈치죄림': '갈치조림', '소갤비<input>소갤비': '쇠갈비구이', '간장마늘쭝짱아지<input>간장마늘쭝짱아지': '간장마늘쫑장아찌', '순더부계란탕<input>순더부계란탕': '순두부달걀탕', '초꼬소라빵<input>초꼬소라빵': '초코소라빵', '국굴빱<input>국굴빱': '굴국밥', '송이덥바<input>송이덥바': '송이덮밥', '동티조림<input>동티조림': '동태조림', '오댕김치찌개<input>오댕김치찌개': '어묵김치찌개', '지포조림<input>지포조림': '쥐포조림', '떡만룽국<input>떡만룽국': '떡만둣국', '대파닭꼬치<input>대파닭꼬치': '닭고기대파꼬치구이', '다시마뭇침<input>다시마뭇침': '다시마무침', '맛쌀전<input>맛쌀전': '맛살전', '라조깅<input>라조깅': '라조기', '모듬찰띡<input>모듬찰띡': '모듬찰떡', '마늘쩡조림<input>마늘쩡조림': '마늘쫑조림', '해물보끔밥<input>해물보끔밥': '해물볶음밥', '허박죽<input>허박죽': '호박죽', '더딕무침<input>더딕무침': '더덕무침', '해초뭇침<input>해초뭇침': '해초무침', '터란꾹<input>터란꾹': '토란국', '배춧된장국<input>배춧된장국': '배추된장국', '잡치밥<input>잡치밥': '잡채밥', '머삔<input>머삔': '머핀', '치커리걷저리<input>치커리걷저리': '치커리겉절이', '황태구자<input>황태구자': '황태구이', '낙지덥밥<input>낙지덥밥': '낙지덮밥', '감자피자<input>감자피자': '포테이토피자', '골빙이국쑤무침<input>골빙이국쑤무침': '골뱅이국수무침', '얼무냉믄<input>얼무냉믄': '열무냉면', '헝합뭇국<input>헝합뭇국': '홍합무국', '부거채무침<input>부거채무침': '북어채무침', '만드국<input>만드국': '만둣국', '메밀전병<input>메밀전병': '메밀전병', '양배추사라다<input>양배추사라다': '양배추샐러드', '초콜릿케잌<input>초콜릿케잌': '초콜릿케이크', '드득장아찌<input>드득장아찌': '더덕장아찌', '숫불갤비삼각김빱<input>숫불갤비삼각김빱': '숯불갈비삼각김밥', '두부전걸<input>두부전걸': '두부전골', '고츄장장어<input>고츄장장어': '장어고추장구이', '참치마요삼각김법<input>참치마요삼각김법': '참치마요네즈삼각김밥', '달걀보끔밥<input>달걀보끔밥': '계란볶음밥', '콩비지찌게<input>콩비지찌게': '콩비지찌개', '샐러드김빱<input>샐러드김빱': '샐러드김밥', '후박찌개<input>후박찌개': '호박찌개', '콩나물고츄가루무침<input>콩나물고츄가루무침': '콩나물고춧가루무침', '임연스구이<input>임연스구이': '임연수구이', '느타리버섯보끔<input>느타리버섯보끔': '느타리버섯볶음', '냉이이된자이찌개<input>냉이이된자이찌개': '냉이된장찌개', '팟찹쌀띡<input>팟찹쌀띡': '팥찹쌀떡', '양상추샐러다<input>양상추샐러다': '양상추샐러드', '오이부추뭇침<input>오이부추뭇침': '오이부추무침', '꼬리굼탕<input>꼬리굼탕': '꼬리곰탕', '닥빨구이<input>닥빨구이': '닭발구이', '짬봉<input>짬봉': '짬뽕', '김치이전<input>김치이전': '김치전', '마쌀전<input>마쌀전': '맛살전', '애호박보끔<input>애호박보끔': '애호박볶음', '표구버섯전<input>표구버섯전': '표고버섯전', '부추즌<input>부추즌': '부추전', '골뱅무침<input>골뱅무침': '골뱅이무침', '황태가이<input>황태가이': '황태구이', '쪼코소라빵<input>쪼코소라빵': '초코소라빵', '드득무침<input>드득무침': '더덕무침', '무된장공<input>무된장공': '무된장국', '문어고추장보끈<input>문어고추장보끈': '문어고추장볶음', '고등이조림<input>고등이조림': '고등어조림', '쉬래기나물<input>쉬래기나물': '시래기나물무침', '보끔밥<input>보끔밥': '볶음밥', '닥칼국수<input>닥칼국수': '닭칼국수', '양송이수푸<input>양송이수푸': '양송이스프', '감저된장궁<input>감저된장궁': '감자된장국', '시케<input>시케': '식혜', '오이부춧멋침<input>오이부춧멋침': '오이부추무침', '채소샐러다<input>채소샐러다': '채소샐러드', '호박나물무침<input>호박나물무침': '호박오가리나물무침', '쇠고기주먹빱<input>쇠고기주먹빱': '쇠고기주먹밥', '고추잔멸치보끔<input>고추잔멸치보끔': '잔멸치고추볶음', '오일스파게티<input>오일스파게티': '오일소스스파게티', '오징이산적<input>오징이산적': '오징어산적', '닥꼬기덮밥<input>닥꼬기덮밥': '닭고기덮밥', '치주라민<input>치주라민': '치즈라면', '골빙이국수무침<input>골빙이국수무침': '골뱅이국수무침', '깻닙나물보끔<input>깻닙나물보끔': '깻잎나물볶음', '소고기샤브샤비<input>소고기샤브샤비': '소고기샤브샤브', '근대됭장국<input>근대됭장국': '근대된장국', '콩나멀<input>콩나멀': '콩나물무침', '응념갈치젓<input>응념갈치젓': '양념갈치젓', '시레기된장국<input>시레기된장국': '시래기된장국', '야채즌<input>야채즌': '야채전', '샐러디김밥<input>샐러디김밥': '샐러드김밥', '닭고츄장조림<input>닭고츄장조림': '닭고추장조림', '고츄투김<input>고츄투김': '고추튀김', '햄버그스테익<input>햄버그스테익': '햄버그스테이크', '두부김친<input>두부김친': '두부김치', '과리고츄찜<input>과리고츄찜': '꽈리고추찜', '페스츄리<input>페스츄리': '페이스트리', '해물크림스파게티<input>해물크림스파게티': '해물크림소스스파게티', '깨경단<input>깨경단': '경단(깨)', '소갤비찜<input>소갤비찜': '쇠갈비찜', '토마토스파게티<input>토마토스파게티': '토마토소스스파게티', '들깨칼구수<input>들깨칼구수': '둘깨칼국수', '오이부추머침<input>오이부추머침': '오이부추무침', '김치보끔밥<input>김치보끔밥': '김치볶음밥', '오징어찌게<input>오징어찌게': '오징어찌개', '간장응념통닭<input>간장응념통닭': '간장양념치킨', '새싹채소사라다<input>새싹채소사라다': '새싹채소샐러드', '달레무침<input>달레무침': '달래무침', '계란프라이<input>계란프라이': '달걀프라이', '잔치국슈<input>잔치국슈': '잔치국수', '소메추리장조림<input>소메추리장조림': '소고기메추리알장조림', '돼지갤비찜<input>돼지갤비찜': '돼지갈비찜', '배이글<input>배이글': '베이글', '스크램블에그<input>스크램블에그': '스크램블드에그', '불고기햄버걸<input>불고기햄버걸': '불고기버거', '고굼마마탕<input>고굼마마탕': '고구마맛탕', '쇠고기배추국<input>쇠고기배추국': '쇠고기배춧국', '막꾹시<input>막꾹시': '막국수', '대지머리국빱<input>대지머리국빱': '돼지머리국밥', '감자국<input>감자국': '감잣국', '오이나물<input>오이나물': '오이나물무침', '화양직<input>화양직': '화양적', '꽈리고추멸치보끔<input>꽈리고추멸치보끔': '꽈리고추멸치볶음', '오므라이쓰<input>오므라이쓰': '오므라이스', '쥐치치<input>쥐치치': '쥐치채', '고추장장어<input>고추장장어': '장어고추장구이', '순대걱밥<input>순대걱밥': '순대국밥', '팟시루떡<input>팟시루떡': '팥시루떡', '가지나멀<input>가지나멀': '가지나물무침', '고추장소고기볶음<input>고추장소고기볶음': '쇠고기고추장볶음', '더부고추장찌개<input>더부고추장찌개': '두부고추장찌개', '단무우지<input>단무우지': '단무지', '데리야끼치킨<input>데리야끼치킨': '치킨데리야끼'}\n"
     ]
    }
   ],
   "source": [
    "test_samples = {}\n",
    "real_names = food_test['식품명'].tolist()\n",
    "for i in range(len(real_names)):\n",
    "    real_food = real_names[i]\n",
    "    input_line = test_lines[i]\n",
    "    test_samples[input_line] = real_food\n",
    "\n",
    "print(test_samples)"
   ]
  },
  {
   "cell_type": "markdown",
   "id": "6d24733d",
   "metadata": {},
   "source": [
    "# Text Search Engine response (for multiple items)"
   ]
  },
  {
   "cell_type": "code",
   "execution_count": 29,
   "id": "2dd1eef6",
   "metadata": {},
   "outputs": [],
   "source": [
    "inputs = tokenizer(test_lines, max_length=max_token_length, padding='max_length', truncation=True, return_tensors='tf')"
   ]
  },
  {
   "cell_type": "code",
   "execution_count": 30,
   "id": "6670d00f",
   "metadata": {},
   "outputs": [
    {
     "data": {
      "application/vnd.jupyter.widget-view+json": {
       "model_id": "a302b96e90a24f0d9f6a32fc513d4b52",
       "version_major": 2,
       "version_minor": 0
      },
      "text/plain": [
       "Output()"
      ]
     },
     "metadata": {},
     "output_type": "display_data"
    },
    {
     "data": {
      "text/html": [
       "<pre style=\"white-space:pre;overflow-x:auto;line-height:normal;font-family:Menlo,'DejaVu Sans Mono',consolas,'Courier New',monospace\"></pre>\n"
      ],
      "text/plain": []
     },
     "metadata": {},
     "output_type": "display_data"
    },
    {
     "data": {
      "text/html": [
       "<pre style=\"white-space:pre;overflow-x:auto;line-height:normal;font-family:Menlo,'DejaVu Sans Mono',consolas,'Courier New',monospace\">\n",
       "</pre>\n"
      ],
      "text/plain": [
       "\n"
      ]
     },
     "metadata": {},
     "output_type": "display_data"
    }
   ],
   "source": [
    "batch_size = 32\n",
    "file_count = len(test_lines)\n",
    "input_feats = np.zeros((len(test_lines), max_token_length*768))\n",
    "for start_index in track(list(range(0, file_count, batch_size))):\n",
    "    \n",
    "    end_index = min(start_index + batch_size, file_count)\n",
    "    input_ids_ = inputs['input_ids'][start_index:end_index]\n",
    "    token_type_ids_ = inputs['token_type_ids'][start_index:end_index]\n",
    "    attention_mask_ = inputs['attention_mask'][start_index:end_index]\n",
    "    \n",
    "    outputs = bert_model({'input_ids' : input_ids_, \n",
    "            'token_type_ids' : token_type_ids_, \n",
    "            'attention_mask' : attention_mask_})\n",
    "    \n",
    "    input_feats[start_index:end_index, :] = tf.keras.layers.Flatten()(outputs.last_hidden_state).numpy()  "
   ]
  },
  {
   "cell_type": "code",
   "execution_count": 31,
   "id": "44fc0af0",
   "metadata": {},
   "outputs": [
    {
     "data": {
      "text/plain": [
       "(584, 294912)"
      ]
     },
     "execution_count": 31,
     "metadata": {},
     "output_type": "execute_result"
    }
   ],
   "source": [
    "input_feats.shape"
   ]
  },
  {
   "cell_type": "code",
   "execution_count": 32,
   "id": "51e4cced",
   "metadata": {},
   "outputs": [],
   "source": [
    "x_bert_feat_matching.save_weights('x_bert-food-ko-featmatching1.h5')"
   ]
  },
  {
   "cell_type": "code",
   "execution_count": 33,
   "id": "494e94ab",
   "metadata": {},
   "outputs": [],
   "source": [
    "json_model = x_bert_feat_matching.to_json()\n",
    "#save the model architecture to JSON file\n",
    "with open('/mnt/f/IEEE-Access-Code/x_bert_feat_matching.json', 'w') as json_file:\n",
    "    json_file.write(json_model)"
   ]
  },
  {
   "cell_type": "code",
   "execution_count": 35,
   "id": "cf85bfdd",
   "metadata": {},
   "outputs": [],
   "source": [
    "from tensorflow.keras.models import model_from_json\n",
    "\n",
    "# Load JSON and create a model\n",
    "with open('x_bert_feat_matching.json', \"r\") as json_file:\n",
    "    loaded_model_json = json_file.read()\n",
    "\n",
    "loaded_model = model_from_json(loaded_model_json)\n",
    "loaded_model.load_weights('x_bert-food-ko-featmatching1.h5')\n"
   ]
  },
  {
   "cell_type": "code",
   "execution_count": 36,
   "id": "bebad7d7",
   "metadata": {},
   "outputs": [
    {
     "name": "stdout",
     "output_type": "stream",
     "text": [
      "19/19 [==============================] - 0s 10ms/step\n"
     ]
    }
   ],
   "source": [
    "prediction = loaded_model.predict(input_feats)"
   ]
  },
  {
   "cell_type": "code",
   "execution_count": 37,
   "id": "11a34d85",
   "metadata": {},
   "outputs": [
    {
     "data": {
      "text/plain": [
       "(584, 2337)"
      ]
     },
     "execution_count": 37,
     "metadata": {},
     "output_type": "execute_result"
    }
   ],
   "source": [
    "prediction.shape"
   ]
  },
  {
   "cell_type": "markdown",
   "id": "e7f8020c",
   "metadata": {},
   "source": [
    "## Accuracy of text search engine response (for multiple items)"
   ]
  },
  {
   "cell_type": "code",
   "execution_count": 38,
   "id": "880756c1",
   "metadata": {},
   "outputs": [],
   "source": [
    "def response_acc(k,total_text, prediction):\n",
    "    total_results = []\n",
    "    for item in prediction:\n",
    "        item_results = []\n",
    "        for index in item.argsort()[-k::][::-1]:\n",
    "            item_results.append(total_text[index].split('<input>')[1])\n",
    "            item_set = set(item_results)\n",
    "        total_results.append(item_set)\n",
    "    \n",
    "    count = 0\n",
    "    for i in range(len(test_lines)):\n",
    "        target = test_samples[test_lines[i]]\n",
    "        for item in total_results:\n",
    "            if target in item:\n",
    "                    count +=1\n",
    "                    break\n",
    "    return (count/len(test_lines))*100"
   ]
  },
  {
   "cell_type": "markdown",
   "id": "df41b85d",
   "metadata": {},
   "source": [
    "### There might be ~0.5% deviation of accuracy "
   ]
  },
  {
   "cell_type": "code",
   "execution_count": 39,
   "id": "8b717874",
   "metadata": {},
   "outputs": [
    {
     "name": "stdout",
     "output_type": "stream",
     "text": [
      "TOP 1 accuracy of test data response:  69.86301369863014\n",
      "TOP 3 accuracy of test data response:  78.42465753424658\n",
      "TOP 5 accuracy of test data response:  82.1917808219178\n"
     ]
    }
   ],
   "source": [
    "print('TOP 1 accuracy of test data response: ',response_acc(1,total_text, prediction))\n",
    "print('TOP 3 accuracy of test data response: ',response_acc(3,total_text, prediction))\n",
    "print('TOP 5 accuracy of test data response: ',response_acc(5,total_text, prediction))"
   ]
  },
  {
   "attachments": {},
   "cell_type": "markdown",
   "id": "5af31ab0-d739-4e95-9223-0762f503b849",
   "metadata": {},
   "source": [
    "## Text search engine response (for 1 item)"
   ]
  },
  {
   "cell_type": "code",
   "execution_count": 40,
   "id": "111adfad",
   "metadata": {},
   "outputs": [
    {
     "name": "stdout",
     "output_type": "stream",
     "text": [
      "1/1 [==============================] - 0s 21ms/step\n"
     ]
    }
   ],
   "source": [
    "input_keyword = '옥시시샐러다'\n",
    "input_feats = get_bert_hidden_state(tokenizer, bert_model, input_keyword, max_size=max_size)\n",
    "one_prediction = x_bert_feat_matching.predict(input_feats).reshape(-1)"
   ]
  },
  {
   "cell_type": "code",
   "execution_count": 41,
   "id": "27686064-2011-4cdf-ac88-a54ba2b66057",
   "metadata": {},
   "outputs": [],
   "source": [
    "def find_food_info(df, target_column, chat_response):\n",
    "    food_info = df[df[target_column] == chat_response]\n",
    "    return food_info"
   ]
  },
  {
   "cell_type": "code",
   "execution_count": 42,
   "id": "b77f09e5-3f48-424e-a603-896bea4ad7a1",
   "metadata": {},
   "outputs": [
    {
     "data": {
      "text/html": [
       "<div>\n",
       "<style scoped>\n",
       "    .dataframe tbody tr th:only-of-type {\n",
       "        vertical-align: middle;\n",
       "    }\n",
       "\n",
       "    .dataframe tbody tr th {\n",
       "        vertical-align: top;\n",
       "    }\n",
       "\n",
       "    .dataframe thead th {\n",
       "        text-align: right;\n",
       "    }\n",
       "</style>\n",
       "<table border=\"1\" class=\"dataframe\">\n",
       "  <thead>\n",
       "    <tr style=\"text-align: right;\">\n",
       "      <th></th>\n",
       "      <th>food_item</th>\n",
       "      <th>serving_size</th>\n",
       "      <th>calories (kcal)</th>\n",
       "      <th>protein (g)</th>\n",
       "      <th>protein (g).1</th>\n",
       "      <th>protein (g).2</th>\n",
       "      <th>protein (g).3</th>\n",
       "      <th>carbohydrate (g)</th>\n",
       "      <th>sugar (g)</th>\n",
       "    </tr>\n",
       "  </thead>\n",
       "  <tbody>\n",
       "    <tr>\n",
       "      <th>604</th>\n",
       "      <td>옥수수샐러드</td>\n",
       "      <td>160</td>\n",
       "      <td>265.65</td>\n",
       "      <td>3.13</td>\n",
       "      <td>19.11</td>\n",
       "      <td>3.13</td>\n",
       "      <td>19.11</td>\n",
       "      <td>20.28</td>\n",
       "      <td>9.61</td>\n",
       "    </tr>\n",
       "  </tbody>\n",
       "</table>\n",
       "</div>"
      ],
      "text/plain": [
       "    food_item  serving_size  calories (kcal)  protein (g)  protein (g).1  \\\n",
       "604    옥수수샐러드           160           265.65         3.13          19.11   \n",
       "\n",
       "     protein (g).2  protein (g).3  carbohydrate (g)  sugar (g)  \n",
       "604           3.13          19.11             20.28       9.61  "
      ]
     },
     "execution_count": 42,
     "metadata": {},
     "output_type": "execute_result"
    }
   ],
   "source": [
    "chat_response = total_text[one_prediction.argsort()[-5:][::-1][0]].split('<input>')[1]\n",
    "find_food_info(food_df,'food_item',chat_response)"
   ]
  },
  {
   "cell_type": "code",
   "execution_count": null,
   "id": "8f5ba46e",
   "metadata": {},
   "outputs": [],
   "source": []
  }
 ],
 "metadata": {
  "kernelspec": {
   "display_name": "Python 3 (ipykernel)",
   "language": "python",
   "name": "python3"
  },
  "language_info": {
   "codemirror_mode": {
    "name": "ipython",
    "version": 3
   },
   "file_extension": ".py",
   "mimetype": "text/x-python",
   "name": "python",
   "nbconvert_exporter": "python",
   "pygments_lexer": "ipython3",
   "version": "3.9.17"
  }
 },
 "nbformat": 4,
 "nbformat_minor": 5
}
